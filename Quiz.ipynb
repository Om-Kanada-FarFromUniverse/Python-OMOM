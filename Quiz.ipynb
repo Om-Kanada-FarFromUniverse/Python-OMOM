{
 "cells": [
  {
   "cell_type": "code",
   "execution_count": 3,
   "id": "60c86b81-dfae-4bb4-87a2-a887ba558975",
   "metadata": {},
   "outputs": [],
   "source": [
    "st=\"This is a long string\""
   ]
  },
  {
   "cell_type": "code",
   "execution_count": 5,
   "id": "55ed5290-8078-46ef-b1c9-0126c3509173",
   "metadata": {},
   "outputs": [
    {
     "data": {
      "text/plain": [
       "2"
      ]
     },
     "execution_count": 5,
     "metadata": {},
     "output_type": "execute_result"
    }
   ],
   "source": [
    "#count the number of g in the string\n",
    "st.count('g')"
   ]
  },
  {
   "cell_type": "code",
   "execution_count": 7,
   "id": "989789c5-b135-4bc5-9412-17cb3d1b7873",
   "metadata": {},
   "outputs": [],
   "source": [
    "st=\"This is going to be a test which can be solved with ease\""
   ]
  },
  {
   "cell_type": "code",
   "execution_count": null,
   "id": "5f4ec0a6-5b79-4526-bdb0-8ced13d632ff",
   "metadata": {},
   "outputs": [],
   "source": [
    "#print the last char of every word\n",
    "for w in st.split():\n",
    "    print(w[-1])"
   ]
  },
  {
   "cell_type": "code",
   "execution_count": null,
   "id": "35613398-c5d9-4116-8f7a-27893c42edac",
   "metadata": {},
   "outputs": [],
   "source": [
    "st=\"This is going to be a test which can be solved with ease\"\n",
    "#print all the word which start and end with the same character\n",
    "for w in st.split():\n",
    "    if w[0] == w[-1]:\n",
    "        print(w)\n"
   ]
  },
  {
   "cell_type": "code",
   "execution_count": 13,
   "id": "03444997-2821-4f4c-9946-dcd9b0cfd2f8",
   "metadata": {},
   "outputs": [
    {
     "data": {
      "text/plain": [
       "'This is a very lo  stri  with many words endi  or starti  with a particular character'"
      ]
     },
     "execution_count": 13,
     "metadata": {},
     "output_type": "execute_result"
    }
   ],
   "source": [
    "# replace all ng with space\n",
    "st=\"This is a very long string with many words ending or starting with a particular character\"\n",
    "st.replace('ng',' ')"
   ]
  },
  {
   "cell_type": "code",
   "execution_count": null,
   "id": "23759793-823e-4775-b3da-a8947d5878ce",
   "metadata": {},
   "outputs": [],
   "source": [
    "#remove all words in the string ending in ng\n",
    "\n",
    "st=\"This is a very long string with many words ending or starting with a particular character\"\n",
    "# This is a very with many words or with a particular character \n"
   ]
  },
  {
   "cell_type": "code",
   "execution_count": null,
   "id": "e2713d89-864d-4305-9d80-9fea97ffe88e",
   "metadata": {},
   "outputs": [],
   "source": [
    "#Input a DNA string and print all the duplets in the  string\n",
    "#ATGCACGACT  -->  AT, GC, AC, GA, CT\n",
    "dnastr=input(\"Enter a DNA string : \")\n",
    "valid=True\n",
    "for i in dnastr:\n",
    "    if i not in 'ATGCatgc':\n",
    "        valid=False\n",
    "        break\n",
    "if valid:\n",
    "    for i in range(0,len(dnastr),2):\n",
    "        print(dnastr[i:i+2])"
   ]
  },
  {
   "cell_type": "code",
   "execution_count": 19,
   "id": "c9f7b500-b7ed-4549-bce3-cee12b14e536",
   "metadata": {},
   "outputs": [
    {
     "name": "stdin",
     "output_type": "stream",
     "text": [
      "Enter a DNA string :  ATGCACGACT\n"
     ]
    },
    {
     "name": "stdout",
     "output_type": "stream",
     "text": [
      "ATG\n",
      "CAC\n",
      "GAC\n",
      "T\n",
      "['ATG', 'CAC', 'GAC']\n"
     ]
    }
   ],
   "source": [
    "#Input a DNA string and create a list of all the triplets in the  string\n",
    "#ATGCACGACT  -->  ATG, CAC, GAC\n",
    "dnastr=input(\"Enter a DNA string : \")\n",
    "valid=True\n",
    "for i in dnastr:\n",
    "    if i not in 'ATGCatgc':\n",
    "        valid=False\n",
    "        break\n",
    "if valid:\n",
    "    tl=[]\n",
    "    for i in range(0,len(dnastr),3):\n",
    "        print(dnastr[i:i+3])\n",
    "        if(len(dnastr[i:i+3]) == 3):\n",
    "            tl.append(dnastr[i:i+3])\n",
    "    print(tl)"
   ]
  },
  {
   "cell_type": "code",
   "execution_count": 21,
   "id": "9608fd69-ab4c-406b-8e3d-765f5086d0bf",
   "metadata": {},
   "outputs": [
    {
     "name": "stdout",
     "output_type": "stream",
     "text": [
      "AA\n",
      "AT\n",
      "AG\n",
      "AC\n",
      "TA\n",
      "TT\n",
      "TG\n",
      "TC\n",
      "GA\n",
      "GT\n",
      "GG\n",
      "GC\n",
      "CA\n",
      "CT\n",
      "CG\n",
      "CC\n"
     ]
    }
   ],
   "source": [
    "for c1 in 'ATGC':\n",
    "    for c2 in 'ATGC':\n",
    "        print(c1+c2)"
   ]
  }
 ],
 "metadata": {
  "kernelspec": {
   "display_name": "Python 3 (ipykernel)",
   "language": "python",
   "name": "python3"
  },
  "language_info": {
   "codemirror_mode": {
    "name": "ipython",
    "version": 3
   },
   "file_extension": ".py",
   "mimetype": "text/x-python",
   "name": "python",
   "nbconvert_exporter": "python",
   "pygments_lexer": "ipython3",
   "version": "3.12.4"
  }
 },
 "nbformat": 4,
 "nbformat_minor": 5
}
