{
 "cells": [
  {
   "cell_type": "code",
   "execution_count": null,
   "id": "4dbd9ccc-9159-45a3-b274-3836f17c671b",
   "metadata": {},
   "outputs": [],
   "source": [
    "s = \"The best of\\t the best\""
   ]
  },
  {
   "cell_type": "code",
   "execution_count": null,
   "id": "917867bb-f9bc-420b-be9e-ced94e19c38d",
   "metadata": {},
   "outputs": [],
   "source": [
    "s.capitalize"
   ]
  },
  {
   "cell_type": "code",
   "execution_count": null,
   "id": "dd4f495e-04a8-4c71-b648-77091a5af08f",
   "metadata": {},
   "outputs": [],
   "source": [
    "s.casefold()"
   ]
  },
  {
   "cell_type": "code",
   "execution_count": null,
   "id": "732f585f-8f49-47c9-8d5d-ddab739d1395",
   "metadata": {},
   "outputs": [],
   "source": [
    "s"
   ]
  },
  {
   "cell_type": "code",
   "execution_count": null,
   "id": "a638f3a4-455c-4f19-886a-5ad0ca684dfc",
   "metadata": {},
   "outputs": [],
   "source": [
    "s.center(100)"
   ]
  },
  {
   "cell_type": "code",
   "execution_count": null,
   "id": "d0a81fc7-38c0-462e-99c2-ee2e34832d4b",
   "metadata": {},
   "outputs": [],
   "source": [
    "s.count(\"best\")"
   ]
  },
  {
   "cell_type": "code",
   "execution_count": null,
   "id": "97ff46bd-b778-49e4-af94-ae0b67945238",
   "metadata": {},
   "outputs": [],
   "source": [
    "s.expandtabs(10)"
   ]
  },
  {
   "cell_type": "code",
   "execution_count": null,
   "id": "1890364c-fa97-4614-896d-1b398ae61851",
   "metadata": {},
   "outputs": [],
   "source": [
    "s.find(\"best\",6)"
   ]
  },
  {
   "cell_type": "code",
   "execution_count": null,
   "id": "62a48203-b5a0-4c55-bf63-7a78019993e0",
   "metadata": {},
   "outputs": [],
   "source": [
    "s.index(\"b\",8)"
   ]
  },
  {
   "cell_type": "code",
   "execution_count": null,
   "id": "a847d283-49c4-4dc8-9bf5-8b62448e0009",
   "metadata": {},
   "outputs": [],
   "source": [
    "for b in s:\n",
    "    print(b)"
   ]
  },
  {
   "cell_type": "code",
   "execution_count": null,
   "id": "b16695b4-deef-4c54-9094-dc0b3e64a379",
   "metadata": {},
   "outputs": [],
   "source": [
    "for b in s.split():\n",
    "    print(b)"
   ]
  },
  {
   "cell_type": "code",
   "execution_count": null,
   "id": "0350c033-a367-4972-abaa-89a52c1ca081",
   "metadata": {},
   "outputs": [],
   "source": [
    "i = 1\n",
    "while i <= 10:\n",
    "    print(\"i=\",i,end=',')\n",
    "    i+=1"
   ]
  },
  {
   "cell_type": "code",
   "execution_count": null,
   "id": "faa59dd7-ab95-443c-875d-e43a74670442",
   "metadata": {},
   "outputs": [],
   "source": [
    "a=\"Hi\"\n",
    "b=\"Niggas\"\n",
    "print(a+b)\n",
    "print(a,b)\n",
    "print(a,\" \",b)"
   ]
  },
  {
   "cell_type": "code",
   "execution_count": null,
   "id": "b5accb5b-072b-4960-b5f7-0b283e884efa",
   "metadata": {},
   "outputs": [],
   "source": [
    "ch = 97\n",
    "while ch<= 122:\n",
    "    print(chr(ch))\n",
    "    ch+=1"
   ]
  },
  {
   "cell_type": "code",
   "execution_count": null,
   "id": "c544c22c-26ea-401f-a6bf-1bf33eea063c",
   "metadata": {},
   "outputs": [],
   "source": [
    "#WAP to input a number and print 10 numbers from it\n",
    "num = int(input(\"Enter a number: \"))\n",
    "cnt = 0\n",
    "while cnt < 10:\n",
    "    print(num)\n",
    "    num += 1\n",
    "    cnt += 1"
   ]
  },
  {
   "cell_type": "code",
   "execution_count": null,
   "id": "e53ed94a-eb82-4972-bbe2-063f96bdfef5",
   "metadata": {},
   "outputs": [],
   "source": [
    "n = int(input(\"Enter a number:\"))\n",
    "x=n\n",
    "while n < x-10:\n",
    "    print(n)\n",
    "    n -= 1"
   ]
  },
  {
   "cell_type": "code",
   "execution_count": null,
   "id": "2a7d7b1e-6a76-4698-9b17-93ff4451871b",
   "metadata": {},
   "outputs": [],
   "source": [
    "#WAP to input a number and print 10 numbers minus from it\n",
    "num = int(input(\"Enter a number: \"))\n",
    "cnt = 0\n",
    "while cnt > 10:\n",
    "    print(num)\n",
    "    num -= 1\n",
    "    cnt -= 1"
   ]
  },
  {
   "cell_type": "code",
   "execution_count": null,
   "id": "3a91b855-c61b-4f92-9409-178b32673e64",
   "metadata": {},
   "outputs": [],
   "source": [
    "n = int(input(\"Enter a number:\"))\n",
    "x=n\n",
    "while n < x-10:\n",
    "    print(n)\n",
    "    n -= 1"
   ]
  },
  {
   "cell_type": "code",
   "execution_count": null,
   "id": "19276a66-d6bf-4dd3-9655-e6dc127014cd",
   "metadata": {},
   "outputs": [],
   "source": [
    "n = 0\n",
    "sum = 0\n",
    "while n != 100:\n",
    "    n = int(input(\"Enter a number:\"))\n",
    "    sum += n\n",
    "print(f\"100 has come so the program is ended and the sum is {sum-100}\")"
   ]
  },
  {
   "cell_type": "code",
   "execution_count": null,
   "id": "a1830ec0-644f-406f-97f6-ab1962bc85fe",
   "metadata": {},
   "outputs": [],
   "source": [
    "for i in range(1,6):\n",
    "    for j in range(1,i+1):\n",
    "        print(j, end=\" \")\n",
    "    print()"
   ]
  },
  {
   "cell_type": "code",
   "execution_count": null,
   "id": "7bb6ee38-b041-491e-8095-14f2dddfec0e",
   "metadata": {},
   "outputs": [],
   "source": [
    "n = 6\n",
    "for i in range(1,6):\n",
    "    x = 5\n",
    "    for j in range(1,i+1):\n",
    "        print(j, end=\" \")\n",
    "        x-=1\n",
    "    print()"
   ]
  },
  {
   "cell_type": "code",
   "execution_count": null,
   "id": "b7ff5105-6200-4b13-b5b5-aefc17437d37",
   "metadata": {},
   "outputs": [],
   "source": [
    "i1 = 0\n",
    "i2 = 1\n",
    "print(i1, i2, end=\" \")\n",
    "for i in range(0,10):\n",
    "    k = i1 + i2\n",
    "    print(k, end=\" \")\n",
    "    i1,i2=i2,k #Short cut notation"
   ]
  },
  {
   "cell_type": "code",
   "execution_count": null,
   "id": "df297b6b-824b-4bd7-8bd9-d76965d7fc93",
   "metadata": {},
   "outputs": [],
   "source": [
    "#Short cut notation\n",
    "a = 1\n",
    "b = 2\n",
    "print(f\"Before swap: a = {a},b = {b}\")\n",
    "a,b = b,a\n",
    "print(f\"After swap: a = {a},b = {b}\")"
   ]
  },
  {
   "cell_type": "code",
   "execution_count": null,
   "id": "ee253eb5-0ca4-4f30-82d6-1508bff96058",
   "metadata": {},
   "outputs": [],
   "source": [
    "#WAP to get 10 fibonacci numbers\n",
    "#WAP for factorial of the number input\n",
    "#Input a number and print weather it is a prime or not\n",
    "#Input a number and print weather it is an armstring number or not\n",
    "#Input a number and print weather it is a perfect number or not"
   ]
  },
  {
   "cell_type": "code",
   "execution_count": null,
   "id": "bc8110dc-5c12-4540-bd6c-8f8c387e25b5",
   "metadata": {},
   "outputs": [],
   "source": [
    "#session 8 inlcuded "
   ]
  },
  {
   "cell_type": "code",
   "execution_count": null,
   "id": "a399b88a-689d-46b5-bb9f-2fdb9463c791",
   "metadata": {},
   "outputs": [],
   "source": [
    "l1 = [1,2,3,4,5]\n",
    "l1"
   ]
  },
  {
   "cell_type": "code",
   "execution_count": null,
   "id": "fc553aac-2885-4f00-a479-da2c6e0d8108",
   "metadata": {},
   "outputs": [],
   "source": [
    "a,b,c,d = 56,45,63,75\n",
    "t=a,b,c,d"
   ]
  },
  {
   "cell_type": "code",
   "execution_count": null,
   "id": "5fd1aeb7-8eb1-446c-be85-06c010328d9a",
   "metadata": {},
   "outputs": [],
   "source": [
    "#wap to create a tuple with values 1, 4, 6, 12, 24, 60, input numbers from the user till the user enters -1 and print the number of values...."
   ]
  },
  {
   "cell_type": "code",
   "execution_count": null,
   "id": "929bb201-6d0c-44ce-80fd-9a5376b7ce67",
   "metadata": {},
   "outputs": [],
   "source": [
    "#wap to input data in a list till the user enters -1. then remove the duplucates from the list\n",
    "#OG list\n",
    "l = []\n",
    "while True:\n",
    "    val = int(input(\"Enter a number (-1 to stop): \"))\n",
    "    if val == -1:\n",
    "        break\n",
    "    l.append(val)\n",
    "#New list with no duplicates\n",
    "unique = []\n",
    "for item in l:\n",
    "    if item not in unique:\n",
    "        unique.append(item)\n",
    "print(unique)"
   ]
  },
  {
   "cell_type": "code",
   "execution_count": null,
   "id": "84df6247-1cd4-41d5-a914-b530f56a3163",
   "metadata": {},
   "outputs": [],
   "source": [
    "#wap to input data in a list and print the list in decending order of values."
   ]
  },
  {
   "cell_type": "code",
   "execution_count": null,
   "id": "24723ba8-11a0-4b9d-a03d-a8988bb45080",
   "metadata": {},
   "outputs": [],
   "source": [
    "#wap to sort a list and print it in reverse\n",
    "listt = [23,4,34,524,1,43,53,123,5,321,45,24,5]\n",
    "listt.sort()\n",
    "listt.reverse()\n",
    "listt"
   ]
  },
  {
   "cell_type": "code",
   "execution_count": 5,
   "id": "b81219d5-ddba-4bea-9fc9-29884d267b8c",
   "metadata": {},
   "outputs": [
    {
     "name": "stdout",
     "output_type": "stream",
     "text": [
      "1 2 3 4 5 "
     ]
    }
   ],
   "source": [
    "i = 1\n",
    "while i <= 5:\n",
    "    print(i, end=\" \")\n",
    "    i += 1"
   ]
  },
  {
   "cell_type": "code",
   "execution_count": 1,
   "id": "55cc6b9f-366b-4fa9-8776-9f927db3ae3b",
   "metadata": {},
   "outputs": [
    {
     "name": "stdout",
     "output_type": "stream",
     "text": [
      "5 \n",
      "5 4 \n",
      "5 4 3 \n",
      "5 4 3 2 \n",
      "5 4 3 2 1 \n"
     ]
    }
   ],
   "source": [
    "for i in range(5,0,-1):\n",
    "    for j in range(5,i-1,-1):\n",
    "        print(j, end=\" \")\n",
    "    print()"
   ]
  },
  {
   "cell_type": "code",
   "execution_count": 3,
   "id": "108acf0b-db2a-4e83-bbd1-94749f277126",
   "metadata": {},
   "outputs": [
    {
     "name": "stdout",
     "output_type": "stream",
     "text": [
      "[2, 4, 6, 8, 10, 12, 14, 16, 18, 20]\n"
     ]
    }
   ],
   "source": [
    "doubled = [ x * 2 for x in range(1,11)]\n",
    "print(doubled)"
   ]
  },
  {
   "cell_type": "code",
   "execution_count": 7,
   "id": "0359f0a9-91ba-4100-bb0e-546aef5d7de9",
   "metadata": {},
   "outputs": [
    {
     "name": "stdout",
     "output_type": "stream",
     "text": [
      "[3, 6, 9, 12, 15, 18, 21, 24, 27, 30]\n"
     ]
    }
   ],
   "source": [
    "triples = [ y * 3 for y in range(1,11)]\n",
    "print(triples)"
   ]
  },
  {
   "cell_type": "code",
   "execution_count": 9,
   "id": "7a621c56-c912-47c6-aa1c-bcf82076d203",
   "metadata": {},
   "outputs": [
    {
     "name": "stdout",
     "output_type": "stream",
     "text": [
      "[1, 4, 9, 16, 25, 36, 49, 64, 81, 100]\n"
     ]
    }
   ],
   "source": [
    "square = [ z * z for z in range(1,11)]\n",
    "print(square)"
   ]
  },
  {
   "cell_type": "code",
   "execution_count": 17,
   "id": "f7f18411-9312-426b-9c9d-c4f9a2891aa6",
   "metadata": {},
   "outputs": [
    {
     "name": "stdout",
     "output_type": "stream",
     "text": [
      "['APPLE', 'ORANGE', 'BANANA']\n"
     ]
    }
   ],
   "source": [
    "#strings\n",
    "\n",
    "fruits = [\"apple\",\"orange\", \"banana\"]\n",
    "ufruits = [fruit.upper() for fruit in fruits]\n",
    "print(ufruits)"
   ]
  },
  {
   "cell_type": "code",
   "execution_count": 19,
   "id": "241dc1a2-e248-4fd2-af30-17d5e0d29481",
   "metadata": {},
   "outputs": [
    {
     "name": "stdout",
     "output_type": "stream",
     "text": [
      "['APPLE', 'ORANGE', 'BANANA']\n"
     ]
    }
   ],
   "source": [
    "ufruits = [fruit.upper() for fruit in [\"apple\",\"orange\", \"banana\"]]\n",
    "print(ufruits)"
   ]
  },
  {
   "cell_type": "code",
   "execution_count": 23,
   "id": "f5abcd91-cf70-4373-8761-05f7f0a9e2b1",
   "metadata": {},
   "outputs": [
    {
     "name": "stdout",
     "output_type": "stream",
     "text": [
      "['a', 'o', 'b']\n"
     ]
    }
   ],
   "source": [
    "fruit_idx = [fruit[0] for fruit in [\"apple\",\"orange\", \"banana\"]]\n",
    "print(fruit_idx)"
   ]
  },
  {
   "cell_type": "code",
   "execution_count": 25,
   "id": "b872ac4c-eb27-4146-b8ca-0bb2d2aae439",
   "metadata": {},
   "outputs": [
    {
     "name": "stdout",
     "output_type": "stream",
     "text": [
      "[1, 3, 5]\n"
     ]
    }
   ],
   "source": [
    "numbers = [1, -2, 3, -4, 5, -6]\n",
    "newpos_nums = [num for num in numbers if num >= 0]\n",
    "print(newpos_nums)"
   ]
  },
  {
   "cell_type": "code",
   "execution_count": 27,
   "id": "6162cd88-d061-432a-a68f-581f6e587078",
   "metadata": {},
   "outputs": [
    {
     "name": "stdout",
     "output_type": "stream",
     "text": [
      "[-2, -4, -6]\n"
     ]
    }
   ],
   "source": [
    "numbers = [1, -2, 3, -4, 5, -6]\n",
    "newneg_nums = [num for num in numbers if num <= 0]\n",
    "print(newneg_nums)"
   ]
  },
  {
   "cell_type": "code",
   "execution_count": 33,
   "id": "566c032a-e1e0-421f-8548-af40c8092818",
   "metadata": {},
   "outputs": [
    {
     "name": "stdout",
     "output_type": "stream",
     "text": [
      "[-2, -4, -6, 8]\n"
     ]
    }
   ],
   "source": [
    "numbers = [1, -2, 3, -4, 5, -6, 8, -7]\n",
    "neweven_nums = [num for num in numbers if num % 2 == 0]\n",
    "print(neweven_nums)"
   ]
  },
  {
   "cell_type": "code",
   "execution_count": 35,
   "id": "968ec312-d960-4a3a-a3f0-740b3a2d6106",
   "metadata": {},
   "outputs": [
    {
     "name": "stdout",
     "output_type": "stream",
     "text": [
      "[1, 3, 5, -7]\n"
     ]
    }
   ],
   "source": [
    "numbers = [1, -2, 3, -4, 5, -6, 8, -7]\n",
    "newodd_nums = [num for num in numbers if num % 2 == 1]\n",
    "print(newodd_nums)"
   ]
  },
  {
   "cell_type": "code",
   "execution_count": 39,
   "id": "87a73aae-b0cc-488d-bac4-45ed7d535350",
   "metadata": {},
   "outputs": [
    {
     "name": "stdout",
     "output_type": "stream",
     "text": [
      "[89, 77, 98, 65, 81]\n"
     ]
    }
   ],
   "source": [
    "grades = [89, 46, 77, 98, 65, 81, 20]\n",
    "pass_grades = [grade for grade in grades if grade >= 60]\n",
    "print(pass_grades)"
   ]
  },
  {
   "cell_type": "code",
   "execution_count": 41,
   "id": "c0e34a03-8bbc-4459-8334-08837ef21fad",
   "metadata": {},
   "outputs": [
    {
     "name": "stdout",
     "output_type": "stream",
     "text": [
      "[46, 20]\n"
     ]
    }
   ],
   "source": [
    "grades = [89, 46, 77, 98, 65, 81, 20]\n",
    "not_grades = [grade for grade in grades if grade <= 60]\n",
    "print(not_grades)"
   ]
  },
  {
   "cell_type": "code",
   "execution_count": null,
   "id": "0727899d-0aa2-41ff-9410-88e038f4e36d",
   "metadata": {},
   "outputs": [],
   "source": []
  }
 ],
 "metadata": {
  "kernelspec": {
   "display_name": "Python 3 (ipykernel)",
   "language": "python",
   "name": "python3"
  },
  "language_info": {
   "codemirror_mode": {
    "name": "ipython",
    "version": 3
   },
   "file_extension": ".py",
   "mimetype": "text/x-python",
   "name": "python",
   "nbconvert_exporter": "python",
   "pygments_lexer": "ipython3",
   "version": "3.11.7"
  }
 },
 "nbformat": 4,
 "nbformat_minor": 5
}
