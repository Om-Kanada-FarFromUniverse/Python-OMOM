{
 "cells": [
  {
   "cell_type": "code",
   "execution_count": null,
   "id": "4dbd9ccc-9159-45a3-b274-3836f17c671b",
   "metadata": {},
   "outputs": [],
   "source": [
    "s = \"The best of\\t the best\""
   ]
  },
  {
   "cell_type": "code",
   "execution_count": null,
   "id": "917867bb-f9bc-420b-be9e-ced94e19c38d",
   "metadata": {},
   "outputs": [],
   "source": [
    "s.capitalize"
   ]
  },
  {
   "cell_type": "code",
   "execution_count": null,
   "id": "dd4f495e-04a8-4c71-b648-77091a5af08f",
   "metadata": {},
   "outputs": [],
   "source": [
    "s.casefold()"
   ]
  },
  {
   "cell_type": "code",
   "execution_count": null,
   "id": "732f585f-8f49-47c9-8d5d-ddab739d1395",
   "metadata": {},
   "outputs": [],
   "source": [
    "s"
   ]
  },
  {
   "cell_type": "code",
   "execution_count": null,
   "id": "a638f3a4-455c-4f19-886a-5ad0ca684dfc",
   "metadata": {},
   "outputs": [],
   "source": [
    "s.center(100)"
   ]
  },
  {
   "cell_type": "code",
   "execution_count": null,
   "id": "d0a81fc7-38c0-462e-99c2-ee2e34832d4b",
   "metadata": {},
   "outputs": [],
   "source": [
    "s.count(\"best\")"
   ]
  },
  {
   "cell_type": "code",
   "execution_count": null,
   "id": "97ff46bd-b778-49e4-af94-ae0b67945238",
   "metadata": {},
   "outputs": [],
   "source": [
    "s.expandtabs(10)"
   ]
  },
  {
   "cell_type": "code",
   "execution_count": null,
   "id": "1890364c-fa97-4614-896d-1b398ae61851",
   "metadata": {},
   "outputs": [],
   "source": [
    "s.find(\"best\",6)"
   ]
  },
  {
   "cell_type": "code",
   "execution_count": null,
   "id": "62a48203-b5a0-4c55-bf63-7a78019993e0",
   "metadata": {},
   "outputs": [],
   "source": [
    "s.index(\"b\",8)"
   ]
  },
  {
   "cell_type": "code",
   "execution_count": null,
   "id": "a847d283-49c4-4dc8-9bf5-8b62448e0009",
   "metadata": {},
   "outputs": [],
   "source": [
    "for b in s:\n",
    "    print(b)"
   ]
  },
  {
   "cell_type": "code",
   "execution_count": null,
   "id": "b16695b4-deef-4c54-9094-dc0b3e64a379",
   "metadata": {},
   "outputs": [],
   "source": [
    "for b in s.split():\n",
    "    print(b)"
   ]
  },
  {
   "cell_type": "code",
   "execution_count": null,
   "id": "0350c033-a367-4972-abaa-89a52c1ca081",
   "metadata": {},
   "outputs": [],
   "source": [
    "i = 1\n",
    "while i <= 10:\n",
    "    print(\"i=\",i,end=',')\n",
    "    i+=1"
   ]
  },
  {
   "cell_type": "code",
   "execution_count": null,
   "id": "faa59dd7-ab95-443c-875d-e43a74670442",
   "metadata": {},
   "outputs": [],
   "source": [
    "a=\"Hi\"\n",
    "b=\"Niggas\"\n",
    "print(a+b)\n",
    "print(a,b)\n",
    "print(a,\" \",b)"
   ]
  },
  {
   "cell_type": "code",
   "execution_count": null,
   "id": "b5accb5b-072b-4960-b5f7-0b283e884efa",
   "metadata": {},
   "outputs": [],
   "source": [
    "ch = 97\n",
    "while ch<= 122:\n",
    "    print(chr(ch))\n",
    "    ch+=1"
   ]
  },
  {
   "cell_type": "code",
   "execution_count": null,
   "id": "c544c22c-26ea-401f-a6bf-1bf33eea063c",
   "metadata": {},
   "outputs": [],
   "source": [
    "#WAP to input a number and print 10 numbers from it\n",
    "num = int(input(\"Enter a number: \"))\n",
    "cnt = 0\n",
    "while cnt < 10:\n",
    "    print(num)\n",
    "    num += 1\n",
    "    cnt += 1"
   ]
  },
  {
   "cell_type": "code",
   "execution_count": null,
   "id": "e53ed94a-eb82-4972-bbe2-063f96bdfef5",
   "metadata": {},
   "outputs": [],
   "source": [
    "n = int(input(\"Enter a number:\"))\n",
    "x=n\n",
    "while n < x-10:\n",
    "    print(n)\n",
    "    n -= 1"
   ]
  },
  {
   "cell_type": "code",
   "execution_count": 1,
   "id": "2a7d7b1e-6a76-4698-9b17-93ff4451871b",
   "metadata": {},
   "outputs": [
    {
     "name": "stdin",
     "output_type": "stream",
     "text": [
      "Enter a number:  5\n"
     ]
    }
   ],
   "source": [
    "#WAP to input a number and print 10 numbers minus from it\n",
    "num = int(input(\"Enter a number: \"))\n",
    "cnt = 0\n",
    "while cnt > 10:\n",
    "    print(num)\n",
    "    num -= 1\n",
    "    cnt -= 1"
   ]
  },
  {
   "cell_type": "code",
   "execution_count": null,
   "id": "3a91b855-c61b-4f92-9409-178b32673e64",
   "metadata": {},
   "outputs": [],
   "source": [
    "n = int(input(\"Enter a number:\"))\n",
    "x=n\n",
    "while n < x-10:\n",
    "    print(n)\n",
    "    n -= 1"
   ]
  },
  {
   "cell_type": "code",
   "execution_count": null,
   "id": "19276a66-d6bf-4dd3-9655-e6dc127014cd",
   "metadata": {},
   "outputs": [],
   "source": [
    "n = 0\n",
    "sum = 0\n",
    "while n != 100:\n",
    "    n = int(input(\"Enter a number:\"))\n",
    "    sum += n\n",
    "print(f\"100 has come so the program is ended and the sum is {sum-100}\")"
   ]
  },
  {
   "cell_type": "code",
   "execution_count": 16,
   "id": "a1830ec0-644f-406f-97f6-ab1962bc85fe",
   "metadata": {},
   "outputs": [
    {
     "name": "stdout",
     "output_type": "stream",
     "text": [
      "1 \n",
      "1 2 \n",
      "1 2 3 \n",
      "1 2 3 4 \n",
      "1 2 3 4 5 \n"
     ]
    }
   ],
   "source": [
    "for i in range(1,6):\n",
    "    for j in range(1,i+1):\n",
    "        print(j, end=\" \")\n",
    "    print()"
   ]
  },
  {
   "cell_type": "code",
   "execution_count": 106,
   "id": "7bb6ee38-b041-491e-8095-14f2dddfec0e",
   "metadata": {},
   "outputs": [
    {
     "name": "stdout",
     "output_type": "stream",
     "text": [
      "1 \n",
      "1 2 \n",
      "1 2 3 \n",
      "1 2 3 4 \n",
      "1 2 3 4 5 \n"
     ]
    }
   ],
   "source": [
    "n = 6\n",
    "for i in range(1,6):\n",
    "    x = 5\n",
    "    for j in range(1,i+1):\n",
    "        print(j, end=\" \")\n",
    "        x-=1\n",
    "    print()"
   ]
  },
  {
   "cell_type": "code",
   "execution_count": 5,
   "id": "b7ff5105-6200-4b13-b5b5-aefc17437d37",
   "metadata": {},
   "outputs": [
    {
     "name": "stdout",
     "output_type": "stream",
     "text": [
      "0 1 1 2 3 5 8 13 21 34 55 89 "
     ]
    }
   ],
   "source": [
    "i1 = 0\n",
    "i2 = 1\n",
    "print(i1, i2, end=\" \")\n",
    "for i in range(0,10):\n",
    "    k = i1 + i2\n",
    "    print(k, end=\" \")\n",
    "    i1,i2=i2,k #Short cut notation"
   ]
  },
  {
   "cell_type": "code",
   "execution_count": 13,
   "id": "df297b6b-824b-4bd7-8bd9-d76965d7fc93",
   "metadata": {},
   "outputs": [
    {
     "name": "stdout",
     "output_type": "stream",
     "text": [
      "Before swap: a = 1,b = 2\n",
      "After swap: a = 2,b = 1\n"
     ]
    }
   ],
   "source": [
    "#Short cut notation\n",
    "a = 1\n",
    "b = 2\n",
    "print(f\"Before swap: a = {a},b = {b}\")\n",
    "a,b = b,a\n",
    "print(f\"After swap: a = {a},b = {b}\")"
   ]
  },
  {
   "cell_type": "code",
   "execution_count": null,
   "id": "ee253eb5-0ca4-4f30-82d6-1508bff96058",
   "metadata": {},
   "outputs": [],
   "source": [
    "#WAP to get 10 fibonacci numbers\n",
    "#WAP for factorial of the number input\n",
    "#Input a number and print weather it is a prime or not\n",
    "#Input a number and print weather it is an armstring number or not\n",
    "#Input a number and print weather it is a perfect number or not"
   ]
  }
 ],
 "metadata": {
  "kernelspec": {
   "display_name": "Python 3 (ipykernel)",
   "language": "python",
   "name": "python3"
  },
  "language_info": {
   "codemirror_mode": {
    "name": "ipython",
    "version": 3
   },
   "file_extension": ".py",
   "mimetype": "text/x-python",
   "name": "python",
   "nbconvert_exporter": "python",
   "pygments_lexer": "ipython3",
   "version": "3.11.7"
  }
 },
 "nbformat": 4,
 "nbformat_minor": 5
}
