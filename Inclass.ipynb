{
 "cells": [
  {
   "cell_type": "code",
   "execution_count": 1,
   "id": "4dbd9ccc-9159-45a3-b274-3836f17c671b",
   "metadata": {},
   "outputs": [],
   "source": [
    "s = \"The best of\\t the best\""
   ]
  },
  {
   "cell_type": "code",
   "execution_count": null,
   "id": "97870452-c37e-4e8f-aff0-c17d5abefd85",
   "metadata": {},
   "outputs": [],
   "source": []
  }
 ],
 "metadata": {
  "kernelspec": {
   "display_name": "Python 3 (ipykernel)",
   "language": "python",
   "name": "python3"
  },
  "language_info": {
   "codemirror_mode": {
    "name": "ipython",
    "version": 3
   },
   "file_extension": ".py",
   "mimetype": "text/x-python",
   "name": "python",
   "nbconvert_exporter": "python",
   "pygments_lexer": "ipython3",
   "version": "3.11.7"
  }
 },
 "nbformat": 4,
 "nbformat_minor": 5
}
