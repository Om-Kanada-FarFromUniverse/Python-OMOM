{
 "cells": [
  {
   "cell_type": "code",
   "execution_count": 1,
   "id": "0afbc3bc-c30e-4be9-9f42-58771ed7a3e5",
   "metadata": {},
   "outputs": [],
   "source": [
    "#Session-1"
   ]
  },
  {
   "cell_type": "code",
   "execution_count": 3,
   "id": "ac573d3c-f6c7-44f5-a67f-86c52e6056eb",
   "metadata": {},
   "outputs": [
    {
     "data": {
      "text/plain": [
       "'\\nprint(\"Temperature Converter\")\\nprint(\"1. Celsius to Fahrenheit\")\\nprint(\"2. Fahrenheit to Celsius\")\\n\\nchoice = int(input(\"Enter your choice (1 or 2): \"))\\n\\nif choice == 1:\\n    c = int(input(\"Enter temperature in Celsius: \"))\\n    f = int((c * 9/5) + 32)\\n    print(f\"{c}°C is {f}°F\")\\nelif choice == 2:\\n    f = int(input(\"Enter temperature in Fahrenheit: \"))\\n    c = int((f - 32) * 5/9)\\n    print(f\"{f}°F is {c}°C\")\\nelse:\\n    print(\"Invalid choice!\")\\n'"
      ]
     },
     "execution_count": 3,
     "metadata": {},
     "output_type": "execute_result"
    }
   ],
   "source": [
    "#Ques-1\n",
    "\n",
    "#Temperature conversion from Celcius and Farehnheit\n",
    "'''\n",
    "c = int(input(\"Enter temperature in Celsius: \"))\n",
    "f = int((c * 9/5) + 32)\n",
    "print(f\"{c}°C is {f}°F\")\n",
    "'''\n",
    "'''\n",
    "f = int(input(\"Enter temperature in Fahrenheit: \"))\n",
    "c = int((f - 32) * 5/9)\n",
    "print(f\"{f}°F is {c}°C\")\n",
    "'''\n",
    "\n",
    "'''\n",
    "print(\"Temperature Converter\")\n",
    "print(\"1. Celsius to Fahrenheit\")\n",
    "print(\"2. Fahrenheit to Celsius\")\n",
    "\n",
    "choice = int(input(\"Enter your choice (1 or 2): \"))\n",
    "\n",
    "if choice == 1:\n",
    "    c = int(input(\"Enter temperature in Celsius: \"))\n",
    "    f = int((c * 9/5) + 32)\n",
    "    print(f\"{c}°C is {f}°F\")\n",
    "elif choice == 2:\n",
    "    f = int(input(\"Enter temperature in Fahrenheit: \"))\n",
    "    c = int((f - 32) * 5/9)\n",
    "    print(f\"{f}°F is {c}°C\")\n",
    "else:\n",
    "    print(\"Invalid choice!\")\n",
    "'''"
   ]
  },
  {
   "cell_type": "code",
   "execution_count": 4,
   "id": "92c1b909-825c-4742-84f9-a8cb29374bd0",
   "metadata": {},
   "outputs": [
    {
     "data": {
      "text/plain": [
       "'\\nl = int(input(\"Enter lenght:\"))\\nb = int(input(\"Enter breadth:\"))\\narea = l * b\\nprint(\"The area of a square is :\",area)\\n'"
      ]
     },
     "execution_count": 4,
     "metadata": {},
     "output_type": "execute_result"
    }
   ],
   "source": [
    "#Ques-2\n",
    "\n",
    "#Area of a rectangle\n",
    "\n",
    "'''\n",
    "l = int(input(\"Enter lenght:\"))\n",
    "b = int(input(\"Enter breadth:\"))\n",
    "area = l * b\n",
    "print(\"The area of a square is :\",area)\n",
    "'''"
   ]
  },
  {
   "cell_type": "code",
   "execution_count": 7,
   "id": "eb1282da-fd31-4e10-896c-bc0313d44e3c",
   "metadata": {},
   "outputs": [],
   "source": [
    "#Session-2"
   ]
  },
  {
   "cell_type": "code",
   "execution_count": 9,
   "id": "af15aece-5cb4-464e-8d1a-9eaa7da848df",
   "metadata": {},
   "outputs": [
    {
     "data": {
      "text/plain": [
       "'\\nnum = int(input(\"Enter a number: \"))\\nresult = \"Zero\" if num == 0 else (\"+tive\" if num > 0 else \"-tive\")\\nprint(\"The number is\", result)\\n'"
      ]
     },
     "execution_count": 9,
     "metadata": {},
     "output_type": "execute_result"
    }
   ],
   "source": [
    "#Ques-1\n",
    "\n",
    "#Write the ternary operator if 0 is positive and lesser than 0 negative(ternary)\n",
    "\n",
    "#\"Write a Python program using a ternary operator to check if a number is positive, negative, or zero.\"\n",
    "'''\n",
    "num = int(input(\"Enter a number: \"))\n",
    "result = \"Zero\" if num == 0 else (\"+tive\" if num > 0 else \"-tive\")\n",
    "print(\"The number is\", result)\n",
    "'''"
   ]
  },
  {
   "cell_type": "code",
   "execution_count": 11,
   "id": "c2668458-3aa5-434e-a5f1-3bd50b887bdd",
   "metadata": {},
   "outputs": [
    {
     "data": {
      "text/plain": [
       "'\\nyear = int(input(\"Enter a year: \"))\\nresult = \"Leap Year\" if (year % 4 == 0 and (year % 100 != 0 or year % 400 == 0)) else \"Not a Leap Year\"\\nprint(result)\\n'"
      ]
     },
     "execution_count": 11,
     "metadata": {},
     "output_type": "execute_result"
    }
   ],
   "source": [
    "#Ques-2\n",
    "\n",
    "#Input the year and print weather it's leap year or not? (Ternary operator)\n",
    "\n",
    "#\"Write a Python program to input a year and check whether it is a leap year using a ternary operator.\"\n",
    "'''\n",
    "year = int(input(\"Enter a year: \"))\n",
    "result = \"Leap Year\" if (year % 4 == 0 and (year % 100 != 0 or year % 400 == 0)) else \"Not a Leap Year\"\n",
    "print(result)\n",
    "'''"
   ]
  },
  {
   "cell_type": "code",
   "execution_count": 13,
   "id": "8bd5fa70-4f4a-430c-8090-9afa9ef817d9",
   "metadata": {},
   "outputs": [
    {
     "data": {
      "text/plain": [
       "'\\nnumber = int(input(\"Enter an number: \"))\\nexponent = int(input(\"Enter an exponent: \"))\\nresult = number ** exponent if exponent != 0 else 1\\nprint(\"Result:\", result)\\n'"
      ]
     },
     "execution_count": 13,
     "metadata": {},
     "output_type": "execute_result"
    }
   ],
   "source": [
    "#Ques-3 \n",
    "\n",
    "#Write script to input a number and an exponent and print the result\n",
    "\n",
    "#\"Write a Python script to input a number and its exponent, then print the result using a ternary operator.\"\n",
    "'''\n",
    "number = int(input(\"Enter an number: \"))\n",
    "exponent = int(input(\"Enter an exponent: \"))\n",
    "result = number ** exponent if exponent != 0 else 1\n",
    "print(\"Result:\", result)\n",
    "'''"
   ]
  },
  {
   "cell_type": "code",
   "execution_count": 15,
   "id": "f984fc58-1e7d-45c3-99cd-63930b8d8eb0",
   "metadata": {},
   "outputs": [
    {
     "data": {
      "text/plain": [
       "'\\n#looping input of 5 numbers\\nnums = [int(input(f\"Enter number {i+1}: \")) for i in range(5)]\\n\\ngreater_than_10 = all(n > 10 for n in nums)\\nresult = (nums[0] * nums[1] * nums[2] * nums[3] * nums[4]) if greater_than_10-[] else sum(nums)\\n\\nprint(\"Result:\", result)\\n'"
      ]
     },
     "execution_count": 15,
     "metadata": {},
     "output_type": "execute_result"
    }
   ],
   "source": [
    "#Ques-4 \n",
    "\n",
    "#Write a program to input 5 numbers if all are greater then 10 print it's product else print the sum\n",
    "\n",
    "#\"Write a Python program to input 5 integers. If all the numbers are greater than 10, print their product; otherwise, print their sum. Use ternary operator.\"\n",
    "\n",
    "'''\n",
    "n1 = int(input(\"Enter number 1: \"))\n",
    "n2 = int(input(\"Enter number 2: \"))\n",
    "n3 = int(input(\"Enter number 3: \"))\n",
    "n4 = int(input(\"Enter number 4: \"))\n",
    "n5 = int(input(\"Enter number 5: \"))\n",
    "\n",
    "greater_than_10 = n1 > 10 and n2 > 10 and n3 > 10 and n4 > 10 and n5 > 10\n",
    "\n",
    "result = (n1 * n2 * n3 * n4 * n5) if greater_than_10 else (n1 + n2 + n3 + n4 + n5)\n",
    "\n",
    "print(\"Result:\", result)\n",
    "'''\n",
    "\n",
    "'''\n",
    "#looping input of 5 numbers\n",
    "nums = [int(input(f\"Enter number {i+1}: \")) for i in range(5)]\n",
    "\n",
    "greater_than_10 = all(n > 10 for n in nums)\n",
    "result = (nums[0] * nums[1] * nums[2] * nums[3] * nums[4]) if greater_than_10-[] else sum(nums)\n",
    "\n",
    "print(\"Result:\", result)\n",
    "'''"
   ]
  },
  {
   "cell_type": "code",
   "execution_count": 17,
   "id": "4558a3a5-ae2d-40b5-a611-e885a33ded28",
   "metadata": {},
   "outputs": [
    {
     "data": {
      "text/plain": [
       "'\\nstr1 = input(\"Enter first string: \")\\nstr2 = input(\"Enter second string: \")\\n\\nresult = \"Same\" if str1 == str2 else \"Not Same\"\\n\\nprint(\"The strings are\", result)\\n'"
      ]
     },
     "execution_count": 17,
     "metadata": {},
     "output_type": "execute_result"
    }
   ],
   "source": [
    "#Ques-5\n",
    "\n",
    "#Write a program to input 2 strings and print weather they are same or not\n",
    "\n",
    "#\"Write a Python program to input two strings and print whether they are the same or not using a ternary operator.\"\n",
    "\n",
    "'''\n",
    "str1 = input(\"Enter first string: \")\n",
    "str2 = input(\"Enter second string: \")\n",
    "\n",
    "result = \"Same\" if str1 == str2 else \"Not Same\"\n",
    "\n",
    "print(\"The strings are\", result)\n",
    "'''"
   ]
  },
  {
   "cell_type": "code",
   "execution_count": 19,
   "id": "b8108320-5cb3-48bb-a004-c416002e2b97",
   "metadata": {},
   "outputs": [
    {
     "data": {
      "text/plain": [
       "'\\n#With the difference as well\\nnum1 = int(input(\"Enter first number: \"))\\nnum2 = int(input(\"Enter second number: \"))\\n\\ndiff = abs(num1 - num2)\\nresult = \"Greater than 100\" if diff > 100 else \"Not greater than 100\"\\n\\nprint(\"The difference is:\", diff)\\nprint(\"The difference is\", result)\\n'"
      ]
     },
     "execution_count": 19,
     "metadata": {},
     "output_type": "execute_result"
    }
   ],
   "source": [
    "#Ques-6\n",
    "\n",
    "#Program to input 2 numbers and print weather diff btn both numbers is greater than 100 or not\n",
    "\n",
    "#\"Write a Python program to input two numbers and print whether the difference between them is greater than 100 using a ternary operator.\"\n",
    "'''\n",
    "num1 = int(input(\"Enter first number: \"))\n",
    "num2 = int(input(\"Enter second number: \"))\n",
    "\n",
    "diff = abs(num1 - num2)\n",
    "result = \"Greater than 100\" if diff > 100 else \"Not greater than 100\"\n",
    "\n",
    "print(\"The difference is\", result)\n",
    "'''\n",
    "\n",
    "'''\n",
    "#With the difference as well\n",
    "num1 = int(input(\"Enter first number: \"))\n",
    "num2 = int(input(\"Enter second number: \"))\n",
    "\n",
    "diff = abs(num1 - num2)\n",
    "result = \"Greater than 100\" if diff > 100 else \"Not greater than 100\"\n",
    "\n",
    "print(\"The difference is:\", diff)\n",
    "print(\"The difference is\", result)\n",
    "'''"
   ]
  },
  {
   "cell_type": "code",
   "execution_count": 21,
   "id": "13fd3e73-8e6a-4ad1-b91a-3c3fe0e4fbfc",
   "metadata": {},
   "outputs": [],
   "source": [
    "#Session-3"
   ]
  },
  {
   "cell_type": "code",
   "execution_count": 23,
   "id": "0820f319-7a7d-4673-ac4a-91d2a4c14b00",
   "metadata": {},
   "outputs": [
    {
     "data": {
      "text/plain": [
       "'\\ns = input(\"Enter a string: \")\\nsrch = input(\"Enter a search string: \")\\ncnt = s.count(srch)\\nprint(f\"{srch} occurs {cnt} times\")\\n'"
      ]
     },
     "execution_count": 23,
     "metadata": {},
     "output_type": "execute_result"
    }
   ],
   "source": [
    "#Ques-1\n",
    "\n",
    "#Write a program to input a string and a search string and print the number of times the string occurs in the input string\n",
    "'''\n",
    "s = input(\"Enter a string: \")\n",
    "srch = input(\"Enter a search string: \")\n",
    "cnt = s.count(srch)\n",
    "print(f\"{srch} occurs {cnt} times\")\n",
    "'''"
   ]
  },
  {
   "cell_type": "code",
   "execution_count": 25,
   "id": "8fdfb179-fa51-41e4-b786-d197faf9a43f",
   "metadata": {},
   "outputs": [
    {
     "data": {
      "text/plain": [
       "'\\ns = input(\"Enter a string to check if it\\'s palindrome: \")\\nif(s[:]==s[::-1]):\\n    print(\"Yes\")\\nelse:\\n    print(\"Not\")\\n'"
      ]
     },
     "execution_count": 25,
     "metadata": {},
     "output_type": "execute_result"
    }
   ],
   "source": [
    "#Ques-2\n",
    "\n",
    "#Write a program to input a string and print whether it's a palindrome or not\n",
    "'''\n",
    "s = input(\"Enter a string to check if it's palindrome: \")\n",
    "result = \"Yes\" if s[:]==s[::-1] else \"No\"\n",
    "print(result)\n",
    "'''\n",
    "\n",
    "'''\n",
    "s = input(\"Enter a string to check if it's palindrome: \")\n",
    "if(s[:]==s[::-1]):\n",
    "    print(\"Yes\")\n",
    "else:\n",
    "    print(\"Not\")\n",
    "'''"
   ]
  },
  {
   "cell_type": "code",
   "execution_count": 27,
   "id": "1ed9fca9-9dc8-41ed-8b96-1912c03c42f3",
   "metadata": {},
   "outputs": [
    {
     "data": {
      "text/plain": [
       "'\\ndnastr = input(\"Enter a DNA string: \")\\nprint(f\"A occurs {dnastr.count(\\'A\\')} times.\")\\nprint(f\"T occurs {dnastr.count(\\'T\\')} times.\")\\nprint(f\"G occurs {dnastr.count(\\'G\\')} times.\")\\nprint(f\"C occurs {dnastr.count(\\'C\\')} times.\")\\n'"
      ]
     },
     "execution_count": 27,
     "metadata": {},
     "output_type": "execute_result"
    }
   ],
   "source": [
    "#Ques-3\n",
    "\n",
    "#Input a DNA string and print the frequency of each nucleotide\n",
    "'''\n",
    "dnastr = input(\"Enter a DNA string: \")\n",
    "print(f\"A occurs {dnastr.count('A')} times.\")\n",
    "print(f\"T occurs {dnastr.count('T')} times.\")\n",
    "print(f\"G occurs {dnastr.count('G')} times.\")\n",
    "print(f\"C occurs {dnastr.count('C')} times.\")\n",
    "'''"
   ]
  },
  {
   "cell_type": "code",
   "execution_count": 29,
   "id": "3fb32c70-10ba-4ad0-8250-fa2f208c6cfc",
   "metadata": {},
   "outputs": [
    {
     "data": {
      "text/plain": [
       "'\\ndnastr = input(\"Enter a DNA string: \")\\ngccount = dnastr.count(\\'G\\') + dnastr.count(\\'C\\')\\ngcpercent = int((gc_count / len(dnastr)) * 100)\\nprint(f\"GC content is {gcpercent}%\")\\n'"
      ]
     },
     "execution_count": 29,
     "metadata": {},
     "output_type": "execute_result"
    }
   ],
   "source": [
    "#Ques-4\n",
    "\n",
    "#Input a DNA string and print the GC percent\n",
    "'''\n",
    "dnastr = input(\"Enter a DNA string: \")\n",
    "gccount = dnastr.count('G') + dnastr.count('C')\n",
    "gcpercent = int((gc_count / len(dnastr)) * 100)\n",
    "print(f\"GC content is {gcpercent}%\")\n",
    "'''"
   ]
  },
  {
   "cell_type": "code",
   "execution_count": 31,
   "id": "4285085b-ff27-48d4-a1d1-2c64def32557",
   "metadata": {},
   "outputs": [
    {
     "data": {
      "text/plain": [
       "'\\ndnastr = input(\"Enter a DNA string: \")\\nresult = \"Yesss\" if dnastr.endswith(\"GC\") else \"Nooo\"\\nprint(f\"Ends with GC: {result}\")\\n'"
      ]
     },
     "execution_count": 31,
     "metadata": {},
     "output_type": "execute_result"
    }
   ],
   "source": [
    "#Ques-5\n",
    "\n",
    "#WAP to input a DNA string and print whether it's last line ends with \"GC\"\n",
    "'''\n",
    "dnastr = input(\"Enter a DNA string: \")\n",
    "result = \"Yesss\" if dnastr.endswith(\"GC\") else \"Nooo\"\n",
    "print(f\"Ends with GC: {result}\")\n",
    "'''"
   ]
  },
  {
   "cell_type": "code",
   "execution_count": 33,
   "id": "4f5b3d3d-78f2-4f12-8b9c-1866198c6171",
   "metadata": {},
   "outputs": [],
   "source": [
    "#Session-4"
   ]
  },
  {
   "cell_type": "code",
   "execution_count": 35,
   "id": "33f0b6b2-a770-4147-b344-50c9fe72b080",
   "metadata": {},
   "outputs": [
    {
     "data": {
      "text/plain": [
       "'\\ndnastring = input(\"Enter a DNA string: \")\\nfor d in dnastring:\\n    if d == \\'A\\':\\n        print(\\'T\\')\\n    elif d == \\'T\\':\\n        print(\\'A\\')\\n    elif d == \\'G\\':\\n        print(\\'C\\')\\n    elif d == \\'C\\':\\n        print(\\'G\\')\\n'"
      ]
     },
     "execution_count": 35,
     "metadata": {},
     "output_type": "execute_result"
    }
   ],
   "source": [
    "#WAP to input a dna string and print it's compliment\n",
    "'''\n",
    "dnastring = input(\"Enter a DNA string: \")\n",
    "for d in dnastring:\n",
    "    if d == 'A':\n",
    "        print('T')\n",
    "    elif d == 'T':\n",
    "        print('A')\n",
    "    elif d == 'G':\n",
    "        print('C')\n",
    "    elif d == 'C':\n",
    "        print('G')\n",
    "'''"
   ]
  },
  {
   "cell_type": "code",
   "execution_count": 37,
   "id": "c4fa6e35-2b07-44a7-8f09-5337014bd3d7",
   "metadata": {},
   "outputs": [
    {
     "data": {
      "text/plain": [
       "'\\ndnastring = input(\"Enter a DNA string: \")\\n\\nfor i in range(len(dnastring)-1):\\n    print(dnastring[i] + dnastring[i+1])\\n'"
      ]
     },
     "execution_count": 37,
     "metadata": {},
     "output_type": "execute_result"
    }
   ],
   "source": [
    "#WAP to input a dna string and print it's duplets\n",
    "'''\n",
    "dnastring = input(\"Enter a DNA string: \")\n",
    "\n",
    "for i in range(len(dnastring)-1):\n",
    "    print(dnastring[i] + dnastring[i+1])\n",
    "'''"
   ]
  },
  {
   "cell_type": "code",
   "execution_count": 39,
   "id": "092da922-de73-449d-aa3f-478f57efd815",
   "metadata": {},
   "outputs": [
    {
     "data": {
      "text/plain": [
       "'\\ndnastring = input(\"Enter a DNA string: \")\\n\\nfor i in range(len(dnastring)-3):\\n    print(dnastring[i] + dnastring[i+1] + dnastring[i+2])\\n'"
      ]
     },
     "execution_count": 39,
     "metadata": {},
     "output_type": "execute_result"
    }
   ],
   "source": [
    "#WAP to input a dna string and print it's triplets\n",
    "'''\n",
    "dnastring = input(\"Enter a DNA string: \")\n",
    "\n",
    "for i in range(len(dnastring)-3):\n",
    "    print(dnastring[i] + dnastring[i+1] + dnastring[i+2])\n",
    "'''"
   ]
  },
  {
   "cell_type": "code",
   "execution_count": 41,
   "id": "4eadc68b-5ef6-4e40-9e08-a0670d43a0b8",
   "metadata": {},
   "outputs": [
    {
     "data": {
      "text/plain": [
       "'\\ndna = input(\"Enter a DNA string: \")\\n\\nvalid = True\\n\\nfor letter in dna:\\n    if letter not in \"ATGC\":\\n        valid = False\\n        break\\n\\nif valid:\\n    print(\"Valid\")\\nelse:\\n    print(\"Invalid\")\\n'"
      ]
     },
     "execution_count": 41,
     "metadata": {},
     "output_type": "execute_result"
    }
   ],
   "source": [
    "#WAP to check if the DNA string is valid or not\n",
    "\n",
    "# WAP to check if the DNA string is valid or not\n",
    "'''\n",
    "dna = input(\"Enter a DNA string: \")\n",
    "\n",
    "valid = True\n",
    "\n",
    "for letter in dna:\n",
    "    if letter not in \"ATGC\":\n",
    "        valid = False\n",
    "        break\n",
    "\n",
    "if valid:\n",
    "    print(\"Valid\")\n",
    "else:\n",
    "    print(\"Invalid\")\n",
    "'''"
   ]
  },
  {
   "cell_type": "code",
   "execution_count": 43,
   "id": "2b84ee24-c8dd-4f07-bbb3-ee0070bbdb62",
   "metadata": {},
   "outputs": [],
   "source": [
    "#Session-5"
   ]
  },
  {
   "cell_type": "code",
   "execution_count": 45,
   "id": "561397a8-fe09-4d27-9ae9-09b261a168ce",
   "metadata": {},
   "outputs": [
    {
     "data": {
      "text/plain": [
       "'\\nnum = int(input(\"Enter a number: \"))\\ncnt = 0\\nwhile cnt < 10:\\n    print(num, end=\" \")\\n    num += 1\\n    cnt += 1\\n'"
      ]
     },
     "execution_count": 45,
     "metadata": {},
     "output_type": "execute_result"
    }
   ],
   "source": [
    "#WAP to input a number and print 10 numbers from it\n",
    "'''\n",
    "num = int(input(\"Enter a number: \"))\n",
    "cnt = 0\n",
    "while cnt < 10:\n",
    "    print(num, end=\" \")\n",
    "    num += 1\n",
    "    cnt += 1\n",
    "'''"
   ]
  },
  {
   "cell_type": "code",
   "execution_count": 47,
   "id": "067c0009-f4e1-4bc5-b59a-ee515d677be4",
   "metadata": {},
   "outputs": [
    {
     "data": {
      "text/plain": [
       "'\\nnum = int(input(\"Enter a number: \"))\\ncnt = 0\\nwhile num >= cnt-10:\\n    print(num, end=\" \")\\n    num -= 1\\n'"
      ]
     },
     "execution_count": 47,
     "metadata": {},
     "output_type": "execute_result"
    }
   ],
   "source": [
    "#WAP to input a number and print 10 numbers from it but in reverse\n",
    "'''\n",
    "num = int(input(\"Enter a number: \"))\n",
    "cnt = 0\n",
    "while num >= cnt-10:\n",
    "    print(num, end=\" \")\n",
    "    num -= 1\n",
    "'''"
   ]
  },
  {
   "cell_type": "code",
   "execution_count": 49,
   "id": "2a7b3733-fa8d-4ced-81bd-37e11a5b3ba5",
   "metadata": {},
   "outputs": [
    {
     "data": {
      "text/plain": [
       "'\\ns = \"\"\\nwhile s != \"end\":\\n    s = input(\"Enter a string:\")\\n    print(s)\\n'"
      ]
     },
     "execution_count": 49,
     "metadata": {},
     "output_type": "execute_result"
    }
   ],
   "source": [
    "#WAP to input a string from the user till the user enters \"end\" and print the string\n",
    "'''\n",
    "s = \"\"\n",
    "while s != \"end\":\n",
    "    s = input(\"Enter a string:\")\n",
    "    print(s)\n",
    "'''"
   ]
  },
  {
   "cell_type": "code",
   "execution_count": 51,
   "id": "90b591e6-3162-460b-b715-7e6417ea1921",
   "metadata": {},
   "outputs": [
    {
     "data": {
      "text/plain": [
       "'\\ns = \"\"\\nwhile s != \"end\":\\n    s = input(\"Enter a string:\")\\n    print(s, len(s))\\n'"
      ]
     },
     "execution_count": 51,
     "metadata": {},
     "output_type": "execute_result"
    }
   ],
   "source": [
    "#WAP to input a string from the user till the user enters \"end\" and print the length of every string\n",
    "'''\n",
    "s = \"\"\n",
    "while s != \"end\":\n",
    "    s = input(\"Enter a string:\")\n",
    "    print(s, len(s))\n",
    "'''"
   ]
  },
  {
   "cell_type": "code",
   "execution_count": 53,
   "id": "c48aa07f-21c7-4b3b-aadd-817f9c7870c5",
   "metadata": {},
   "outputs": [
    {
     "data": {
      "text/plain": [
       "'\\nstr = input(\"Enter a string\")\\nsrchstr = input(\"Enter a search string\")\\nstr.count(srchstr)\\n'"
      ]
     },
     "execution_count": 53,
     "metadata": {},
     "output_type": "execute_result"
    }
   ],
   "source": [
    "#WAP to input a string and search string and print the number of times the search string occurs in string (using count)\n",
    "'''\n",
    "str = input(\"Enter a string\")\n",
    "srchstr = input(\"Enter a search string\")\n",
    "str.count(srchstr)\n",
    "'''"
   ]
  },
  {
   "cell_type": "code",
   "execution_count": 55,
   "id": "15b7232b-fb67-49ef-b30e-c9ca700ef4a3",
   "metadata": {
    "scrolled": true
   },
   "outputs": [
    {
     "data": {
      "text/plain": [
       "'\\nstr = input(\"Enter a string: \")\\nsrchstr = input(\"Enter a search string: \")\\npos = 0\\np = -1\\nctr = 0\\nwhile((p:=(str.find(srchstr,pos)))!=-1):\\n    print(p)\\n    pos=p+1\\n    ctr+=1\\nelse:\\n    print(f\"{srchstr} occurs {ctr} times in {str}\")\\n'"
      ]
     },
     "execution_count": 55,
     "metadata": {},
     "output_type": "execute_result"
    }
   ],
   "source": [
    "#WAP to input a string and search string and print the number of times the search string occurs in string (using find)\n",
    "'''\n",
    "str = input(\"Enter a string: \")\n",
    "srchstr = input(\"Enter a search string: \")\n",
    "pos = 0\n",
    "p = -1\n",
    "ctr = 0\n",
    "while((p:=(str.find(srchstr,pos)))!=-1):\n",
    "    print(p)\n",
    "    pos=p+1\n",
    "    ctr+=1\n",
    "else:\n",
    "    print(f\"{srchstr} occurs {ctr} times in {str}\")\n",
    "'''"
   ]
  },
  {
   "cell_type": "code",
   "execution_count": 57,
   "id": "f8890ec0-5c4c-4653-87a5-3c80ff272bb4",
   "metadata": {},
   "outputs": [
    {
     "data": {
      "text/plain": [
       "'\\nsum = 0 \\nwhile True:\\n    n = int(input(\"Enter a number (enter a number above 100 to exit the loop):\"))\\n    if n > 100:\\n        break\\n    sum += n\\nprint(sum)\\n'"
      ]
     },
     "execution_count": 57,
     "metadata": {},
     "output_type": "execute_result"
    }
   ],
   "source": [
    "#WAP to input a number (not a string) till the user enters a value larger than 100 and print th sum of all the numbers entered\n",
    "'''\n",
    "n = 0\n",
    "sum = 0\n",
    "while n <= 100:\n",
    "    n = int(input(\"Enter a number:\"))\n",
    "    sum += n\n",
    "print(f\"100 has come so the program is ended and the sum is {sum-100}\")\n",
    "'''\n",
    "\n",
    "'''\n",
    "sum = 0 \n",
    "while True:\n",
    "    n = int(input(\"Enter a number (enter a number above 100 to exit the loop):\"))\n",
    "    if n > 100:\n",
    "        break\n",
    "    sum += n\n",
    "print(sum)\n",
    "'''"
   ]
  },
  {
   "cell_type": "code",
   "execution_count": 59,
   "id": "97216778-6efa-4ffd-a27e-38bc44015cc6",
   "metadata": {},
   "outputs": [
    {
     "data": {
      "text/plain": [
       "'\\nwhile True:\\n    shabd = input(\"Enter a string (type \\'end\\' to stop): \")\\n    if shabd == \"end\":\\n        break\\n    if \"a\" not in shabd:\\n        print(shabd)\\n'"
      ]
     },
     "execution_count": 59,
     "metadata": {},
     "output_type": "execute_result"
    }
   ],
   "source": [
    "#WAP to input a string from the user till the user enters end and print all the strings which does not have the vowel \"a\"\n",
    "'''\n",
    "while True:\n",
    "    shabd = input(\"Enter a string (type 'end' to stop): \")\n",
    "    if shabd == \"end\":\n",
    "        break\n",
    "    if \"a\" not in shabd:\n",
    "        print(shabd)\n",
    "'''"
   ]
  },
  {
   "cell_type": "code",
   "execution_count": 61,
   "id": "e3dba23e-0941-4144-b5da-8dc304f0d02f",
   "metadata": {},
   "outputs": [
    {
     "data": {
      "text/plain": [
       "'\\nwhile True:\\n    stringg = input(\"Enter a string: \")\\n    if len(stringg) < 3:\\n        break\\nprint(\"Less than 3 characters is:\", stringg)\\nprint(\"Length: \", len(stringg))\\n'"
      ]
     },
     "execution_count": 61,
     "metadata": {},
     "output_type": "execute_result"
    }
   ],
   "source": [
    "#WAP to input strings from the user enters a string of less than 3 chars and print the string and its length\n",
    "'''\n",
    "while True:\n",
    "    stringg = input(\"Enter a string: \")\n",
    "    if len(stringg) < 3:\n",
    "        break\n",
    "print(\"Less than 3 characters is:\", stringg)\n",
    "print(\"Length: \", len(stringg))\n",
    "'''"
   ]
  },
  {
   "cell_type": "code",
   "execution_count": 63,
   "id": "ca65a28b-318a-424e-bfbf-f680353befad",
   "metadata": {},
   "outputs": [
    {
     "data": {
      "text/plain": [
       "'\\nunits = []\\nhundreds = []\\ngreater_than_hundereds = []\\n\\nwhile True:\\n    num = int(input(\"Enter a number (-1 to stop): \"))\\n    \\n    if num == -1:\\n        break\\n    \\n    if num >= 1 and num <= 9:\\n        units.append(num)\\n    elif num >= 100 and num <= 999:\\n        hundreds.append(num)\\n    elif num >= 1000:\\n        greater_than_hundereds.append(num)\\n\\nprint(\"Unit numbers (1-9):\", units)\\nprint(\"Hundred numbers (100-999):\", hundreds)\\nprint(\"Greater than or equal to 1000:\", greater_than_hundereds)\\n'"
      ]
     },
     "execution_count": 63,
     "metadata": {},
     "output_type": "execute_result"
    }
   ],
   "source": [
    "#WAP to input numbers from the user till -1 and print the nubmers in units and hundereds and greater\n",
    "'''\n",
    "units = 0\n",
    "hundreds = 0\n",
    "greater_than_hundereds = 0\n",
    "\n",
    "while True:\n",
    "    num = int(input(\"Enter a number (-1 to stop): \"))\n",
    "    \n",
    "    if num == -1:\n",
    "        break\n",
    "    \n",
    "    if num >= 1 and num <= 9:\n",
    "        print(\"Unit number:\", num)\n",
    "        units += 1\n",
    "    elif num >= 100 and num <= 999:\n",
    "        print(\"Hundred number:\", num)\n",
    "        hundreds += 1\n",
    "    elif num >= 1000:\n",
    "        print(\"Number greater than or equal to 1000:\", num)\n",
    "        greater_than_hundereds += 1\n",
    "\n",
    "print(\"Total unit numbers:\", units)\n",
    "print(\"Total hundred numbers:\", hundreds)\n",
    "print(\"Total numbers >= 1000:\", greater_than_hundereds)\n",
    "'''\n",
    "\n",
    "'''\n",
    "units = []\n",
    "hundreds = []\n",
    "greater_than_hundereds = []\n",
    "\n",
    "while True:\n",
    "    num = int(input(\"Enter a number (-1 to stop): \"))\n",
    "    \n",
    "    if num == -1:\n",
    "        break\n",
    "    \n",
    "    if num >= 1 and num <= 9:\n",
    "        units.append(num)\n",
    "    elif num >= 100 and num <= 999:\n",
    "        hundreds.append(num)\n",
    "    elif num >= 1000:\n",
    "        greater_than_hundereds.append(num)\n",
    "\n",
    "print(\"Unit numbers (1-9):\", units)\n",
    "print(\"Hundred numbers (100-999):\", hundreds)\n",
    "print(\"Greater than or equal to 1000:\", greater_than_hundereds)\n",
    "'''"
   ]
  },
  {
   "cell_type": "code",
   "execution_count": 65,
   "id": "7b86067a-e286-44e3-b223-4a86a8127357",
   "metadata": {},
   "outputs": [],
   "source": [
    "#Session-6"
   ]
  },
  {
   "cell_type": "code",
   "execution_count": 67,
   "id": "c8032332-62c5-44f0-ab21-4969e1c50493",
   "metadata": {},
   "outputs": [],
   "source": [
    "#Pattern printing"
   ]
  },
  {
   "cell_type": "code",
   "execution_count": 69,
   "id": "102b727c-0077-46d0-86e1-b529dd284fcd",
   "metadata": {},
   "outputs": [],
   "source": [
    "#Session-7"
   ]
  },
  {
   "cell_type": "code",
   "execution_count": 71,
   "id": "aaa2e10d-843a-4e4d-b747-d2890b79264e",
   "metadata": {},
   "outputs": [],
   "source": [
    "#Foratted strings"
   ]
  },
  {
   "cell_type": "code",
   "execution_count": null,
   "id": "b7040f15-a0d2-498a-b035-c535d6299410",
   "metadata": {},
   "outputs": [],
   "source": []
  }
 ],
 "metadata": {
  "kernelspec": {
   "display_name": "Python 3 (ipykernel)",
   "language": "python",
   "name": "python3"
  },
  "language_info": {
   "codemirror_mode": {
    "name": "ipython",
    "version": 3
   },
   "file_extension": ".py",
   "mimetype": "text/x-python",
   "name": "python",
   "nbconvert_exporter": "python",
   "pygments_lexer": "ipython3",
   "version": "3.11.7"
  }
 },
 "nbformat": 4,
 "nbformat_minor": 5
}
