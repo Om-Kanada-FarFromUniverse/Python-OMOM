{
 "cells": [
  {
   "cell_type": "code",
   "execution_count": 1,
   "id": "0afbc3bc-c30e-4be9-9f42-58771ed7a3e5",
   "metadata": {},
   "outputs": [],
   "source": [
    "#Session-1"
   ]
  },
  {
   "cell_type": "code",
   "execution_count": 3,
   "id": "0d1d5be2-a301-4a6c-b594-7e4bc9c46d68",
   "metadata": {},
   "outputs": [
    {
     "name": "stdout",
     "output_type": "stream",
     "text": [
      "Temperature Converter\n",
      "1. Celsius to Fahrenheit\n",
      "2. Fahrenheit to Celsius\n"
     ]
    },
    {
     "name": "stdin",
     "output_type": "stream",
     "text": [
      "Enter your choice (1 or 2):  1\n",
      "Enter temperature in Celsius:  33\n"
     ]
    },
    {
     "name": "stdout",
     "output_type": "stream",
     "text": [
      "33°C is 91°F\n"
     ]
    }
   ],
   "source": [
    "#Ques-1\n",
    "\n",
    "#Temperature conversion from Celcius and Farehnheit\n",
    "\n",
    "print(\"Temperature Converter\")\n",
    "print(\"1. Celsius to Fahrenheit\")\n",
    "print(\"2. Fahrenheit to Celsius\")\n",
    "\n",
    "choice = int(input(\"Enter your choice (1 or 2): \"))\n",
    "\n",
    "if choice == 1:\n",
    "    c = int(input(\"Enter temperature in Celsius: \"))\n",
    "    f = int((c * 9/5) + 32)\n",
    "    print(f\"{c}°C is {f}°F\")\n",
    "elif choice == 2:\n",
    "    f = int(input(\"Enter temperature in Fahrenheit: \"))\n",
    "    c = int((f - 32) * 5/9)\n",
    "    print(f\"{f}°F is {c}°C\")\n",
    "else:\n",
    "    print(\"Invalid choice!\")"
   ]
  },
  {
   "cell_type": "code",
   "execution_count": 5,
   "id": "ac573d3c-f6c7-44f5-a67f-86c52e6056eb",
   "metadata": {},
   "outputs": [
    {
     "name": "stdin",
     "output_type": "stream",
     "text": [
      "Enter temperature in Celsius:  33\n"
     ]
    },
    {
     "name": "stdout",
     "output_type": "stream",
     "text": [
      "33°C is 91°F\n"
     ]
    }
   ],
   "source": [
    "c = int(input(\"Enter temperature in Celsius: \"))\n",
    "f = int((c * 9/5) + 32)\n",
    "print(f\"{c}°C is {f}°F\")"
   ]
  },
  {
   "cell_type": "code",
   "execution_count": 7,
   "id": "3ba2cb0c-125d-4204-bccd-619b56bcfc5b",
   "metadata": {},
   "outputs": [
    {
     "name": "stdin",
     "output_type": "stream",
     "text": [
      "Enter temperature in Fahrenheit:  91\n"
     ]
    },
    {
     "name": "stdout",
     "output_type": "stream",
     "text": [
      "91°F is 32°C\n"
     ]
    }
   ],
   "source": [
    "f = int(input(\"Enter temperature in Fahrenheit: \"))\n",
    "c = int((f - 32) * 5/9)\n",
    "print(f\"{f}°F is {c}°C\")"
   ]
  },
  {
   "cell_type": "code",
   "execution_count": 9,
   "id": "92c1b909-825c-4742-84f9-a8cb29374bd0",
   "metadata": {},
   "outputs": [
    {
     "name": "stdin",
     "output_type": "stream",
     "text": [
      "Enter lenght: 20\n",
      "Enter breadth: 20\n"
     ]
    },
    {
     "name": "stdout",
     "output_type": "stream",
     "text": [
      "The area of a square is : 400\n"
     ]
    }
   ],
   "source": [
    "#Ques-2\n",
    "\n",
    "#Area of a rectangle\n",
    "\n",
    "l = int(input(\"Enter lenght:\"))\n",
    "b = int(input(\"Enter breadth:\"))\n",
    "area = l * b\n",
    "print(\"The area of a square is :\",area)"
   ]
  },
  {
   "cell_type": "code",
   "execution_count": 11,
   "id": "eb1282da-fd31-4e10-896c-bc0313d44e3c",
   "metadata": {},
   "outputs": [],
   "source": [
    "#Session-2"
   ]
  },
  {
   "cell_type": "code",
   "execution_count": 13,
   "id": "af15aece-5cb4-464e-8d1a-9eaa7da848df",
   "metadata": {},
   "outputs": [
    {
     "name": "stdin",
     "output_type": "stream",
     "text": [
      "Enter a number:  1\n"
     ]
    },
    {
     "name": "stdout",
     "output_type": "stream",
     "text": [
      "The number is +tive\n"
     ]
    }
   ],
   "source": [
    "#Ques-1\n",
    "\n",
    "#Write the ternary operator if 0 is positive and lesser than 0 negative(ternary)\n",
    "\n",
    "#\"Write a Python program using a ternary operator to check if a number is positive, negative, or zero.\"\n",
    "\n",
    "num = int(input(\"Enter a number: \"))\n",
    "result = \"Zero\" if num == 0 else (\"+tive\" if num > 0 else \"-tive\")\n",
    "print(\"The number is\", result)\n"
   ]
  },
  {
   "cell_type": "code",
   "execution_count": 15,
   "id": "c2668458-3aa5-434e-a5f1-3bd50b887bdd",
   "metadata": {},
   "outputs": [
    {
     "name": "stdin",
     "output_type": "stream",
     "text": [
      "Enter a year:  2024\n"
     ]
    },
    {
     "name": "stdout",
     "output_type": "stream",
     "text": [
      "Leap Year\n"
     ]
    }
   ],
   "source": [
    "#Ques-2\n",
    "\n",
    "#Input the year and print weather it's leap year or not? (Ternary operator)\n",
    "\n",
    "#\"Write a Python program to input a year and check whether it is a leap year using a ternary operator.\"\n",
    "\n",
    "year = int(input(\"Enter a year: \"))\n",
    "result = \"Leap Year\" if (year % 4 == 0 and (year % 100 != 0 or year % 400 == 0)) else \"Not a Leap Year\"\n",
    "print(result)"
   ]
  },
  {
   "cell_type": "code",
   "execution_count": 17,
   "id": "8bd5fa70-4f4a-430c-8090-9afa9ef817d9",
   "metadata": {},
   "outputs": [
    {
     "name": "stdin",
     "output_type": "stream",
     "text": [
      "Enter an number:  2\n",
      "Enter an exponent:  2\n"
     ]
    },
    {
     "name": "stdout",
     "output_type": "stream",
     "text": [
      "Result: 4\n"
     ]
    }
   ],
   "source": [
    "#Ques-3 \n",
    "\n",
    "#Write script to input a number and an exponent and print the result\n",
    "\n",
    "#\"Write a Python script to input a number and its exponent, then print the result using a ternary operator.\"\n",
    "\n",
    "number = int(input(\"Enter an number: \"))\n",
    "exponent = int(input(\"Enter an exponent: \"))\n",
    "result = number ** exponent if exponent != 0 else 1\n",
    "print(\"Result:\", result)"
   ]
  },
  {
   "cell_type": "code",
   "execution_count": 19,
   "id": "f984fc58-1e7d-45c3-99cd-63930b8d8eb0",
   "metadata": {},
   "outputs": [
    {
     "name": "stdin",
     "output_type": "stream",
     "text": [
      "Enter number 1:  11\n",
      "Enter number 2:  12\n",
      "Enter number 3:  13\n",
      "Enter number 4:  14\n",
      "Enter number 5:  15\n"
     ]
    },
    {
     "name": "stdout",
     "output_type": "stream",
     "text": [
      "Result: 360360\n"
     ]
    }
   ],
   "source": [
    "#Ques-4 \n",
    "\n",
    "#Write a program to input 5 numbers if all are greater then 10 print it's product else print the sum\n",
    "\n",
    "#\"Write a Python program to input 5 integers. If all the numbers are greater than 10, print their product; otherwise, print their sum. Use ternary operator.\"\n",
    "\n",
    "n1 = int(input(\"Enter number 1: \"))\n",
    "n2 = int(input(\"Enter number 2: \"))\n",
    "n3 = int(input(\"Enter number 3: \"))\n",
    "n4 = int(input(\"Enter number 4: \"))\n",
    "n5 = int(input(\"Enter number 5: \"))\n",
    "\n",
    "greater_than_10 = n1 > 10 and n2 > 10 and n3 > 10 and n4 > 10 and n5 > 10\n",
    "\n",
    "result = (n1 * n2 * n3 * n4 * n5) if greater_than_10 else (n1 + n2 + n3 + n4 + n5)\n",
    "\n",
    "print(\"Result:\", result)"
   ]
  },
  {
   "cell_type": "code",
   "execution_count": 31,
   "id": "0465d710-84e2-44d1-a0b5-98aba001a958",
   "metadata": {},
   "outputs": [
    {
     "name": "stdin",
     "output_type": "stream",
     "text": [
      "Enter number 1:  11\n",
      "Enter number 2:  12\n",
      "Enter number 3:  13\n",
      "Enter number 4:  14\n",
      "Enter number 5:  15\n"
     ]
    },
    {
     "name": "stdout",
     "output_type": "stream",
     "text": [
      "Result: 360360\n"
     ]
    }
   ],
   "source": [
    "#looping input of 5 numbers\n",
    "\n",
    "from math import prod\n",
    "\n",
    "nums = [int(input(f\"Enter number {i+1}: \")) for i in range(5)]\n",
    "\n",
    "greater_than_10 = all(n > 10 for n in nums)\n",
    "result = prod(nums) if greater_than_10 else sum(nums)\n",
    "\n",
    "print(\"Result:\", result)"
   ]
  },
  {
   "cell_type": "code",
   "execution_count": 33,
   "id": "4558a3a5-ae2d-40b5-a611-e885a33ded28",
   "metadata": {},
   "outputs": [
    {
     "name": "stdin",
     "output_type": "stream",
     "text": [
      "Enter first string:  OMOM\n",
      "Enter second string:  OMOM\n"
     ]
    },
    {
     "name": "stdout",
     "output_type": "stream",
     "text": [
      "The strings are Same\n"
     ]
    }
   ],
   "source": [
    "#Ques-5\n",
    "\n",
    "#Write a program to input 2 strings and print weather they are same or not\n",
    "\n",
    "#\"Write a Python program to input two strings and print whether they are the same or not using a ternary operator.\"\n",
    "\n",
    "str1 = input(\"Enter first string: \")\n",
    "str2 = input(\"Enter second string: \")\n",
    "\n",
    "result = \"Same\" if str1 == str2 else \"Not Same\"\n",
    "\n",
    "print(\"The strings are\", result)"
   ]
  },
  {
   "cell_type": "code",
   "execution_count": 43,
   "id": "b8108320-5cb3-48bb-a004-c416002e2b97",
   "metadata": {},
   "outputs": [
    {
     "name": "stdin",
     "output_type": "stream",
     "text": [
      "Enter first number:  101\n",
      "Enter second number:  202\n"
     ]
    },
    {
     "name": "stdout",
     "output_type": "stream",
     "text": [
      "The difference is Greater than 100\n"
     ]
    }
   ],
   "source": [
    "#Ques-6\n",
    "\n",
    "#Program to input 2 numbers and print weather diff btn both numbers is greater than 100 or not\n",
    "\n",
    "#\"Write a Python program to input two numbers and print whether the difference between them is greater than 100 using a ternary operator.\"\n",
    "\n",
    "num1 = int(input(\"Enter first number: \"))\n",
    "num2 = int(input(\"Enter second number: \"))\n",
    "\n",
    "diff = abs(num1 - num2)\n",
    "result = \"Greater than 100\" if diff > 100 else \"Not greater than 100\"\n",
    "\n",
    "print(\"The difference is\", result)"
   ]
  },
  {
   "cell_type": "code",
   "execution_count": 45,
   "id": "3a7e2be1-7d86-4bbd-a7f0-24014b5f2ae7",
   "metadata": {},
   "outputs": [
    {
     "name": "stdin",
     "output_type": "stream",
     "text": [
      "Enter first number:  101\n",
      "Enter second number:  202\n"
     ]
    },
    {
     "name": "stdout",
     "output_type": "stream",
     "text": [
      "The difference is: 101\n",
      "The difference is Greater than 100\n"
     ]
    }
   ],
   "source": [
    "#With the difference as well\n",
    "num1 = int(input(\"Enter first number: \"))\n",
    "num2 = int(input(\"Enter second number: \"))\n",
    "\n",
    "diff = abs(num1 - num2)\n",
    "result = \"Greater than 100\" if diff > 100 else \"Not greater than 100\"\n",
    "\n",
    "print(\"The difference is:\", diff)\n",
    "print(\"The difference is\", result)"
   ]
  },
  {
   "cell_type": "code",
   "execution_count": 144,
   "id": "13fd3e73-8e6a-4ad1-b91a-3c3fe0e4fbfc",
   "metadata": {},
   "outputs": [],
   "source": [
    "#Session-3"
   ]
  },
  {
   "cell_type": "code",
   "execution_count": 47,
   "id": "0820f319-7a7d-4673-ac4a-91d2a4c14b00",
   "metadata": {},
   "outputs": [
    {
     "name": "stdin",
     "output_type": "stream",
     "text": [
      "Enter a string:  OMOMOMOM\n",
      "Enter a search string:  MOM\n"
     ]
    },
    {
     "name": "stdout",
     "output_type": "stream",
     "text": [
      "MOM occurs 2 times\n"
     ]
    }
   ],
   "source": [
    "#Ques-1\n",
    "\n",
    "#Write a program to input a string and a search string and print the number of times the string occurs in the input string\n",
    "\n",
    "s = input(\"Enter a string: \")\n",
    "srch = input(\"Enter a search string: \")\n",
    "cnt = s.count(srch)\n",
    "print(f\"{srch} occurs {cnt} times\")"
   ]
  },
  {
   "cell_type": "code",
   "execution_count": 49,
   "id": "8fdfb179-fa51-41e4-b786-d197faf9a43f",
   "metadata": {},
   "outputs": [
    {
     "name": "stdin",
     "output_type": "stream",
     "text": [
      "Enter a string to check if it's palindrome:  OMOMOMO\n"
     ]
    },
    {
     "name": "stdout",
     "output_type": "stream",
     "text": [
      "Yes\n"
     ]
    }
   ],
   "source": [
    "#Ques-2\n",
    "\n",
    "#Write a program to input a string and print whether it's a palindrome or not\n",
    "\n",
    "s = input(\"Enter a string to check if it's palindrome: \")\n",
    "result = \"Yes\" if s[:]==s[::-1] else \"No\"\n",
    "print(result)"
   ]
  },
  {
   "cell_type": "code",
   "execution_count": 51,
   "id": "b0550e7d-0319-4d63-92b1-2b43d74610ba",
   "metadata": {},
   "outputs": [
    {
     "name": "stdin",
     "output_type": "stream",
     "text": [
      "Enter a string to check if it's palindrome:  OMOMOMO\n"
     ]
    },
    {
     "name": "stdout",
     "output_type": "stream",
     "text": [
      "Yes\n"
     ]
    }
   ],
   "source": [
    "s = input(\"Enter a string to check if it's palindrome: \")\n",
    "if(s[:]==s[::-1]):\n",
    "    print(\"Yes\")\n",
    "else:\n",
    "    print(\"Not\")"
   ]
  },
  {
   "cell_type": "code",
   "execution_count": 53,
   "id": "1ed9fca9-9dc8-41ed-8b96-1912c03c42f3",
   "metadata": {},
   "outputs": [
    {
     "name": "stdin",
     "output_type": "stream",
     "text": [
      "Enter a DNA string:  ATGCATGCATGCTACGTCGTAGTGCATGCATGC\n"
     ]
    },
    {
     "name": "stdout",
     "output_type": "stream",
     "text": [
      "A occurs 7 times.\n",
      "T occurs 9 times.\n",
      "G occurs 9 times.\n",
      "C occurs 8 times.\n"
     ]
    }
   ],
   "source": [
    "#Ques-3\n",
    "\n",
    "#Input a DNA string and print the frequency of each nucleotide\n",
    "\n",
    "dnastr = input(\"Enter a DNA string: \")\n",
    "print(f\"A occurs {dnastr.count('A')} times.\")\n",
    "print(f\"T occurs {dnastr.count('T')} times.\")\n",
    "print(f\"G occurs {dnastr.count('G')} times.\")\n",
    "print(f\"C occurs {dnastr.count('C')} times.\")"
   ]
  },
  {
   "cell_type": "code",
   "execution_count": 57,
   "id": "3fb32c70-10ba-4ad0-8250-fa2f208c6cfc",
   "metadata": {},
   "outputs": [
    {
     "name": "stdin",
     "output_type": "stream",
     "text": [
      "Enter a DNA string:  ACGATCGTCAGCTGTGCTGATGTAGTGCTGTGTCGTGATGTGCTGTCGTCGATGCTAG\n"
     ]
    },
    {
     "name": "stdout",
     "output_type": "stream",
     "text": [
      "GC content is 53%\n"
     ]
    }
   ],
   "source": [
    "#Ques-4\n",
    "\n",
    "#Input a DNA string and print the GC percent\n",
    "\n",
    "dnastr = input(\"Enter a DNA string: \")\n",
    "gc_count = dnastr.count('G') + dnastr.count('C')\n",
    "gcpercent = int((gc_count / len(dnastr)) * 100)\n",
    "print(f\"GC content is {gcpercent}%\")"
   ]
  },
  {
   "cell_type": "code",
   "execution_count": 61,
   "id": "4285085b-ff27-48d4-a1d1-2c64def32557",
   "metadata": {},
   "outputs": [
    {
     "name": "stdin",
     "output_type": "stream",
     "text": [
      "Enter a DNA string:  ATCGTACGTCAGTACGCTGATGCTACGGC\n"
     ]
    },
    {
     "name": "stdout",
     "output_type": "stream",
     "text": [
      "Ends with GC: Yesss\n"
     ]
    }
   ],
   "source": [
    "#Ques-5\n",
    "\n",
    "#WAP to input a DNA string and print whether it's last line ends with \"GC\"\n",
    "\n",
    "dnastr = input(\"Enter a DNA string: \")\n",
    "result = \"Yesss\" if dnastr.endswith(\"GC\") else \"Nooo\"\n",
    "print(f\"Ends with GC: {result}\")"
   ]
  },
  {
   "cell_type": "code",
   "execution_count": 146,
   "id": "4f5b3d3d-78f2-4f12-8b9c-1866198c6171",
   "metadata": {},
   "outputs": [],
   "source": [
    "#Session-4"
   ]
  },
  {
   "cell_type": "code",
   "execution_count": 14,
   "id": "33f0b6b2-a770-4147-b344-50c9fe72b080",
   "metadata": {},
   "outputs": [
    {
     "name": "stdin",
     "output_type": "stream",
     "text": [
      "Enter a DNA string:  ACTGTCAGTCAGTACGTAGTCGTGTCAAGTAC\n"
     ]
    },
    {
     "name": "stdout",
     "output_type": "stream",
     "text": [
      "TGACAGTCAGTCATGCATCAGCACAGTTCATG"
     ]
    }
   ],
   "source": [
    "#WAP to input a dna string and print it's compliment\n",
    "\n",
    "dnastring = input(\"Enter a DNA string: \")\n",
    "for d in dnastring:\n",
    "    if d == 'A':\n",
    "        print('T', end=\"\")\n",
    "    elif d == 'T':\n",
    "        print('A', end=\"\")\n",
    "    elif d == 'G':\n",
    "        print('C', end=\"\")\n",
    "    elif d == 'C':\n",
    "        print('G', end=\"\")"
   ]
  },
  {
   "cell_type": "code",
   "execution_count": 69,
   "id": "c4fa6e35-2b07-44a7-8f09-5337014bd3d7",
   "metadata": {},
   "outputs": [
    {
     "name": "stdin",
     "output_type": "stream",
     "text": [
      "Enter a DNA string:  ACGTTCGTGCTAGTCAGTACGTACG\n"
     ]
    },
    {
     "name": "stdout",
     "output_type": "stream",
     "text": [
      "AC CG GT TT TC CG GT TG GC CT TA AG GT TC CA AG GT TA AC CG GT TA AC CG "
     ]
    }
   ],
   "source": [
    "#WAP to input a dna string and print it's duplets\n",
    "\n",
    "dnastring = input(\"Enter a DNA string: \")\n",
    "\n",
    "for i in range(len(dnastring)-1):\n",
    "    print(dnastring[i] + dnastring[i+1], end=\" \")"
   ]
  },
  {
   "cell_type": "code",
   "execution_count": 71,
   "id": "092da922-de73-449d-aa3f-478f57efd815",
   "metadata": {},
   "outputs": [
    {
     "name": "stdin",
     "output_type": "stream",
     "text": [
      "Enter a DNA string:  ACTGTACGTCGTGTAGTCGTCGTAGCTAG\n"
     ]
    },
    {
     "name": "stdout",
     "output_type": "stream",
     "text": [
      "ACT CTG TGT GTA TAC ACG CGT GTC TCG CGT GTG TGT GTA TAG AGT GTC TCG CGT GTC TCG CGT GTA TAG AGC GCT CTA "
     ]
    }
   ],
   "source": [
    "#WAP to input a dna string and print it's triplets\n",
    "\n",
    "dnastring = input(\"Enter a DNA string: \")\n",
    "\n",
    "for i in range(len(dnastring)-3):\n",
    "    print(dnastring[i] + dnastring[i+1] + dnastring[i+2], end=\" \")"
   ]
  },
  {
   "cell_type": "code",
   "execution_count": 73,
   "id": "4eadc68b-5ef6-4e40-9e08-a0670d43a0b8",
   "metadata": {},
   "outputs": [
    {
     "name": "stdin",
     "output_type": "stream",
     "text": [
      "Enter a DNA string:  ATCGCAGTACGTACG\n"
     ]
    },
    {
     "name": "stdout",
     "output_type": "stream",
     "text": [
      "Valid\n"
     ]
    }
   ],
   "source": [
    "#WAP to check if the DNA string is valid or not\n",
    "\n",
    "# WAP to check if the DNA string is valid or not\n",
    "\n",
    "dna = input(\"Enter a DNA string: \")\n",
    "\n",
    "valid = True\n",
    "\n",
    "for letter in dna:\n",
    "    if letter not in \"ATGC\":\n",
    "        valid = False\n",
    "        break\n",
    "\n",
    "if valid:\n",
    "    print(\"Valid\")\n",
    "else:\n",
    "    print(\"Invalid\")"
   ]
  },
  {
   "cell_type": "code",
   "execution_count": 148,
   "id": "2b84ee24-c8dd-4f07-bbb3-ee0070bbdb62",
   "metadata": {},
   "outputs": [],
   "source": [
    "#Session-5"
   ]
  },
  {
   "cell_type": "code",
   "execution_count": 75,
   "id": "561397a8-fe09-4d27-9ae9-09b261a168ce",
   "metadata": {},
   "outputs": [
    {
     "name": "stdin",
     "output_type": "stream",
     "text": [
      "Enter a number:  200\n"
     ]
    },
    {
     "name": "stdout",
     "output_type": "stream",
     "text": [
      "200 201 202 203 204 205 206 207 208 209 "
     ]
    }
   ],
   "source": [
    "#WAP to input a number and print 10 numbers from it\n",
    "\n",
    "num = int(input(\"Enter a number: \"))\n",
    "cnt = 0\n",
    "while cnt < 10:\n",
    "    print(num, end=\" \")\n",
    "    num += 1\n",
    "    cnt += 1"
   ]
  },
  {
   "cell_type": "code",
   "execution_count": 81,
   "id": "067c0009-f4e1-4bc5-b59a-ee515d677be4",
   "metadata": {},
   "outputs": [
    {
     "name": "stdin",
     "output_type": "stream",
     "text": [
      "Enter a number:  200\n"
     ]
    },
    {
     "name": "stdout",
     "output_type": "stream",
     "text": [
      "200 199 198 197 196 195 194 193 192 191 "
     ]
    }
   ],
   "source": [
    "#WAP to input a number and print 10 numbers from it but in reverse\n",
    "\n",
    "num = int(input(\"Enter a number: \"))\n",
    "cnt = 0\n",
    "\n",
    "while cnt < 10:\n",
    "    print(num, end=\" \")\n",
    "    num -= 1\n",
    "    cnt += 1"
   ]
  },
  {
   "cell_type": "code",
   "execution_count": 83,
   "id": "2a7b3733-fa8d-4ced-81bd-37e11a5b3ba5",
   "metadata": {},
   "outputs": [
    {
     "name": "stdin",
     "output_type": "stream",
     "text": [
      "Enter a string: ojojojojo\n"
     ]
    },
    {
     "name": "stdout",
     "output_type": "stream",
     "text": [
      "ojojojojo\n"
     ]
    },
    {
     "name": "stdin",
     "output_type": "stream",
     "text": [
      "Enter a string: okokkokok\n"
     ]
    },
    {
     "name": "stdout",
     "output_type": "stream",
     "text": [
      "okokkokok\n"
     ]
    },
    {
     "name": "stdin",
     "output_type": "stream",
     "text": [
      "Enter a string: lololoolol\n"
     ]
    },
    {
     "name": "stdout",
     "output_type": "stream",
     "text": [
      "lololoolol\n"
     ]
    },
    {
     "name": "stdin",
     "output_type": "stream",
     "text": [
      "Enter a string: end\n"
     ]
    },
    {
     "name": "stdout",
     "output_type": "stream",
     "text": [
      "end\n"
     ]
    }
   ],
   "source": [
    "#WAP to input a string from the user till the user enters \"end\" and print the string\n",
    "\n",
    "s = \"\"\n",
    "while s != \"end\":\n",
    "    s = input(\"Enter a string:\")\n",
    "    print(s)"
   ]
  },
  {
   "cell_type": "code",
   "execution_count": 85,
   "id": "90b591e6-3162-460b-b715-7e6417ea1921",
   "metadata": {},
   "outputs": [
    {
     "name": "stdin",
     "output_type": "stream",
     "text": [
      "Enter a string: jojojoojo\n"
     ]
    },
    {
     "name": "stdout",
     "output_type": "stream",
     "text": [
      "jojojoojo 9\n"
     ]
    },
    {
     "name": "stdin",
     "output_type": "stream",
     "text": [
      "Enter a string: okokokoko\n"
     ]
    },
    {
     "name": "stdout",
     "output_type": "stream",
     "text": [
      "okokokoko 9\n"
     ]
    },
    {
     "name": "stdin",
     "output_type": "stream",
     "text": [
      "Enter a string: lolololo\n"
     ]
    },
    {
     "name": "stdout",
     "output_type": "stream",
     "text": [
      "lolololo 8\n"
     ]
    },
    {
     "name": "stdin",
     "output_type": "stream",
     "text": [
      "Enter a string: end\n"
     ]
    },
    {
     "name": "stdout",
     "output_type": "stream",
     "text": [
      "end 3\n"
     ]
    }
   ],
   "source": [
    "#WAP to input a string from the user till the user enters \"end\" and print the length of every string\n",
    "\n",
    "s = \"\"\n",
    "while s != \"end\":\n",
    "    s = input(\"Enter a string:\")\n",
    "    print(s, len(s))"
   ]
  },
  {
   "cell_type": "code",
   "execution_count": 87,
   "id": "c48aa07f-21c7-4b3b-aadd-817f9c7870c5",
   "metadata": {},
   "outputs": [
    {
     "name": "stdin",
     "output_type": "stream",
     "text": [
      "Enter a string OMOMOMOMOMO\n",
      "Enter a search string MOM\n"
     ]
    },
    {
     "data": {
      "text/plain": [
       "2"
      ]
     },
     "execution_count": 87,
     "metadata": {},
     "output_type": "execute_result"
    }
   ],
   "source": [
    "#WAP to input a string and search string and print the number of times the search string occurs in string (using count)\n",
    "\n",
    "str = input(\"Enter a string\")\n",
    "srchstr = input(\"Enter a search string\")\n",
    "str.count(srchstr)"
   ]
  },
  {
   "cell_type": "code",
   "execution_count": 89,
   "id": "15b7232b-fb67-49ef-b30e-c9ca700ef4a3",
   "metadata": {
    "scrolled": true
   },
   "outputs": [
    {
     "name": "stdin",
     "output_type": "stream",
     "text": [
      "Enter a string:  OMOMOMOMOMOM\n",
      "Enter a search string:  MOM\n"
     ]
    },
    {
     "name": "stdout",
     "output_type": "stream",
     "text": [
      "1\n",
      "3\n",
      "5\n",
      "7\n",
      "9\n",
      "MOM occurs 5 times in OMOMOMOMOMOM\n"
     ]
    }
   ],
   "source": [
    "#WAP to input a string and search string and print the number of times the search string occurs in string (using find)\n",
    "\n",
    "str = input(\"Enter a string: \")\n",
    "srchstr = input(\"Enter a search string: \")\n",
    "pos = 0\n",
    "p = -1\n",
    "ctr = 0\n",
    "while((p:=(str.find(srchstr,pos)))!=-1):\n",
    "    print(p)\n",
    "    pos=p+1\n",
    "    ctr+=1\n",
    "else:\n",
    "    print(f\"{srchstr} occurs {ctr} times in {str}\")"
   ]
  },
  {
   "cell_type": "code",
   "execution_count": 91,
   "id": "f8890ec0-5c4c-4653-87a5-3c80ff272bb4",
   "metadata": {},
   "outputs": [
    {
     "name": "stdin",
     "output_type": "stream",
     "text": [
      "Enter a number: 10\n",
      "Enter a number: 20\n",
      "Enter a number: 30\n",
      "Enter a number: 40\n",
      "Enter a number: 50\n",
      "Enter a number: 60\n",
      "Enter a number: 70\n",
      "Enter a number: 80\n",
      "Enter a number: 90\n",
      "Enter a number: 100\n",
      "Enter a number: 110\n"
     ]
    },
    {
     "name": "stdout",
     "output_type": "stream",
     "text": [
      "100 has come so the program is ended and the sum is 560\n"
     ]
    }
   ],
   "source": [
    "#WAP to input a number (not a string) till the user enters a value larger than 100 and print th sum of all the numbers entered\n",
    "\n",
    "n = 0\n",
    "sum = 0\n",
    "while n <= 100:\n",
    "    n = int(input(\"Enter a number:\"))\n",
    "    sum += n\n",
    "print(f\"100 has come so the program is ended and the sum is {sum-100}\")"
   ]
  },
  {
   "cell_type": "code",
   "execution_count": 97,
   "id": "3f36aee7-eeeb-4935-a93f-e83a07fec830",
   "metadata": {},
   "outputs": [
    {
     "name": "stdin",
     "output_type": "stream",
     "text": [
      "Enter a number (enter a number above 100 to exit the loop): 80\n",
      "Enter a number (enter a number above 100 to exit the loop): 90\n",
      "Enter a number (enter a number above 100 to exit the loop): 100\n",
      "Enter a number (enter a number above 100 to exit the loop): 120\n"
     ]
    },
    {
     "name": "stdout",
     "output_type": "stream",
     "text": [
      "270\n"
     ]
    }
   ],
   "source": [
    "sum = 0 \n",
    "while True:\n",
    "    n = int(input(\"Enter a number (enter a number above 100 to exit the loop):\"))\n",
    "    if n > 100:\n",
    "        break\n",
    "    sum += n\n",
    "print(sum)"
   ]
  },
  {
   "cell_type": "code",
   "execution_count": 99,
   "id": "97216778-6efa-4ffd-a27e-38bc44015cc6",
   "metadata": {},
   "outputs": [
    {
     "name": "stdin",
     "output_type": "stream",
     "text": [
      "Enter a string (type 'end' to stop):  Om\n"
     ]
    },
    {
     "name": "stdout",
     "output_type": "stream",
     "text": [
      "Om\n"
     ]
    },
    {
     "name": "stdin",
     "output_type": "stream",
     "text": [
      "Enter a string (type 'end' to stop):  Hemang\n",
      "Enter a string (type 'end' to stop):  Pratik\n",
      "Enter a string (type 'end' to stop):  Rut\n"
     ]
    },
    {
     "name": "stdout",
     "output_type": "stream",
     "text": [
      "Rut\n"
     ]
    },
    {
     "name": "stdin",
     "output_type": "stream",
     "text": [
      "Enter a string (type 'end' to stop):  end\n"
     ]
    }
   ],
   "source": [
    "#WAP to input a string from the user till the user enters end and print all the strings which does not have the vowel \"a\"\n",
    "\n",
    "while True:\n",
    "    shabd = input(\"Enter a string (type 'end' to stop): \")\n",
    "    if shabd == \"end\":\n",
    "        break\n",
    "    if \"a\" not in shabd:\n",
    "        print(shabd)"
   ]
  },
  {
   "cell_type": "code",
   "execution_count": 101,
   "id": "e3dba23e-0941-4144-b5da-8dc304f0d02f",
   "metadata": {},
   "outputs": [
    {
     "name": "stdin",
     "output_type": "stream",
     "text": [
      "Enter a string:  Om\n"
     ]
    },
    {
     "name": "stdout",
     "output_type": "stream",
     "text": [
      "Less than 3 characters is: Om\n",
      "Length:  2\n"
     ]
    }
   ],
   "source": [
    "#WAP to input strings from the user enters a string of less than 3 chars and print the string and its length\n",
    "\n",
    "while True:\n",
    "    stringg = input(\"Enter a string: \")\n",
    "    if len(stringg) < 3:\n",
    "        break\n",
    "print(\"Less than 3 characters is:\", stringg)\n",
    "print(\"Length: \", len(stringg))"
   ]
  },
  {
   "cell_type": "code",
   "execution_count": 103,
   "id": "ca65a28b-318a-424e-bfbf-f680353befad",
   "metadata": {},
   "outputs": [
    {
     "name": "stdin",
     "output_type": "stream",
     "text": [
      "Enter a number (-1 to stop):  1\n"
     ]
    },
    {
     "name": "stdout",
     "output_type": "stream",
     "text": [
      "Unit number: 1\n"
     ]
    },
    {
     "name": "stdin",
     "output_type": "stream",
     "text": [
      "Enter a number (-1 to stop):  2\n"
     ]
    },
    {
     "name": "stdout",
     "output_type": "stream",
     "text": [
      "Unit number: 2\n"
     ]
    },
    {
     "name": "stdin",
     "output_type": "stream",
     "text": [
      "Enter a number (-1 to stop):  3\n"
     ]
    },
    {
     "name": "stdout",
     "output_type": "stream",
     "text": [
      "Unit number: 3\n"
     ]
    },
    {
     "name": "stdin",
     "output_type": "stream",
     "text": [
      "Enter a number (-1 to stop):  4\n"
     ]
    },
    {
     "name": "stdout",
     "output_type": "stream",
     "text": [
      "Unit number: 4\n"
     ]
    },
    {
     "name": "stdin",
     "output_type": "stream",
     "text": [
      "Enter a number (-1 to stop):  5\n"
     ]
    },
    {
     "name": "stdout",
     "output_type": "stream",
     "text": [
      "Unit number: 5\n"
     ]
    },
    {
     "name": "stdin",
     "output_type": "stream",
     "text": [
      "Enter a number (-1 to stop):  11\n",
      "Enter a number (-1 to stop):  12\n",
      "Enter a number (-1 to stop):  13\n",
      "Enter a number (-1 to stop):  14\n",
      "Enter a number (-1 to stop):  15\n",
      "Enter a number (-1 to stop):  11\n",
      "Enter a number (-1 to stop):  111\n"
     ]
    },
    {
     "name": "stdout",
     "output_type": "stream",
     "text": [
      "Hundred number: 111\n"
     ]
    },
    {
     "name": "stdin",
     "output_type": "stream",
     "text": [
      "Enter a number (-1 to stop):  112\n"
     ]
    },
    {
     "name": "stdout",
     "output_type": "stream",
     "text": [
      "Hundred number: 112\n"
     ]
    },
    {
     "name": "stdin",
     "output_type": "stream",
     "text": [
      "Enter a number (-1 to stop):  113\n"
     ]
    },
    {
     "name": "stdout",
     "output_type": "stream",
     "text": [
      "Hundred number: 113\n"
     ]
    },
    {
     "name": "stdin",
     "output_type": "stream",
     "text": [
      "Enter a number (-1 to stop):  114\n"
     ]
    },
    {
     "name": "stdout",
     "output_type": "stream",
     "text": [
      "Hundred number: 114\n"
     ]
    },
    {
     "name": "stdin",
     "output_type": "stream",
     "text": [
      "Enter a number (-1 to stop):  115\n"
     ]
    },
    {
     "name": "stdout",
     "output_type": "stream",
     "text": [
      "Hundred number: 115\n"
     ]
    },
    {
     "name": "stdin",
     "output_type": "stream",
     "text": [
      "Enter a number (-1 to stop):  1111\n"
     ]
    },
    {
     "name": "stdout",
     "output_type": "stream",
     "text": [
      "Number greater than or equal to 1000: 1111\n"
     ]
    },
    {
     "name": "stdin",
     "output_type": "stream",
     "text": [
      "Enter a number (-1 to stop):  1112\n"
     ]
    },
    {
     "name": "stdout",
     "output_type": "stream",
     "text": [
      "Number greater than or equal to 1000: 1112\n"
     ]
    },
    {
     "name": "stdin",
     "output_type": "stream",
     "text": [
      "Enter a number (-1 to stop):  1114\n"
     ]
    },
    {
     "name": "stdout",
     "output_type": "stream",
     "text": [
      "Number greater than or equal to 1000: 1114\n"
     ]
    },
    {
     "name": "stdin",
     "output_type": "stream",
     "text": [
      "Enter a number (-1 to stop):  1115\n"
     ]
    },
    {
     "name": "stdout",
     "output_type": "stream",
     "text": [
      "Number greater than or equal to 1000: 1115\n"
     ]
    },
    {
     "name": "stdin",
     "output_type": "stream",
     "text": [
      "Enter a number (-1 to stop):  -1\n"
     ]
    },
    {
     "name": "stdout",
     "output_type": "stream",
     "text": [
      "Total unit numbers: 5\n",
      "Total hundred numbers: 5\n",
      "Total numbers >= 1000: 4\n"
     ]
    }
   ],
   "source": [
    "#WAP to input numbers from the user till -1 and print the nubmers in units and hundereds and greater\n",
    "\n",
    "units = 0\n",
    "hundreds = 0\n",
    "greater_than_hundereds = 0\n",
    "\n",
    "while True:\n",
    "    num = int(input(\"Enter a number (-1 to stop): \"))\n",
    "    \n",
    "    if num == -1:\n",
    "        break\n",
    "    \n",
    "    if num >= 1 and num <= 9:\n",
    "        print(\"Unit number:\", num)\n",
    "        units += 1\n",
    "    elif num >= 100 and num <= 999:\n",
    "        print(\"Hundred number:\", num)\n",
    "        hundreds += 1\n",
    "    elif num >= 1000:\n",
    "        print(\"Number greater than or equal to 1000:\", num)\n",
    "        greater_than_hundereds += 1\n",
    "\n",
    "print(\"Total unit numbers:\", units)\n",
    "print(\"Total hundred numbers:\", hundreds)\n",
    "print(\"Total numbers >= 1000:\", greater_than_hundereds)"
   ]
  },
  {
   "cell_type": "code",
   "execution_count": 105,
   "id": "642f0e6e-3f1b-4a58-8b0b-fd03b0208386",
   "metadata": {},
   "outputs": [
    {
     "name": "stdin",
     "output_type": "stream",
     "text": [
      "Enter a number (-1 to stop):  10\n",
      "Enter a number (-1 to stop):  11\n",
      "Enter a number (-1 to stop):  12\n",
      "Enter a number (-1 to stop):  13\n",
      "Enter a number (-1 to stop):  100\n",
      "Enter a number (-1 to stop):  101\n",
      "Enter a number (-1 to stop):  102\n",
      "Enter a number (-1 to stop):  103\n",
      "Enter a number (-1 to stop):  1001\n",
      "Enter a number (-1 to stop):  1002\n",
      "Enter a number (-1 to stop):  1003\n",
      "Enter a number (-1 to stop):  1004\n",
      "Enter a number (-1 to stop):  -1\n"
     ]
    },
    {
     "name": "stdout",
     "output_type": "stream",
     "text": [
      "Unit numbers (1-9): []\n",
      "Hundred numbers (100-999): [100, 101, 102, 103]\n",
      "Greater than or equal to 1000: [1001, 1002, 1003, 1004]\n"
     ]
    }
   ],
   "source": [
    "units = []\n",
    "hundreds = []\n",
    "greater_than_hundereds = []\n",
    "\n",
    "while True:\n",
    "    num = int(input(\"Enter a number (-1 to stop): \"))\n",
    "    \n",
    "    if num == -1:\n",
    "        break\n",
    "    \n",
    "    if num >= 1 and num <= 9:\n",
    "        units.append(num)\n",
    "    elif num >= 100 and num <= 999:\n",
    "        hundreds.append(num)\n",
    "    elif num >= 1000:\n",
    "        greater_than_hundereds.append(num)\n",
    "\n",
    "print(\"Unit numbers (1-9):\", units)\n",
    "print(\"Hundred numbers (100-999):\", hundreds)\n",
    "print(\"Greater than or equal to 1000:\", greater_than_hundereds)"
   ]
  },
  {
   "cell_type": "code",
   "execution_count": 150,
   "id": "7b86067a-e286-44e3-b223-4a86a8127357",
   "metadata": {},
   "outputs": [],
   "source": [
    "#Session-6"
   ]
  },
  {
   "cell_type": "code",
   "execution_count": 152,
   "id": "c8032332-62c5-44f0-ab21-4969e1c50493",
   "metadata": {},
   "outputs": [],
   "source": [
    "#Pattern printing"
   ]
  },
  {
   "cell_type": "code",
   "execution_count": 112,
   "id": "a4c95ef4-ad91-4015-824b-8150775ec46f",
   "metadata": {},
   "outputs": [
    {
     "name": "stdout",
     "output_type": "stream",
     "text": [
      "1 2 3 4 5 \n",
      "1 2 3 4 5 \n",
      "1 2 3 4 5 \n",
      "1 2 3 4 5 \n",
      "1 2 3 4 5 \n"
     ]
    }
   ],
   "source": [
    "for i in range(1,6):\n",
    "    for j in range(1,6):\n",
    "        print(j, end=\" \")\n",
    "    print()"
   ]
  },
  {
   "cell_type": "code",
   "execution_count": 114,
   "id": "c87042a5-33d5-4614-bec5-43436ed340ac",
   "metadata": {},
   "outputs": [
    {
     "name": "stdout",
     "output_type": "stream",
     "text": [
      "1 \n",
      "1 2 \n",
      "1 2 3 \n",
      "1 2 3 4 \n",
      "1 2 3 4 5 \n"
     ]
    }
   ],
   "source": [
    "for i in range(1,6):\n",
    "    for j in range(1,i+1):\n",
    "        print(j, end=\" \")\n",
    "    print()"
   ]
  },
  {
   "cell_type": "code",
   "execution_count": 120,
   "id": "4c3b991a-b648-46b3-ac3d-8bd96a19c2d1",
   "metadata": {},
   "outputs": [
    {
     "name": "stdout",
     "output_type": "stream",
     "text": [
      "5 \n",
      "5 4 \n",
      "5 4 3 \n",
      "5 4 3 2 \n",
      "5 4 3 2 1 \n"
     ]
    }
   ],
   "source": [
    "for i in range(1,6):\n",
    "    for j in range(5,5 - i,-1):\n",
    "        print(j, end=\" \")\n",
    "    print()"
   ]
  },
  {
   "cell_type": "code",
   "execution_count": 124,
   "id": "4bfebc13-5ec1-4469-ae28-89d11773ee6c",
   "metadata": {},
   "outputs": [
    {
     "name": "stdout",
     "output_type": "stream",
     "text": [
      "a \n",
      "b c \n",
      "d e f \n",
      "g h i j \n",
      "k l m n o \n"
     ]
    }
   ],
   "source": [
    "char = 97 \n",
    "for i in range(1, 6):\n",
    "    for j in range(i):\n",
    "        print(chr(char), end=\" \")\n",
    "        char += 1\n",
    "    print()"
   ]
  },
  {
   "cell_type": "code",
   "execution_count": 128,
   "id": "602636e0-e8bb-4785-a6cd-36742b8b4de8",
   "metadata": {},
   "outputs": [
    {
     "name": "stdout",
     "output_type": "stream",
     "text": [
      "* \n",
      "* ** \n",
      "* ** *** \n",
      "* ** *** **** \n",
      "* ** *** **** ***** \n"
     ]
    }
   ],
   "source": [
    "for i in range(1, 6):             \n",
    "    for j in range(1, i+1):            \n",
    "        for k in range(1, j+1):        \n",
    "            print(\"*\", end=\"\")\n",
    "        print(\" \", end=\"\")        \n",
    "    print()                       "
   ]
  },
  {
   "cell_type": "code",
   "execution_count": 154,
   "id": "102b727c-0077-46d0-86e1-b529dd284fcd",
   "metadata": {},
   "outputs": [],
   "source": [
    "#Session-7"
   ]
  },
  {
   "cell_type": "code",
   "execution_count": 156,
   "id": "aaa2e10d-843a-4e4d-b747-d2890b79264e",
   "metadata": {},
   "outputs": [],
   "source": [
    "#Foratted strings"
   ]
  },
  {
   "cell_type": "code",
   "execution_count": 158,
   "id": "9f4f5765-95c3-4572-ba97-8fbfcb32fa1a",
   "metadata": {},
   "outputs": [
    {
     "name": "stdout",
     "output_type": "stream",
     "text": [
      "0 1 1 2 3 5 8 13 21 34 "
     ]
    }
   ],
   "source": [
    "#WAP to get 10 fibonacci numbers\n",
    "\n",
    "a, b = 0, 1\n",
    "count = 0\n",
    "\n",
    "while count < 10:\n",
    "    print(a, end=\" \")\n",
    "    a, b = b, a + b\n",
    "    count += 1"
   ]
  },
  {
   "cell_type": "code",
   "execution_count": 160,
   "id": "88bd8249-807b-4154-a953-2e334aa99b54",
   "metadata": {},
   "outputs": [
    {
     "name": "stdin",
     "output_type": "stream",
     "text": [
      "Enter a number:  5\n"
     ]
    },
    {
     "name": "stdout",
     "output_type": "stream",
     "text": [
      "Factorial is: 120\n"
     ]
    }
   ],
   "source": [
    "#WAP for factorial of the number input\n",
    "\n",
    "num = int(input(\"Enter a number: \"))\n",
    "fact = 1\n",
    "\n",
    "for i in range(1, num + 1):\n",
    "    fact *= i\n",
    "\n",
    "print(\"Factorial is:\", fact)"
   ]
  },
  {
   "cell_type": "code",
   "execution_count": 164,
   "id": "234b57a1-8f9c-483d-9bd1-56a82b6c8195",
   "metadata": {},
   "outputs": [
    {
     "name": "stdin",
     "output_type": "stream",
     "text": [
      "Enter a number:  7\n"
     ]
    },
    {
     "name": "stdout",
     "output_type": "stream",
     "text": [
      "Prime\n"
     ]
    }
   ],
   "source": [
    "#Input a number and print weather it is a prime or not\n",
    "\n",
    "num = int(input(\"Enter a number: \"))\n",
    "\n",
    "if num <= 1:\n",
    "    print(\"Not Prime\")\n",
    "else:\n",
    "    is_prime = True\n",
    "\n",
    "    for i in range(2, num):\n",
    "        if num % i == 0:\n",
    "            is_prime = False\n",
    "            break  \n",
    "\n",
    "    if is_prime:\n",
    "        print(\"Prime\")\n",
    "    else:\n",
    "        print(\"Not Prime\")"
   ]
  },
  {
   "cell_type": "code",
   "execution_count": 140,
   "id": "32103164-39b3-4d2b-bb00-7ac9db854969",
   "metadata": {},
   "outputs": [],
   "source": [
    "#Input a number and print weather it is an armstrong number or not"
   ]
  },
  {
   "cell_type": "code",
   "execution_count": 166,
   "id": "ac762f5a-3a92-4a37-9c1e-fee2dd080f35",
   "metadata": {},
   "outputs": [
    {
     "name": "stdin",
     "output_type": "stream",
     "text": [
      "Enter a number:  28\n"
     ]
    },
    {
     "name": "stdout",
     "output_type": "stream",
     "text": [
      "Perfect Number\n"
     ]
    }
   ],
   "source": [
    "#Input a number and print weather it is a perfect number or not\n",
    "\n",
    "num = int(input(\"Enter a number: \"))\n",
    "sum = 0\n",
    "\n",
    "for i in range(1, num):\n",
    "    if num % i == 0:\n",
    "        sum += i\n",
    "\n",
    "print(\"Perfect Number\" if sum == num else \"Not Perfect Number\")"
   ]
  },
  {
   "cell_type": "code",
   "execution_count": null,
   "id": "b7040f15-a0d2-498a-b035-c535d6299410",
   "metadata": {},
   "outputs": [],
   "source": [
    "#Session-8"
   ]
  },
  {
   "cell_type": "code",
   "execution_count": 3,
   "id": "0633b4cb-fcd5-4184-9b6d-371a9fcb5de1",
   "metadata": {},
   "outputs": [
    {
     "name": "stdout",
     "output_type": "stream",
     "text": [
      "<class 'tuple'>\n",
      "<class 'tuple'>\n"
     ]
    }
   ],
   "source": [
    "tuple1 = (1,2,3,4,5)\n",
    "tuple2 = 1,2,3,4,5\n",
    "print(type(tuple1))\n",
    "print(type(tuple2))"
   ]
  },
  {
   "cell_type": "code",
   "execution_count": 16,
   "id": "0cc58e18-995e-4370-ac45-d85cb7c84545",
   "metadata": {},
   "outputs": [],
   "source": [
    "#Session-9"
   ]
  },
  {
   "cell_type": "code",
   "execution_count": 18,
   "id": "ed71e45d-ec3a-4c40-8d7c-0f42d1c25171",
   "metadata": {},
   "outputs": [],
   "source": [
    "#wap to create a tuple with values 1, 4, 6, 12, 24, 60, input numbers from the user till the user enters -1 and print the number of values...."
   ]
  },
  {
   "cell_type": "code",
   "execution_count": 26,
   "id": "3cf79cd7-fb60-48b3-864f-8ae4a177178e",
   "metadata": {},
   "outputs": [
    {
     "name": "stdin",
     "output_type": "stream",
     "text": [
      "Enter a number (-1 to stop):  1\n",
      "Enter a number (-1 to stop):  11\n",
      "Enter a number (-1 to stop):  111\n",
      "Enter a number (-1 to stop):  1\n",
      "Enter a number (-1 to stop):  11\n",
      "Enter a number (-1 to stop):  111\n",
      "Enter a number (-1 to stop):  -1\n"
     ]
    },
    {
     "name": "stdout",
     "output_type": "stream",
     "text": [
      "[1, 11, 111]\n"
     ]
    }
   ],
   "source": [
    "#wap to input data in a list till the user enters -1. then remove the duplucates from the list\n",
    "#OG list\n",
    "l = []\n",
    "while True:\n",
    "    val = int(input(\"Enter a number (-1 to stop): \"))\n",
    "    if val == -1:\n",
    "        break\n",
    "    l.append(val)\n",
    "#New list with no duplicates\n",
    "unique = []\n",
    "for i in l:\n",
    "    if i not in unique:\n",
    "        unique.append(i)\n",
    "print(unique)"
   ]
  },
  {
   "cell_type": "code",
   "execution_count": 22,
   "id": "64223eae-7375-4bae-88f1-73f6a4aa551d",
   "metadata": {},
   "outputs": [],
   "source": [
    "#wap to input data in a list and print the list in decending order of values."
   ]
  },
  {
   "cell_type": "code",
   "execution_count": 24,
   "id": "0d967259-b9d8-441a-9649-b2b2d7e649e4",
   "metadata": {},
   "outputs": [
    {
     "data": {
      "text/plain": [
       "[524, 321, 123, 53, 45, 43, 34, 24, 23, 5, 5, 4, 1]"
      ]
     },
     "execution_count": 24,
     "metadata": {},
     "output_type": "execute_result"
    }
   ],
   "source": [
    "#wap to sort a list and print it in reverse\n",
    "listt = [23,4,34,524,1,43,53,123,5,321,45,24,5]\n",
    "listt.sort()\n",
    "listt.reverse()\n",
    "listt"
   ]
  },
  {
   "cell_type": "code",
   "execution_count": 36,
   "id": "cf8d3a8d-3920-4c04-90be-4241b527696a",
   "metadata": {},
   "outputs": [
    {
     "name": "stdin",
     "output_type": "stream",
     "text": [
      "Enter a number (-1 to stop):  1\n",
      "Enter a number (-1 to stop):  11\n",
      "Enter a number (-1 to stop):  111\n",
      "Enter a number (-1 to stop):  1\n",
      "Enter a number (-1 to stop):  11\n",
      "Enter a number (-1 to stop):  111\n",
      "Enter a number (-1 to stop):  -1\n"
     ]
    },
    {
     "name": "stdout",
     "output_type": "stream",
     "text": [
      "[1, 11, 111]\n"
     ]
    }
   ],
   "source": [
    "#wap to input data in a list till the user enters -1. then remove the duplucates from the list\n",
    "#OG list\n",
    "l = []\n",
    "while True:\n",
    "    val = int(input(\"Enter a number (-1 to stop): \"))\n",
    "    if val == -1:\n",
    "        break\n",
    "    l.append(val)\n",
    "#New list with no duplicates\n",
    "unique = []\n",
    "for item in l:\n",
    "    if item not in unique:\n",
    "        unique.append(item)\n",
    "print(unique)"
   ]
  },
  {
   "cell_type": "code",
   "execution_count": 44,
   "id": "2ff6cfd9-267d-4122-85b8-aeb4d6bc33b0",
   "metadata": {},
   "outputs": [
    {
     "name": "stdin",
     "output_type": "stream",
     "text": [
      "Enter a number (1 to 20 and -1 to stop):  1\n",
      "Enter a number (1 to 20 and -1 to stop):  11\n",
      "Enter a number (1 to 20 and -1 to stop):  111\n",
      "Enter a number (1 to 20 and -1 to stop):  1\n",
      "Enter a number (1 to 20 and -1 to stop):  11\n",
      "Enter a number (1 to 20 and -1 to stop):  111\n",
      "Enter a number (1 to 20 and -1 to stop):  -1\n"
     ]
    },
    {
     "name": "stdout",
     "output_type": "stream",
     "text": [
      "[1, 11]\n"
     ]
    }
   ],
   "source": [
    "#WAP to input numbers in an array from 1 to 20, and remove all values exceeding hundered\n",
    "#OG list\n",
    "l = []\n",
    "while True:\n",
    "    val = int(input(\"Enter a number (1 to 20 and -1 to stop): \"))\n",
    "    if val == -1:\n",
    "        break\n",
    "    l.append(val)\n",
    "#New list with no duplicates\n",
    "unique = []\n",
    "for i in l:\n",
    "    if i not in unique and i<=100:\n",
    "        unique.append(i)\n",
    "print(unique)"
   ]
  },
  {
   "cell_type": "code",
   "execution_count": 46,
   "id": "0c20b9ee-4a6d-4aa7-8852-c6ed28c061d3",
   "metadata": {},
   "outputs": [
    {
     "name": "stdin",
     "output_type": "stream",
     "text": [
      "Enter a number (1 to 20 and -1 to stop):  1\n",
      "Enter a number (1 to 20 and -1 to stop):  2\n",
      "Enter a number (1 to 20 and -1 to stop):  3\n",
      "Enter a number (1 to 20 and -1 to stop):  4\n",
      "Enter a number (1 to 20 and -1 to stop):  5\n",
      "Enter a number (1 to 20 and -1 to stop):  6\n",
      "Enter a number (1 to 20 and -1 to stop):  7\n",
      "Enter a number (1 to 20 and -1 to stop):  8\n",
      "Enter a number (1 to 20 and -1 to stop):  9\n",
      "Enter a number (1 to 20 and -1 to stop):  0\n",
      "Enter a number (1 to 20 and -1 to stop):  100\n",
      "Enter a number (1 to 20 and -1 to stop):  120\n",
      "Enter a number (1 to 20 and -1 to stop):  130\n",
      "Enter a number (1 to 20 and -1 to stop):  150\n",
      "Enter a number (1 to 20 and -1 to stop):  16\n",
      "Enter a number (1 to 20 and -1 to stop):  17\n",
      "Enter a number (1 to 20 and -1 to stop):  18\n",
      "Enter a number (1 to 20 and -1 to stop):  19\n",
      "Enter a number (1 to 20 and -1 to stop):  200\n",
      "Enter a number (1 to 20 and -1 to stop):  211\n"
     ]
    },
    {
     "name": "stdout",
     "output_type": "stream",
     "text": [
      "[1, 2, 3, 4, 5, 6, 7, 8, 9, 0, 100, 16, 17, 18, 19]\n"
     ]
    }
   ],
   "source": [
    "#WAP to input numbers in an array from 1 to 20, and remove all values exceeding hundered\n",
    "#OG list\n",
    "l = []\n",
    "i = 1\n",
    "while i <= 20:\n",
    "    val = int(input(\"Enter a number (1 to 20 and -1 to stop): \"))\n",
    "    if val == -1:\n",
    "        break\n",
    "    l.append(val)\n",
    "    i += 1\n",
    "#New list with no duplicates\n",
    "unique = []\n",
    "for i in l:\n",
    "    if i not in unique and i<=100:\n",
    "        unique.append(i)\n",
    "print(unique)"
   ]
  },
  {
   "cell_type": "code",
   "execution_count": 57,
   "id": "d1093058-3b9d-4bcc-864e-4b9395097753",
   "metadata": {},
   "outputs": [
    {
     "name": "stdin",
     "output_type": "stream",
     "text": [
      "Enter items in list number one (-1 to stop) 1\n",
      "Enter items in list number one (-1 to stop) 2\n",
      "Enter items in list number one (-1 to stop) 3\n",
      "Enter items in list number one (-1 to stop) 4\n",
      "Enter items in list number one (-1 to stop) 5\n",
      "Enter items in list number one (-1 to stop) -1\n",
      "Enter items in list number two (-1 to stop 3\n",
      "Enter items in list number two (-1 to stop 4\n",
      "Enter items in list number two (-1 to stop 5\n",
      "Enter items in list number two (-1 to stop 6\n",
      "Enter items in list number two (-1 to stop 7\n",
      "Enter items in list number two (-1 to stop -1\n"
     ]
    },
    {
     "name": "stdout",
     "output_type": "stream",
     "text": [
      "[1, 2]\n",
      "[6, 7]\n"
     ]
    }
   ],
   "source": [
    "#WAP to input data in two lists and remove the items which are common in both lists\n",
    "\n",
    "list1 = []\n",
    "while True:\n",
    "    item = int(input(\"Enter items in list number one (-1 to stop)\"))\n",
    "    if item == -1:\n",
    "        break\n",
    "    list1.append(item)\n",
    "\n",
    "list2 = []\n",
    "\n",
    "while True:\n",
    "    item = int(input(\"Enter items in list number two (-1 to stop\"))\n",
    "    if item == -1:\n",
    "        break\n",
    "    list2.append(item)\n",
    "\n",
    "new_list1 = []\n",
    "for item in list1:\n",
    "    if item not in list2:\n",
    "        new_list1.append(item)\n",
    "\n",
    "new_list2 = []\n",
    "for item in list2:\n",
    "    if item not in list1:\n",
    "        new_list2.append(item)\n",
    "\n",
    "print(new_list1)\n",
    "print(new_list2)"
   ]
  },
  {
   "cell_type": "code",
   "execution_count": null,
   "id": "0719ebe3-f4c5-4808-a0c5-1a93d0560442",
   "metadata": {},
   "outputs": [],
   "source": [
    "#WAP to input data into two lists and create a third list of all the items which are the in list 1 and not in list two\n",
    "\n",
    "list1 = []\n",
    "list2 = []\n",
    "\n",
    "print(\"Enter elements for list 1 (enter -1 to stop):\")\n",
    "while True:\n",
    "    val = input(\"List1 item: \")\n",
    "    if val == \"-1\":\n",
    "        break\n",
    "    list1.append(val)\n",
    "\n",
    "print(\"Enter elements for list 2 (enter -1 to stop):\")\n",
    "while True:\n",
    "    val = input(\"List2 item: \")\n",
    "    if val == \"-1\":\n",
    "        break\n",
    "    list2.append(val)\n",
    "\n",
    "list3 = []\n",
    "for item in list1:\n",
    "    if item not in list2:\n",
    "        list3.append(item)\n",
    "\n",
    "print(list1)\n",
    "print(list2)\n",
    "print(list3)"
   ]
  },
  {
   "cell_type": "code",
   "execution_count": 61,
   "id": "fdcc0f63-4f18-485f-a086-cb58f668b8fa",
   "metadata": {},
   "outputs": [
    {
     "name": "stdin",
     "output_type": "stream",
     "text": [
      "Enter a string:  hi this is om\n",
      "Enter a string:  and this surnaame is kanada\n",
      "Enter a string:  whom are you looking at?\n",
      "Enter a string:  huh?\n",
      "Enter a string:  uh huhhhh?\n"
     ]
    },
    {
     "name": "stdout",
     "output_type": "stream",
     "text": [
      "['hi', 'this', 'is', 'om', 'and', 'this', 'surnaame', 'is', 'kanada', 'whom', 'are', 'you', 'looking', 'at?', 'huh?', 'uh', 'huhhhh?']\n"
     ]
    }
   ],
   "source": [
    "#input 5 strings and create a single list of that strings seperated from the spaces\n",
    "\n",
    "all = []\n",
    "\n",
    "for i in range(5):\n",
    "    text = input(\"Enter a string: \")\n",
    "    words = text.split()       \n",
    "    all += words         \n",
    "\n",
    "print(all)"
   ]
  },
  {
   "cell_type": "code",
   "execution_count": null,
   "id": "b0bb48ce-57cd-4036-949c-1e8730b3ad6c",
   "metadata": {},
   "outputs": [],
   "source": []
  }
 ],
 "metadata": {
  "kernelspec": {
   "display_name": "Python 3 (ipykernel)",
   "language": "python",
   "name": "python3"
  },
  "language_info": {
   "codemirror_mode": {
    "name": "ipython",
    "version": 3
   },
   "file_extension": ".py",
   "mimetype": "text/x-python",
   "name": "python",
   "nbconvert_exporter": "python",
   "pygments_lexer": "ipython3",
   "version": "3.11.7"
  }
 },
 "nbformat": 4,
 "nbformat_minor": 5
}
