{
 "cells": [
  {
   "cell_type": "code",
   "execution_count": 1,
   "id": "0afbc3bc-c30e-4be9-9f42-58771ed7a3e5",
   "metadata": {},
   "outputs": [],
   "source": [
    "#Session-1"
   ]
  },
  {
   "cell_type": "code",
   "execution_count": 3,
   "id": "0d1d5be2-a301-4a6c-b594-7e4bc9c46d68",
   "metadata": {},
   "outputs": [
    {
     "name": "stdout",
     "output_type": "stream",
     "text": [
      "Temperature Converter\n",
      "1. Celsius to Fahrenheit\n",
      "2. Fahrenheit to Celsius\n"
     ]
    },
    {
     "name": "stdin",
     "output_type": "stream",
     "text": [
      "Enter your choice (1 or 2):  1\n",
      "Enter temperature in Celsius:  33\n"
     ]
    },
    {
     "name": "stdout",
     "output_type": "stream",
     "text": [
      "33°C is 91°F\n"
     ]
    }
   ],
   "source": [
    "#Ques-1\n",
    "\n",
    "#Temperature conversion from Celcius and Farehnheit\n",
    "\n",
    "print(\"Temperature Converter\")\n",
    "print(\"1. Celsius to Fahrenheit\")\n",
    "print(\"2. Fahrenheit to Celsius\")\n",
    "\n",
    "choice = int(input(\"Enter your choice (1 or 2): \"))\n",
    "\n",
    "if choice == 1:\n",
    "    c = int(input(\"Enter temperature in Celsius: \"))\n",
    "    f = int((c * 9/5) + 32)\n",
    "    print(f\"{c}°C is {f}°F\")\n",
    "elif choice == 2:\n",
    "    f = int(input(\"Enter temperature in Fahrenheit: \"))\n",
    "    c = int((f - 32) * 5/9)\n",
    "    print(f\"{f}°F is {c}°C\")\n",
    "else:\n",
    "    print(\"Invalid choice!\")"
   ]
  },
  {
   "cell_type": "code",
   "execution_count": 5,
   "id": "ac573d3c-f6c7-44f5-a67f-86c52e6056eb",
   "metadata": {},
   "outputs": [
    {
     "name": "stdin",
     "output_type": "stream",
     "text": [
      "Enter temperature in Celsius:  33\n"
     ]
    },
    {
     "name": "stdout",
     "output_type": "stream",
     "text": [
      "33°C is 91°F\n"
     ]
    }
   ],
   "source": [
    "c = int(input(\"Enter temperature in Celsius: \"))\n",
    "f = int((c * 9/5) + 32)\n",
    "print(f\"{c}°C is {f}°F\")"
   ]
  },
  {
   "cell_type": "code",
   "execution_count": 7,
   "id": "3ba2cb0c-125d-4204-bccd-619b56bcfc5b",
   "metadata": {},
   "outputs": [
    {
     "name": "stdin",
     "output_type": "stream",
     "text": [
      "Enter temperature in Fahrenheit:  91\n"
     ]
    },
    {
     "name": "stdout",
     "output_type": "stream",
     "text": [
      "91°F is 32°C\n"
     ]
    }
   ],
   "source": [
    "f = int(input(\"Enter temperature in Fahrenheit: \"))\n",
    "c = int((f - 32) * 5/9)\n",
    "print(f\"{f}°F is {c}°C\")"
   ]
  },
  {
   "cell_type": "code",
   "execution_count": 9,
   "id": "92c1b909-825c-4742-84f9-a8cb29374bd0",
   "metadata": {},
   "outputs": [
    {
     "name": "stdin",
     "output_type": "stream",
     "text": [
      "Enter lenght: 20\n",
      "Enter breadth: 20\n"
     ]
    },
    {
     "name": "stdout",
     "output_type": "stream",
     "text": [
      "The area of a square is : 400\n"
     ]
    }
   ],
   "source": [
    "#Ques-2\n",
    "\n",
    "#Area of a rectangle\n",
    "\n",
    "l = int(input(\"Enter lenght:\"))\n",
    "b = int(input(\"Enter breadth:\"))\n",
    "area = l * b\n",
    "print(\"The area of a square is :\",area)"
   ]
  },
  {
   "cell_type": "code",
   "execution_count": 11,
   "id": "eb1282da-fd31-4e10-896c-bc0313d44e3c",
   "metadata": {},
   "outputs": [],
   "source": [
    "#Session-2"
   ]
  },
  {
   "cell_type": "code",
   "execution_count": 13,
   "id": "af15aece-5cb4-464e-8d1a-9eaa7da848df",
   "metadata": {},
   "outputs": [
    {
     "name": "stdin",
     "output_type": "stream",
     "text": [
      "Enter a number:  1\n"
     ]
    },
    {
     "name": "stdout",
     "output_type": "stream",
     "text": [
      "The number is +tive\n"
     ]
    }
   ],
   "source": [
    "#Ques-1\n",
    "\n",
    "#Write the ternary operator if 0 is positive and lesser than 0 negative(ternary)\n",
    "\n",
    "#\"Write a Python program using a ternary operator to check if a number is positive, negative, or zero.\"\n",
    "\n",
    "num = int(input(\"Enter a number: \"))\n",
    "result = \"Zero\" if num == 0 else (\"+tive\" if num > 0 else \"-tive\")\n",
    "print(\"The number is\", result)\n"
   ]
  },
  {
   "cell_type": "code",
   "execution_count": 15,
   "id": "c2668458-3aa5-434e-a5f1-3bd50b887bdd",
   "metadata": {},
   "outputs": [
    {
     "name": "stdin",
     "output_type": "stream",
     "text": [
      "Enter a year:  2024\n"
     ]
    },
    {
     "name": "stdout",
     "output_type": "stream",
     "text": [
      "Leap Year\n"
     ]
    }
   ],
   "source": [
    "#Ques-2\n",
    "\n",
    "#Input the year and print weather it's leap year or not? (Ternary operator)\n",
    "\n",
    "#\"Write a Python program to input a year and check whether it is a leap year using a ternary operator.\"\n",
    "\n",
    "year = int(input(\"Enter a year: \"))\n",
    "result = \"Leap Year\" if (year % 4 == 0 and (year % 100 != 0 or year % 400 == 0)) else \"Not a Leap Year\"\n",
    "print(result)"
   ]
  },
  {
   "cell_type": "code",
   "execution_count": 17,
   "id": "8bd5fa70-4f4a-430c-8090-9afa9ef817d9",
   "metadata": {},
   "outputs": [
    {
     "name": "stdin",
     "output_type": "stream",
     "text": [
      "Enter an number:  2\n",
      "Enter an exponent:  2\n"
     ]
    },
    {
     "name": "stdout",
     "output_type": "stream",
     "text": [
      "Result: 4\n"
     ]
    }
   ],
   "source": [
    "#Ques-3 \n",
    "\n",
    "#Write script to input a number and an exponent and print the result\n",
    "\n",
    "#\"Write a Python script to input a number and its exponent, then print the result using a ternary operator.\"\n",
    "\n",
    "number = int(input(\"Enter an number: \"))\n",
    "exponent = int(input(\"Enter an exponent: \"))\n",
    "result = number ** exponent if exponent != 0 else 1\n",
    "print(\"Result:\", result)"
   ]
  },
  {
   "cell_type": "code",
   "execution_count": 19,
   "id": "f984fc58-1e7d-45c3-99cd-63930b8d8eb0",
   "metadata": {},
   "outputs": [
    {
     "name": "stdin",
     "output_type": "stream",
     "text": [
      "Enter number 1:  11\n",
      "Enter number 2:  12\n",
      "Enter number 3:  13\n",
      "Enter number 4:  14\n",
      "Enter number 5:  15\n"
     ]
    },
    {
     "name": "stdout",
     "output_type": "stream",
     "text": [
      "Result: 360360\n"
     ]
    }
   ],
   "source": [
    "#Ques-4 \n",
    "\n",
    "#Write a program to input 5 numbers if all are greater then 10 print it's product else print the sum\n",
    "\n",
    "#\"Write a Python program to input 5 integers. If all the numbers are greater than 10, print their product; otherwise, print their sum. Use ternary operator.\"\n",
    "\n",
    "n1 = int(input(\"Enter number 1: \"))\n",
    "n2 = int(input(\"Enter number 2: \"))\n",
    "n3 = int(input(\"Enter number 3: \"))\n",
    "n4 = int(input(\"Enter number 4: \"))\n",
    "n5 = int(input(\"Enter number 5: \"))\n",
    "\n",
    "greater_than_10 = n1 > 10 and n2 > 10 and n3 > 10 and n4 > 10 and n5 > 10\n",
    "\n",
    "result = (n1 * n2 * n3 * n4 * n5) if greater_than_10 else (n1 + n2 + n3 + n4 + n5)\n",
    "\n",
    "print(\"Result:\", result)"
   ]
  },
  {
   "cell_type": "code",
   "execution_count": 31,
   "id": "0465d710-84e2-44d1-a0b5-98aba001a958",
   "metadata": {},
   "outputs": [
    {
     "name": "stdin",
     "output_type": "stream",
     "text": [
      "Enter number 1:  11\n",
      "Enter number 2:  12\n",
      "Enter number 3:  13\n",
      "Enter number 4:  14\n",
      "Enter number 5:  15\n"
     ]
    },
    {
     "name": "stdout",
     "output_type": "stream",
     "text": [
      "Result: 360360\n"
     ]
    }
   ],
   "source": [
    "#looping input of 5 numbers\n",
    "\n",
    "from math import prod\n",
    "\n",
    "nums = [int(input(f\"Enter number {i+1}: \")) for i in range(5)]\n",
    "\n",
    "greater_than_10 = all(n > 10 for n in nums)\n",
    "result = prod(nums) if greater_than_10 else sum(nums)\n",
    "\n",
    "print(\"Result:\", result)"
   ]
  },
  {
   "cell_type": "code",
   "execution_count": 33,
   "id": "4558a3a5-ae2d-40b5-a611-e885a33ded28",
   "metadata": {},
   "outputs": [
    {
     "name": "stdin",
     "output_type": "stream",
     "text": [
      "Enter first string:  OMOM\n",
      "Enter second string:  OMOM\n"
     ]
    },
    {
     "name": "stdout",
     "output_type": "stream",
     "text": [
      "The strings are Same\n"
     ]
    }
   ],
   "source": [
    "#Ques-5\n",
    "\n",
    "#Write a program to input 2 strings and print weather they are same or not\n",
    "\n",
    "#\"Write a Python program to input two strings and print whether they are the same or not using a ternary operator.\"\n",
    "\n",
    "str1 = input(\"Enter first string: \")\n",
    "str2 = input(\"Enter second string: \")\n",
    "\n",
    "result = \"Same\" if str1 == str2 else \"Not Same\"\n",
    "\n",
    "print(\"The strings are\", result)"
   ]
  },
  {
   "cell_type": "code",
   "execution_count": 43,
   "id": "b8108320-5cb3-48bb-a004-c416002e2b97",
   "metadata": {},
   "outputs": [
    {
     "name": "stdin",
     "output_type": "stream",
     "text": [
      "Enter first number:  101\n",
      "Enter second number:  202\n"
     ]
    },
    {
     "name": "stdout",
     "output_type": "stream",
     "text": [
      "The difference is Greater than 100\n"
     ]
    }
   ],
   "source": [
    "#Ques-6\n",
    "\n",
    "#Program to input 2 numbers and print weather diff btn both numbers is greater than 100 or not\n",
    "\n",
    "#\"Write a Python program to input two numbers and print whether the difference between them is greater than 100 using a ternary operator.\"\n",
    "\n",
    "num1 = int(input(\"Enter first number: \"))\n",
    "num2 = int(input(\"Enter second number: \"))\n",
    "\n",
    "diff = abs(num1 - num2)\n",
    "result = \"Greater than 100\" if diff > 100 else \"Not greater than 100\"\n",
    "\n",
    "print(\"The difference is\", result)"
   ]
  },
  {
   "cell_type": "code",
   "execution_count": 45,
   "id": "3a7e2be1-7d86-4bbd-a7f0-24014b5f2ae7",
   "metadata": {},
   "outputs": [
    {
     "name": "stdin",
     "output_type": "stream",
     "text": [
      "Enter first number:  101\n",
      "Enter second number:  202\n"
     ]
    },
    {
     "name": "stdout",
     "output_type": "stream",
     "text": [
      "The difference is: 101\n",
      "The difference is Greater than 100\n"
     ]
    }
   ],
   "source": [
    "#With the difference as well\n",
    "num1 = int(input(\"Enter first number: \"))\n",
    "num2 = int(input(\"Enter second number: \"))\n",
    "\n",
    "diff = abs(num1 - num2)\n",
    "result = \"Greater than 100\" if diff > 100 else \"Not greater than 100\"\n",
    "\n",
    "print(\"The difference is:\", diff)\n",
    "print(\"The difference is\", result)"
   ]
  },
  {
   "cell_type": "code",
   "execution_count": 144,
   "id": "13fd3e73-8e6a-4ad1-b91a-3c3fe0e4fbfc",
   "metadata": {},
   "outputs": [],
   "source": [
    "#Session-3"
   ]
  },
  {
   "cell_type": "code",
   "execution_count": 47,
   "id": "0820f319-7a7d-4673-ac4a-91d2a4c14b00",
   "metadata": {},
   "outputs": [
    {
     "name": "stdin",
     "output_type": "stream",
     "text": [
      "Enter a string:  OMOMOMOM\n",
      "Enter a search string:  MOM\n"
     ]
    },
    {
     "name": "stdout",
     "output_type": "stream",
     "text": [
      "MOM occurs 2 times\n"
     ]
    }
   ],
   "source": [
    "#Ques-1\n",
    "\n",
    "#Write a program to input a string and a search string and print the number of times the string occurs in the input string\n",
    "\n",
    "s = input(\"Enter a string: \")\n",
    "srch = input(\"Enter a search string: \")\n",
    "cnt = s.count(srch)\n",
    "print(f\"{srch} occurs {cnt} times\")"
   ]
  },
  {
   "cell_type": "code",
   "execution_count": 49,
   "id": "8fdfb179-fa51-41e4-b786-d197faf9a43f",
   "metadata": {},
   "outputs": [
    {
     "name": "stdin",
     "output_type": "stream",
     "text": [
      "Enter a string to check if it's palindrome:  OMOMOMO\n"
     ]
    },
    {
     "name": "stdout",
     "output_type": "stream",
     "text": [
      "Yes\n"
     ]
    }
   ],
   "source": [
    "#Ques-2\n",
    "\n",
    "#Write a program to input a string and print whether it's a palindrome or not\n",
    "\n",
    "s = input(\"Enter a string to check if it's palindrome: \")\n",
    "result = \"Yes\" if s[:]==s[::-1] else \"No\"\n",
    "print(result)"
   ]
  },
  {
   "cell_type": "code",
   "execution_count": 51,
   "id": "b0550e7d-0319-4d63-92b1-2b43d74610ba",
   "metadata": {},
   "outputs": [
    {
     "name": "stdin",
     "output_type": "stream",
     "text": [
      "Enter a string to check if it's palindrome:  OMOMOMO\n"
     ]
    },
    {
     "name": "stdout",
     "output_type": "stream",
     "text": [
      "Yes\n"
     ]
    }
   ],
   "source": [
    "s = input(\"Enter a string to check if it's palindrome: \")\n",
    "if(s[:]==s[::-1]):\n",
    "    print(\"Yes\")\n",
    "else:\n",
    "    print(\"Not\")"
   ]
  },
  {
   "cell_type": "code",
   "execution_count": 53,
   "id": "1ed9fca9-9dc8-41ed-8b96-1912c03c42f3",
   "metadata": {},
   "outputs": [
    {
     "name": "stdin",
     "output_type": "stream",
     "text": [
      "Enter a DNA string:  ATGCATGCATGCTACGTCGTAGTGCATGCATGC\n"
     ]
    },
    {
     "name": "stdout",
     "output_type": "stream",
     "text": [
      "A occurs 7 times.\n",
      "T occurs 9 times.\n",
      "G occurs 9 times.\n",
      "C occurs 8 times.\n"
     ]
    }
   ],
   "source": [
    "#Ques-3\n",
    "\n",
    "#Input a DNA string and print the frequency of each nucleotide\n",
    "\n",
    "dnastr = input(\"Enter a DNA string: \")\n",
    "print(f\"A occurs {dnastr.count('A')} times.\")\n",
    "print(f\"T occurs {dnastr.count('T')} times.\")\n",
    "print(f\"G occurs {dnastr.count('G')} times.\")\n",
    "print(f\"C occurs {dnastr.count('C')} times.\")"
   ]
  },
  {
   "cell_type": "code",
   "execution_count": 57,
   "id": "3fb32c70-10ba-4ad0-8250-fa2f208c6cfc",
   "metadata": {},
   "outputs": [
    {
     "name": "stdin",
     "output_type": "stream",
     "text": [
      "Enter a DNA string:  ACGATCGTCAGCTGTGCTGATGTAGTGCTGTGTCGTGATGTGCTGTCGTCGATGCTAG\n"
     ]
    },
    {
     "name": "stdout",
     "output_type": "stream",
     "text": [
      "GC content is 53%\n"
     ]
    }
   ],
   "source": [
    "#Ques-4\n",
    "\n",
    "#Input a DNA string and print the GC percent\n",
    "\n",
    "dnastr = input(\"Enter a DNA string: \")\n",
    "gc_count = dnastr.count('G') + dnastr.count('C')\n",
    "gcpercent = int((gc_count / len(dnastr)) * 100)\n",
    "print(f\"GC content is {gcpercent}%\")"
   ]
  },
  {
   "cell_type": "code",
   "execution_count": 61,
   "id": "4285085b-ff27-48d4-a1d1-2c64def32557",
   "metadata": {},
   "outputs": [
    {
     "name": "stdin",
     "output_type": "stream",
     "text": [
      "Enter a DNA string:  ATCGTACGTCAGTACGCTGATGCTACGGC\n"
     ]
    },
    {
     "name": "stdout",
     "output_type": "stream",
     "text": [
      "Ends with GC: Yesss\n"
     ]
    }
   ],
   "source": [
    "#Ques-5\n",
    "\n",
    "#WAP to input a DNA string and print whether it's last line ends with \"GC\"\n",
    "\n",
    "dnastr = input(\"Enter a DNA string: \")\n",
    "result = \"Yesss\" if dnastr.endswith(\"GC\") else \"Nooo\"\n",
    "print(f\"Ends with GC: {result}\")"
   ]
  },
  {
   "cell_type": "code",
   "execution_count": 146,
   "id": "4f5b3d3d-78f2-4f12-8b9c-1866198c6171",
   "metadata": {},
   "outputs": [],
   "source": [
    "#Session-4"
   ]
  },
  {
   "cell_type": "code",
   "execution_count": 14,
   "id": "33f0b6b2-a770-4147-b344-50c9fe72b080",
   "metadata": {},
   "outputs": [
    {
     "name": "stdin",
     "output_type": "stream",
     "text": [
      "Enter a DNA string:  ACTGTCAGTCAGTACGTAGTCGTGTCAAGTAC\n"
     ]
    },
    {
     "name": "stdout",
     "output_type": "stream",
     "text": [
      "TGACAGTCAGTCATGCATCAGCACAGTTCATG"
     ]
    }
   ],
   "source": [
    "#WAP to input a dna string and print it's compliment\n",
    "\n",
    "dnastring = input(\"Enter a DNA string: \")\n",
    "for d in dnastring:\n",
    "    if d == 'A':\n",
    "        print('T', end=\"\")\n",
    "    elif d == 'T':\n",
    "        print('A', end=\"\")\n",
    "    elif d == 'G':\n",
    "        print('C', end=\"\")\n",
    "    elif d == 'C':\n",
    "        print('G', end=\"\")"
   ]
  },
  {
   "cell_type": "code",
   "execution_count": 69,
   "id": "c4fa6e35-2b07-44a7-8f09-5337014bd3d7",
   "metadata": {},
   "outputs": [
    {
     "name": "stdin",
     "output_type": "stream",
     "text": [
      "Enter a DNA string:  ACGTTCGTGCTAGTCAGTACGTACG\n"
     ]
    },
    {
     "name": "stdout",
     "output_type": "stream",
     "text": [
      "AC CG GT TT TC CG GT TG GC CT TA AG GT TC CA AG GT TA AC CG GT TA AC CG "
     ]
    }
   ],
   "source": [
    "#WAP to input a dna string and print it's duplets\n",
    "\n",
    "dnastring = input(\"Enter a DNA string: \")\n",
    "\n",
    "for i in range(len(dnastring)-1):\n",
    "    print(dnastring[i] + dnastring[i+1], end=\" \")"
   ]
  },
  {
   "cell_type": "code",
   "execution_count": 71,
   "id": "092da922-de73-449d-aa3f-478f57efd815",
   "metadata": {},
   "outputs": [
    {
     "name": "stdin",
     "output_type": "stream",
     "text": [
      "Enter a DNA string:  ACTGTACGTCGTGTAGTCGTCGTAGCTAG\n"
     ]
    },
    {
     "name": "stdout",
     "output_type": "stream",
     "text": [
      "ACT CTG TGT GTA TAC ACG CGT GTC TCG CGT GTG TGT GTA TAG AGT GTC TCG CGT GTC TCG CGT GTA TAG AGC GCT CTA "
     ]
    }
   ],
   "source": [
    "#WAP to input a dna string and print it's triplets\n",
    "\n",
    "dnastring = input(\"Enter a DNA string: \")\n",
    "\n",
    "for i in range(len(dnastring)-3):\n",
    "    print(dnastring[i] + dnastring[i+1] + dnastring[i+2], end=\" \")"
   ]
  },
  {
   "cell_type": "code",
   "execution_count": 73,
   "id": "4eadc68b-5ef6-4e40-9e08-a0670d43a0b8",
   "metadata": {},
   "outputs": [
    {
     "name": "stdin",
     "output_type": "stream",
     "text": [
      "Enter a DNA string:  ATCGCAGTACGTACG\n"
     ]
    },
    {
     "name": "stdout",
     "output_type": "stream",
     "text": [
      "Valid\n"
     ]
    }
   ],
   "source": [
    "#WAP to check if the DNA string is valid or not\n",
    "\n",
    "# WAP to check if the DNA string is valid or not\n",
    "\n",
    "dna = input(\"Enter a DNA string: \")\n",
    "\n",
    "valid = True\n",
    "\n",
    "for letter in dna:\n",
    "    if letter not in \"ATGC\":\n",
    "        valid = False\n",
    "        break\n",
    "\n",
    "if valid:\n",
    "    print(\"Valid\")\n",
    "else:\n",
    "    print(\"Invalid\")"
   ]
  },
  {
   "cell_type": "code",
   "execution_count": 148,
   "id": "2b84ee24-c8dd-4f07-bbb3-ee0070bbdb62",
   "metadata": {},
   "outputs": [],
   "source": [
    "#Session-5"
   ]
  },
  {
   "cell_type": "code",
   "execution_count": 75,
   "id": "561397a8-fe09-4d27-9ae9-09b261a168ce",
   "metadata": {},
   "outputs": [
    {
     "name": "stdin",
     "output_type": "stream",
     "text": [
      "Enter a number:  200\n"
     ]
    },
    {
     "name": "stdout",
     "output_type": "stream",
     "text": [
      "200 201 202 203 204 205 206 207 208 209 "
     ]
    }
   ],
   "source": [
    "#WAP to input a number and print 10 numbers from it\n",
    "\n",
    "num = int(input(\"Enter a number: \"))\n",
    "cnt = 0\n",
    "while cnt < 10:\n",
    "    print(num, end=\" \")\n",
    "    num += 1\n",
    "    cnt += 1"
   ]
  },
  {
   "cell_type": "code",
   "execution_count": 81,
   "id": "067c0009-f4e1-4bc5-b59a-ee515d677be4",
   "metadata": {},
   "outputs": [
    {
     "name": "stdin",
     "output_type": "stream",
     "text": [
      "Enter a number:  200\n"
     ]
    },
    {
     "name": "stdout",
     "output_type": "stream",
     "text": [
      "200 199 198 197 196 195 194 193 192 191 "
     ]
    }
   ],
   "source": [
    "#WAP to input a number and print 10 numbers from it but in reverse\n",
    "\n",
    "num = int(input(\"Enter a number: \"))\n",
    "cnt = 0\n",
    "\n",
    "while cnt < 10:\n",
    "    print(num, end=\" \")\n",
    "    num -= 1\n",
    "    cnt += 1"
   ]
  },
  {
   "cell_type": "code",
   "execution_count": 83,
   "id": "2a7b3733-fa8d-4ced-81bd-37e11a5b3ba5",
   "metadata": {},
   "outputs": [
    {
     "name": "stdin",
     "output_type": "stream",
     "text": [
      "Enter a string: ojojojojo\n"
     ]
    },
    {
     "name": "stdout",
     "output_type": "stream",
     "text": [
      "ojojojojo\n"
     ]
    },
    {
     "name": "stdin",
     "output_type": "stream",
     "text": [
      "Enter a string: okokkokok\n"
     ]
    },
    {
     "name": "stdout",
     "output_type": "stream",
     "text": [
      "okokkokok\n"
     ]
    },
    {
     "name": "stdin",
     "output_type": "stream",
     "text": [
      "Enter a string: lololoolol\n"
     ]
    },
    {
     "name": "stdout",
     "output_type": "stream",
     "text": [
      "lololoolol\n"
     ]
    },
    {
     "name": "stdin",
     "output_type": "stream",
     "text": [
      "Enter a string: end\n"
     ]
    },
    {
     "name": "stdout",
     "output_type": "stream",
     "text": [
      "end\n"
     ]
    }
   ],
   "source": [
    "#WAP to input a string from the user till the user enters \"end\" and print the string\n",
    "\n",
    "s = \"\"\n",
    "while s != \"end\":\n",
    "    s = input(\"Enter a string:\")\n",
    "    print(s)"
   ]
  },
  {
   "cell_type": "code",
   "execution_count": 85,
   "id": "90b591e6-3162-460b-b715-7e6417ea1921",
   "metadata": {},
   "outputs": [
    {
     "name": "stdin",
     "output_type": "stream",
     "text": [
      "Enter a string: jojojoojo\n"
     ]
    },
    {
     "name": "stdout",
     "output_type": "stream",
     "text": [
      "jojojoojo 9\n"
     ]
    },
    {
     "name": "stdin",
     "output_type": "stream",
     "text": [
      "Enter a string: okokokoko\n"
     ]
    },
    {
     "name": "stdout",
     "output_type": "stream",
     "text": [
      "okokokoko 9\n"
     ]
    },
    {
     "name": "stdin",
     "output_type": "stream",
     "text": [
      "Enter a string: lolololo\n"
     ]
    },
    {
     "name": "stdout",
     "output_type": "stream",
     "text": [
      "lolololo 8\n"
     ]
    },
    {
     "name": "stdin",
     "output_type": "stream",
     "text": [
      "Enter a string: end\n"
     ]
    },
    {
     "name": "stdout",
     "output_type": "stream",
     "text": [
      "end 3\n"
     ]
    }
   ],
   "source": [
    "#WAP to input a string from the user till the user enters \"end\" and print the length of every string\n",
    "\n",
    "s = \"\"\n",
    "while s != \"end\":\n",
    "    s = input(\"Enter a string:\")\n",
    "    print(s, len(s))"
   ]
  },
  {
   "cell_type": "code",
   "execution_count": 87,
   "id": "c48aa07f-21c7-4b3b-aadd-817f9c7870c5",
   "metadata": {},
   "outputs": [
    {
     "name": "stdin",
     "output_type": "stream",
     "text": [
      "Enter a string OMOMOMOMOMO\n",
      "Enter a search string MOM\n"
     ]
    },
    {
     "data": {
      "text/plain": [
       "2"
      ]
     },
     "execution_count": 87,
     "metadata": {},
     "output_type": "execute_result"
    }
   ],
   "source": [
    "#WAP to input a string and search string and print the number of times the search string occurs in string (using count)\n",
    "\n",
    "str = input(\"Enter a string\")\n",
    "srchstr = input(\"Enter a search string\")\n",
    "str.count(srchstr)"
   ]
  },
  {
   "cell_type": "code",
   "execution_count": 89,
   "id": "15b7232b-fb67-49ef-b30e-c9ca700ef4a3",
   "metadata": {
    "scrolled": true
   },
   "outputs": [
    {
     "name": "stdin",
     "output_type": "stream",
     "text": [
      "Enter a string:  OMOMOMOMOMOM\n",
      "Enter a search string:  MOM\n"
     ]
    },
    {
     "name": "stdout",
     "output_type": "stream",
     "text": [
      "1\n",
      "3\n",
      "5\n",
      "7\n",
      "9\n",
      "MOM occurs 5 times in OMOMOMOMOMOM\n"
     ]
    }
   ],
   "source": [
    "#WAP to input a string and search string and print the number of times the search string occurs in string (using find)\n",
    "\n",
    "str = input(\"Enter a string: \")\n",
    "srchstr = input(\"Enter a search string: \")\n",
    "pos = 0\n",
    "p = -1\n",
    "ctr = 0\n",
    "while((p:=(str.find(srchstr,pos)))!=-1):\n",
    "    print(p)\n",
    "    pos=p+1\n",
    "    ctr+=1\n",
    "else:\n",
    "    print(f\"{srchstr} occurs {ctr} times in {str}\")"
   ]
  },
  {
   "cell_type": "code",
   "execution_count": 91,
   "id": "f8890ec0-5c4c-4653-87a5-3c80ff272bb4",
   "metadata": {},
   "outputs": [
    {
     "name": "stdin",
     "output_type": "stream",
     "text": [
      "Enter a number: 10\n",
      "Enter a number: 20\n",
      "Enter a number: 30\n",
      "Enter a number: 40\n",
      "Enter a number: 50\n",
      "Enter a number: 60\n",
      "Enter a number: 70\n",
      "Enter a number: 80\n",
      "Enter a number: 90\n",
      "Enter a number: 100\n",
      "Enter a number: 110\n"
     ]
    },
    {
     "name": "stdout",
     "output_type": "stream",
     "text": [
      "100 has come so the program is ended and the sum is 560\n"
     ]
    }
   ],
   "source": [
    "#WAP to input a number (not a string) till the user enters a value larger than 100 and print th sum of all the numbers entered\n",
    "\n",
    "n = 0\n",
    "sum = 0\n",
    "while n <= 100:\n",
    "    n = int(input(\"Enter a number:\"))\n",
    "    sum += n\n",
    "print(f\"100 has come so the program is ended and the sum is {sum-100}\")"
   ]
  },
  {
   "cell_type": "code",
   "execution_count": 97,
   "id": "3f36aee7-eeeb-4935-a93f-e83a07fec830",
   "metadata": {},
   "outputs": [
    {
     "name": "stdin",
     "output_type": "stream",
     "text": [
      "Enter a number (enter a number above 100 to exit the loop): 80\n",
      "Enter a number (enter a number above 100 to exit the loop): 90\n",
      "Enter a number (enter a number above 100 to exit the loop): 100\n",
      "Enter a number (enter a number above 100 to exit the loop): 120\n"
     ]
    },
    {
     "name": "stdout",
     "output_type": "stream",
     "text": [
      "270\n"
     ]
    }
   ],
   "source": [
    "sum = 0 \n",
    "while True:\n",
    "    n = int(input(\"Enter a number (enter a number above 100 to exit the loop):\"))\n",
    "    if n > 100:\n",
    "        break\n",
    "    sum += n\n",
    "print(sum)"
   ]
  },
  {
   "cell_type": "code",
   "execution_count": 99,
   "id": "97216778-6efa-4ffd-a27e-38bc44015cc6",
   "metadata": {},
   "outputs": [
    {
     "name": "stdin",
     "output_type": "stream",
     "text": [
      "Enter a string (type 'end' to stop):  Om\n"
     ]
    },
    {
     "name": "stdout",
     "output_type": "stream",
     "text": [
      "Om\n"
     ]
    },
    {
     "name": "stdin",
     "output_type": "stream",
     "text": [
      "Enter a string (type 'end' to stop):  Hemang\n",
      "Enter a string (type 'end' to stop):  Pratik\n",
      "Enter a string (type 'end' to stop):  Rut\n"
     ]
    },
    {
     "name": "stdout",
     "output_type": "stream",
     "text": [
      "Rut\n"
     ]
    },
    {
     "name": "stdin",
     "output_type": "stream",
     "text": [
      "Enter a string (type 'end' to stop):  end\n"
     ]
    }
   ],
   "source": [
    "#WAP to input a string from the user till the user enters end and print all the strings which does not have the vowel \"a\"\n",
    "\n",
    "while True:\n",
    "    shabd = input(\"Enter a string (type 'end' to stop): \")\n",
    "    if shabd == \"end\":\n",
    "        break\n",
    "    if \"a\" not in shabd:\n",
    "        print(shabd)"
   ]
  },
  {
   "cell_type": "code",
   "execution_count": 101,
   "id": "e3dba23e-0941-4144-b5da-8dc304f0d02f",
   "metadata": {},
   "outputs": [
    {
     "name": "stdin",
     "output_type": "stream",
     "text": [
      "Enter a string:  Om\n"
     ]
    },
    {
     "name": "stdout",
     "output_type": "stream",
     "text": [
      "Less than 3 characters is: Om\n",
      "Length:  2\n"
     ]
    }
   ],
   "source": [
    "#WAP to input strings from the user enters a string of less than 3 chars and print the string and its length\n",
    "\n",
    "while True:\n",
    "    stringg = input(\"Enter a string: \")\n",
    "    if len(stringg) < 3:\n",
    "        break\n",
    "print(\"Less than 3 characters is:\", stringg)\n",
    "print(\"Length: \", len(stringg))"
   ]
  },
  {
   "cell_type": "code",
   "execution_count": 103,
   "id": "ca65a28b-318a-424e-bfbf-f680353befad",
   "metadata": {},
   "outputs": [
    {
     "name": "stdin",
     "output_type": "stream",
     "text": [
      "Enter a number (-1 to stop):  1\n"
     ]
    },
    {
     "name": "stdout",
     "output_type": "stream",
     "text": [
      "Unit number: 1\n"
     ]
    },
    {
     "name": "stdin",
     "output_type": "stream",
     "text": [
      "Enter a number (-1 to stop):  2\n"
     ]
    },
    {
     "name": "stdout",
     "output_type": "stream",
     "text": [
      "Unit number: 2\n"
     ]
    },
    {
     "name": "stdin",
     "output_type": "stream",
     "text": [
      "Enter a number (-1 to stop):  3\n"
     ]
    },
    {
     "name": "stdout",
     "output_type": "stream",
     "text": [
      "Unit number: 3\n"
     ]
    },
    {
     "name": "stdin",
     "output_type": "stream",
     "text": [
      "Enter a number (-1 to stop):  4\n"
     ]
    },
    {
     "name": "stdout",
     "output_type": "stream",
     "text": [
      "Unit number: 4\n"
     ]
    },
    {
     "name": "stdin",
     "output_type": "stream",
     "text": [
      "Enter a number (-1 to stop):  5\n"
     ]
    },
    {
     "name": "stdout",
     "output_type": "stream",
     "text": [
      "Unit number: 5\n"
     ]
    },
    {
     "name": "stdin",
     "output_type": "stream",
     "text": [
      "Enter a number (-1 to stop):  11\n",
      "Enter a number (-1 to stop):  12\n",
      "Enter a number (-1 to stop):  13\n",
      "Enter a number (-1 to stop):  14\n",
      "Enter a number (-1 to stop):  15\n",
      "Enter a number (-1 to stop):  11\n",
      "Enter a number (-1 to stop):  111\n"
     ]
    },
    {
     "name": "stdout",
     "output_type": "stream",
     "text": [
      "Hundred number: 111\n"
     ]
    },
    {
     "name": "stdin",
     "output_type": "stream",
     "text": [
      "Enter a number (-1 to stop):  112\n"
     ]
    },
    {
     "name": "stdout",
     "output_type": "stream",
     "text": [
      "Hundred number: 112\n"
     ]
    },
    {
     "name": "stdin",
     "output_type": "stream",
     "text": [
      "Enter a number (-1 to stop):  113\n"
     ]
    },
    {
     "name": "stdout",
     "output_type": "stream",
     "text": [
      "Hundred number: 113\n"
     ]
    },
    {
     "name": "stdin",
     "output_type": "stream",
     "text": [
      "Enter a number (-1 to stop):  114\n"
     ]
    },
    {
     "name": "stdout",
     "output_type": "stream",
     "text": [
      "Hundred number: 114\n"
     ]
    },
    {
     "name": "stdin",
     "output_type": "stream",
     "text": [
      "Enter a number (-1 to stop):  115\n"
     ]
    },
    {
     "name": "stdout",
     "output_type": "stream",
     "text": [
      "Hundred number: 115\n"
     ]
    },
    {
     "name": "stdin",
     "output_type": "stream",
     "text": [
      "Enter a number (-1 to stop):  1111\n"
     ]
    },
    {
     "name": "stdout",
     "output_type": "stream",
     "text": [
      "Number greater than or equal to 1000: 1111\n"
     ]
    },
    {
     "name": "stdin",
     "output_type": "stream",
     "text": [
      "Enter a number (-1 to stop):  1112\n"
     ]
    },
    {
     "name": "stdout",
     "output_type": "stream",
     "text": [
      "Number greater than or equal to 1000: 1112\n"
     ]
    },
    {
     "name": "stdin",
     "output_type": "stream",
     "text": [
      "Enter a number (-1 to stop):  1114\n"
     ]
    },
    {
     "name": "stdout",
     "output_type": "stream",
     "text": [
      "Number greater than or equal to 1000: 1114\n"
     ]
    },
    {
     "name": "stdin",
     "output_type": "stream",
     "text": [
      "Enter a number (-1 to stop):  1115\n"
     ]
    },
    {
     "name": "stdout",
     "output_type": "stream",
     "text": [
      "Number greater than or equal to 1000: 1115\n"
     ]
    },
    {
     "name": "stdin",
     "output_type": "stream",
     "text": [
      "Enter a number (-1 to stop):  -1\n"
     ]
    },
    {
     "name": "stdout",
     "output_type": "stream",
     "text": [
      "Total unit numbers: 5\n",
      "Total hundred numbers: 5\n",
      "Total numbers >= 1000: 4\n"
     ]
    }
   ],
   "source": [
    "#WAP to input numbers from the user till -1 and print the nubmers in units and hundereds and greater\n",
    "\n",
    "units = 0\n",
    "hundreds = 0\n",
    "greater_than_hundereds = 0\n",
    "\n",
    "while True:\n",
    "    num = int(input(\"Enter a number (-1 to stop): \"))\n",
    "    \n",
    "    if num == -1:\n",
    "        break\n",
    "    \n",
    "    if num >= 1 and num <= 9:\n",
    "        print(\"Unit number:\", num)\n",
    "        units += 1\n",
    "    elif num >= 100 and num <= 999:\n",
    "        print(\"Hundred number:\", num)\n",
    "        hundreds += 1\n",
    "    elif num >= 1000:\n",
    "        print(\"Number greater than or equal to 1000:\", num)\n",
    "        greater_than_hundereds += 1\n",
    "\n",
    "print(\"Total unit numbers:\", units)\n",
    "print(\"Total hundred numbers:\", hundreds)\n",
    "print(\"Total numbers >= 1000:\", greater_than_hundereds)"
   ]
  },
  {
   "cell_type": "code",
   "execution_count": 105,
   "id": "642f0e6e-3f1b-4a58-8b0b-fd03b0208386",
   "metadata": {},
   "outputs": [
    {
     "name": "stdin",
     "output_type": "stream",
     "text": [
      "Enter a number (-1 to stop):  10\n",
      "Enter a number (-1 to stop):  11\n",
      "Enter a number (-1 to stop):  12\n",
      "Enter a number (-1 to stop):  13\n",
      "Enter a number (-1 to stop):  100\n",
      "Enter a number (-1 to stop):  101\n",
      "Enter a number (-1 to stop):  102\n",
      "Enter a number (-1 to stop):  103\n",
      "Enter a number (-1 to stop):  1001\n",
      "Enter a number (-1 to stop):  1002\n",
      "Enter a number (-1 to stop):  1003\n",
      "Enter a number (-1 to stop):  1004\n",
      "Enter a number (-1 to stop):  -1\n"
     ]
    },
    {
     "name": "stdout",
     "output_type": "stream",
     "text": [
      "Unit numbers (1-9): []\n",
      "Hundred numbers (100-999): [100, 101, 102, 103]\n",
      "Greater than or equal to 1000: [1001, 1002, 1003, 1004]\n"
     ]
    }
   ],
   "source": [
    "units = []\n",
    "hundreds = []\n",
    "greater_than_hundereds = []\n",
    "\n",
    "while True:\n",
    "    num = int(input(\"Enter a number (-1 to stop): \"))\n",
    "    \n",
    "    if num == -1:\n",
    "        break\n",
    "    \n",
    "    if num >= 1 and num <= 9:\n",
    "        units.append(num)\n",
    "    elif num >= 100 and num <= 999:\n",
    "        hundreds.append(num)\n",
    "    elif num >= 1000:\n",
    "        greater_than_hundereds.append(num)\n",
    "\n",
    "print(\"Unit numbers (1-9):\", units)\n",
    "print(\"Hundred numbers (100-999):\", hundreds)\n",
    "print(\"Greater than or equal to 1000:\", greater_than_hundereds)"
   ]
  },
  {
   "cell_type": "code",
   "execution_count": 150,
   "id": "7b86067a-e286-44e3-b223-4a86a8127357",
   "metadata": {},
   "outputs": [],
   "source": [
    "#Session-6"
   ]
  },
  {
   "cell_type": "code",
   "execution_count": 152,
   "id": "c8032332-62c5-44f0-ab21-4969e1c50493",
   "metadata": {},
   "outputs": [],
   "source": [
    "#Pattern printing"
   ]
  },
  {
   "cell_type": "code",
   "execution_count": 112,
   "id": "a4c95ef4-ad91-4015-824b-8150775ec46f",
   "metadata": {},
   "outputs": [
    {
     "name": "stdout",
     "output_type": "stream",
     "text": [
      "1 2 3 4 5 \n",
      "1 2 3 4 5 \n",
      "1 2 3 4 5 \n",
      "1 2 3 4 5 \n",
      "1 2 3 4 5 \n"
     ]
    }
   ],
   "source": [
    "for i in range(1,6):\n",
    "    for j in range(1,6):\n",
    "        print(j, end=\" \")\n",
    "    print()"
   ]
  },
  {
   "cell_type": "code",
   "execution_count": 114,
   "id": "c87042a5-33d5-4614-bec5-43436ed340ac",
   "metadata": {},
   "outputs": [
    {
     "name": "stdout",
     "output_type": "stream",
     "text": [
      "1 \n",
      "1 2 \n",
      "1 2 3 \n",
      "1 2 3 4 \n",
      "1 2 3 4 5 \n"
     ]
    }
   ],
   "source": [
    "for i in range(1,6):\n",
    "    for j in range(1,i+1):\n",
    "        print(j, end=\" \")\n",
    "    print()"
   ]
  },
  {
   "cell_type": "code",
   "execution_count": 120,
   "id": "4c3b991a-b648-46b3-ac3d-8bd96a19c2d1",
   "metadata": {},
   "outputs": [
    {
     "name": "stdout",
     "output_type": "stream",
     "text": [
      "5 \n",
      "5 4 \n",
      "5 4 3 \n",
      "5 4 3 2 \n",
      "5 4 3 2 1 \n"
     ]
    }
   ],
   "source": [
    "for i in range(1,6):\n",
    "    for j in range(5,5 - i,-1):\n",
    "        print(j, end=\" \")\n",
    "    print()"
   ]
  },
  {
   "cell_type": "code",
   "execution_count": 3,
   "id": "f509850c-66b5-4ad8-8859-e26c58242408",
   "metadata": {},
   "outputs": [
    {
     "name": "stdout",
     "output_type": "stream",
     "text": [
      "5 \n",
      "5 4 \n",
      "5 4 3 \n",
      "5 4 3 2 \n",
      "5 4 3 2 1 \n"
     ]
    }
   ],
   "source": [
    "for i in range(5,0,-1):\n",
    "    for j in range(5,i - 1,-1):\n",
    "        print(j, end=\" \")\n",
    "    print()"
   ]
  },
  {
   "cell_type": "code",
   "execution_count": 29,
   "id": "0e02e8ec-0ef5-4060-acc2-fe4b7b062c40",
   "metadata": {},
   "outputs": [
    {
     "name": "stdout",
     "output_type": "stream",
     "text": [
      "        5 \n",
      "      5 4 \n",
      "    5 4 3 \n",
      "  5 4 3 2 \n",
      "5 4 3 2 1 \n"
     ]
    }
   ],
   "source": [
    "for i in range(5,0,-1):\n",
    "    print(\"  \" * (i-1), end='')\n",
    "    for j in range(5,i - 1,-1):\n",
    "        print( j , end=\" \")\n",
    "    print()"
   ]
  },
  {
   "cell_type": "code",
   "execution_count": 19,
   "id": "e567ec45-de6f-4986-b6cd-e689e5b87273",
   "metadata": {},
   "outputs": [
    {
     "name": "stdout",
     "output_type": "stream",
     "text": [
      "    5 \n",
      "   5 4 \n",
      "  5 4 3 \n",
      " 5 4 3 2 \n",
      "5 4 3 2 1 \n"
     ]
    }
   ],
   "source": [
    "for i in range(5,0,-1):\n",
    "    print(\" \" * (i-1), end='')\n",
    "    for j in range(5,i - 1,-1):\n",
    "        print(j, end=\" \")\n",
    "    print()"
   ]
  },
  {
   "cell_type": "code",
   "execution_count": null,
   "id": "6a8b5156-e157-4967-bc76-6cc62dce96e4",
   "metadata": {},
   "outputs": [],
   "source": []
  },
  {
   "cell_type": "code",
   "execution_count": 23,
   "id": "42a4c251-d5f2-46be-801c-775e9d289178",
   "metadata": {},
   "outputs": [
    {
     "name": "stdout",
     "output_type": "stream",
     "text": [
      "    * \n",
      "   * * \n",
      "  * * * \n",
      " * * * * \n",
      "* * * * * \n"
     ]
    }
   ],
   "source": [
    "for i in range(5,0,-1):\n",
    "    print(\" \"*(i-1), end=\"\")\n",
    "    for j in range(5,i - 1,-1):\n",
    "        print(\"*\", end=\" \")\n",
    "    print()"
   ]
  },
  {
   "cell_type": "code",
   "execution_count": 124,
   "id": "4bfebc13-5ec1-4469-ae28-89d11773ee6c",
   "metadata": {},
   "outputs": [
    {
     "name": "stdout",
     "output_type": "stream",
     "text": [
      "a \n",
      "b c \n",
      "d e f \n",
      "g h i j \n",
      "k l m n o \n"
     ]
    }
   ],
   "source": [
    "char = 97 \n",
    "for i in range(1, 6):\n",
    "    for j in range(i):\n",
    "        print(chr(char), end=\" \")\n",
    "        char += 1\n",
    "    print()"
   ]
  },
  {
   "cell_type": "code",
   "execution_count": 128,
   "id": "602636e0-e8bb-4785-a6cd-36742b8b4de8",
   "metadata": {},
   "outputs": [
    {
     "name": "stdout",
     "output_type": "stream",
     "text": [
      "* \n",
      "* ** \n",
      "* ** *** \n",
      "* ** *** **** \n",
      "* ** *** **** ***** \n"
     ]
    }
   ],
   "source": [
    "for i in range(1, 6):             \n",
    "    for j in range(1, i+1):            \n",
    "        for k in range(1, j+1):        \n",
    "            print(\"*\", end=\"\")\n",
    "        print(\" \", end=\"\")        \n",
    "    print()                       "
   ]
  },
  {
   "cell_type": "code",
   "execution_count": 154,
   "id": "102b727c-0077-46d0-86e1-b529dd284fcd",
   "metadata": {},
   "outputs": [],
   "source": [
    "#Session-7"
   ]
  },
  {
   "cell_type": "code",
   "execution_count": 156,
   "id": "aaa2e10d-843a-4e4d-b747-d2890b79264e",
   "metadata": {},
   "outputs": [],
   "source": [
    "#Foratted strings"
   ]
  },
  {
   "cell_type": "code",
   "execution_count": 158,
   "id": "9f4f5765-95c3-4572-ba97-8fbfcb32fa1a",
   "metadata": {},
   "outputs": [
    {
     "name": "stdout",
     "output_type": "stream",
     "text": [
      "0 1 1 2 3 5 8 13 21 34 "
     ]
    }
   ],
   "source": [
    "#WAP to get 10 fibonacci numbers\n",
    "\n",
    "a, b = 0, 1\n",
    "count = 0\n",
    "\n",
    "while count < 10:\n",
    "    print(a, end=\" \")\n",
    "    a, b = b, a + b\n",
    "    count += 1"
   ]
  },
  {
   "cell_type": "code",
   "execution_count": 160,
   "id": "88bd8249-807b-4154-a953-2e334aa99b54",
   "metadata": {},
   "outputs": [
    {
     "name": "stdin",
     "output_type": "stream",
     "text": [
      "Enter a number:  5\n"
     ]
    },
    {
     "name": "stdout",
     "output_type": "stream",
     "text": [
      "Factorial is: 120\n"
     ]
    }
   ],
   "source": [
    "#WAP for factorial of the number input\n",
    "\n",
    "num = int(input(\"Enter a number: \"))\n",
    "fact = 1\n",
    "\n",
    "for i in range(1, num + 1):\n",
    "    fact *= i\n",
    "\n",
    "print(\"Factorial is:\", fact)"
   ]
  },
  {
   "cell_type": "code",
   "execution_count": 164,
   "id": "234b57a1-8f9c-483d-9bd1-56a82b6c8195",
   "metadata": {},
   "outputs": [
    {
     "name": "stdin",
     "output_type": "stream",
     "text": [
      "Enter a number:  7\n"
     ]
    },
    {
     "name": "stdout",
     "output_type": "stream",
     "text": [
      "Prime\n"
     ]
    }
   ],
   "source": [
    "#Input a number and print weather it is a prime or not\n",
    "\n",
    "num = int(input(\"Enter a number: \"))\n",
    "\n",
    "if num <= 1:\n",
    "    print(\"Not Prime\")\n",
    "else:\n",
    "    is_prime = True\n",
    "\n",
    "    for i in range(2, num):\n",
    "        if num % i == 0:\n",
    "            is_prime = False\n",
    "            break  \n",
    "\n",
    "    if is_prime:\n",
    "        print(\"Prime\")\n",
    "    else:\n",
    "        print(\"Not Prime\")"
   ]
  },
  {
   "cell_type": "code",
   "execution_count": 140,
   "id": "32103164-39b3-4d2b-bb00-7ac9db854969",
   "metadata": {},
   "outputs": [],
   "source": [
    "#Input a number and print weather it is an armstrong number or not"
   ]
  },
  {
   "cell_type": "code",
   "execution_count": 166,
   "id": "ac762f5a-3a92-4a37-9c1e-fee2dd080f35",
   "metadata": {},
   "outputs": [
    {
     "name": "stdin",
     "output_type": "stream",
     "text": [
      "Enter a number:  28\n"
     ]
    },
    {
     "name": "stdout",
     "output_type": "stream",
     "text": [
      "Perfect Number\n"
     ]
    }
   ],
   "source": [
    "#Input a number and print weather it is a perfect number or not\n",
    "\n",
    "num = int(input(\"Enter a number: \"))\n",
    "sum = 0\n",
    "\n",
    "for i in range(1, num):\n",
    "    if num % i == 0:\n",
    "        sum += i\n",
    "\n",
    "print(\"Perfect Number\" if sum == num else \"Not Perfect Number\")"
   ]
  },
  {
   "cell_type": "code",
   "execution_count": null,
   "id": "b7040f15-a0d2-498a-b035-c535d6299410",
   "metadata": {},
   "outputs": [],
   "source": [
    "#Session-8"
   ]
  },
  {
   "cell_type": "code",
   "execution_count": 3,
   "id": "0633b4cb-fcd5-4184-9b6d-371a9fcb5de1",
   "metadata": {},
   "outputs": [
    {
     "name": "stdout",
     "output_type": "stream",
     "text": [
      "<class 'tuple'>\n",
      "<class 'tuple'>\n"
     ]
    }
   ],
   "source": [
    "tuple1 = (1,2,3,4,5)\n",
    "tuple2 = 1,2,3,4,5\n",
    "print(type(tuple1))\n",
    "print(type(tuple2))"
   ]
  },
  {
   "cell_type": "code",
   "execution_count": 16,
   "id": "0cc58e18-995e-4370-ac45-d85cb7c84545",
   "metadata": {},
   "outputs": [],
   "source": [
    "#Session-9"
   ]
  },
  {
   "cell_type": "code",
   "execution_count": 18,
   "id": "ed71e45d-ec3a-4c40-8d7c-0f42d1c25171",
   "metadata": {},
   "outputs": [],
   "source": [
    "#wap to create a tuple with values 1, 4, 6, 12, 24, 60, input numbers from the user till the user enters -1 and print the number of values...."
   ]
  },
  {
   "cell_type": "code",
   "execution_count": 26,
   "id": "3cf79cd7-fb60-48b3-864f-8ae4a177178e",
   "metadata": {},
   "outputs": [
    {
     "name": "stdin",
     "output_type": "stream",
     "text": [
      "Enter a number (-1 to stop):  1\n",
      "Enter a number (-1 to stop):  11\n",
      "Enter a number (-1 to stop):  111\n",
      "Enter a number (-1 to stop):  1\n",
      "Enter a number (-1 to stop):  11\n",
      "Enter a number (-1 to stop):  111\n",
      "Enter a number (-1 to stop):  -1\n"
     ]
    },
    {
     "name": "stdout",
     "output_type": "stream",
     "text": [
      "[1, 11, 111]\n"
     ]
    }
   ],
   "source": [
    "#wap to input data in a list till the user enters -1. then remove the duplucates from the list\n",
    "#OG list\n",
    "l = []\n",
    "while True:\n",
    "    val = int(input(\"Enter a number (-1 to stop): \"))\n",
    "    if val == -1:\n",
    "        break\n",
    "    l.append(val)\n",
    "#New list with no duplicates\n",
    "unique = []\n",
    "for i in l:\n",
    "    if i not in unique:\n",
    "        unique.append(i)\n",
    "print(unique)"
   ]
  },
  {
   "cell_type": "code",
   "execution_count": 22,
   "id": "64223eae-7375-4bae-88f1-73f6a4aa551d",
   "metadata": {},
   "outputs": [],
   "source": [
    "#wap to input data in a list and print the list in decending order of values."
   ]
  },
  {
   "cell_type": "code",
   "execution_count": 24,
   "id": "0d967259-b9d8-441a-9649-b2b2d7e649e4",
   "metadata": {},
   "outputs": [
    {
     "data": {
      "text/plain": [
       "[524, 321, 123, 53, 45, 43, 34, 24, 23, 5, 5, 4, 1]"
      ]
     },
     "execution_count": 24,
     "metadata": {},
     "output_type": "execute_result"
    }
   ],
   "source": [
    "#wap to sort a list and print it in reverse\n",
    "listt = [23,4,34,524,1,43,53,123,5,321,45,24,5]\n",
    "listt.sort()\n",
    "listt.reverse()\n",
    "listt"
   ]
  },
  {
   "cell_type": "code",
   "execution_count": 36,
   "id": "cf8d3a8d-3920-4c04-90be-4241b527696a",
   "metadata": {},
   "outputs": [
    {
     "name": "stdin",
     "output_type": "stream",
     "text": [
      "Enter a number (-1 to stop):  1\n",
      "Enter a number (-1 to stop):  11\n",
      "Enter a number (-1 to stop):  111\n",
      "Enter a number (-1 to stop):  1\n",
      "Enter a number (-1 to stop):  11\n",
      "Enter a number (-1 to stop):  111\n",
      "Enter a number (-1 to stop):  -1\n"
     ]
    },
    {
     "name": "stdout",
     "output_type": "stream",
     "text": [
      "[1, 11, 111]\n"
     ]
    }
   ],
   "source": [
    "#wap to input data in a list till the user enters -1. then remove the duplucates from the list\n",
    "#OG list\n",
    "l = []\n",
    "while True:\n",
    "    val = int(input(\"Enter a number (-1 to stop): \"))\n",
    "    if val == -1:\n",
    "        break\n",
    "    l.append(val)\n",
    "#New list with no duplicates\n",
    "unique = []\n",
    "for item in l:\n",
    "    if item not in unique:\n",
    "        unique.append(item)\n",
    "print(unique)"
   ]
  },
  {
   "cell_type": "code",
   "execution_count": 44,
   "id": "2ff6cfd9-267d-4122-85b8-aeb4d6bc33b0",
   "metadata": {},
   "outputs": [
    {
     "name": "stdin",
     "output_type": "stream",
     "text": [
      "Enter a number (1 to 20 and -1 to stop):  1\n",
      "Enter a number (1 to 20 and -1 to stop):  11\n",
      "Enter a number (1 to 20 and -1 to stop):  111\n",
      "Enter a number (1 to 20 and -1 to stop):  1\n",
      "Enter a number (1 to 20 and -1 to stop):  11\n",
      "Enter a number (1 to 20 and -1 to stop):  111\n",
      "Enter a number (1 to 20 and -1 to stop):  -1\n"
     ]
    },
    {
     "name": "stdout",
     "output_type": "stream",
     "text": [
      "[1, 11]\n"
     ]
    }
   ],
   "source": [
    "#WAP to input numbers in an array from 1 to 20, and remove all values exceeding hundered\n",
    "#OG list\n",
    "l = []\n",
    "while True:\n",
    "    val = int(input(\"Enter a number (1 to 20 and -1 to stop): \"))\n",
    "    if val == -1:\n",
    "        break\n",
    "    l.append(val)\n",
    "#New list with no duplicates\n",
    "unique = []\n",
    "for i in l:\n",
    "    if i not in unique and i<=100:\n",
    "        unique.append(i)\n",
    "print(unique)"
   ]
  },
  {
   "cell_type": "code",
   "execution_count": 46,
   "id": "0c20b9ee-4a6d-4aa7-8852-c6ed28c061d3",
   "metadata": {},
   "outputs": [
    {
     "name": "stdin",
     "output_type": "stream",
     "text": [
      "Enter a number (1 to 20 and -1 to stop):  1\n",
      "Enter a number (1 to 20 and -1 to stop):  2\n",
      "Enter a number (1 to 20 and -1 to stop):  3\n",
      "Enter a number (1 to 20 and -1 to stop):  4\n",
      "Enter a number (1 to 20 and -1 to stop):  5\n",
      "Enter a number (1 to 20 and -1 to stop):  6\n",
      "Enter a number (1 to 20 and -1 to stop):  7\n",
      "Enter a number (1 to 20 and -1 to stop):  8\n",
      "Enter a number (1 to 20 and -1 to stop):  9\n",
      "Enter a number (1 to 20 and -1 to stop):  0\n",
      "Enter a number (1 to 20 and -1 to stop):  100\n",
      "Enter a number (1 to 20 and -1 to stop):  120\n",
      "Enter a number (1 to 20 and -1 to stop):  130\n",
      "Enter a number (1 to 20 and -1 to stop):  150\n",
      "Enter a number (1 to 20 and -1 to stop):  16\n",
      "Enter a number (1 to 20 and -1 to stop):  17\n",
      "Enter a number (1 to 20 and -1 to stop):  18\n",
      "Enter a number (1 to 20 and -1 to stop):  19\n",
      "Enter a number (1 to 20 and -1 to stop):  200\n",
      "Enter a number (1 to 20 and -1 to stop):  211\n"
     ]
    },
    {
     "name": "stdout",
     "output_type": "stream",
     "text": [
      "[1, 2, 3, 4, 5, 6, 7, 8, 9, 0, 100, 16, 17, 18, 19]\n"
     ]
    }
   ],
   "source": [
    "#WAP to input numbers in an array from 1 to 20, and remove all values exceeding hundered\n",
    "#OG list\n",
    "l = []\n",
    "i = 1\n",
    "while i <= 20:\n",
    "    val = int(input(\"Enter a number (1 to 20 and -1 to stop): \"))\n",
    "    if val == -1:\n",
    "        break\n",
    "    l.append(val)\n",
    "    i += 1\n",
    "#New list with no duplicates\n",
    "unique = []\n",
    "for i in l:\n",
    "    if i not in unique and i<=100:\n",
    "        unique.append(i)\n",
    "print(unique)"
   ]
  },
  {
   "cell_type": "code",
   "execution_count": 57,
   "id": "d1093058-3b9d-4bcc-864e-4b9395097753",
   "metadata": {},
   "outputs": [
    {
     "name": "stdin",
     "output_type": "stream",
     "text": [
      "Enter items in list number one (-1 to stop) 1\n",
      "Enter items in list number one (-1 to stop) 2\n",
      "Enter items in list number one (-1 to stop) 3\n",
      "Enter items in list number one (-1 to stop) 4\n",
      "Enter items in list number one (-1 to stop) 5\n",
      "Enter items in list number one (-1 to stop) -1\n",
      "Enter items in list number two (-1 to stop 3\n",
      "Enter items in list number two (-1 to stop 4\n",
      "Enter items in list number two (-1 to stop 5\n",
      "Enter items in list number two (-1 to stop 6\n",
      "Enter items in list number two (-1 to stop 7\n",
      "Enter items in list number two (-1 to stop -1\n"
     ]
    },
    {
     "name": "stdout",
     "output_type": "stream",
     "text": [
      "[1, 2]\n",
      "[6, 7]\n"
     ]
    }
   ],
   "source": [
    "#WAP to input data in two lists and remove the items which are common in both lists\n",
    "\n",
    "list1 = []\n",
    "while True:\n",
    "    item = int(input(\"Enter items in list number one (-1 to stop)\"))\n",
    "    if item == -1:\n",
    "        break\n",
    "    list1.append(item)\n",
    "\n",
    "list2 = []\n",
    "\n",
    "while True:\n",
    "    item = int(input(\"Enter items in list number two (-1 to stop\"))\n",
    "    if item == -1:\n",
    "        break\n",
    "    list2.append(item)\n",
    "\n",
    "new_list1 = []\n",
    "for item in list1:\n",
    "    if item not in list2:\n",
    "        new_list1.append(item)\n",
    "\n",
    "new_list2 = []\n",
    "for item in list2:\n",
    "    if item not in list1:\n",
    "        new_list2.append(item)\n",
    "\n",
    "print(new_list1)\n",
    "print(new_list2)"
   ]
  },
  {
   "cell_type": "code",
   "execution_count": null,
   "id": "0719ebe3-f4c5-4808-a0c5-1a93d0560442",
   "metadata": {},
   "outputs": [],
   "source": [
    "#WAP to input data into two lists and create a third list of all the items which are the in list 1 and not in list two\n",
    "\n",
    "list1 = []\n",
    "list2 = []\n",
    "\n",
    "print(\"Enter elements for list 1 (enter -1 to stop):\")\n",
    "while True:\n",
    "    val = input(\"List1 item: \")\n",
    "    if val == \"-1\":\n",
    "        break\n",
    "    list1.append(val)\n",
    "\n",
    "print(\"Enter elements for list 2 (enter -1 to stop):\")\n",
    "while True:\n",
    "    val = input(\"List2 item: \")\n",
    "    if val == \"-1\":\n",
    "        break\n",
    "    list2.append(val)\n",
    "\n",
    "list3 = []\n",
    "for item in list1:\n",
    "    if item not in list2:\n",
    "        list3.append(item)\n",
    "\n",
    "print(list1)\n",
    "print(list2)\n",
    "print(list3)"
   ]
  },
  {
   "cell_type": "code",
   "execution_count": 11,
   "id": "fdcc0f63-4f18-485f-a086-cb58f668b8fa",
   "metadata": {},
   "outputs": [
    {
     "name": "stdin",
     "output_type": "stream",
     "text": [
      "Enter a string:  the\n",
      "Enter a string:  name is\n",
      "Enter a string:  Om pankaj bhai\n",
      "Enter a string:  kanada, and i am\n",
      "Enter a string:  the kingggggggg\n"
     ]
    },
    {
     "name": "stdout",
     "output_type": "stream",
     "text": [
      "['the', 'name', 'is', 'Om', 'pankaj', 'bhai', 'kanada,', 'and', 'i', 'am', 'the', 'kingggggggg']\n"
     ]
    }
   ],
   "source": [
    "#input 5 strings and create a single list of that strings seperated from the spaces\n",
    "\n",
    "all = []\n",
    "\n",
    "for i in range(5):\n",
    "    text = input(\"Enter a string: \")\n",
    "    words = text.split()       \n",
    "    all += words         \n",
    "\n",
    "print(all)"
   ]
  },
  {
   "cell_type": "code",
   "execution_count": null,
   "id": "12b61279-de51-41ed-90bb-a0e08a33940c",
   "metadata": {},
   "outputs": [],
   "source": [
    "#WAP to inpunt string from the user till the user enters end print an analysis of all the string as the length of string vowels and consonants and symbols for every string\n",
    "\n",
    "while True:\n",
    "    s = input(\"Enter a string (type 'end' to stop): \")\n",
    "    \n",
    "    if s == \"end\":\n",
    "        break\n",
    "\n",
    "    vows = 0\n",
    "    cons = 0\n",
    "    syms = 0\n",
    "\n",
    "    for char in s:\n",
    "        if char.isalpha():\n",
    "            if char.lower() in \"aeiou\":\n",
    "                vows += 1\n",
    "            else:\n",
    "                cons += 1\n",
    "        else:\n",
    "            syms += 1\n",
    "\n",
    "    print(\"Length = \", len(s))\n",
    "    print(\"Vowels = \", vows)\n",
    "    print(\"Consonants = \", cons)\n",
    "    print(\"Symbols = \", syms)"
   ]
  },
  {
   "cell_type": "code",
   "execution_count": null,
   "id": "b8ae3914-39f7-46e3-b60b-2f7e1d14dea4",
   "metadata": {},
   "outputs": [],
   "source": [
    "#Session-10 List Comprehension"
   ]
  },
  {
   "cell_type": "code",
   "execution_count": 3,
   "id": "5b09e39f-a5e7-4b97-b5d5-e07402d62880",
   "metadata": {},
   "outputs": [],
   "source": [
    "s = \"The Best of the Best\""
   ]
  },
  {
   "cell_type": "code",
   "execution_count": 5,
   "id": "2ae8896d-a81f-4078-b16c-641f53114862",
   "metadata": {},
   "outputs": [],
   "source": [
    "l = [word for word in s.split() if len(word) >= 4]"
   ]
  },
  {
   "cell_type": "code",
   "execution_count": 7,
   "id": "040d2656-1cd6-4513-990a-e55597e0ce9c",
   "metadata": {},
   "outputs": [
    {
     "data": {
      "text/plain": [
       "['Best', 'Best']"
      ]
     },
     "execution_count": 7,
     "metadata": {},
     "output_type": "execute_result"
    }
   ],
   "source": [
    "l"
   ]
  },
  {
   "cell_type": "code",
   "execution_count": 11,
   "id": "7234b678-f173-4ea6-8d59-2bc9ae257852",
   "metadata": {},
   "outputs": [
    {
     "name": "stdout",
     "output_type": "stream",
     "text": [
      "[3, 6, 12, 15, 21, 24, 30, 33, 39, 42, 48, 51, 57, 60, 66, 69, 75, 78, 84, 87, 93, 96]"
     ]
    }
   ],
   "source": [
    "l = [i for i in range(1,101) if i % 3 == 0 and i % 9 != 0]\n",
    "len(l)\n",
    "print(l, end = \"\")"
   ]
  },
  {
   "cell_type": "code",
   "execution_count": null,
   "id": "15775d95-3164-4521-b6dc-8327128df593",
   "metadata": {},
   "outputs": [],
   "source": [
    "#Session-11 Tuples and Sets"
   ]
  },
  {
   "cell_type": "code",
   "execution_count": 13,
   "id": "6a682cf1-8ed9-44a3-8a10-b43d6d2c6ad7",
   "metadata": {},
   "outputs": [
    {
     "data": {
      "text/plain": [
       "tuple"
      ]
     },
     "execution_count": 13,
     "metadata": {},
     "output_type": "execute_result"
    }
   ],
   "source": [
    "t = ()\n",
    "type(t)"
   ]
  },
  {
   "cell_type": "code",
   "execution_count": 15,
   "id": "51ae34d4-7edb-4667-aea7-c2dd95852b1a",
   "metadata": {},
   "outputs": [
    {
     "name": "stdout",
     "output_type": "stream",
     "text": [
      "(1, 2, 3, 4, 5)\n"
     ]
    }
   ],
   "source": [
    "t = (1,2,3,4,5)\n",
    "print(t)"
   ]
  },
  {
   "cell_type": "code",
   "execution_count": 17,
   "id": "feb2cdcd-2853-4728-a7df-2e12a3971caa",
   "metadata": {},
   "outputs": [
    {
     "name": "stdout",
     "output_type": "stream",
     "text": [
      "(1, 2, 3, 4, 'abc', [11, 22, 33])\n"
     ]
    }
   ],
   "source": [
    "t = (1,2,3,4,\"abc\",[11,22,33])\n",
    "print(t)"
   ]
  },
  {
   "cell_type": "code",
   "execution_count": 19,
   "id": "39759953-eff2-44e1-ac2e-53c8f5c14377",
   "metadata": {},
   "outputs": [
    {
     "name": "stdout",
     "output_type": "stream",
     "text": [
      "1\n",
      "2\n",
      "3\n",
      "4\n",
      "abc\n",
      "[11, 22, 33]\n"
     ]
    }
   ],
   "source": [
    "for i in t:\n",
    "    print(i)"
   ]
  },
  {
   "cell_type": "code",
   "execution_count": 21,
   "id": "21cab231-5848-4489-8d13-f1b550c75f4f",
   "metadata": {},
   "outputs": [],
   "source": [
    "t[5].append(44)"
   ]
  },
  {
   "cell_type": "code",
   "execution_count": 23,
   "id": "1886e919-cb90-4460-8389-104818604274",
   "metadata": {},
   "outputs": [
    {
     "data": {
      "text/plain": [
       "(1, 2, 3, 4, 'abc', [11, 22, 33, 44])"
      ]
     },
     "execution_count": 23,
     "metadata": {},
     "output_type": "execute_result"
    }
   ],
   "source": [
    "t"
   ]
  },
  {
   "cell_type": "code",
   "execution_count": 25,
   "id": "0cd36386-de05-49e9-b3a2-10e589ea84c9",
   "metadata": {},
   "outputs": [],
   "source": [
    "t[5].clear()"
   ]
  },
  {
   "cell_type": "code",
   "execution_count": 27,
   "id": "08b3a60d-381f-4076-bff7-f02f521c52b3",
   "metadata": {},
   "outputs": [
    {
     "data": {
      "text/plain": [
       "(1, 2, 3, 4, 'abc', [])"
      ]
     },
     "execution_count": 27,
     "metadata": {},
     "output_type": "execute_result"
    }
   ],
   "source": [
    "t"
   ]
  },
  {
   "cell_type": "code",
   "execution_count": 29,
   "id": "f5ad8edb-01db-4959-960c-19404cd208ed",
   "metadata": {},
   "outputs": [
    {
     "ename": "TypeError",
     "evalue": "'tuple' object doesn't support item deletion",
     "output_type": "error",
     "traceback": [
      "\u001b[1;31m---------------------------------------------------------------------------\u001b[0m",
      "\u001b[1;31mTypeError\u001b[0m                                 Traceback (most recent call last)",
      "Cell \u001b[1;32mIn[29], line 1\u001b[0m\n\u001b[1;32m----> 1\u001b[0m \u001b[38;5;28;01mdel\u001b[39;00m t[\u001b[38;5;241m5\u001b[39m]\n",
      "\u001b[1;31mTypeError\u001b[0m: 'tuple' object doesn't support item deletion"
     ]
    }
   ],
   "source": [
    "del t[5]"
   ]
  },
  {
   "cell_type": "code",
   "execution_count": 31,
   "id": "967cd254-6503-43c2-92d6-cf7d57ab53a9",
   "metadata": {},
   "outputs": [
    {
     "data": {
      "text/plain": [
       "(1, 2, 3, 4, 'abc', [])"
      ]
     },
     "execution_count": 31,
     "metadata": {},
     "output_type": "execute_result"
    }
   ],
   "source": [
    "t"
   ]
  },
  {
   "cell_type": "code",
   "execution_count": 33,
   "id": "2db741e9-fefe-4a9b-b502-e50cd086776b",
   "metadata": {},
   "outputs": [],
   "source": [
    "t1 = (5,8,6,7,1,3,4,2)"
   ]
  },
  {
   "cell_type": "code",
   "execution_count": 35,
   "id": "fd098c17-4ba7-4ce3-a84b-22f3aa93ec59",
   "metadata": {},
   "outputs": [
    {
     "data": {
      "text/plain": [
       "tuple"
      ]
     },
     "execution_count": 35,
     "metadata": {},
     "output_type": "execute_result"
    }
   ],
   "source": [
    "t1 = (1,)\n",
    "type(t1)"
   ]
  },
  {
   "cell_type": "code",
   "execution_count": 41,
   "id": "e9a6ee33-0a7c-4825-92ce-d3b6f2a98e90",
   "metadata": {},
   "outputs": [
    {
     "name": "stdout",
     "output_type": "stream",
     "text": [
      "(1, 2, 3, 4, 5, 6, 7, 8)\n"
     ]
    }
   ],
   "source": [
    "tt1 = (1,2,3,4)\n",
    "tt2 = (5,6,7,8)\n",
    "tt3 = tt1 + tt2\n",
    "print(tt3)"
   ]
  },
  {
   "cell_type": "code",
   "execution_count": 43,
   "id": "3469c672-393d-4d28-b31c-51695841d320",
   "metadata": {},
   "outputs": [
    {
     "data": {
      "text/plain": [
       "(1, 2, 3, 4, 1, 2, 3, 4, 1, 2, 3, 4, 1, 2, 3, 4, 1, 2, 3, 4)"
      ]
     },
     "execution_count": 43,
     "metadata": {},
     "output_type": "execute_result"
    }
   ],
   "source": [
    "tt1*5"
   ]
  },
  {
   "cell_type": "code",
   "execution_count": 45,
   "id": "db1e700a-fcc2-4c18-971f-fe792ec496ae",
   "metadata": {},
   "outputs": [
    {
     "data": {
      "text/plain": [
       "(2, 3, 4)"
      ]
     },
     "execution_count": 45,
     "metadata": {},
     "output_type": "execute_result"
    }
   ],
   "source": [
    "tt1[1:]"
   ]
  },
  {
   "cell_type": "code",
   "execution_count": 47,
   "id": "cea57028-fd12-4586-85a7-dd81c9dd151e",
   "metadata": {},
   "outputs": [
    {
     "data": {
      "text/plain": [
       "False"
      ]
     },
     "execution_count": 47,
     "metadata": {},
     "output_type": "execute_result"
    }
   ],
   "source": [
    "5 in tt1"
   ]
  },
  {
   "cell_type": "code",
   "execution_count": 51,
   "id": "e8653a65-005d-4f20-a7d3-8d19c5c0d903",
   "metadata": {},
   "outputs": [
    {
     "data": {
      "text/plain": [
       "[1, 2, 3, 4]"
      ]
     },
     "execution_count": 51,
     "metadata": {},
     "output_type": "execute_result"
    }
   ],
   "source": [
    "sorted(tt1)"
   ]
  },
  {
   "cell_type": "code",
   "execution_count": 55,
   "id": "5d26983d-7169-496e-ad0a-41e507a3ca80",
   "metadata": {},
   "outputs": [
    {
     "data": {
      "text/plain": [
       "(4, 3, 2, 1)"
      ]
     },
     "execution_count": 55,
     "metadata": {},
     "output_type": "execute_result"
    }
   ],
   "source": [
    "tuple(reversed(tt1))"
   ]
  },
  {
   "cell_type": "code",
   "execution_count": 61,
   "id": "40d81bb1-7aad-4ad6-b977-bcdf25a58055",
   "metadata": {},
   "outputs": [
    {
     "name": "stdout",
     "output_type": "stream",
     "text": [
      "4 3 2 1 "
     ]
    }
   ],
   "source": [
    "for i in reversed(tt1):\n",
    "    print(i, end=\" \")"
   ]
  },
  {
   "cell_type": "code",
   "execution_count": 65,
   "id": "9d5ce204-3e52-45b3-afb3-f9166cf94403",
   "metadata": {},
   "outputs": [
    {
     "name": "stdout",
     "output_type": "stream",
     "text": [
      "16\n",
      "[1, 6, 6, 6, 7, 8, 9, 22, 25, 65, 333, 456, 763, 4444, 5555, 35356]\n",
      "(1, 22, 333, 4444, 5555, 6, 6, 7, 6, 8, 9, 35356, 763, 456, 25, 65)\n"
     ]
    }
   ],
   "source": [
    "s = (1,22,333,4444,5555,6,6,7,6,8,9,35356,763,456,25,65)\n",
    "print(len(s))\n",
    "print(sorted(s))\n",
    "print(s)"
   ]
  },
  {
   "cell_type": "code",
   "execution_count": 79,
   "id": "c56ba71d-b662-4ee8-a2b9-1b848128aabd",
   "metadata": {},
   "outputs": [
    {
     "name": "stdout",
     "output_type": "stream",
     "text": [
      "0 -> 1\n",
      "1 -> 22\n",
      "2 -> 333\n",
      "3 -> 4444\n",
      "4 -> 5555\n",
      "5 -> 6\n",
      "6 -> 6\n",
      "7 -> 7\n",
      "8 -> 6\n",
      "9 -> 8\n",
      "10 -> 9\n",
      "11 -> 35356\n",
      "12 -> 763\n",
      "13 -> 456\n",
      "14 -> 25\n",
      "15 -> 65\n"
     ]
    }
   ],
   "source": [
    "for i, val in enumerate(s):\n",
    "    print(i,\"->\",val)"
   ]
  },
  {
   "cell_type": "code",
   "execution_count": 81,
   "id": "f4195289-2f2f-468b-a908-68b8ce11c4b5",
   "metadata": {},
   "outputs": [
    {
     "name": "stdout",
     "output_type": "stream",
     "text": [
      "<class 'dict'>\n"
     ]
    }
   ],
   "source": [
    "s1 = {}\n",
    "print(type(s1))"
   ]
  },
  {
   "cell_type": "code",
   "execution_count": 85,
   "id": "1755dde0-649b-4cee-883f-f8f2dd02474d",
   "metadata": {},
   "outputs": [
    {
     "name": "stdout",
     "output_type": "stream",
     "text": [
      "<class 'set'>\n"
     ]
    }
   ],
   "source": [
    "s2 = set()\n",
    "print(type(s2))"
   ]
  },
  {
   "cell_type": "code",
   "execution_count": 93,
   "id": "2418c6c1-e89f-4b61-aba5-de9517cbccca",
   "metadata": {},
   "outputs": [
    {
     "name": "stdout",
     "output_type": "stream",
     "text": [
      "{(1, 2)}\n"
     ]
    }
   ],
   "source": [
    "s2.add((1,2))\n",
    "print(s2)"
   ]
  },
  {
   "cell_type": "code",
   "execution_count": 95,
   "id": "26f0bb30-9dc5-47dc-9543-9633e32417d7",
   "metadata": {},
   "outputs": [],
   "source": [
    "st = set()\n",
    "st.add(\"atgctagctagctagcatcgat\")"
   ]
  },
  {
   "cell_type": "code",
   "execution_count": 97,
   "id": "48bb0fd5-9ac1-4f96-b6a0-741f1aa65702",
   "metadata": {},
   "outputs": [],
   "source": [
    "st.add(\"atcgtacg\")"
   ]
  },
  {
   "cell_type": "code",
   "execution_count": 101,
   "id": "ce79463a-759d-4c12-8c76-eb5295062b96",
   "metadata": {},
   "outputs": [
    {
     "name": "stdout",
     "output_type": "stream",
     "text": [
      "{'atgctagctagctagcatcgat', 'atcgtacg'}\n"
     ]
    }
   ],
   "source": [
    "print(st)"
   ]
  },
  {
   "cell_type": "code",
   "execution_count": 103,
   "id": "0dee2c66-2fc8-4202-9ab7-6e763c604047",
   "metadata": {},
   "outputs": [],
   "source": [
    "ss1 = set((\"ATGCTCAGACTCG\",\"ACGT\",\"GTAC\"))"
   ]
  },
  {
   "cell_type": "code",
   "execution_count": 105,
   "id": "93919038-3ce8-45c9-b957-e36ee50faa90",
   "metadata": {},
   "outputs": [
    {
     "name": "stdout",
     "output_type": "stream",
     "text": [
      "{'ACGT', 'ATGCTCAGACTCG', 'GTAC'}\n"
     ]
    }
   ],
   "source": [
    "print(ss1)"
   ]
  },
  {
   "cell_type": "code",
   "execution_count": 107,
   "id": "5904f2d9-66a6-4a2c-8eff-8049e1e7dc4f",
   "metadata": {},
   "outputs": [
    {
     "name": "stdout",
     "output_type": "stream",
     "text": [
      "{1, 2, 3, 4, 5, 6, 7} {3, 4, 5, 6, 7}\n"
     ]
    }
   ],
   "source": [
    "s1 = {1,2,3}\n",
    "s2 = {3,4,5,6,7}\n",
    "s1.update(s2)\n",
    "s1.union(s2)\n",
    "print(s1, s2)"
   ]
  },
  {
   "cell_type": "code",
   "execution_count": 1,
   "id": "0322830d-3e39-4c2a-b2fa-ca2e8b6e89a0",
   "metadata": {},
   "outputs": [],
   "source": [
    "#Session-12"
   ]
  },
  {
   "cell_type": "code",
   "execution_count": 5,
   "id": "ea80fdc6-062b-41b0-b39b-100e719f1bf6",
   "metadata": {},
   "outputs": [
    {
     "name": "stdout",
     "output_type": "stream",
     "text": [
      "{'Om': 21, 'Hemang': 52}\n"
     ]
    }
   ],
   "source": [
    "d = {\n",
    "    \"Om\":21,\n",
    "    \"Hemang\":52\n",
    "}\n",
    "print(d)"
   ]
  },
  {
   "cell_type": "code",
   "execution_count": 7,
   "id": "bbcf7ffb-3c22-42b1-9a02-c2b6a3181d19",
   "metadata": {},
   "outputs": [
    {
     "name": "stdout",
     "output_type": "stream",
     "text": [
      "52\n"
     ]
    }
   ],
   "source": [
    "print(d[\"Hemang\"])"
   ]
  },
  {
   "cell_type": "code",
   "execution_count": 9,
   "id": "408d7a21-7f18-4c38-807f-d9acc288ebac",
   "metadata": {},
   "outputs": [
    {
     "name": "stdout",
     "output_type": "stream",
     "text": [
      "dict_values([21, 52])\n"
     ]
    }
   ],
   "source": [
    "print(d.values())"
   ]
  },
  {
   "cell_type": "code",
   "execution_count": 15,
   "id": "42625abf-4abb-462f-a413-518446db1cde",
   "metadata": {},
   "outputs": [
    {
     "name": "stdout",
     "output_type": "stream",
     "text": [
      "Om\n",
      "Hemang\n"
     ]
    }
   ],
   "source": [
    "for i in d.keys():\n",
    "    print(i)"
   ]
  },
  {
   "cell_type": "code",
   "execution_count": 17,
   "id": "bad41bfa-50ad-419c-9f71-e989fbf1f67b",
   "metadata": {},
   "outputs": [
    {
     "name": "stdout",
     "output_type": "stream",
     "text": [
      "dict_items([('Om', 21), ('Hemang', 52)])\n"
     ]
    }
   ],
   "source": [
    "print(d.items())"
   ]
  },
  {
   "cell_type": "code",
   "execution_count": 19,
   "id": "2cb36fc1-003e-459b-97cb-b30de188e607",
   "metadata": {},
   "outputs": [
    {
     "name": "stdout",
     "output_type": "stream",
     "text": [
      "Om 21\n",
      "Hemang 52\n"
     ]
    }
   ],
   "source": [
    "for k,l in d.items():\n",
    "    print(k,l)"
   ]
  },
  {
   "cell_type": "code",
   "execution_count": 21,
   "id": "b9bec885-03b0-458e-b231-10d9736939a5",
   "metadata": {},
   "outputs": [],
   "source": [
    "d[\"Hemang\"]=1,2"
   ]
  },
  {
   "cell_type": "code",
   "execution_count": 23,
   "id": "c3a41b94-ba99-4546-be20-d0e510d64afa",
   "metadata": {},
   "outputs": [
    {
     "name": "stdout",
     "output_type": "stream",
     "text": [
      "{'Om': 21, 'Hemang': (1, 2)}\n"
     ]
    }
   ],
   "source": [
    "print(d)"
   ]
  },
  {
   "cell_type": "code",
   "execution_count": 25,
   "id": "5d7bd3d4-da65-4589-8172-a95be4d40b53",
   "metadata": {},
   "outputs": [],
   "source": [
    "d[\"Pratik\"]=60"
   ]
  },
  {
   "cell_type": "code",
   "execution_count": 27,
   "id": "50571b01-e59d-4af6-871f-13a64e817f94",
   "metadata": {},
   "outputs": [
    {
     "name": "stdout",
     "output_type": "stream",
     "text": [
      "{'Om': 21, 'Hemang': (1, 2), 'Pratik': 60}\n"
     ]
    }
   ],
   "source": [
    "print(d)"
   ]
  },
  {
   "cell_type": "code",
   "execution_count": 29,
   "id": "d0c3b01b-82a5-435c-bd46-6334032bf8bc",
   "metadata": {},
   "outputs": [],
   "source": [
    "del d[\"Hemang\"]"
   ]
  },
  {
   "cell_type": "code",
   "execution_count": 31,
   "id": "d45d6390-568b-477c-a809-f4742e4cbec1",
   "metadata": {},
   "outputs": [
    {
     "name": "stdout",
     "output_type": "stream",
     "text": [
      "{'Om': 21, 'Pratik': 60}\n"
     ]
    }
   ],
   "source": [
    "print(d)"
   ]
  },
  {
   "cell_type": "code",
   "execution_count": 33,
   "id": "c81853fb-90ed-495e-9658-127af4a6366d",
   "metadata": {},
   "outputs": [],
   "source": [
    "d.clear()"
   ]
  },
  {
   "cell_type": "code",
   "execution_count": 37,
   "id": "9459050f-dda9-4d3b-b3a8-85e2952bca0e",
   "metadata": {},
   "outputs": [],
   "source": [
    "#pop function removes the last item in the dictionary"
   ]
  },
  {
   "cell_type": "code",
   "execution_count": 39,
   "id": "d4e49a82-f6f4-417c-9a92-b241781e75de",
   "metadata": {},
   "outputs": [
    {
     "name": "stdout",
     "output_type": "stream",
     "text": [
      "{}\n"
     ]
    }
   ],
   "source": [
    "print(d)"
   ]
  },
  {
   "cell_type": "code",
   "execution_count": 47,
   "id": "a5565de0-fe74-49cd-a472-6a5c12423d52",
   "metadata": {},
   "outputs": [
    {
     "name": "stdout",
     "output_type": "stream",
     "text": [
      "{'a': 1, 'b': 2, 'c': 3, 'd': 4, 'e': 5, 'f': 6, 'g': 7, 'h': 8, 'i': 9, 'j': 10, 'k': 11, 'l': 12, 'm': 13, 'n': 14, 'o': 15, 'p': 16, 'q': 17, 'r': 18, 's': 19, 't': 20, 'u': 21, 'v': 22, 'w': 23, 'x': 24, 'y': 25, 'z': 26}\n"
     ]
    }
   ],
   "source": [
    "#WAP to create a dict of alphabet and a respective number as A1,B2,C3...etc\n",
    "\n",
    "d = {}\n",
    "\n",
    "alph = \"abcdefghijklmnopqrstuvwxyz\"\n",
    "\n",
    "for i in range(len(alph)):\n",
    "    d[alph[i]] = i + 1\n",
    "\n",
    "print(d)"
   ]
  },
  {
   "cell_type": "code",
   "execution_count": 49,
   "id": "41cee4f4-1db5-4f86-ad51-203f82745601",
   "metadata": {},
   "outputs": [],
   "source": [
    "#Using list comprehension create a list of codons and perform traslation using dictionary"
   ]
  },
  {
   "cell_type": "code",
   "execution_count": 51,
   "id": "75a03c3c-ef4d-4f1a-9835-5fe485605b64",
   "metadata": {},
   "outputs": [],
   "source": [
    "#Nested for loop ki madat se 64 codons ka list banao baas, pachi dna string lo ane convert it into codons and print the frequency of every codons "
   ]
  },
  {
   "cell_type": "code",
   "execution_count": 53,
   "id": "0be563f7-0b06-405a-aa21-e63f596144e5",
   "metadata": {},
   "outputs": [],
   "source": [
    "#WAP to input a sentence from a user and print the frequency of all the alphabets"
   ]
  },
  {
   "cell_type": "code",
   "execution_count": 55,
   "id": "f237d9e1-7510-481d-a475-95a50f15d145",
   "metadata": {},
   "outputs": [],
   "source": [
    "#WAP to input a string and print the frequesncy of all the alphabets"
   ]
  },
  {
   "cell_type": "code",
   "execution_count": 57,
   "id": "de7a61cc-a69f-41a7-8302-a3ecb3f55a4b",
   "metadata": {},
   "outputs": [],
   "source": [
    "#WAP to input a sentence from a user and print the frequency of all the words"
   ]
  },
  {
   "cell_type": "code",
   "execution_count": 7,
   "id": "a4e3bb6e-637d-4f51-8ed4-d8393fd468c6",
   "metadata": {},
   "outputs": [
    {
     "name": "stdin",
     "output_type": "stream",
     "text": [
      "Enter a number :  123\n"
     ]
    },
    {
     "name": "stdout",
     "output_type": "stream",
     "text": [
      "['One', 'Two', 'Three']\n"
     ]
    }
   ],
   "source": [
    "#WAP to input a number and print it in words.\n",
    "n = int(input(\"Enter a number : \"))\n",
    "t = n\n",
    "l = []\n",
    "words = {0:\"Zero\",\n",
    "        1:\"One\",\n",
    "        2:\"Two\",\n",
    "        3:\"Three\",\n",
    "        4:\"Four\",\n",
    "        5:\"Five\",\n",
    "        6:\"Six\",\n",
    "        7:\"Seven\",\n",
    "        8:\"Eight\",\n",
    "        9:\"Nine\"}\n",
    "while n != 0:\n",
    "    d = n % 10\n",
    "    l.append(words[d])\n",
    "    n //= 10\n",
    "print(l[::-1])\n",
    "\n",
    "'''\n",
    "n = int(input(\"Enter a number : \"))\n",
    "l = list(str(n))\n",
    "words = {0:\"Zero\",\n",
    "        1:\"One\",\n",
    "        2:\"Two\",\n",
    "        3:\"Three\",\n",
    "        4:\"Four\",\n",
    "        5:\"Five\",\n",
    "        6:\"Six\",\n",
    "        7:\"Seven\",\n",
    "        8:\"Eight\",\n",
    "        9:\"Nine\"}\n",
    "for i in l:\n",
    "    print(words[int(i)],end=\" \")\n",
    "'''"
   ]
  },
  {
   "cell_type": "code",
   "execution_count": 15,
   "id": "27fc32bb-2a28-4777-bc22-7934ceb92fd6",
   "metadata": {},
   "outputs": [
    {
     "name": "stdin",
     "output_type": "stream",
     "text": [
      "Enter a number:  1234\n"
     ]
    },
    {
     "name": "stdout",
     "output_type": "stream",
     "text": [
      "Number in words: One Thousand Two Hundred and Thirty Four\n"
     ]
    },
    {
     "data": {
      "text/plain": [
       "'\\nfrom num2words import num2words\\n\\nnum = int(input(\"Enter a number: \"))\\n\\nwords = num2words(num,lang=\\'en_IN\\')  # \\'en_IN\\' for Indian format like lakh, crore # Convert number to words\\n\\nprint(\"Number in words:\", words.capitalize())\\n'"
      ]
     },
     "execution_count": 15,
     "metadata": {},
     "output_type": "execute_result"
    }
   ],
   "source": [
    "#WAP to input a number and print it in tens, hundereds, thousands, lakhs and core.\n",
    "\n",
    "# WAP to input a number and print it in words (Indian system using dictionaries, no functions)\n",
    "\n",
    "# Number to word mappings\n",
    "units = {\n",
    "    1: \"One\", 2: \"Two\", 3: \"Three\", 4: \"Four\", 5: \"Five\",\n",
    "    6: \"Six\", 7: \"Seven\", 8: \"Eight\", 9: \"Nine\"\n",
    "}\n",
    "\n",
    "teens = {\n",
    "    10: \"Ten\", 11: \"Eleven\", 12: \"Twelve\", 13: \"Thirteen\", 14: \"Fourteen\",\n",
    "    15: \"Fifteen\", 16: \"Sixteen\", 17: \"Seventeen\", 18: \"Eighteen\", 19: \"Nineteen\"\n",
    "}\n",
    "\n",
    "tens = {\n",
    "    2: \"Twenty\", 3: \"Thirty\", 4: \"Forty\", 5: \"Fifty\",\n",
    "    6: \"Sixty\", 7: \"Seventy\", 8: \"Eighty\", 9: \"Ninety\"\n",
    "}\n",
    "\n",
    "n = int(input(\"Enter a number: \"))\n",
    "original = n\n",
    "result = \"\"\n",
    "\n",
    "# Crores\n",
    "if n >= 10000000:\n",
    "    crore = n // 10000000\n",
    "    if crore < 10:\n",
    "        if crore in units:\n",
    "            result += units[crore] + \" Crore \"\n",
    "    elif 10 <= crore < 20:\n",
    "        result += teens[crore] + \" Crore \"\n",
    "    else:\n",
    "        t = crore // 10\n",
    "        u = crore % 10\n",
    "        result += tens[t] + \" \" + (units[u] + \" \" if u else \"\") + \"Crore \"\n",
    "    n = n % 10000000\n",
    "\n",
    "# Lakhs\n",
    "if n >= 100000:\n",
    "    lakh = n // 100000\n",
    "    if lakh < 10:\n",
    "        if lakh in units:\n",
    "            result += units[lakh] + \" Lakh \"\n",
    "    elif 10 <= lakh < 20:\n",
    "        result += teens[lakh] + \" Lakh \"\n",
    "    else:\n",
    "        t = lakh // 10\n",
    "        u = lakh % 10\n",
    "        result += tens[t] + \" \" + (units[u] + \" \" if u else \"\") + \"Lakh \"\n",
    "    n = n % 100000\n",
    "\n",
    "# Thousands\n",
    "if n >= 1000:\n",
    "    thousand = n // 1000\n",
    "    if thousand < 10:\n",
    "        if thousand in units:\n",
    "            result += units[thousand] + \" Thousand \"\n",
    "    elif 10 <= thousand < 20:\n",
    "        result += teens[thousand] + \" Thousand \"\n",
    "    else:\n",
    "        t = thousand // 10\n",
    "        u = thousand % 10\n",
    "        result += tens[t] + \" \" + (units[u] + \" \" if u else \"\") + \"Thousand \"\n",
    "    n = n % 1000\n",
    "\n",
    "# Hundreds\n",
    "if n >= 100:\n",
    "    hundred = n // 100\n",
    "    if hundred in units:\n",
    "        result += units[hundred] + \" Hundred \"\n",
    "    n = n % 100\n",
    "    if n != 0:\n",
    "        result += \"and \"\n",
    "\n",
    "# Last two digits\n",
    "if n != 0:\n",
    "    if n < 10:\n",
    "        result += units[n]\n",
    "    elif 10 <= n < 20:\n",
    "        result += teens[n]\n",
    "    else:\n",
    "        t = n // 10\n",
    "        u = n % 10\n",
    "        result += tens[t]\n",
    "        if u:\n",
    "            result += \" \" + units[u]\n",
    "\n",
    "# If number was 0\n",
    "if original == 0:\n",
    "    result = \"Zero\"\n",
    "\n",
    "# Final output\n",
    "print(\"Number in words:\", result.strip())\n",
    "\n",
    "\n",
    "'''\n",
    "units = [\"\", \"One\", \"Two\", \"Three\", \"Four\", \"Five\", \"Six\", \"Seven\", \"Eight\", \"Nine\"]\n",
    "teens = [\"Ten\", \"Eleven\", \"Twelve\", \"Thirteen\", \"Fourteen\", \"Fifteen\",\n",
    "         \"Sixteen\", \"Seventeen\", \"Eighteen\", \"Nineteen\"]\n",
    "tens = [\"\", \"\", \"Twenty\", \"Thirty\", \"Forty\", \"Fifty\", \"Sixty\", \"Seventy\", \"Eighty\", \"Ninety\"]\n",
    "\n",
    "n = int(input(\"Enter a number: \"))\n",
    "original = n\n",
    "result = \"\"\n",
    "\n",
    "# Crores\n",
    "if n >= 10000000:\n",
    "    crore = n // 10000000\n",
    "    if crore < 10:\n",
    "        result += units[crore] + \" Crore \"\n",
    "    else:\n",
    "        if crore < 20:\n",
    "            result += teens[crore - 10] + \" Crore \"\n",
    "        else:\n",
    "            result += tens[crore // 10] + \" \" + units[crore % 10] + \" Crore \"\n",
    "    n = n % 10000000\n",
    "\n",
    "# Lakhs\n",
    "if n >= 100000:\n",
    "    lakh = n // 100000\n",
    "    if lakh < 10:\n",
    "        result += units[lakh] + \" Lakh \"\n",
    "    else:\n",
    "        if lakh < 20:\n",
    "            result += teens[lakh - 10] + \" Lakh \"\n",
    "        else:\n",
    "            result += tens[lakh // 10] + \" \" + units[lakh % 10] + \" Lakh \"\n",
    "    n = n % 100000\n",
    "\n",
    "# Thousands\n",
    "if n >= 1000:\n",
    "    thousand = n // 1000\n",
    "    if thousand < 10:\n",
    "        result += units[thousand] + \" Thousand \"\n",
    "    else:\n",
    "        if thousand < 20:\n",
    "            result += teens[thousand - 10] + \" Thousand \"\n",
    "        else:\n",
    "            result += tens[thousand // 10] + \" \" + units[thousand % 10] + \" Thousand \"\n",
    "    n = n % 1000\n",
    "\n",
    "# Hundreds\n",
    "if n >= 100:\n",
    "    hundred = n // 100\n",
    "    result += units[hundred] + \" Hundred \"\n",
    "    n = n % 100\n",
    "    if n != 0:\n",
    "        result += \"and \"\n",
    "\n",
    "# Last two digits (1 to 99)\n",
    "if n > 0:\n",
    "    if n < 10:\n",
    "        result += units[n]\n",
    "    elif 10 <= n < 20:\n",
    "        result += teens[n - 10]\n",
    "    else:\n",
    "        result += tens[n // 10] + \" \" + units[n % 10]\n",
    "\n",
    "if original == 0:\n",
    "    result = \"Zero\"\n",
    "\n",
    "print(\"Number in words:\", result.strip())\n",
    "'''\n",
    "\n",
    "'''\n",
    "# Define words for numbers\n",
    "units = [\"\", \"One\", \"Two\", \"Three\", \"Four\", \"Five\", \"Six\", \"Seven\", \"Eight\", \"Nine\"]\n",
    "teens = [\"Ten\", \"Eleven\", \"Twelve\", \"Thirteen\", \"Fourteen\", \"Fifteen\",\n",
    "         \"Sixteen\", \"Seventeen\", \"Eighteen\", \"Nineteen\"]\n",
    "tens = [\"\", \"\", \"Twenty\", \"Thirty\", \"Forty\", \"Fifty\", \"Sixty\", \"Seventy\", \"Eighty\", \"Ninety\"]\n",
    "\n",
    "# Function to convert two-digit numbers\n",
    "def two_digit(n):\n",
    "    if n == 0:\n",
    "        return \"\"\n",
    "    elif n < 10:\n",
    "        return units[n]\n",
    "    elif 10 <= n < 20:\n",
    "        return teens[n - 10]\n",
    "    else:\n",
    "        return tens[n // 10] + (\" \" + units[n % 10] if (n % 10 != 0) else \"\")\n",
    "\n",
    "# Function to convert number to words\n",
    "def number_to_words(n):\n",
    "    if n == 0:\n",
    "        return \"Zero\"\n",
    "\n",
    "    result = \"\"\n",
    "\n",
    "    if n >= 10000000:\n",
    "        result += two_digit(n // 10000000) + \" Crore \"\n",
    "        n = n % 10000000\n",
    "\n",
    "    if n >= 100000:\n",
    "        result += two_digit(n // 100000) + \" Lakh \"\n",
    "        n = n % 100000\n",
    "\n",
    "    if n >= 1000:\n",
    "        result += two_digit(n // 1000) + \" Thousand \"\n",
    "        n = n % 1000\n",
    "\n",
    "    if n >= 100:\n",
    "        result += units[n // 100] + \" Hundred \"\n",
    "        n = n % 100\n",
    "\n",
    "    if n > 0:\n",
    "        if result != \"\":\n",
    "            result += \"and \"\n",
    "        result += two_digit(n)\n",
    "\n",
    "    return result.strip()\n",
    "\n",
    "# --- Main Code ---\n",
    "num = int(input(\"Enter a number: \"))\n",
    "print(\"Number in words:\", number_to_words(num))\n",
    "'''\n",
    "\n",
    "'''\n",
    "from num2words import num2words\n",
    "\n",
    "num = int(input(\"Enter a number: \"))\n",
    "\n",
    "words = num2words(num,lang='en_IN')  # 'en_IN' for Indian format like lakh, crore # Convert number to words\n",
    "\n",
    "print(\"Number in words:\", words.capitalize())\n",
    "'''"
   ]
  },
  {
   "cell_type": "code",
   "execution_count": 5,
   "id": "ad43508c-0bc8-4c86-b460-eede00791af6",
   "metadata": {},
   "outputs": [],
   "source": [
    "#Session-13 File manipulation"
   ]
  },
  {
   "cell_type": "code",
   "execution_count": 3,
   "id": "402fbc29-932e-43c6-b321-f49966ef72c5",
   "metadata": {},
   "outputs": [],
   "source": [
    "#Session-14 More File Manipulation"
   ]
  },
  {
   "cell_type": "code",
   "execution_count": 27,
   "id": "cb4c489b-971d-4242-9f24-d554da6f2103",
   "metadata": {},
   "outputs": [
    {
     "name": "stdin",
     "output_type": "stream",
     "text": [
      "Enter a character to count:  o\n"
     ]
    },
    {
     "name": "stdout",
     "output_type": "stream",
     "text": [
      "o  occurs in  This is a line one 1 times!\n",
      "o  occurs in  This is a line two 1 times!\n",
      "o  occurs in  This is a line three 0 times!\n",
      "o  occurs in  This is a line four 1 times!\n",
      "o  occurs in  This is a line five 0 times!\n"
     ]
    },
    {
     "data": {
      "text/plain": [
       "'\\nchar = input(\"Enter a character to count: \")\\n\\nfile = open(\"file1.txt\", \"r\")\\n\\nfor line in file:\\n    line_strip = line.strip()\\n    count = line_strip.count(char)\\n    print(f\"{line_strip} - {char} - {count}\")\\n\\nfile.close()\\n'"
      ]
     },
     "execution_count": 27,
     "metadata": {},
     "output_type": "execute_result"
    }
   ],
   "source": [
    "#WAP to open a file and input a charracter and print every linne in the file and the number of time the character occurs in the file\n",
    "\n",
    "f = open(\"file1.txt\")\n",
    "char = input(\"Enter a character to count: \")\n",
    "for line in f:\n",
    "    print(char,\" occurs in \",line.strip(),line.count(char), \"times!\")\n",
    "\n",
    "\n",
    "'''\n",
    "char = input(\"Enter a character to count: \")\n",
    "\n",
    "file = open(\"file1.txt\", \"r\")\n",
    "\n",
    "for line in file:\n",
    "    line_strip = line.strip()\n",
    "    count = line_strip.count(char)\n",
    "    print(f\"{line_strip} - {char} - {count}\")\n",
    "\n",
    "file.close()\n",
    "'''"
   ]
  },
  {
   "cell_type": "code",
   "execution_count": null,
   "id": "7bf8b3cd-0ad2-437d-97e1-fc6e003ffdfb",
   "metadata": {},
   "outputs": [],
   "source": [
    "#WAP to write from a file to another\n",
    "'''\n",
    "f1 = open(\"file1.txt\")\n",
    "f2 = open(\"file2.txt\",\"w\")\n",
    "l = f1.read()\n",
    "f2.write(l)\n",
    "f1.close()\n",
    "f2.close()\n",
    "'''"
   ]
  }
 ],
 "metadata": {
  "kernelspec": {
   "display_name": "Python 3 (ipykernel)",
   "language": "python",
   "name": "python3"
  },
  "language_info": {
   "codemirror_mode": {
    "name": "ipython",
    "version": 3
   },
   "file_extension": ".py",
   "mimetype": "text/x-python",
   "name": "python",
   "nbconvert_exporter": "python",
   "pygments_lexer": "ipython3",
   "version": "3.11.7"
  }
 },
 "nbformat": 4,
 "nbformat_minor": 5
}
