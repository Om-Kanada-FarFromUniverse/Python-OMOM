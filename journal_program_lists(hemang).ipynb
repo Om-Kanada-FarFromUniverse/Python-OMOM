{
 "cells": [
  {
   "cell_type": "code",
   "execution_count": 29,
   "id": "98211a26-d24a-4334-9acb-d16e680c5bf6",
   "metadata": {},
   "outputs": [
    {
     "name": "stdout",
     "output_type": "stream",
     "text": [
      "The sum of the items:  15\n"
     ]
    }
   ],
   "source": [
    "#1. Write a Python program to sum all the items in a list. \n",
    "\n",
    "lst=[1,2,3,4,5]\n",
    "total=0\n",
    "for items in lst:\n",
    "    total+=items\n",
    "print(\"The sum of the items: \",total)"
   ]
  },
  {
   "cell_type": "code",
   "execution_count": 30,
   "id": "39009ba1-4622-440a-a26e-0d5d21e7634b",
   "metadata": {},
   "outputs": [
    {
     "name": "stdout",
     "output_type": "stream",
     "text": [
      "The largest number is:  9\n"
     ]
    }
   ],
   "source": [
    "#2.Write a Python program to get the largest number from a list. \n",
    "\n",
    "lst=[3,5,6,8,7,4,9,1]\n",
    "largest=lst[0]\n",
    "\n",
    "for num in lst:\n",
    "    if num > largest:\n",
    "        largest=num\n",
    "print(\"The largest number is: \",largest)"
   ]
  },
  {
   "cell_type": "code",
   "execution_count": 31,
   "id": "66d751f2-7ae1-4a39-b5f9-94ddcca25003",
   "metadata": {},
   "outputs": [
    {
     "name": "stdout",
     "output_type": "stream",
     "text": [
      "The largest number is:  9\n",
      "The smallest number is: 1\n"
     ]
    }
   ],
   "source": [
    "#3.Write a Python program to get the smallest and largest number from a list.\n",
    "\n",
    "lst=[3,4,5,6,8,9,7,2,1]\n",
    "largest=smallest=lst[0]\n",
    "for num in lst:\n",
    "    if num > largest:\n",
    "        largest=num\n",
    "for num in lst:\n",
    "    if num < smallest:\n",
    "        smallest=num\n",
    "print(\"The largest number is: \",largest)\n",
    "print(\"The smallest number is:\",smallest)\n",
    "    "
   ]
  },
  {
   "cell_type": "code",
   "execution_count": 32,
   "id": "3c67e044-44d2-4f8b-aa04-ff69a8e526fd",
   "metadata": {},
   "outputs": [
    {
     "name": "stdout",
     "output_type": "stream",
     "text": [
      "Results: 2\n"
     ]
    }
   ],
   "source": [
    "#4.Write a Python program to count the number of strings where the string length is 2 or more and the first and last character are same from a given list of strings. \n",
    "#Sample List : ['abc', 'xyz', 'aba', '1221']\n",
    "#Expected Result : 2\n",
    "\n",
    "lst=['1221','aba','xyz','abc']\n",
    "count=0\n",
    "for s in lst:\n",
    "    if len(s)>2 and s[0]==s[-1]:\n",
    "        count+=1\n",
    "print(\"Results:\",count)\n",
    "    "
   ]
  },
  {
   "cell_type": "code",
   "execution_count": 33,
   "id": "05d7beac-40b4-4380-8f1d-bd69aa21f424",
   "metadata": {},
   "outputs": [
    {
     "name": "stdout",
     "output_type": "stream",
     "text": [
      "[(2, 1), (1, 2), (2, 3), (4, 4), (2, 5)]\n"
     ]
    }
   ],
   "source": [
    "#5. Write a Python program to get a list, sorted in increasing order by the last element in each tuple from a given list of non-empty tuples. \n",
    "#Sample List : [(2, 5), (1, 2), (4, 4), (2, 3), (2, 1)]\n",
    "#Expected Result : [(2, 1), (1, 2), (2, 3), (4, 4), (2, 5)]\n",
    "\n",
    "lst= [(2, 5), (1, 2), (4, 4), (2, 3), (2, 1)]\n",
    "for i in range(len(lst)):\n",
    "    min_index=i\n",
    "    for j in range(i+1,len(lst)):\n",
    "        if lst[j][-1] < lst[min_index][-1]:\n",
    "            min_index=j\n",
    "    lst[i],lst[min_index]=lst[min_index],lst[i]\n",
    "print(lst)\n",
    "    \n"
   ]
  },
  {
   "cell_type": "code",
   "execution_count": 34,
   "id": "939f030d-9667-46c9-a8da-abbb9ffba4e8",
   "metadata": {},
   "outputs": [
    {
     "name": "stdout",
     "output_type": "stream",
     "text": [
      "[1, 2, 3, 4, 5]\n"
     ]
    }
   ],
   "source": [
    "#6.Write a Python program to remove duplicates from a list. \n",
    "\n",
    "lst=[1,1,2,3,2,4,5,5,4]\n",
    "new_lst=[]\n",
    "\n",
    "for item in lst:\n",
    "    if item not in new_lst:\n",
    "        new_lst.append(item)\n",
    "print(new_lst)"
   ]
  },
  {
   "cell_type": "code",
   "execution_count": 35,
   "id": "c44ee32c-cb5a-4131-ada2-340741e7bf7e",
   "metadata": {},
   "outputs": [
    {
     "name": "stdout",
     "output_type": "stream",
     "text": [
      "False\n",
      "True\n"
     ]
    }
   ],
   "source": [
    "#7.Write a Python function that takes two lists and returns True if they have at least one common member. \n",
    "\n",
    "def common_member(lst1,lst2):\n",
    "    for item in lst1:\n",
    "        if item in lst2:\n",
    "            return True\n",
    "    return False\n",
    "\n",
    "print(common_member(['a','b','c'],['x','y','z']))\n",
    "print(common_member(['a','b','c'],['d','c','e']))\n"
   ]
  },
  {
   "cell_type": "code",
   "execution_count": 36,
   "id": "59fa764c-8167-4198-8ee3-2029d6cf5f92",
   "metadata": {},
   "outputs": [
    {
     "name": "stdout",
     "output_type": "stream",
     "text": [
      "['Green', 'White', 'Black']\n"
     ]
    }
   ],
   "source": [
    "#8.Write a Python program to print a specified list after removing the 0th, 4th and 5th elements. \n",
    "#Sample List : ['Red', 'Green', 'White', 'Black', 'Pink', 'Yellow']\n",
    "#Expected Output : ['Green', 'White', 'Black']\n",
    "\n",
    "lst=['Red','Green','White','Black','Pink','Yellow']\n",
    "newlst=[]\n",
    "for item in range(len(lst)):\n",
    "    if item not in (0,4,5):\n",
    "        newlst.append(lst[item])    \n",
    "print(newlst)\n",
    "    "
   ]
  },
  {
   "cell_type": "code",
   "execution_count": 39,
   "id": "07fa1bcc-81c0-4f36-b72e-62497c2076e9",
   "metadata": {},
   "outputs": [
    {
     "name": "stdout",
     "output_type": "stream",
     "text": [
      "[1, 3, 5, 7, 9]\n"
     ]
    }
   ],
   "source": [
    "#. Write a Python program to print the list after removing even numbers from it\n",
    "\n",
    "lst=[1,2,3,4,5,6,7,8,9,10]\n",
    "newlst=[]\n",
    "for num in lst:\n",
    "    if num%2 != 0:\n",
    "        newlst.append(num)\n",
    "print(newlst)\n",
    "        "
   ]
  },
  {
   "cell_type": "code",
   "execution_count": 46,
   "id": "93cf6c95-5497-45da-a5c7-efab449ee143",
   "metadata": {
    "jp-MarkdownHeadingCollapsed": true
   },
   "outputs": [
    {
     "name": "stdout",
     "output_type": "stream",
     "text": [
      "[1, 2, 3]\n",
      "[1, 3, 2]\n",
      "[2, 1, 3]\n",
      "[2, 3, 1]\n",
      "[3, 2, 1]\n",
      "[3, 1, 2]\n"
     ]
    }
   ],
   "source": [
    "#10.Write a Python program to generate all permutations of a list in Python. \n",
    "\n",
    "def permute(lst, start=0):\n",
    "    if start == len(lst) - 1:\n",
    "        print(lst)\n",
    "        return\n",
    "    for i in range(start, len(lst)):\n",
    "        lst[start], lst[i] = lst[i], lst[start]  # swap\n",
    "        permute(lst, start + 1)\n",
    "        lst[start], lst[i] = lst[i], lst[start]  # backtrack\n",
    "\n",
    "lst = [1,2,3]\n",
    "permute(lst)\n"
   ]
  },
  {
   "cell_type": "code",
   "execution_count": 48,
   "id": "03595194-5efc-4555-8b6c-b7dcd20843d4",
   "metadata": {},
   "outputs": [
    {
     "name": "stdout",
     "output_type": "stream",
     "text": [
      "lst1-lst2 [1, 3, 5]\n",
      "lst2-lst1 [6]\n"
     ]
    }
   ],
   "source": [
    "#11.Write a Python program to get the difference between the two lists. \n",
    "\n",
    "lst1=[1,2,3,4,5]\n",
    "lst2=[2,4,6]\n",
    "\n",
    "diff1=[x for x in lst1 if x not in lst2]\n",
    "diff2=[x for x in lst2 if x not in lst1]\n",
    "\n",
    "print(\"lst1-lst2\",diff1)\n",
    "print(\"lst2-lst1\",diff2)"
   ]
  },
  {
   "cell_type": "code",
   "execution_count": 49,
   "id": "8ca9d171-1d76-425d-b24a-cb320320191a",
   "metadata": {},
   "outputs": [
    {
     "name": "stdout",
     "output_type": "stream",
     "text": [
      "Index: 0 Value: a\n",
      "Index: 1 Value: b\n",
      "Index: 2 Value: c\n",
      "Index: 3 Value: d\n",
      "Index: 4 Value: e\n"
     ]
    }
   ],
   "source": [
    "#12 . Write a Python program access the index of a list. \n",
    "\n",
    "lst=['a','b','c','d','e']\n",
    "for i in range(len(lst)):\n",
    "    print(\"Index:\",i,\"Value:\",lst[i])"
   ]
  },
  {
   "cell_type": "code",
   "execution_count": 50,
   "id": "753793fb-cff5-418e-8415-6702ccaa0e9e",
   "metadata": {},
   "outputs": [
    {
     "name": "stdout",
     "output_type": "stream",
     "text": [
      "hello\n"
     ]
    }
   ],
   "source": [
    "#13.Write a Python program to convert a list of characters into a string. \n",
    "\n",
    "lst=['h','e','l','l','o']\n",
    "st=\"\".join(lst)\n",
    "print(st)"
   ]
  },
  {
   "cell_type": "code",
   "execution_count": 51,
   "id": "b4d95282-e2d4-4488-917d-35b7b15adda7",
   "metadata": {},
   "outputs": [
    {
     "name": "stdout",
     "output_type": "stream",
     "text": [
      "Second Smallest: 2\n",
      "Second Laregst: 4\n"
     ]
    }
   ],
   "source": [
    "#14.Write a Python program to find the second smallest number and second largest number in a list. \n",
    "\n",
    "lst=[1,1,2,3,2,4,5,5,4]\n",
    "new_lst=[]\n",
    "\n",
    "for item in lst:\n",
    "    if item not in new_lst:\n",
    "        new_lst.append(item)\n",
    "new_lst.sort()\n",
    "secondsmallest=new_lst[1]\n",
    "secondlargest=new_lst[-2]\n",
    "\n",
    "print(\"Second Smallest:\",secondsmallest)\n",
    "print(\"Second Laregst:\",secondlargest)"
   ]
  },
  {
   "cell_type": "code",
   "execution_count": 52,
   "id": "8cd5e67c-7003-48ee-8aa1-3b670f892e36",
   "metadata": {},
   "outputs": [
    {
     "name": "stdout",
     "output_type": "stream",
     "text": [
      "{1: 2, 2: 2, 3: 2, 4: 1, 5: 2}\n"
     ]
    }
   ],
   "source": [
    "#15.Write a Python program to get the frequency of the elements in a list. \n",
    "\n",
    "lst=[1,2,2,3,1,4,5,3,5]\n",
    "freq={}\n",
    "for item in lst:\n",
    "    if item in freq:\n",
    "        freq[item]+=1\n",
    "    else:\n",
    "        freq[item]=1\n",
    "print(freq)\n",
    "        "
   ]
  },
  {
   "cell_type": "code",
   "execution_count": 3,
   "id": "06f5f408-0728-4ea0-bc14-0e3eba96e417",
   "metadata": {},
   "outputs": [
    {
     "name": "stdin",
     "output_type": "stream",
     "text": [
      "Enter the number: 5\n"
     ]
    },
    {
     "name": "stdout",
     "output_type": "stream",
     "text": [
      "['p1', 'q1', 'p2', 'q2', 'p3', 'q3', 'p4', 'q4', 'p5', 'q5']\n"
     ]
    }
   ],
   "source": [
    "#16.Write a Python program to create a list by concatenating a given list which range goes from 1 to n. \n",
    "#Sample list : ['p', 'q']\n",
    "#n =5\n",
    "#Sample Output : ['p1', 'q1', 'p2', 'q2', 'p3', 'q3', 'p4', 'q4', 'p5', 'q5']\n",
    "\n",
    "lst=['p','q']\n",
    "n=int(input(\"Enter the number:\"))\n",
    "result=[]\n",
    "\n",
    "for i in range (1,n+1):\n",
    "    for item in lst:\n",
    "        result.append(item+str(i))\n",
    "print(result)\n",
    "    "
   ]
  },
  {
   "cell_type": "code",
   "execution_count": 1,
   "id": "44af1963-eb16-407f-8ba4-949c31de80a6",
   "metadata": {},
   "outputs": [
    {
     "name": "stdout",
     "output_type": "stream",
     "text": [
      "Common items:  [1, 3, 5]\n"
     ]
    }
   ],
   "source": [
    "#17.Write a Python program to find common items from two lists\n",
    "\n",
    "lst1=[1,2,3,4,5,6]\n",
    "lst2=[1,3,5,7,9]\n",
    "commonlst=[]\n",
    "for item in lst1:\n",
    "    if item in lst2:\n",
    "        commonlst.append(item)\n",
    "print(\"Common items: \",commonlst)"
   ]
  },
  {
   "cell_type": "code",
   "execution_count": 2,
   "id": "47b62d53-d566-4de9-8547-6e76e71a23d2",
   "metadata": {},
   "outputs": [
    {
     "name": "stdout",
     "output_type": "stream",
     "text": [
      "[1, 0, 3, 2, 5, 4]\n"
     ]
    }
   ],
   "source": [
    "#18Write a Python program to change the position of every n-th value with the (n+1)th in a list. \n",
    "#Sample list: [0,1,2,3,4,5]\n",
    "#Expected Output: [1, 0, 3, 2, 5, 4]\n",
    "\n",
    "lst=[0,1,2,3,4,5]\n",
    "\n",
    "for i in range(0,len(lst)-1,2):\n",
    "    lst[i],lst[i+1]=lst[i+1],lst[i]\n",
    "print(lst)"
   ]
  },
  {
   "cell_type": "code",
   "execution_count": 3,
   "id": "79786222-08a2-4b09-963e-2cf17ef827e8",
   "metadata": {},
   "outputs": [
    {
     "name": "stdout",
     "output_type": "stream",
     "text": [
      "[{'color_name': 'Black', 'color_code': '#000000'}, {'color_name': 'Red', 'color_code': '#FF0000'}, {'color_name': 'Maroon', 'color_code': '#800000'}, {'color_name': 'Yellow', 'color_code': '#FFFF00'}]\n"
     ]
    }
   ],
   "source": [
    "#19 Write a Python program to convert list to list of dictionaries. \n",
    "#Sample lists: [\"Black\", \"Red\", \"Maroon\", \"Yellow\"], [\"#000000\", \"#FF0000\", \"#800000\", \"#FFFF00\"]\n",
    "#Expected Output: [{'color_name': 'Black', 'color_code': '#000000'}, {'color_name': 'Red', 'color_code': '#FF0000'}, {'color_name': 'Maroon', 'color_code': '#800000'}, {'color_name': 'Yellow', 'color_code': '#FFFF00'}]\n",
    "\n",
    "color_names = [\"Black\", \"Red\", \"Maroon\", \"Yellow\"]\n",
    "color_codes = [\"#000000\", \"#FF0000\", \"#800000\", \"#FFFF00\"]\n",
    "\n",
    "result = []\n",
    "\n",
    "for i in range(len(color_names)):\n",
    "    dict_item = {}\n",
    "    dict_item[\"color_name\"] = color_names[i]\n",
    "    dict_item[\"color_code\"] = color_codes[i]\n",
    "    result.append(dict_item)\n",
    "\n",
    "print(result)"
   ]
  },
  {
   "cell_type": "code",
   "execution_count": 6,
   "id": "0da1149e-8402-4e2e-ac36-c8dc0a6b9772",
   "metadata": {},
   "outputs": [
    {
     "name": "stdin",
     "output_type": "stream",
     "text": [
      "Enter the number: 4\n"
     ]
    },
    {
     "name": "stdout",
     "output_type": "stream",
     "text": [
      "[['a', 'd', 'g', 'j', 'm'], ['b', 'e', 'h', 'k', 'n'], ['c', 'f', 'i', 'l'], ['d', 'g', 'j', 'm']]\n"
     ]
    }
   ],
   "source": [
    "#20 Write a Python program to split a list every Nth element. (input n from the user)\n",
    "#Sample list: ['a', 'b', 'c', 'd', 'e', 'f', 'g', 'h', 'i', 'j', 'k', 'l', 'm', 'n']\n",
    "#4\n",
    "#Expected Output: [['a', 'd', 'g', 'j', 'm'], ['b', 'e', 'h', 'k', 'n'], ['c', 'f', 'i', 'l']]\n",
    "\n",
    "lst=['a','b','c','d','e','f','g','h','i','j','k','l','m','n']\n",
    "n=int(input(\"Enter the number:\"))\n",
    "result=[lst[i::n-1]for i in range(n) if lst[i::n]]\n",
    "print(result)"
   ]
  },
  {
   "cell_type": "code",
   "execution_count": 7,
   "id": "5689582a-2330-4326-9447-269e1ed3a991",
   "metadata": {},
   "outputs": [
    {
     "name": "stdout",
     "output_type": "stream",
     "text": [
      "color1-color2 ['red', 'orange', 'white']\n",
      "Color2-color1 ['black', 'yellow']\n"
     ]
    }
   ],
   "source": [
    "#21 Write a Python program to compute the difference between two lists. \n",
    "#Sample data: [\"red\", \"orange\", \"green\", \"blue\", \"white\"], [\"black\", \"yellow\", \"green\", \"blue\"]\n",
    "#Expected Output:\n",
    "#Color1-Color2: ['white', 'orange', 'red']\n",
    "#Color2-Color1: ['black', 'yellow']\n",
    "\n",
    "lst1=[\"red\",\"orange\",\"green\",\"blue\",\"white\"]\n",
    "lst2=[\"black\",\"yellow\",\"green\",\"blue\"]\n",
    "\n",
    "diff1=[c for c in lst1 if c not in lst2]\n",
    "diff2=[c for c in lst2 if c not in lst1]\n",
    "\n",
    "print(\"color1-color2\",diff1)\n",
    "print(\"Color2-color1\",diff2)"
   ]
  },
  {
   "cell_type": "code",
   "execution_count": 8,
   "id": "d83f2423-c8c3-4f18-93d9-52627a6b5e35",
   "metadata": {},
   "outputs": [
    {
     "name": "stdout",
     "output_type": "stream",
     "text": [
      "[1, 2, 3, 4, 5, 6, 7, 8, 9, 10]\n"
     ]
    }
   ],
   "source": [
    "#22 Write a Python program to concatenate two lists. \n",
    "lst1=[1,2,3,4,5]\n",
    "lst2=[6,7,8,9,10]\n",
    "result=lst1+lst2\n",
    "print(result)"
   ]
  },
  {
   "cell_type": "code",
   "execution_count": 9,
   "id": "515bfde2-9a95-4071-bbf0-c642091c1b4f",
   "metadata": {},
   "outputs": [
    {
     "name": "stdout",
     "output_type": "stream",
     "text": [
      "[{'id': 1, 'name': 'Alice'}, {'id': 2, 'name': 'Bob'}, {'id': 3, 'name': 'Charlie'}]\n"
     ]
    }
   ],
   "source": [
    "#23 Write a Python program to remove key values pairs from a list of dictionaries. \n",
    "\n",
    "students = [\n",
    "    {\"id\": 1, \"name\": \"Alice\", \"age\": 20},\n",
    "    {\"id\": 2, \"name\": \"Bob\", \"age\": 22},\n",
    "    {\"id\": 3, \"name\": \"Charlie\", \"age\": 21}\n",
    "]\n",
    "for d in students:\n",
    "    if \"age\" in d:\n",
    "         del d[\"age\"]\n",
    "print(students)"
   ]
  },
  {
   "cell_type": "code",
   "execution_count": 11,
   "id": "26a02317-5be2-4f33-bd38-28800a88a439",
   "metadata": {},
   "outputs": [
    {
     "name": "stdout",
     "output_type": "stream",
     "text": [
      "['The', 'best', 'of', 'the', 'best']\n"
     ]
    }
   ],
   "source": [
    "#24 Write a Python program to convert a string to a list. \n",
    "\n",
    "s=\"The best of the best\"\n",
    "st=s.split()\n",
    "print(st)"
   ]
  },
  {
   "cell_type": "code",
   "execution_count": 12,
   "id": "f6a2c056-9936-4ef5-af71-bb0843939b5f",
   "metadata": {},
   "outputs": [
    {
     "name": "stdout",
     "output_type": "stream",
     "text": [
      "True\n"
     ]
    }
   ],
   "source": [
    "#25 Write a Python program to check if all items of a given list of strings is equal to a given string. \n",
    "\n",
    "lst=[\"hello\",\"hello\",\"hello\"]\n",
    "st=\"hello\"\n",
    "\n",
    "result=all(item== st for item in lst)\n",
    "print(result)"
   ]
  },
  {
   "cell_type": "code",
   "execution_count": 1,
   "id": "d945dc74-39bb-466c-9174-d225e24bc042",
   "metadata": {},
   "outputs": [
    {
     "name": "stdout",
     "output_type": "stream",
     "text": [
      "[1, 3, 5, 7, 9, 2, 4, 6, 8]\n"
     ]
    }
   ],
   "source": [
    "#26 Write a Python program to replace the last element in a list with another list. \n",
    "#Sample data : [1, 3, 5, 7, 9, 10], [2, 4, 6, 8]\n",
    "#Expected Output: [1, 3, 5, 7, 9, 2, 4, 6, 8]\n",
    "\n",
    "lst1=[1,3,5,7,9,10]\n",
    "lst2=[2,4,6,8]\n",
    "\n",
    "lst1[-1:]=lst2\n",
    "print(lst1)"
   ]
  },
  {
   "cell_type": "code",
   "execution_count": 3,
   "id": "6c0c4e34-f6ee-44a0-b129-6e0108de2ad8",
   "metadata": {},
   "outputs": [
    {
     "name": "stdout",
     "output_type": "stream",
     "text": [
      "[{}, {}, {}, {}, {}]\n"
     ]
    }
   ],
   "source": [
    "#27  Write a Python program to create a list of empty dictionaries\n",
    "\n",
    "n=5\n",
    "dicts=[{} for _ in range (n)]\n",
    "\n",
    "print(dicts)"
   ]
  },
  {
   "cell_type": "code",
   "execution_count": 5,
   "id": "56c7fa16-816c-421c-807f-4f849bdeaab6",
   "metadata": {},
   "outputs": [
    {
     "name": "stdout",
     "output_type": "stream",
     "text": [
      "a  b  c  d\n"
     ]
    }
   ],
   "source": [
    "#28 Write a Python program to print a list of space-separated elements. \n",
    "#[‘a’,’ ‘,’b’, ’ ‘,’c’, ’ ‘,’d’]\n",
    "\n",
    "lst=[\"a\",\"\",\"b\",\"\",\"c\",\"\",\"d\"]\n",
    "print(\" \".join(lst))"
   ]
  },
  {
   "cell_type": "code",
   "execution_count": 6,
   "id": "3993820f-df6a-48fb-8ead-d9bb70662f11",
   "metadata": {},
   "outputs": [
    {
     "name": "stdout",
     "output_type": "stream",
     "text": [
      "['emp1', 'emp2', 'emp3', 'emp4']\n"
     ]
    }
   ],
   "source": [
    "#29 Write a Python program to insert a given string at the beginning of all items in a list. \n",
    "#Sample list : [1,2,3,4], string : emp\n",
    "#Expected output : ['emp1', 'emp2', 'emp3', 'emp4']\n",
    "\n",
    "lst=[1,2,3,4]\n",
    "st=\"emp\"\n",
    "\n",
    "result=[st+str(i) for i in lst]\n",
    "print(result)\n"
   ]
  },
  {
   "cell_type": "code",
   "execution_count": 7,
   "id": "84b4816e-e281-47f1-9384-8f7caa2f2f95",
   "metadata": {},
   "outputs": [
    {
     "name": "stdout",
     "output_type": "stream",
     "text": [
      "1 a\n",
      "2 b\n",
      "3 c\n",
      "4 d\n"
     ]
    }
   ],
   "source": [
    "#30 Write a Python program to iterate over two lists simultaneously. \n",
    "\n",
    "list1 = [1, 2, 3, 4]\n",
    "list2 = ['a', 'b', 'c', 'd']\n",
    "\n",
    "for x, y in zip(list1, list2):\n",
    "    print(x, y)"
   ]
  },
  {
   "cell_type": "code",
   "execution_count": 8,
   "id": "eff65fc6-7956-4d20-b210-6248e6b768fa",
   "metadata": {},
   "outputs": [
    {
     "name": "stdout",
     "output_type": "stream",
     "text": [
      "Original List: [3, 4, 0, 0, 0, 6, 2, 0, 6, 7, 6, 0, 0, 0, 9, 10, 7, 4, 4, 5, 3, 0, 0, 2, 9, 7, 1]\n",
      "Result: [3, 4, 6, 2, 6, 7, 6, 9, 10, 7, 4, 4, 5, 3, 2, 9, 7, 1, 0, 0, 0, 0, 0, 0, 0, 0, 0]\n"
     ]
    }
   ],
   "source": [
    "#31 Write a Python program to move all zero digits to end of a given list of numbers. \n",
    "#Expected output:\n",
    "#Original list:\n",
    "#[3, 4, 0, 0, 0, 6, 2, 0, 6, 7, 6, 0, 0, 0, 9, 10, 7, 4, 4, 5, 3, 0, 0, 2, 9, 7, 1]\n",
    "#Move all zero digits to end of the said list of numbers:\n",
    "#[3, 4, 6, 2, 6, 7, 6, 9, 10, 7, 4, 4, 5, 3, 2, 9, 7, 1, 0, 0, 0, 0, 0, 0, 0, 0, 0]\n",
    "\n",
    "lst=[3,4,0,0,0,6,2,0,6,7,6,0,0,0,9,10,7,4,4,5,3,0,0,2,9,7,1]\n",
    "print(\"Original List:\",lst)\n",
    "\n",
    "result=[x for x in lst if x !=0] + [0]* lst.count(0)\n",
    "print(\"Result:\",result)"
   ]
  },
  {
   "cell_type": "code",
   "execution_count": 1,
   "id": "ee0d646d-ab6b-42be-b50d-60c1cefd0aa6",
   "metadata": {},
   "outputs": [
    {
     "name": "stdout",
     "output_type": "stream",
     "text": [
      "The list with the highest sum: [10, 11, 12]\n"
     ]
    }
   ],
   "source": [
    "#32 Write a Python program to find the list in a list of lists whose sum of elements is the highest. \n",
    "#Sample lists: [1,2,3], [4,5,6], [10,11,12], [7,8,9]\n",
    "#Expected Output: [10, 11, 12]\n",
    "\n",
    "lst=[[1,2,3],[4,5,6],[10,11,12],[7,8,9]]\n",
    "maxsum=sum(lst[0])\n",
    "maxlst=lst[0]\n",
    "\n",
    "for lst in lst[1:]:\n",
    "    currentsum=sum(lst)\n",
    "    if currentsum>maxsum:\n",
    "        maxsum=currentsum\n",
    "        maxlst=lst\n",
    "print(\"The list with the highest sum:\",maxlst)"
   ]
  },
  {
   "cell_type": "code",
   "execution_count": 2,
   "id": "03d3d58f-ef37-454e-9bee-8241e68c3c83",
   "metadata": {},
   "outputs": [
    {
     "name": "stdout",
     "output_type": "stream",
     "text": [
      "The numbers greater than 10 is : [12, 18, 20, 11]\n"
     ]
    }
   ],
   "source": [
    "#33 Write a Python program to find all the values in a list are greater than a specified number. \n",
    "\n",
    "lst=[12,5,18,9,20,4,11,7]\n",
    "num=10\n",
    "\n",
    "greater=[x for x in lst if x>num]\n",
    "\n",
    "print(\"The numbers greater than 10 is :\",greater)"
   ]
  },
  {
   "cell_type": "code",
   "execution_count": 4,
   "id": "09427a86-dca0-4ca3-8368-95a2966c18b2",
   "metadata": {},
   "outputs": [
    {
     "name": "stdout",
     "output_type": "stream",
     "text": [
      "[40, 50, 60, 10, 20, 30]\n"
     ]
    }
   ],
   "source": [
    "#34 Write a Python program to extend a list without append. \n",
    "#Sample data: [10, 20, 30]\n",
    "#[40, 50, 60]\n",
    "#Expected output : [40, 50, 60, 10, 20, 30]\n",
    "\n",
    "lst1=[40,50,60]\n",
    "lst2=[10,20,30]\n",
    "result=lst1+lst2\n",
    "\n",
    "print(result)"
   ]
  },
  {
   "cell_type": "code",
   "execution_count": 1,
   "id": "07d7cb25-c5d7-48c3-8224-043a585e6500",
   "metadata": {},
   "outputs": [
    {
     "name": "stdout",
     "output_type": "stream",
     "text": [
      "New List: [[10, 20], [40], [30, 56, 25], [33]]\n"
     ]
    }
   ],
   "source": [
    "#35 . Write a Python program to remove duplicates from a list of lists. \n",
    "#Sample list : [[10, 20], [40], [30, 56, 25], [10, 20], [33], [40]]\n",
    "#New List : [[10, 20], [30, 56, 25], [33], [40]]\n",
    "\n",
    "data = [[10, 20], [40], [30, 56, 25], [10, 20], [33], [40]]\n",
    "new_list = []\n",
    "seen = set()\n",
    "\n",
    "for sublist in data:\n",
    "    t = tuple(sublist)   # convert list -> tuple\n",
    "    if t not in seen:    # only add if not already seen\n",
    "        seen.add(t)\n",
    "        new_list.append(sublist)\n",
    "\n",
    "print(\"New List:\", new_list)"
   ]
  },
  {
   "cell_type": "code",
   "execution_count": 7,
   "id": "f0884ae1-3e67-4a68-889f-194e57625243",
   "metadata": {},
   "outputs": [
    {
     "name": "stdin",
     "output_type": "stream",
     "text": [
      "Enter the character: a\n"
     ]
    },
    {
     "name": "stdout",
     "output_type": "stream",
     "text": [
      "items starts with 'a'is/are: ['abcd', 'abc', 'acjd']\n"
     ]
    }
   ],
   "source": [
    "#36 Write a Python program to find the items starts with specific character from a given list. \n",
    "#Expected Output:\n",
    "#Original list:\n",
    "#['abcd', 'abc', 'bcd', 'bkie', 'cder', 'cdsw', 'sdfsd', 'dagfa', 'acjd']\n",
    "#Items start with a from the said list:\n",
    "#['abcd', 'abc', 'acjd']\n",
    "#Items start with d from the said list:\n",
    "#['dagfa']\n",
    "#Items start with w from the said list:\n",
    "#[]\n",
    "\n",
    "lst=['abcd', 'abc', 'bcd', 'bkie', 'cder', 'cdsw', 'sdfsd', 'dagfa', 'acjd']\n",
    "ch=input(\"Enter the character:\")\n",
    "\n",
    "result=[w for w in lst if w.startswith(ch)]\n",
    "\n",
    "print(f\"items starts with '{ch}'is/are:\",result)"
   ]
  },
  {
   "cell_type": "code",
   "execution_count": 8,
   "id": "088e9464-41d5-49c8-9ec2-0aca53022e75",
   "metadata": {},
   "outputs": [
    {
     "name": "stdout",
     "output_type": "stream",
     "text": [
      "Flatten list: [0, 10, 20, 30, 40, 50, 60, 70, 80, 90, 100, 110, 120]\n"
     ]
    }
   ],
   "source": [
    "#37 . Write a Python program to flatten a given nested list structure. \n",
    "#Original list: [0, 10, [20, 30], 40, 50, [60, 70, 80], [90, 100, 110, 120]]\n",
    "#Flatten list:\n",
    "#[0, 10, 20, 30, 40, 50, 60, 70, 80, 90, 100, 110, 120]\n",
    "\n",
    "data = [0, 10, [20, 30], 40, 50, [60, 70, 80], [90, 100, [110, 120]]]\n",
    "flat = []\n",
    "stack = data[:]\n",
    "\n",
    "while stack:\n",
    "    item = stack.pop(0)\n",
    "    if type(item) == list:      # substitute for isinstance(item, list)\n",
    "        stack = item + stack\n",
    "    else:\n",
    "        flat.append(item)\n",
    "\n",
    "print(\"Flatten list:\", flat)"
   ]
  },
  {
   "cell_type": "code",
   "execution_count": 9,
   "id": "3f8ab955-941b-40f8-9804-2fbd97abc1df",
   "metadata": {},
   "outputs": [
    {
     "name": "stdout",
     "output_type": "stream",
     "text": [
      "Original List [0, 0, 1, 2, 3, 4, 4, 5, 6, 6, 6, 7, 8, 9, 4, 4]\n",
      "output: [0, 1, 2, 3, 4, 5, 6, 7, 8, 9, 4]\n"
     ]
    }
   ],
   "source": [
    "#38 Write a Python program to remove consecutive duplicates of a given list. \n",
    "#Original list:\n",
    "#[0, 0, 1, 2, 3, 4, 4, 5, 6, 6, 6, 7, 8, 9, 4, 4]\n",
    "#After removing consecutive duplicates:\n",
    "#[0, 1, 2, 3, 4, 5, 6, 7, 8, 9, 4]\n",
    "\n",
    "data=[0,0,1,2,3,4,4,5,6,6,6,7,8,9,4,4]\n",
    "print(\"Original List\",data)\n",
    "\n",
    "result=[]\n",
    "\n",
    "for i in range(len(data)):\n",
    "    if i==0 or data[i] != data[i-1]:\n",
    "        result.append(data[i])\n",
    "print(\"output:\",result)"
   ]
  },
  {
   "cell_type": "code",
   "execution_count": 10,
   "id": "1ec2d24d-7f55-4a3d-aba5-531a13ccec9c",
   "metadata": {},
   "outputs": [
    {
     "name": "stdout",
     "output_type": "stream",
     "text": [
      "Original list:\n",
      "[1, 1, 2, 3, 4, 4.3, 5, 1]\n",
      "Run-length encoding:\n",
      "[[2, 1], [1, 2], [1, 3], [1, 4], [1, 4.3], [1, 5], [1, 1]]\n",
      "\n",
      "Original string:\n",
      "automatically\n",
      "Run-length encoding:\n",
      "[[1, 'a'], [1, 'u'], [1, 't'], [1, 'o'], [1, 'm'], [1, 'a'], [1, 't'], [1, 'i'], [1, 'c'], [1, 'a'], [2, 'l'], [1, 'y']]\n"
     ]
    }
   ],
   "source": [
    "#39 Write a Python program to create a list reflecting the run-length encoding from a given list of integers or a given list of characters. \n",
    "#Original list:\n",
    "#[1, 1, 2, 3, 4, 4.3, 5, 1]\n",
    "#List reflecting the run-length encoding from the said list:\n",
    "#[[2, 1],[1, 2], [1, 3], [1, 4], [1, 4.3], [1, 5], [1, 1]]\n",
    "#Original String:\n",
    "#automatically\n",
    "#List reflecting the run-length encoding from the said string:\n",
    "#[[1, 'a'], [1, 'u'], [1, 't'], [1, 'o'], [1, 'm'], [1, 'a'], [1, 't'], [1, 'i'], [1, 'c'], [1, 'a'], [2, 'l'], [1, 'y']]\n",
    "\n",
    "def run_length_encoding(seq):\n",
    "    result = []\n",
    "    count = 1\n",
    "\n",
    "    for i in range(1, len(seq)):\n",
    "        if seq[i] == seq[i-1]:   # same as previous → increase count\n",
    "            count += 1\n",
    "        else:\n",
    "            result.append([count, seq[i-1]])  # store count & value\n",
    "            count = 1   # reset counter\n",
    "    # Add the last group\n",
    "    result.append([count, seq[-1]])\n",
    "\n",
    "    return result\n",
    "\n",
    "data_list = [1, 1, 2, 3, 4, 4.3, 5, 1]\n",
    "print(\"Original list:\")\n",
    "print(data_list)\n",
    "print(\"Run-length encoding:\")\n",
    "print(run_length_encoding(data_list))\n",
    "\n",
    "data_str = \"automatically\"\n",
    "print(\"\\nOriginal string:\")\n",
    "print(data_str)\n",
    "print(\"Run-length encoding:\")\n",
    "print(run_length_encoding(list(data_str)))"
   ]
  },
  {
   "cell_type": "code",
   "execution_count": 13,
   "id": "a3d213b0-199b-464e-8087-aa92e37820ea",
   "metadata": {},
   "outputs": [
    {
     "name": "stdout",
     "output_type": "stream",
     "text": [
      "[[2, 1], 2, 3, [2, 4], 5, 1]\n",
      "Decoded list: [1, 1, 2, 3, 4, 4, 5, 1]\n"
     ]
    }
   ],
   "source": [
    "#40 Write a Python program to decode a run-length encoded given list. \n",
    "#Original encoded list:\n",
    "#[[2, 1], 2, 3, [2, 4], 5, 1]\n",
    "#Decode a run-length encoded said list:\n",
    "#[1, 1, 2, 3, 4, 4, 5, 1]\n",
    "\n",
    "encoded=[[2,1],2,3,[2,4],5,1]\n",
    "print(encoded)\n",
    "\n",
    "decoded=[]\n",
    "for item in encoded:\n",
    "    if type(item)==list:\n",
    "        decoded.extend([item[1]] * item[0])\n",
    "    else:\n",
    "        decoded.append(item)\n",
    "print(\"Decoded list:\",decoded)"
   ]
  },
  {
   "cell_type": "code",
   "execution_count": 20,
   "id": "36cc4b53-a143-498d-ac45-ac3b614eae65",
   "metadata": {},
   "outputs": [
    {
     "name": "stdin",
     "output_type": "stream",
     "text": [
      "Enter the list: 1 2 3 4 6 7\n"
     ]
    },
    {
     "name": "stdout",
     "output_type": "stream",
     "text": [
      "Original list: [1, 2, 3, 4, 6, 7]\n"
     ]
    },
    {
     "name": "stdin",
     "output_type": "stream",
     "text": [
      "Enter the number to enter: 5\n",
      "Enter the position to enter the element: 4\n"
     ]
    },
    {
     "name": "stdout",
     "output_type": "stream",
     "text": [
      "Result [1, 2, 3, 4, 5, 6, 7]\n"
     ]
    }
   ],
   "source": [
    "#41 Write a Python program to insert an element at a specified position into a given list. \n",
    "#Original list:\n",
    "#[1, 1, 2, 3, 4, 4, 5, 1]\n",
    "#After inserting an element at kth position in the said list:\n",
    "#[1, 1, 12, 2, 3, 4, 4, 5, 1]\n",
    "\n",
    "data=list(map(int,input(\"Enter the list(space separated):\").split()))\n",
    "print(\"Original list:\",data)\n",
    "\n",
    "element=int(input(\"Enter the number to enter:\"))\n",
    "k=int(input(\"Enter the position to enter the element:\"))\n",
    "\n",
    "data.insert(k,element)\n",
    "print(\"Result\",data)"
   ]
  },
  {
   "cell_type": "code",
   "execution_count": 23,
   "id": "84d51efa-ae6e-4f94-a6b7-4feb300939bd",
   "metadata": {},
   "outputs": [
    {
     "name": "stdout",
     "output_type": "stream",
     "text": [
      "[22.4, 4.0, -16.22, -9.1, 11.0, -12.22, 14.2, -5.2, 17.5]\n",
      "Results: [22, 4, -16, -9, 11, -12, 14, -5, 17]\n"
     ]
    }
   ],
   "source": [
    "#42 . Write a Python program to round every number of a given list of numbers and print the list. \n",
    "#Original list: [22.4, 4.0, -16.22, -9.1, 11.0, -12.22, 14.2, -5.2, 17.5]\n",
    "#Result:\n",
    "#[22, 4, -16, -9, 11, -12, 14, -5, 17]\n",
    "\n",
    "numbers=[22.4, 4.0, -16.22, -9.1, 11.0, -12.22, 14.2, -5.2, 17.5]\n",
    "print(numbers)\n",
    "\n",
    "rounded=[int(num) for num in numbers]\n",
    "print(\"Results:\",rounded)"
   ]
  },
  {
   "cell_type": "code",
   "execution_count": 24,
   "id": "e8f5fbdb-905a-413f-9d92-a0abf6f965c8",
   "metadata": {},
   "outputs": [
    {
     "name": "stdin",
     "output_type": "stream",
     "text": [
      "Enter the number of rows:  3\n",
      "Enter the number of columns:  2\n"
     ]
    },
    {
     "name": "stdout",
     "output_type": "stream",
     "text": [
      "[[0, 0], [0, 0], [0, 0]]\n"
     ]
    }
   ],
   "source": [
    "#43 . Write a Python program to create a multidimensional list (lists of lists) with zeros. \n",
    "#Multidimensional list: [[0, 0], [0, 0], [0, 0]]\n",
    "\n",
    "rows = int(input(\"Enter the number of rows: \"))\n",
    "cols = int(input(\"Enter the number of columns: \"))\n",
    "\n",
    "multi_list = [[0 for j in range(cols)] for i in range(rows)]\n",
    "print(multi_list)"
   ]
  },
  {
   "cell_type": "code",
   "execution_count": 25,
   "id": "06c15184-9ab3-4f06-9822-821ddde2fdf7",
   "metadata": {},
   "outputs": [
    {
     "name": "stdin",
     "output_type": "stream",
     "text": [
      "Enter the number of rows: 2\n",
      "Enter the number of cols: 3\n"
     ]
    },
    {
     "name": "stdout",
     "output_type": "stream",
     "text": [
      "[[1, 2, 3], [1, 2, 3]]\n"
     ]
    }
   ],
   "source": [
    "#44 Write a Python program to create a 3X3 grid with numbers. \n",
    "#3X3 grid with numbers:\n",
    "#[[1, 2, 3], [1, 2, 3], [1, 2, 3]]\n",
    "\n",
    "rows = int(input(\"Enter the number of rows:\"))\n",
    "cols = int(input(\"Enter the number of cols:\"))\n",
    "\n",
    "grid=[list(range(1,cols+1)) for _ in range (rows)]\n",
    "print(grid)"
   ]
  },
  {
   "cell_type": "code",
   "execution_count": 1,
   "id": "5a6be15c-5935-472d-a10a-cb7ec83eb6a0",
   "metadata": {},
   "outputs": [
    {
     "name": "stdin",
     "output_type": "stream",
     "text": [
      "Input rows:  2\n",
      "Input columns:  2\n",
      "Input row 1 elements separated by space:  1 2\n",
      "Input row 2 elements separated by space:  4 5\n"
     ]
    },
    {
     "name": "stdout",
     "output_type": "stream",
     "text": [
      "Matrix:\n",
      "[1, 2]\n",
      "[4, 5]\n",
      "Sum for each column:\n",
      "5 7\n"
     ]
    }
   ],
   "source": [
    "#45 Write a Python program to read a matrix from console and print the sum for each column. Accept matrix rows, columns and elements for each column separated with a space(for every row) as input from the user. \n",
    "#Input rows: 2\n",
    "#Input columns: 2\n",
    "#Input number of elements in a row (1, 2, 3):\n",
    "#1 2\n",
    "#3 4\n",
    "#sum for each column:\n",
    "#4 6\n",
    "\n",
    "rows = int(input(\"Input rows: \"))\n",
    "cols = int(input(\"Input columns: \"))\n",
    "\n",
    "matrix = []\n",
    "\n",
    "for i in range(rows):\n",
    "    row = list(map(int, input(f\"Input row {i+1} elements separated by space: \").split()))\n",
    "    if len(row) != cols:\n",
    "        print(f\"Error: Expected {cols} elements but got {len(row)}\")\n",
    "        exit()\n",
    "    matrix.append(row)\n",
    "\n",
    "print(\"Matrix:\")\n",
    "for r in matrix:\n",
    "    print(r)\n",
    "\n",
    "column_sums = [0] * cols\n",
    "for c in range(cols):\n",
    "    for r in range(rows):\n",
    "        column_sums[c] += matrix[r][c]\n",
    "\n",
    "print(\"Sum for each column:\")\n",
    "print(\" \".join(map(str, column_sums)))\n"
   ]
  },
  {
   "cell_type": "code",
   "execution_count": 4,
   "id": "259b0e8e-ceea-4fca-8ff8-ec4f480f7eee",
   "metadata": {},
   "outputs": [
    {
     "name": "stdin",
     "output_type": "stream",
     "text": [
      "Input the size of the matrix:  3\n",
      "Input row 1 elements separated by space:  1 2 3\n",
      "Input row 2 elements separated by space:  4 5 6\n",
      "Input row 3 elements separated by space:  7 8 9\n"
     ]
    },
    {
     "name": "stdout",
     "output_type": "stream",
     "text": [
      "Matrix:\n",
      "[1, 2, 3]\n",
      "[4, 5, 6]\n",
      "[7, 8, 9]\n",
      "15\n"
     ]
    }
   ],
   "source": [
    "# 46 Write a Python program to read a square matrix from console and print the sum of matrix primary diagonal. Accept the size of the square matrix and elements for each column separated with a space (for every row) as input from the user. \n",
    "#Input the size of the matrix: 3\n",
    "#2 3 4\n",
    "#4 5 6\n",
    "#3 4 7\n",
    "#Sum of matrix primary diagonal:\n",
    "#14\n",
    "\n",
    "n = int(input(\"Input the size of the matrix: \"))\n",
    "\n",
    "matrix = []\n",
    "\n",
    "for i in range(rows):\n",
    "    row = list(map(int, input(f\"Input row {i+1} elements separated by space: \").split()))\n",
    "    if len(row) != cols:\n",
    "        print(f\"Error: Expected {cols} elements but got {len(row)}\")\n",
    "        exit()\n",
    "    matrix.append(row)\n",
    "\n",
    "print(\"Matrix:\")\n",
    "for r in matrix:\n",
    "    print(r)\n",
    "\n",
    "primary_diagonal_sum=sum(matrix[i][i] for i in range(n))\n",
    "print(primary_diagonal_sum)"
   ]
  },
  {
   "cell_type": "code",
   "execution_count": 5,
   "id": "1bbd2051-010b-48ca-b1ad-437d303302f9",
   "metadata": {},
   "outputs": [
    {
     "name": "stdout",
     "output_type": "stream",
     "text": [
      "Original lists: [[1, 3], [5, 7], [9, 11]] [[2, 4], [6, 8], [10, 12, 14]]\n",
      "Zipped list: [[1, 3, 2, 4], [5, 7, 6, 8], [9, 11, 10, 12, 14]]\n"
     ]
    }
   ],
   "source": [
    "# 47Write a Python program to Zip two given lists of lists. \n",
    "#Original lists:\n",
    "#[[1, 3], [5, 7], [9, 11]]\n",
    "#[[2, 4], [6, 8], [10, 12, 14]]\n",
    "#Zipped list:\n",
    "#[[1, 3, 2, 4], [5, 7, 6, 8], [9, 11, 10, 12, 14]]\n",
    "\n",
    "lst1=[[1,3],[5,7],[9,11]]\n",
    "lst2=[[2,4],[6,8],[10,12,14]]\n",
    "\n",
    "print(\"Original lists:\",lst1,lst2)\n",
    "\n",
    "zipped=[a+b for a,b in zip(lst1,lst2)]\n",
    "print(\"Zipped list:\",zipped)"
   ]
  },
  {
   "cell_type": "code",
   "execution_count": 4,
   "id": "7aeced3b-a9ca-413b-80cf-481bde5dba1d",
   "metadata": {},
   "outputs": [
    {
     "name": "stdout",
     "output_type": "stream",
     "text": [
      "Original list:\n",
      "[[1, 3], [5, 7], [9, 11], [13, 15, 17]]\n",
      "Number of lists in said list of lists:\n",
      "4\n",
      "\n",
      "Original list:\n",
      "[[2, 4], [[6, 8], [4, 5, 8]], [10, 12, 14]]\n",
      "Number of lists in said list of lists:\n",
      "3\n"
     ]
    }
   ],
   "source": [
    "# 48 Write a Python program to count number of lists in a given list of lists. \n",
    "#Original list:\n",
    "#[[1, 3], [5, 7], [9, 11], [13, 15, 17]]\n",
    "#Number of lists in said list of lists:\n",
    "#4\n",
    "#Original list:\n",
    "#[[2, 4], [[6, 8], [4, 5, 8]], [10, 12, 14]]\n",
    "#Number of lists in said list of lists:\n",
    "#3\n",
    "\n",
    "def count_lists(lst):\n",
    "    return sum(1 for item in lst if type(item)==list)\n",
    "\n",
    "lst1 = [[1, 3], [5, 7], [9, 11], [13, 15, 17]]\n",
    "print(\"Original list:\")\n",
    "print(lst1)\n",
    "print(\"Number of lists in said list of lists:\")\n",
    "print(count_lists(lst1))\n",
    "\n",
    "lst2 = [[2, 4], [[6, 8], [4, 5, 8]], [10, 12, 14]]\n",
    "print(\"\\nOriginal list:\")\n",
    "print(lst2)\n",
    "print(\"Number of lists in said list of lists:\")\n",
    "print(count_lists(lst2))"
   ]
  },
  {
   "cell_type": "code",
   "execution_count": 7,
   "id": "15876cf8-1d71-48df-b1a1-dea3e77f0018",
   "metadata": {},
   "outputs": [
    {
     "name": "stdout",
     "output_type": "stream",
     "text": [
      "[[0], [1, 3], [5, 7], [9, 11], [13, 15, 17]]\n",
      "List with maximum length of lists: 3 [13, 15, 17]\n",
      "List with minimum length of lists: 1 [0]\n"
     ]
    }
   ],
   "source": [
    "# 49 Write a Python program to find the list with maximum and minimum length. \n",
    "#Original list:\n",
    "#[[0], [1, 3], [5, 7], [9, 11], [13, 15, 17]]\n",
    "#List with maximum length of lists:\n",
    "#(3, [13, 15, 17])\n",
    "#List with minimum length of lists:\n",
    "#(1, [0])\n",
    "\n",
    "lst=[[0], [1, 3], [5, 7], [9, 11], [13, 15, 17]]\n",
    "print(lst)\n",
    "\n",
    "maxlst=lst[0]\n",
    "minlst=lst[0]\n",
    "\n",
    "for i in lst:\n",
    "    if len(i)>len(maxlst):\n",
    "        maxlst=i\n",
    "    if len(i)<len(minlst):\n",
    "        minlst=i\n",
    "\n",
    "print(\"List with maximum length of lists:\",len(maxlst),maxlst)\n",
    "print(\"List with minimum length of lists:\",len(minlst),minlst)"
   ]
  },
  {
   "cell_type": "code",
   "execution_count": 9,
   "id": "cd3bdc13-1c12-4b9e-a92e-80b05ea29e8c",
   "metadata": {},
   "outputs": [
    {
     "name": "stdout",
     "output_type": "stream",
     "text": [
      "Original list:\n",
      "[[1, 3], [5, 7], [1, 11], [1, 15, 7]]\n"
     ]
    },
    {
     "name": "stdin",
     "output_type": "stream",
     "text": [
      "Enter the element to count:  1\n"
     ]
    },
    {
     "name": "stdout",
     "output_type": "stream",
     "text": [
      "Count of 1 in the said list: 3\n"
     ]
    }
   ],
   "source": [
    "# 50 Write a Python program to count the number of sublists contain a particular element. \n",
    "#Original list:\n",
    "#[[1, 3], [5, 7], [1, 11], [1, 15, 7]]\n",
    "#Count 1 in the said list:\n",
    "#3\n",
    "#Count 7 in the said list:\n",
    "#2\n",
    "#Original list:\n",
    "#[['A', 'B'], ['A', 'C'], ['A', 'D', 'E'], ['B', 'C', 'D']]\n",
    "#Count 'A' in the said list:\n",
    "#3\n",
    "#Count 'E' in the said list:\n",
    "#1\n",
    "\n",
    "def count_in_sublists(lst, element):\n",
    "    count = 0\n",
    "    for sublist in lst:\n",
    "        if element in sublist:   # check if element exists in sublist\n",
    "            count += 1\n",
    "    return count\n",
    "    \n",
    "lst = [[1, 3], [5, 7], [1, 11], [1, 15, 7]]\n",
    "print(\"Original list:\")\n",
    "print(lst)\n",
    "\n",
    "element = int(input(\"Enter the element to count: \"))\n",
    "\n",
    "result = count_in_sublists(lst, element)\n",
    "print(f\"Count of {element} in the said list:\", result)"
   ]
  },
  {
   "cell_type": "code",
   "execution_count": 3,
   "id": "0368cb9d-1964-47ff-8aee-be4fee23a369",
   "metadata": {},
   "outputs": [
    {
     "name": "stdout",
     "output_type": "stream",
     "text": [
      "result [[2], [0], [1, 3], [0, 7], [9, 11], [13, 15, 17]]\n"
     ]
    }
   ],
   "source": [
    "#51 Write a Python program to sort each sublist in a given list of lists. \n",
    "#Original list:\n",
    "#[[2], [0], [1, 3], [0, 7], [9, 11], [13, 15, 17]]\n",
    "#Sort the list of lists by length and value:\n",
    "#[[0], [2], [0, 7], [1, 3], [9, 11], [13, 15, 17]]\n",
    "\n",
    "lst=[[2], [0], [1, 3], [0, 7], [9, 11], [13, 15, 17]]\n",
    "\n",
    "for sub in lst:\n",
    "    n=len(sub)\n",
    "    for i in range (n):\n",
    "        for j in range(0,n-i-1):\n",
    "            if sub[j]>sub[j+1]:\n",
    "                sub[j],sub[j+1]=sub[j+1],sub[j]\n",
    "                \n",
    "n=len(lst)\n",
    "for i in range(n):\n",
    "    for j in range(0,n-i-1):\n",
    "        if len(lst[j])>len(lst[j+1]) or (len(lst[j]) ==len(lst[j+1]) and lst[j]>lst[j+1]):\n",
    "            lst[j],lst[j+1]==lst[j+1],lst[j]\n",
    "print(\"result\",lst)"
   ]
  },
  {
   "cell_type": "code",
   "execution_count": 5,
   "id": "9556f2de-1979-4fcf-8452-ec136de2cf1d",
   "metadata": {},
   "outputs": [
    {
     "name": "stdout",
     "output_type": "stream",
     "text": [
      "5 2\n"
     ]
    }
   ],
   "source": [
    "#52 Write a Python program to find the maximum and minimum values in a given heterogeneous list. \n",
    "#Original list:\n",
    "#['Python', 3, 2, 4, 5, 'version']\n",
    "#Maximum and Minimum values in the said list:\n",
    "#(5, 2)\n",
    "\n",
    "lst=['Python',3,2,4,5,'Version']\n",
    "\n",
    "nums=[x for x in lst if str(x).isdigit()]\n",
    "nums=[int(x) for x in nums]\n",
    "maximum=nums[0]\n",
    "minimum=nums[0]\n",
    "\n",
    "for n in nums:\n",
    "    if n>maximum:\n",
    "        maximum = n\n",
    "    if n<minimum:\n",
    "        minimum = n\n",
    "\n",
    "print(maximum,minimum)"
   ]
  },
  {
   "cell_type": "code",
   "execution_count": 6,
   "id": "17aa9920-47db-4f68-9bf8-3b146d4c9104",
   "metadata": {},
   "outputs": [
    {
     "name": "stdout",
     "output_type": "stream",
     "text": [
      "[1, 7]\n"
     ]
    }
   ],
   "source": [
    "#53 Write a Python program to extract common index elements from more than one given list. \n",
    "#Original lists:\n",
    "#[1, 1, 3, 4, 5, 6, 7]\n",
    "#[0, 1, 2, 3, 4, 5, 7]\n",
    "#[0, 1, 2, 3, 4, 5, 7]\n",
    "#Common index elements of the said lists:\n",
    "#[1, 7]\n",
    "\n",
    "lst1= [1, 1, 3, 4, 5, 6, 7]\n",
    "lst2= [0, 1, 2, 3, 4, 5, 7]\n",
    "lst3= [0, 1, 2, 3, 4, 5, 7]\n",
    "common=[]\n",
    "\n",
    "for i in range(len(lst1)):\n",
    "    if lst1[i]==lst2[i]==lst3[i]:\n",
    "        common.append(lst1[i])\n",
    "\n",
    "print(common)"
   ]
  },
  {
   "cell_type": "code",
   "execution_count": 7,
   "id": "149273a7-c3bb-4160-bed3-3d151ff19ab1",
   "metadata": {},
   "outputs": [
    {
     "name": "stdout",
     "output_type": "stream",
     "text": [
      "['practice', 'solution']\n"
     ]
    }
   ],
   "source": [
    "#54 . Write a Python program to extract specified size of strings from a give list of string values. \n",
    "#Original list:\n",
    "#['Python', 'list', 'exercises', 'practice', 'solution']\n",
    "#length of the string to extract:\n",
    "#8\n",
    "#After extracting strings of specified length from the said list:\n",
    "#['practice', 'solution']\n",
    "\n",
    "word=['Python', 'list', 'exercises', 'practice', 'solution']\n",
    "size=8\n",
    "lst=[]\n",
    "for w in word:\n",
    "    if len(w)==size:\n",
    "        lst.append(w)\n",
    "print(lst)"
   ]
  },
  {
   "cell_type": "code",
   "execution_count": 9,
   "id": "55fe4979-d375-4e85-86fe-09c5299af474",
   "metadata": {},
   "outputs": [
    {
     "name": "stdin",
     "output_type": "stream",
     "text": [
      "Enter list elements separated by space:  1 2 3 4 5 6 7 8 9 10\n",
      "Enter number of rotations:  4\n",
      "Enter direction (l/r):  l\n"
     ]
    },
    {
     "name": "stdout",
     "output_type": "stream",
     "text": [
      "Rotated list: ['5', '6', '7', '8', '9', '10', '1', '2', '3', '4']\n"
     ]
    }
   ],
   "source": [
    "#55 109. Write a Python program to rotate a given list by specified number of items to the right or left direction. \n",
    "#original List:\n",
    "#[1, 2, 3, 4, 5, 6, 7, 8, 9, 10]\n",
    "#Rotate the said list in left direction by 4:\n",
    "#[4, 5, 6, 7, 8, 9, 10, 1, 2, 3, 4]\n",
    "\n",
    "lst = input(\"Enter list elements separated by space: \").split()\n",
    "k = int(input(\"Enter number of rotations: \"))\n",
    "\n",
    "direction = input(\"Enter direction (l/r): \")\n",
    "\n",
    "if direction == \"l\":\n",
    "    rotated = lst[k:] + lst[:k]\n",
    "elif direction == \"r\":\n",
    "    rotated = lst[-k:] + lst[:-k]\n",
    "else:\n",
    "    rotated = lst  # if wrong direction, keep list same\n",
    "\n",
    "print(\"Rotated list:\", rotated)"
   ]
  },
  {
   "cell_type": "code",
   "execution_count": 10,
   "id": "694fa223-986a-4367-8236-d17dfe5b8339",
   "metadata": {},
   "outputs": [
    {
     "name": "stdout",
     "output_type": "stream",
     "text": [
      "2\n"
     ]
    }
   ],
   "source": [
    "#56 Write a Python program to find the item with maximum occurrences in a given list. \n",
    "#Original list:\n",
    "#[2, 3, 8, 4, 7, 9, 8, 2, 6, 5, 1, 6, 1, 2, 3, 4, 6, 9, 1, 2]\n",
    "#Item with maximum occurrences of the said list:\n",
    "#2\n",
    "\n",
    "lst=[2,3,8,4,7,9,8,2,6,5,1,6,1,2,3,4,6,9,1,2]\n",
    "maxcnt=0\n",
    "maxitem=None\n",
    "\n",
    "for item in lst:\n",
    "    cnt=0\n",
    "    for x in lst:\n",
    "        if x == item:\n",
    "            cnt+=1\n",
    "    if cnt>maxcnt:\n",
    "        maxcnt=cnt\n",
    "        maxitem=item\n",
    "print(maxitem)"
   ]
  },
  {
   "cell_type": "code",
   "execution_count": 11,
   "id": "e36f3391-df80-4ec0-8765-ac83a4b742fb",
   "metadata": {},
   "outputs": [
    {
     "name": "stdout",
     "output_type": "stream",
     "text": [
      "Items with specified index of the said list:\n",
      "[2, 4, 9, 2, 1]\n"
     ]
    }
   ],
   "source": [
    "#57 Write a Python program to access multiple elements of specified index from a given list. \n",
    "#Original list:\n",
    "#[2, 3, 8, 4, 7, 9, 8, 2, 6, 5, 1, 6, 1, 2, 3, 4, 6, 9, 1, 2]\n",
    "#Index list:\n",
    "#[0, 3, 5, 7, 10]\n",
    "#Items with specified index of the said list:\n",
    "#[2, 4, 9, 2, 1]\n",
    "\n",
    "lst = [2, 3, 8, 4, 7, 9, 8, 2, 6, 5, 1, 6, 1, 2, 3, 4, 6, 9, 1, 2]\n",
    "\n",
    "index_list = [0, 3, 5, 7, 10]\n",
    "result = []\n",
    "for i in index_list:\n",
    "    result.append(lst[i])\n",
    "\n",
    "print(\"Items with specified index of the said list:\")\n",
    "print(result)"
   ]
  },
  {
   "cell_type": "code",
   "execution_count": 12,
   "id": "ab3d0ce6-2b40-4171-b7df-8eb330148db3",
   "metadata": {},
   "outputs": [
    {
     "name": "stdout",
     "output_type": "stream",
     "text": [
      "After removing duplicate dictionary of the said list:\n",
      "[{'Green': '#008000'}, {'Black': '#000000'}, {'Blue': '#0000FF'}]\n"
     ]
    }
   ],
   "source": [
    "#58 Write a Python program to remove duplicate dictionary from a given list. \n",
    "#Original list with duplicate dictionary:\n",
    "#[{'Green': '#008000'}, {'Black': '#000000'}, {'Blue': '#0000FF'}, {'Green': '#008000'}]\n",
    "#After removing duplicate dictionary of the said list:\n",
    "#[{'Black': '#000000'}, {'Blue': '#0000FF'}, {'Green': '#008000'}]\n",
    "\n",
    "lst = [{'Green': '#008000'}, {'Black': '#000000'}, {'Blue': '#0000FF'}, {'Green': '#008000'}]\n",
    "\n",
    "unique = []\n",
    "seen = []\n",
    "\n",
    "for d in lst:\n",
    "    t = tuple(d.items())\n",
    "    if t not in seen:\n",
    "        seen.append(t)\n",
    "        unique.append(d)\n",
    "\n",
    "print(\"After removing duplicate dictionary of the said list:\")\n",
    "print(unique)"
   ]
  },
  {
   "cell_type": "code",
   "execution_count": 14,
   "id": "9e7b1642-642a-49ab-b4a5-2b2869748612",
   "metadata": {},
   "outputs": [
    {
     "name": "stdout",
     "output_type": "stream",
     "text": [
      "[99, 96, 94, 98]\n"
     ]
    }
   ],
   "source": [
    "#59  Write a Python program to extract the nth element from a given list of tuples. \n",
    "#Original list:\n",
    "#[('Greyson Fulton', 98, 99), ('Brady Kent', 97, 96), ('Wyatt Knott', 91, 94), ('Beau Turnbull', 94, 98)]\n",
    "#Extract nth element ( n = 0 ) from the said list of tuples:\n",
    "#['Greyson Fulton', 'Brady Kent', 'Wyatt Knott', 'Beau Turnbull']\n",
    "#Extract nth element ( n = 2 ) from the said list of tuples:\n",
    "#[99, 96, 94, 98]\n",
    "\n",
    "data = [('Greyson Fulton', 98, 99),('Brady Kent', 97, 96),('Wyatt Knott', 91, 94),('Beau Turnbull', 94, 98)]\n",
    "def extract(lst,n):\n",
    "    result=[]\n",
    "    for t in lst:\n",
    "        result.append(t[n])\n",
    "    return result\n",
    "\n",
    "print(extract(data, 2))"
   ]
  },
  {
   "cell_type": "code",
   "execution_count": 17,
   "id": "d1de4237-5d6e-4ca8-9edb-7a1669413297",
   "metadata": {},
   "outputs": [
    {
     "name": "stdout",
     "output_type": "stream",
     "text": [
      "List sorted by index 2:\n",
      "[('Wyatt Knott', 91, 94), ('Brady Kent', 97, 96), ('Beau Turnbull', 94, 98), ('Greyson Fulton', 98, 99)]\n"
     ]
    }
   ],
   "source": [
    "#60 . Write a Python program to sort a list of lists by a given index of the inner list. \n",
    "#Original list:\n",
    "#[('Greyson Fulton', 98, 99), ('Brady Kent', 97, 96), ('Wyatt Knott', 91, 94), ('Beau Turnbull', 94, 98)]\n",
    "#Sort the said list of lists by a given index ( Index = 0 ) of the inner list\n",
    "#[('Beau Turnbull', 94, 98), ('Brady Kent', 97, 96), ('Greyson Fulton', 98, 99), ('Wyatt Knott', 91, 94)]\n",
    "\n",
    "data = [('Greyson Fulton', 98, 99),('Brady Kent', 97, 96),('Wyatt Knott', 91, 94),('Beau Turnbull', 94, 98)]\n",
    "index = 2  # you can change this to 1 or 2\n",
    "\n",
    "n = len(data)\n",
    "\n",
    "for i in range(n):\n",
    "    for j in range(0, n-i-1):\n",
    "        if data[j][index] > data[j+1][index]:\n",
    "            data[j], data[j+1] = data[j+1], data[j]\n",
    "\n",
    "print(f\"List sorted by index {index}:\")\n",
    "print(data)"
   ]
  },
  {
   "cell_type": "code",
   "execution_count": 19,
   "id": "ccf64ddc-180b-4535-b74e-45b3bd14e6f0",
   "metadata": {},
   "outputs": [
    {
     "name": "stdout",
     "output_type": "stream",
     "text": [
      "[1, 3, 5, 7, 9, 10]\n"
     ]
    }
   ],
   "source": [
    "#61 Write a Python program to remove all elements from a given list present in another list. \n",
    "#Original lists:\n",
    "#list1: [1, 2, 3, 4, 5, 6, 7, 8, 9, 10]\n",
    "#list2: [2, 4, 6, 8]\n",
    "#Remove all elements from 'list1' present in 'list2:\n",
    "#[1, 3, 5, 7, 9, 10]\n",
    "\n",
    "list1= [1, 2, 3, 4, 5, 6, 7, 8, 9, 10]\n",
    "list2= [2, 4, 6, 8]\n",
    "\n",
    "result=[]\n",
    "for item in list1:\n",
    "    if item not in list2:\n",
    "        result.append(item)\n",
    "print(result)"
   ]
  },
  {
   "cell_type": "code",
   "execution_count": 21,
   "id": "0d9e25d2-e5be-4282-9006-c126330998ba",
   "metadata": {},
   "outputs": [
    {
     "name": "stdout",
     "output_type": "stream",
     "text": [
      "Difference between elements (n+1th - nth) of the said list:\n",
      "[1, 1, 1, 1, 1, 1, 1, 1, 1]\n"
     ]
    }
   ],
   "source": [
    "#62 . Write a Python program to find the difference between elements (n+1th - nth) of a given list of numeric values. \n",
    "#Original list:\n",
    "#[1, 2, 3, 4, 5, 6, 7, 8, 9, 10]\n",
    "#Dfference between elements (n+1th - nth) of the said list :\n",
    "#[1, 1, 1, 1, 1, 1, 1, 1, 1]\n",
    "#Original list:\n",
    "#[2, 4, 6, 8]\n",
    "#Dfference between elements (n+1th - nth) of the said list :\n",
    "#[2, 2, 2]\n",
    "lst = [1, 2, 3, 4, 5, 6, 7, 8, 9, 10]\n",
    "diff = []\n",
    "for i in range(len(lst) - 1):\n",
    "    diff.append(lst[i + 1] - lst[i])\n",
    "\n",
    "print(\"Difference between elements (n+1th - nth) of the said list:\")\n",
    "print(diff)"
   ]
  },
  {
   "cell_type": "code",
   "execution_count": 22,
   "id": "b079d616-e653-4e20-8aed-e808f5bd157a",
   "metadata": {},
   "outputs": [
    {
     "name": "stdin",
     "output_type": "stream",
     "text": [
      "Enter the string: or\n"
     ]
    },
    {
     "name": "stdout",
     "output_type": "stream",
     "text": [
      "Check if a substring presents in the said list of string values:\n",
      "True\n"
     ]
    }
   ],
   "source": [
    "#63 Write a Python program to check if a substring presents in a given list of string values. \n",
    "#Original list:\n",
    "#['red', 'black', 'white', 'green', 'orange']\n",
    "#Substring to search:\n",
    "#ack\n",
    "#Check if a substring presents in the said list of string values:\n",
    "#True\n",
    "\n",
    "colors = ['red', 'black', 'white', 'green', 'orange']\n",
    "\n",
    "substring = input(\"Enter the string:\")\n",
    "\n",
    "found = False\n",
    "for color in colors:\n",
    "    if substring in color:\n",
    "        found = True\n",
    "        break\n",
    "\n",
    "print(\"Check if a substring presents in the said list of string values:\")\n",
    "print(found)"
   ]
  },
  {
   "cell_type": "code",
   "execution_count": 23,
   "id": "a9ab0443-c0f7-4be9-9d4a-16328b0f21a3",
   "metadata": {},
   "outputs": [
    {
     "name": "stdout",
     "output_type": "stream",
     "text": [
      "List with alternate elements from the said list:\n",
      "['red', 'white', 'orange']\n"
     ]
    }
   ],
   "source": [
    "#64 Write a Python program to create a list taking alternate elements from a given list. \n",
    "#Original list:\n",
    "#['red', 'black', 'white', 'green', 'orange']\n",
    "#List with alternate elements from the said list:\n",
    "#['red', 'white', 'orange']\n",
    "\n",
    "colors = ['red', 'black', 'white', 'green', 'orange']\n",
    "\n",
    "alternate_list = []\n",
    "for i in range(0, len(colors), 2):\n",
    "    alternate_list.append(colors[i])\n",
    "\n",
    "print(\"List with alternate elements from the said list:\")\n",
    "print(alternate_list)"
   ]
  },
  {
   "cell_type": "code",
   "execution_count": 24,
   "id": "ac86ef7e-24e6-44b6-8924-a83c6fb65246",
   "metadata": {},
   "outputs": [
    {
     "name": "stdout",
     "output_type": "stream",
     "text": [
      "Reverse each list in the said list of lists:\n",
      "[[4, 3, 2, 1], [8, 7, 6, 5], [12, 11, 10, 9], [16, 15, 14, 13]]\n"
     ]
    }
   ],
   "source": [
    "#65 Write a Python program to reverse each list in a given list of lists. \n",
    "#Original list of lists:\n",
    "#[[1, 2, 3, 4], [5, 6, 7, 8], [9, 10, 11, 12], [13, 14, 15, 16]]\n",
    "#Reverse each list in the said list of lists:\n",
    "#[[4, 3, 2, 1], [8, 7, 6, 5], [12, 11, 10, 9], [16, 15, 14, 13]]\n",
    "\n",
    "lists = [[1, 2, 3, 4], [5, 6, 7, 8], [9, 10, 11, 12], [13, 14, 15, 16]]\n",
    "\n",
    "for i in range(len(lists)):\n",
    "    lists[i] = lists[i][::-1]  # slicing to reverse\n",
    "\n",
    "print(\"Reverse each list in the said list of lists:\")\n",
    "print(lists)"
   ]
  },
  {
   "cell_type": "code",
   "execution_count": 25,
   "id": "422826dc-be4e-4fd1-8e44-79dc819ef3a1",
   "metadata": {},
   "outputs": [
    {
     "name": "stdout",
     "output_type": "stream",
     "text": [
      "Number of same pair of the said three given lists:\n",
      "3\n"
     ]
    }
   ],
   "source": [
    "#66 Write a Python program to count the same pair in three given lists. \n",
    "#Original lists:\n",
    "#[1, 2, 3, 4, 5, 6, 7, 8]\n",
    "#[2, 2, 3, 1, 2, 6, 7, 9]\n",
    "#[2, 1, 3, 1, 2, 6, 7, 9]\n",
    "#Number of same pair of the said three given lists:\n",
    "#3\n",
    "\n",
    "list1 = [1, 2, 3, 4, 5, 6, 7, 8]\n",
    "list2 = [2, 2, 3, 1, 2, 6, 7, 9]\n",
    "list3 = [2, 1, 3, 1, 2, 6, 7, 9]\n",
    "\n",
    "count = 0\n",
    "for i in range(len(list1)):\n",
    "    if list1[i] == list2[i] == list3[i]:\n",
    "        count += 1\n",
    "\n",
    "print(\"Number of same pair of the said three given lists:\")\n",
    "print(count)"
   ]
  },
  {
   "cell_type": "code",
   "execution_count": 26,
   "id": "e10edf9a-d938-4c5a-9091-668dc7d4c63d",
   "metadata": {},
   "outputs": [
    {
     "name": "stdout",
     "output_type": "stream",
     "text": [
      "Test common elements between color1 and color2 are in same order?\n",
      "True\n"
     ]
    }
   ],
   "source": [
    "#67 Write a Python program to check common elements between two given list are in same order or not. \n",
    "#Original lists:\n",
    "#['red', 'green', 'black', 'orange']\n",
    "#['red', 'pink', 'green', 'white', 'black']\n",
    "#['white', 'orange', 'pink', 'black']\n",
    "#Test common elements between color1 and color2 are in same order?\n",
    "#True\n",
    "\n",
    "color1 = ['red', 'green', 'black', 'orange']\n",
    "color2 = ['red', 'pink', 'green', 'white', 'black']\n",
    "\n",
    "common = []\n",
    "for item in color1:\n",
    "    if item in color2:\n",
    "        common.append(item)\n",
    "\n",
    "indices = []\n",
    "for item in common:\n",
    "    indices.append(color2.index(item))\n",
    "\n",
    "in_same_order = True\n",
    "for i in range(len(indices) - 1):\n",
    "    if indices[i] > indices[i + 1]:\n",
    "        in_same_order = False\n",
    "        break\n",
    "\n",
    "print(\"Test common elements between color1 and color2 are in same order?\")\n",
    "print(in_same_order)"
   ]
  },
  {
   "cell_type": "code",
   "execution_count": 28,
   "id": "eeb0ea8d-e1c5-42e5-8fc1-d76d88973642",
   "metadata": {},
   "outputs": [
    {
     "name": "stdout",
     "output_type": "stream",
     "text": [
      "['Python', 'Exercises', 'Practice', 'Solution']\n"
     ]
    }
   ],
   "source": [
    "#68 Write a Python program to remove duplicate words from a given list of strings. \n",
    "#Original String:\n",
    "#['Python', 'Exercises', 'Practice', 'Solution', 'Exercises']\n",
    "#After removing duplicate words from the said list of strings:\n",
    "#['Python', 'Exercises', 'Practice', 'Solution']\n",
    "\n",
    "lst=['Python', 'Exercises', 'Practice', 'Solution', 'Exercises']\n",
    "unique=[]\n",
    "for word in lst:\n",
    "    if word not in unique:\n",
    "        unique.append(word)\n",
    "print(unique)\n"
   ]
  },
  {
   "cell_type": "code",
   "execution_count": 29,
   "id": "3d80de02-e95d-4190-91f3-a5f739d68718",
   "metadata": {},
   "outputs": [
    {
     "name": "stdout",
     "output_type": "stream",
     "text": [
      "Sort the said mixed list of integers and strings:\n",
      "[1, 10, 12, 19, 'blue', 'green', 'green', 'red', 'white']\n"
     ]
    }
   ],
   "source": [
    "#69 Write a Python program to sort a given mixed list of integers and strings. Numbers must be sorted before strings. \n",
    "#Original list:\n",
    "#[19, 'red', 12, 'green', 'blue', 10, 'white', 'green', 1]\n",
    "#Sort the said mixed list of integers and strings:\n",
    "#[1, 10, 12, 19, 'blue', 'green', 'green', 'red', 'white']\n",
    "\n",
    "lst= [19, 'red', 12, 'green', 'blue', 10, 'white', 'green', 1]\n",
    "\n",
    "# Separate numbers and strings\n",
    "numbers = []\n",
    "strings = []\n",
    "\n",
    "for item in lst:\n",
    "    if type(item) == int:\n",
    "        numbers.append(item)\n",
    "    else:\n",
    "        strings.append(item)\n",
    "\n",
    "for i in range(len(numbers)):\n",
    "    for j in range(0, len(numbers)-i-1):\n",
    "        if numbers[j] > numbers[j+1]:\n",
    "            numbers[j], numbers[j+1] = numbers[j+1], numbers[j]\n",
    "\n",
    "for i in range(len(strings)):\n",
    "    for j in range(0, len(strings)-i-1):\n",
    "        if strings[j] > strings[j+1]:\n",
    "            strings[j], strings[j+1] = strings[j+1], strings[j]\n",
    "\n",
    "# Combine numbers and strings\n",
    "sorted_list = numbers + strings\n",
    "\n",
    "print(\"Sort the said mixed list of integers and strings:\")\n",
    "print(sorted_list)"
   ]
  },
  {
   "cell_type": "code",
   "execution_count": 30,
   "id": "76def9d3-13b0-4c14-9ad3-dccfbe69583a",
   "metadata": {},
   "outputs": [
    {
     "name": "stdout",
     "output_type": "stream",
     "text": [
      "Sort the said list of strings(numbers) numerically:\n",
      "[-500, -12, 0, 4, 7, 12, 45, 100, 200]\n"
     ]
    }
   ],
   "source": [
    "#70 Write a Python program to sort a given list of strings(numbers) numerically. \n",
    "#Original list:\n",
    "#['4', '12', '45', '7', '0', '100', '200', '-12', '-500']\n",
    "#Sort the said list of strings(numbers) numerically:\n",
    "#[-500, -12, 0, 4, 7, 12, 45, 100, 200]\n",
    "\n",
    "num = ['4', '12', '45', '7', '0', '100', '200', '-12', '-500']\n",
    "\n",
    "# Convert strings to integers\n",
    "numbers = []\n",
    "for s in num:\n",
    "    numbers.append(int(s))\n",
    "\n",
    "# Sort numbers manually (bubble sort)\n",
    "for i in range(len(numbers)):\n",
    "    for j in range(0, len(numbers)-i-1):\n",
    "        if numbers[j] > numbers[j+1]:\n",
    "            numbers[j], numbers[j+1] = numbers[j+1], numbers[j]\n",
    "\n",
    "print(\"Sort the said list of strings(numbers) numerically:\")\n",
    "print(numbers)"
   ]
  },
  {
   "cell_type": "code",
   "execution_count": 34,
   "id": "828405bc-2ab6-42f9-8a63-1fd2ee7e8699",
   "metadata": {},
   "outputs": [
    {
     "name": "stdin",
     "output_type": "stream",
     "text": [
      "Enter the index to remove: 0\n"
     ]
    },
    {
     "name": "stdout",
     "output_type": "stream",
     "text": [
      "Remove 1st list from the said given list of lists:\n",
      "[['Maroon', 'Yellow', 'Olive'], ['#800000', '#FFFF00', '#808000'], ['rgb(128,0,0)', 'rgb(255,255,0)', 'rgb(128,128,0)']]\n"
     ]
    }
   ],
   "source": [
    "#71 . Write a Python program to remove the specific item from a given list of lists. \n",
    "#Original list of lists:\n",
    "#[['Red', 'Maroon', 'Yellow', 'Olive'], ['#FF0000', '#800000', '#FFFF00', '#808000'], ['rgb(255,0,0)', 'rgb(128,0,0)', 'rgb(255,255,0)', 'rgb(128,128,0)']]\n",
    "#Remove 1st list from the saod given list of lists:\n",
    "#[['Maroon', 'Yellow', 'Olive'], ['#800000', '#FFFF00', '#808000'], ['rgb(128,0,0)', 'rgb(255,255,0)', 'rgb(128,128,0)']]\n",
    "\n",
    "lists = [['Red', 'Maroon', 'Yellow', 'Olive'],['#FF0000', '#800000', '#FFFF00', '#808000'],['rgb(255,0,0)', 'rgb(128,0,0)', 'rgb(255,255,0)', 'rgb(128,128,0)']]\n",
    "\n",
    "index_to_remove = int(input(\"Enter the index to remove:\"))  # 1st element\n",
    "\n",
    "for sublist in lists:\n",
    "    if len(sublist) > index_to_remove:\n",
    "        sublist.pop(index_to_remove)\n",
    "\n",
    "print(\"Remove 1st list from the said given list of lists:\")\n",
    "print(lists)"
   ]
  },
  {
   "cell_type": "code",
   "execution_count": 37,
   "id": "1fdaded3-3a6f-43f6-bbef-fe3ebfcbf236",
   "metadata": {},
   "outputs": [
    {
     "name": "stdout",
     "output_type": "stream",
     "text": [
      "Interleave two given list into another list randomly:\n",
      "[1, 2, 7, 4, 3, 8, 8, 9, 4, 3, 7, 3, 8, 9]\n"
     ]
    }
   ],
   "source": [
    "#72 Write a Python program to interleave two given list into another list randomly. \n",
    "#Original lists:\n",
    "#[1, 2, 7, 8, 3, 7]\n",
    "#[4, 3, 8, 9, 4, 3, 8, 9]\n",
    "#Interleave two given list into another list randomly:\n",
    "#[4, 1, 2, 3, 8, 9, 4, 3, 7, 8, 9, 8, 3, 7]\n",
    "import random\n",
    "list1 = [1, 2, 7, 8, 3, 7]\n",
    "list2 = [4, 3, 8, 9, 4, 3, 8, 9]\n",
    "\n",
    "l1 = list1[:]\n",
    "l2 = list2[:]\n",
    "\n",
    "result = []\n",
    "\n",
    "while l1 or l2:\n",
    "    if l1 and (not l2 or random.choice([True, False])):\n",
    "        result.append(l1.pop(0))\n",
    "    elif l2:\n",
    "        result.append(l2.pop(0))\n",
    "\n",
    "print(\"Interleave two given list into another list randomly:\")\n",
    "print(result)"
   ]
  },
  {
   "cell_type": "code",
   "execution_count": 38,
   "id": "19ab161d-c62e-4ef0-be15-1427bd989977",
   "metadata": {},
   "outputs": [
    {
     "name": "stdin",
     "output_type": "stream",
     "text": [
      "Enter words to remove, separated by space:  orange blue\n"
     ]
    },
    {
     "name": "stdout",
     "output_type": "stream",
     "text": [
      "After removing the specified words from the said list:\n",
      "['red', 'green', 'white', 'black']\n"
     ]
    }
   ],
   "source": [
    "#73 . Write a Python program to remove specific words from a given list. \n",
    "#Original list:\n",
    "#['red', 'green', 'blue', 'white', 'black', 'orange']\n",
    "#Remove words:\n",
    "#['white', 'orange']\n",
    "#After removing the specified words from the said list:\n",
    "#['red', 'green', 'blue', 'black']\n",
    "\n",
    "words = ['red', 'green', 'blue', 'white', 'black', 'orange']\n",
    "\n",
    "remove_words = input(\"Enter words to remove, separated by space: \").split()\n",
    "\n",
    "result = []\n",
    "for word in words:\n",
    "    if word not in remove_words:\n",
    "        result.append(word)\n",
    "\n",
    "print(\"After removing the specified words from the said list:\")\n",
    "print(result)"
   ]
  },
  {
   "cell_type": "code",
   "execution_count": 39,
   "id": "7fe85445-c538-4d83-befd-1562a8457681",
   "metadata": {},
   "outputs": [
    {
     "name": "stdout",
     "output_type": "stream",
     "text": [
      "All possible combinations of the said list's elements:\n",
      "[[], ['orange'], ['red'], ['orange', 'red'], ['green'], ['orange', 'green'], ['red', 'green'], ['orange', 'red', 'green'], ['blue'], ['orange', 'blue'], ['red', 'blue'], ['orange', 'red', 'blue'], ['green', 'blue'], ['orange', 'green', 'blue'], ['red', 'green', 'blue'], ['orange', 'red', 'green', 'blue']]\n"
     ]
    }
   ],
   "source": [
    "#74 Write a Python program to get all possible combinations of the elements of a given list. \n",
    "#Original list:\n",
    "#['orange', 'red', 'green', 'blue']\n",
    "#All possible combinations of the said list's elements:\n",
    "#[[], ['orange'], ['red'], ['red', 'orange'], ['green'], ['green', 'orange'], ['green', 'red'], ['green', 'red', 'orange'], ['blue'], ['blue', 'orange'], ['blue', 'red'], ['blue', 'red', 'orange'], ['blue', 'green'], ['blue', 'green', 'orange'], ['blue', 'green', 'red'], ['blue', 'green', 'red', 'orange']]\n",
    "\n",
    "# Original list\n",
    "lst = ['orange', 'red', 'green', 'blue']\n",
    "\n",
    "# Start with an empty list of combinations\n",
    "combinations = [[]]\n",
    "\n",
    "# Loop through each element in the list\n",
    "for elem in lst:\n",
    "    # For each existing combination, add a new combination including the current element\n",
    "    new_combinations = []\n",
    "    for combo in combinations:\n",
    "        new_combinations.append(combo + [elem])\n",
    "    combinations.extend(new_combinations)  # Add the new combinations to the main list\n",
    "\n",
    "print(\"All possible combinations of the said list's elements:\")\n",
    "print(combinations)"
   ]
  },
  {
   "cell_type": "code",
   "execution_count": 40,
   "id": "d94aa1fc-95e7-4b17-a52f-43e549a4580e",
   "metadata": {},
   "outputs": [
    {
     "name": "stdout",
     "output_type": "stream",
     "text": [
      "Add said two lists from left:\n",
      "[5, 7, 6, 7, 5, 8]\n"
     ]
    }
   ],
   "source": [
    "#75 . Write a Python program to add two given lists of different lengths, start from left. \n",
    "#Original lists:\n",
    "#[2, 4, 7, 0, 5, 8]\n",
    "#[3, 3, -1, 7]\n",
    "#add said two lists from left:\n",
    "#[5, 7, 6, 7, 5, 8]\n",
    "\n",
    "list1 = [2, 4, 7, 0, 5, 8]\n",
    "list2 = [3, 3, -1, 7]\n",
    "\n",
    "result = []\n",
    "\n",
    "min_len = min(len(list1), len(list2))\n",
    "\n",
    "for i in range(min_len):\n",
    "    result.append(list1[i] + list2[i])\n",
    "\n",
    "if len(list1) > min_len:\n",
    "    result.extend(list1[min_len:])\n",
    "elif len(list2) > min_len:\n",
    "    result.extend(list2[min_len:])\n",
    "\n",
    "print(\"Add said two lists from left:\")\n",
    "print(result)"
   ]
  },
  {
   "cell_type": "code",
   "execution_count": 43,
   "id": "5983c5fb-95f0-48c3-8283-5e9be15717b4",
   "metadata": {},
   "outputs": [
    {
     "name": "stdout",
     "output_type": "stream",
     "text": [
      "Add said two lists from right:\n",
      "[2, 4, 10, 3, 4, 15]\n"
     ]
    }
   ],
   "source": [
    "#76 Write a Python program to add two given lists of different lengths, start from right. \n",
    "#Original lists:\n",
    "#[2, 4, 7, 0, 5, 8]\n",
    "#[3, 3, -1, 7]\n",
    "#Add said two lists from left:\n",
    "#[2, 4, 10, 3, 4, 15]\n",
    "\n",
    "list1 = [2, 4, 7, 0, 5, 8]\n",
    "list2 = [3, 3, -1, 7]\n",
    "\n",
    "result = []\n",
    "\n",
    "len1 = len(list1)\n",
    "len2 = len(list2)\n",
    "\n",
    "diff = abs(len1 - len2)\n",
    "\n",
    "if len1 > len2:\n",
    "    for i in range(len2):\n",
    "        result.append(list1[i + diff] + list2[i])\n",
    "    result = list1[:diff] + result\n",
    "elif len2 > len1:\n",
    "    for i in range(len1):\n",
    "        result.append(list1[i] + list2[i + diff])\n",
    "    result = list2[:diff] + result\n",
    "else:\n",
    "    for i in range(len1):\n",
    "        result.append(list1[i] + list2[i])\n",
    "\n",
    "print(\"Add said two lists from right:\")\n",
    "print(result)"
   ]
  },
  {
   "cell_type": "code",
   "execution_count": 44,
   "id": "f40ff42c-e34f-4a5f-9322-c02fb6b5002a",
   "metadata": {},
   "outputs": [
    {
     "name": "stdout",
     "output_type": "stream",
     "text": [
      "Interleave said lists of different lengths:\n",
      "[2, 2, 0, 3, 4, 5, 1, 3, 7, 8, -1, 0, 7, 5, 8]\n"
     ]
    }
   ],
   "source": [
    "#77 . Write a Python program to interleave multiple given lists of different lengths. \n",
    "#Original lists:\n",
    "#[2, 4, 7, 0, 5, 8]\n",
    "#[2, 5, 8]\n",
    "#[0, 1]\n",
    "#[3, 3, -1, 7]\n",
    "#Interleave said lists of different lengths:\n",
    "#[2, 2, 0, 3, 4, 5, 1, 3, 7, 8, -1, 0, 7, 5, 8]\n",
    "\n",
    "list1 = [2, 4, 7, 0, 5, 8]\n",
    "list2 = [2, 5, 8]\n",
    "list3 = [0, 1]\n",
    "list4 = [3, 3, -1, 7]\n",
    "\n",
    "lists = [list1, list2, list3, list4]\n",
    "\n",
    "# Result list\n",
    "result = []\n",
    "\n",
    "# Keep track of current index for each list\n",
    "indices = [0, 0, 0, 0]  # one index per list\n",
    "\n",
    "# Loop until all lists are exhausted\n",
    "while True:\n",
    "    done = True\n",
    "    for i in range(len(lists)):  # simple index loop instead of enumerate\n",
    "        if indices[i] < len(lists[i]):\n",
    "            result.append(lists[i][indices[i]])\n",
    "            indices[i] += 1\n",
    "            done = False\n",
    "    if done:\n",
    "        break\n",
    "\n",
    "print(\"Interleave said lists of different lengths:\")\n",
    "print(result)"
   ]
  },
  {
   "cell_type": "code",
   "execution_count": 47,
   "id": "6048c026-b713-4164-a578-3785865be574",
   "metadata": {},
   "outputs": [
    {
     "name": "stdin",
     "output_type": "stream",
     "text": [
      "Enter the numbers to be remove 3\n"
     ]
    },
    {
     "name": "stdout",
     "output_type": "stream",
     "text": [
      "After removing the first 3 even numbers:\n",
      "[3, 7, 5, 7, 3, 3, 4, 5, 9, 3, 4, 9, 8, 5]\n"
     ]
    }
   ],
   "source": [
    "#78 . Write a Python program to remove first specified number of elements from a given list satisfying a condition. \n",
    "#Remove the first 4 number of even numbers from the following list:\n",
    "#[3,10,4,7,5,7,8,3,3,4,5,9,3,4,9,8,5]\n",
    "#Output:\n",
    "#[3, 7, 5, 7, 3, 3, 5, 9, 3, 4, 9, 8, 5]\n",
    "\n",
    "numbers = [3, 10, 4, 7, 5, 7, 8, 3, 3, 4, 5, 9, 3, 4, 9, 8, 5]\n",
    "\n",
    "n =int(input(\"Enter the numbers to be remove\"))\n",
    "\n",
    "result = []\n",
    "\n",
    "count = 0\n",
    "\n",
    "for num in numbers:\n",
    "    if num % 2 == 0 and count < n: \n",
    "        count += 1\n",
    "        continue \n",
    "    result.append(num)\n",
    "\n",
    "print(f\"After removing the first {n} even numbers:\")\n",
    "print(result)"
   ]
  },
  {
   "cell_type": "code",
   "execution_count": 48,
   "id": "426494b2-c008-463d-a7b6-d36d2c96401c",
   "metadata": {},
   "outputs": [
    {
     "name": "stdin",
     "output_type": "stream",
     "text": [
      "Enter the item to find the last occurrence of:  k\n"
     ]
    },
    {
     "name": "stdout",
     "output_type": "stream",
     "text": [
      "The last occurrence of 'k' is at index 14\n"
     ]
    }
   ],
   "source": [
    "#79 Write a Python program to find the last occurrence of a specified item in a given list. \n",
    "#Original list:\n",
    "#['s', 'd', 'f', 's', 'd', 'f', 's', 'f', 'k', 'o', 'p', 'i', 'w', 'e', 'k', 'c']\n",
    "#Last occurrence of f in the said list:\n",
    "#7\n",
    "\n",
    "lst = ['s', 'd', 'f', 's', 'd', 'f', 's', 'f', 'k', 'o', 'p', 'i', 'w', 'e','k','c']\n",
    "\n",
    "item = input(\"Enter the item to find the last occurrence of: \")\n",
    "\n",
    "last_index = -1\n",
    "\n",
    "for i in range(len(lst)):\n",
    "    if lst[i] == item:\n",
    "        last_index = i\n",
    "\n",
    "if last_index != -1:\n",
    "    print(f\"The last occurrence of '{item}' is at index {last_index}\")\n",
    "else:\n",
    "    print(f\"'{item}' is not found in the list\")"
   ]
  },
  {
   "cell_type": "code",
   "execution_count": 50,
   "id": "a436b501-8436-442a-b6f2-6e43f85fa6ef",
   "metadata": {},
   "outputs": [
    {
     "name": "stdin",
     "output_type": "stream",
     "text": [
      "Enter the value to compare :  55\n"
     ]
    },
    {
     "name": "stdout",
     "output_type": "stream",
     "text": [
      "The index of the first element greater than 55 is 3\n"
     ]
    }
   ],
   "source": [
    "#80 Write a Python program to get the index of the first element which is greater than a specified element. \n",
    "#Original list:\n",
    "#[12, 45, 23, 67, 78, 90, 100, 76, 38, 62, 73, 29, 83]\n",
    "#Index of the first element which is greater than 73 in the said list:\n",
    "#4\n",
    "\n",
    "lst = [12, 45, 23, 67, 78, 90, 100, 76, 38, 62, 73, 29, 83]\n",
    "\n",
    "value = int(input(\"Enter the value to compare : \"))\n",
    "\n",
    "found_index = -1\n",
    "\n",
    "for i in range(len(lst)):\n",
    "    if lst[i] > value:\n",
    "        found_index = i\n",
    "        break\n",
    "\n",
    "if found_index != -1:\n",
    "    print(f\"The index of the first element greater than {value} is {found_index}\")\n",
    "else:\n",
    "    print(f\"No element is greater than {value}\")"
   ]
  },
  {
   "cell_type": "code",
   "execution_count": 51,
   "id": "ff30c1de-30aa-4805-85a9-1326358d5a0c",
   "metadata": {},
   "outputs": [
    {
     "name": "stdin",
     "output_type": "stream",
     "text": [
      "Enter the value to filter items greater than:  45\n"
     ]
    },
    {
     "name": "stdout",
     "output_type": "stream",
     "text": [
      "Items greater than 45 are:\n",
      "[67, 78, 90, 100, 76, 62, 73, 83]\n"
     ]
    }
   ],
   "source": [
    "#81 Write a Python program to get the items from a given list with specific condition. \n",
    "#Original list:\n",
    "#[12, 45, 23, 67, 78, 90, 45, 32, 100, 76, 38, 62, 73, 29, 83]\n",
    "#Number of Items of the said list which are even and greater than 45\n",
    "#5\n",
    "\n",
    "lst = [12, 45, 23, 67, 78, 90, 45, 32, 100, 76, 38, 62, 73, 29, 83]\n",
    "\n",
    "value = int(input(\"Enter the value to filter items greater than: \"))\n",
    "\n",
    "result = []\n",
    "\n",
    "for item in lst:\n",
    "    if item > value: \n",
    "        result.append(item)\n",
    "\n",
    "print(f\"Items greater than {value} are:\")\n",
    "print(result)"
   ]
  },
  {
   "cell_type": "code",
   "execution_count": 1,
   "id": "9ffd3041-4855-4bc7-8815-6e0efda135a3",
   "metadata": {},
   "outputs": [
    {
     "name": "stdout",
     "output_type": "stream",
     "text": [
      "Original list:\n",
      "[12, 45, 23, 67, 78, 90, 45, 32, 100, 76, 38, 62, 73, 29, 83]\n"
     ]
    },
    {
     "name": "stdin",
     "output_type": "stream",
     "text": [
      "Enter the chunk size:  4\n"
     ]
    },
    {
     "name": "stdout",
     "output_type": "stream",
     "text": [
      "Split the said list into equal size 4:\n",
      "[[12, 45, 23, 67], [78, 90, 45, 32], [100, 76, 38, 62], [73, 29, 83]]\n"
     ]
    }
   ],
   "source": [
    "#82 Write a Python program to split a given list into specified sized chunks. \n",
    "#Original list:\n",
    "#[12, 45, 23, 67, 78, 90, 45, 32, 100, 76, 38, 62, 73, 29, 83]\n",
    "#Split the said list into equal size 3\n",
    "#[[12, 45, 23], [67, 78, 90], [45, 32, 100], [76, 38, 62], [73, 29, 83]]\n",
    "\n",
    "lst= [12, 45, 23, 67, 78, 90, 45, 32, 100, 76, 38, 62, 73, 29, 83]\n",
    "\n",
    "print(\"Original list:\")\n",
    "print(lst)\n",
    "\n",
    "chunk_size = int(input(\"Enter the chunk size: \"))\n",
    "\n",
    "result = [lst[i:i + chunk_size] for i in range(0, len(lst), chunk_size)]\n",
    "\n",
    "print(f\"Split the said list into equal size {chunk_size}:\")\n",
    "print(result)"
   ]
  },
  {
   "cell_type": "code",
   "execution_count": 2,
   "id": "47193256-9be1-475c-a7ac-ad031fbf4f5a",
   "metadata": {},
   "outputs": [
    {
     "name": "stdout",
     "output_type": "stream",
     "text": [
      "Original list:\n",
      "[12, 0, None, 23, None, -55, 234, 89, None, 0, 6, -12]\n",
      "Remove None value from the said list:\n",
      "[12, 0, 23, -55, 234, 89, 0, 6, -12]\n"
     ]
    }
   ],
   "source": [
    "#83 Write a Python program to remove None value from a given list. \n",
    "#Original list:\n",
    "#[12, 0, None, 23, None, -55, 234, 89, None, 0, 6, -12]\n",
    "#Remove None value from the said list:\n",
    "#[12, 0, 23, -55, 234, 89, 0, 6, -12]\n",
    "\n",
    "my_list = [12, 0, None, 23, None, -55, 234, 89, None, 0, 6, -12]\n",
    "\n",
    "print(\"Original list:\")\n",
    "print(my_list)\n",
    "\n",
    "# Remove None values\n",
    "result = [x for x in my_list if x is not None]\n",
    "\n",
    "print(\"Remove None value from the said list:\")\n",
    "print(result)"
   ]
  },
  {
   "cell_type": "code",
   "execution_count": 3,
   "id": "82610255-0e57-454e-bae9-07eee721f70c",
   "metadata": {},
   "outputs": [
    {
     "name": "stdout",
     "output_type": "stream",
     "text": [
      "Original list of strings:\n",
      "['Red', 'Maroon', 'Yellow', 'Olive']\n",
      "Convert the said list of strings into list of lists:\n",
      "[['R', 'e', 'd'], ['M', 'a', 'r', 'o', 'o', 'n'], ['Y', 'e', 'l', 'l', 'o', 'w'], ['O', 'l', 'i', 'v', 'e']]\n"
     ]
    }
   ],
   "source": [
    "#84 . Write a Python program to convert a given list of strings into list of lists. \n",
    "#Original list of strings:\n",
    "#['Red', 'Maroon', 'Yellow', 'Olive']\n",
    "#Convert the said list of strings into list of lists:\n",
    "#[['R', 'e', 'd'], ['M', 'a', 'r', 'o', 'o', 'n'], ['Y', 'e', 'l', 'l', 'o', 'w'], ['O', 'l', 'i', 'v', 'e']]\n",
    "\n",
    "my_list = ['Red', 'Maroon', 'Yellow', 'Olive']\n",
    "\n",
    "print(\"Original list of strings:\")\n",
    "print(my_list)\n",
    "\n",
    "result = [list(word) for word in my_list]\n",
    "\n",
    "print(\"Convert the said list of strings into list of lists:\")\n",
    "print(result)"
   ]
  },
  {
   "cell_type": "code",
   "execution_count": 4,
   "id": "3cce68dd-f20b-46d7-bab0-86723e11dfed",
   "metadata": {},
   "outputs": [
    {
     "name": "stdout",
     "output_type": "stream",
     "text": [
      "Original list:\n",
      "['red', 'white', 'a', 'b', 'black', 'f']\n",
      "Convert the said list of strings and characters to a single list of characters:\n",
      "['r', 'e', 'd', 'w', 'h', 'i', 't', 'e', 'a', 'b', 'b', 'l', 'a', 'c', 'k', 'f']\n"
     ]
    }
   ],
   "source": [
    "#85 . Write a Python program to convert a given list of strings and characters to a single list of characters. \n",
    "#Original list:\n",
    "#['red', 'white', 'a', 'b', 'black', 'f']\n",
    "#onvert the said list of strings and characters to a single list of characters:\n",
    "#['r', 'e', 'd', 'w', 'h', 'i', 't', 'e', 'a', 'b', 'b', 'l', 'a', 'c', 'k', 'f']\n",
    "\n",
    "my_list = ['red', 'white', 'a', 'b', 'black', 'f']\n",
    "\n",
    "print(\"Original list:\")\n",
    "print(my_list)\n",
    "\n",
    "result = [ch for word in my_list for ch in word]\n",
    "\n",
    "print(\"Convert the said list of strings and characters to a single list of characters:\")\n",
    "print(result)"
   ]
  },
  {
   "cell_type": "code",
   "execution_count": 5,
   "id": "b8b17e16-0e10-4f95-9655-78e4c2982e70",
   "metadata": {},
   "outputs": [
    {
     "name": "stdout",
     "output_type": "stream",
     "text": [
      "Original list:\n",
      "['a', 'b', 'c', 'd', 'e', 'f', 'g']\n"
     ]
    },
    {
     "name": "stdin",
     "output_type": "stream",
     "text": [
      "Enter the start index:  2\n",
      "Enter the end index:  5\n"
     ]
    },
    {
     "name": "stdout",
     "output_type": "stream",
     "text": [
      "Merge items from 2 to 5 in the said List:\n",
      "['a', 'b', 'cde', 'f', 'g']\n"
     ]
    }
   ],
   "source": [
    "#86 Write a Python program to merge some list items in given list using index value. \n",
    "#Original lists:\n",
    "#['a', 'b', 'c', 'd', 'e', 'f', 'g']\n",
    "#Merge items from 2 to 4 in the said List:\n",
    "#['a', 'b', 'cd', 'e', 'f', 'g']\n",
    "\n",
    "my_list = ['a', 'b', 'c', 'd', 'e', 'f', 'g']\n",
    "\n",
    "print(\"Original list:\")\n",
    "print(my_list)\n",
    "\n",
    "start = int(input(\"Enter the start index: \"))\n",
    "end = int(input(\"Enter the end index: \"))\n",
    "\n",
    "my_list[start:end] = [''.join(my_list[start:end])]\n",
    "\n",
    "print(f\"Merge items from {start} to {end} in the said List:\")\n",
    "print(my_list)"
   ]
  },
  {
   "cell_type": "code",
   "execution_count": 6,
   "id": "c0ee4852-ffdd-40a8-9afa-c4d2b166638c",
   "metadata": {},
   "outputs": [
    {
     "name": "stdout",
     "output_type": "stream",
     "text": [
      "Original list:\n",
      "[[7, 2, 3, 4, 7], [9, 2, 3, 2, 5], [8, 2, 3, 4, 4]]\n",
      "Common elements of the said list of lists:\n",
      "[2, 3]\n"
     ]
    }
   ],
   "source": [
    "#87 Write a Python program to find common elements in a given list of lists. \n",
    "#Original list:\n",
    "#[[7, 2, 3, 4, 7], [9, 2, 3, 2, 5], [8, 2, 3, 4, 4]]\n",
    "#Common elements of the said list of lists:\n",
    "#[2, 3]\n",
    "\n",
    "my_list = [[7, 2, 3, 4, 7], [9, 2, 3, 2, 5], [8, 2, 3, 4, 4]]\n",
    "\n",
    "print(\"Original list:\")\n",
    "print(my_list)\n",
    "\n",
    "# Take the first sublist as reference\n",
    "first_list = my_list[0]\n",
    "common_elements = []\n",
    "\n",
    "for item in first_list:\n",
    "    if all(item in sublist for sublist in my_list[1:]) and item not in common_elements:\n",
    "        common_elements.append(item)\n",
    "\n",
    "print(\"Common elements of the said list of lists:\")\n",
    "print(common_elements)"
   ]
  },
  {
   "cell_type": "code",
   "execution_count": 7,
   "id": "d20ff7e5-b4fb-4679-ab60-b17fb1d1a7da",
   "metadata": {},
   "outputs": [
    {
     "name": "stdout",
     "output_type": "stream",
     "text": [
      "Original list:\n",
      "['a', 'b', 'c', 'd', 'e', 'f', 'g', 'h']\n"
     ]
    },
    {
     "name": "stdin",
     "output_type": "stream",
     "text": [
      "Enter the position to rotate: 3\n"
     ]
    },
    {
     "name": "stdout",
     "output_type": "stream",
     "text": [
      "Iterate the said list cyclically on specific index position 3 :\n",
      "['d', 'e', 'f', 'g', 'h', 'a', 'b', 'c']\n"
     ]
    }
   ],
   "source": [
    "#88 . Write a Python program to iterate a given list cyclically on specific index position. \n",
    "#Original list:\n",
    "#['a', 'b', 'c', 'd', 'e', 'f', 'g', 'h']\n",
    "#Iterate the said list cyclically on specific index position 3 :\n",
    "#['d', 'e', 'f', 'g', 'h', 'a', 'b', 'c']\n",
    "\n",
    "my_list = ['a', 'b', 'c', 'd', 'e', 'f', 'g', 'h']\n",
    "\n",
    "print(\"Original list:\")\n",
    "print(my_list)\n",
    "\n",
    "# Index position to rotate from\n",
    "pos = int(input(\"Enter the position to rotate:\"))\n",
    "\n",
    "# Cyclic iteration\n",
    "result = my_list[pos:] + my_list[:pos]\n",
    "\n",
    "print(f\"Iterate the said list cyclically on specific index position {pos} :\")\n",
    "print(result)"
   ]
  },
  {
   "cell_type": "code",
   "execution_count": 9,
   "id": "269788dc-1846-4411-b8c3-8dea5365e619",
   "metadata": {},
   "outputs": [
    {
     "name": "stdout",
     "output_type": "stream",
     "text": [
      "Original list:\n",
      "['red', 'green', 'white', 'black']\n",
      "\n",
      "Traverse the said list in reverse order with original index:\n",
      " 3 -> black\n",
      " 2 -> white\n",
      " 1 -> green\n",
      " 0 -> red\n"
     ]
    }
   ],
   "source": [
    "#89 . Write a Python program to traverse a given list in reverse order, also print the elements with original index. \n",
    "#Original list:\n",
    "#['red', 'green', 'white', 'black']\n",
    "#Traverse the said list in reverse order:\n",
    "#black\n",
    "#white\n",
    "#green\n",
    "#red\n",
    "\n",
    "my_list = ['red', 'green', 'white', 'black']\n",
    "\n",
    "print(\"Original list:\")\n",
    "print(my_list)\n",
    "\n",
    "print(\"\\nTraverse the said list in reverse order with original index:\")\n",
    "\n",
    "for i in range(len(my_list) - 1, -1, -1):\n",
    "    print(f\" {i} -> {my_list[i]}\")"
   ]
  },
  {
   "cell_type": "code",
   "execution_count": 1,
   "id": "8ad40ffe-c58c-49e1-9693-776d1cd9572a",
   "metadata": {},
   "outputs": [
    {
     "name": "stdout",
     "output_type": "stream",
     "text": [
      "Original list: ['red', 'green', 'white', 'black', 'orange']\n"
     ]
    },
    {
     "name": "stdin",
     "output_type": "stream",
     "text": [
      "Enter the element to move:  black\n"
     ]
    },
    {
     "name": "stdout",
     "output_type": "stream",
     "text": [
      "Updated list: ['red', 'green', 'white', 'orange', 'black']\n"
     ]
    }
   ],
   "source": [
    "#90 . Write a Python program to move a specified element in a given list. \n",
    "#Original list:\n",
    "#['red', 'green', 'white', 'black', 'orange']\n",
    "#Move white at the end of the said list:\n",
    "#['red', 'green', 'black', 'orange', 'white']\n",
    "\n",
    "colors = ['red', 'green', 'white', 'black', 'orange']\n",
    "print(\"Original list:\", colors)\n",
    "\n",
    "element = input(\"Enter the element to move: \")\n",
    "\n",
    "if element in colors:\n",
    "    colors.remove(element)   # Remove from current position\n",
    "    colors.append(element)   # Add to the end\n",
    "    print(\"Updated list:\", colors)\n",
    "else:\n",
    "    print(f\"Element '{element}' not found in the list.\")"
   ]
  },
  {
   "cell_type": "code",
   "execution_count": 2,
   "id": "27c30594-aa18-4130-b85d-e1c027a4a16a",
   "metadata": {},
   "outputs": [
    {
     "name": "stdout",
     "output_type": "stream",
     "text": [
      "String: www.google.com\n",
      "List: ['.com', '.edu', '.tv']\n",
      "Result: True\n"
     ]
    }
   ],
   "source": [
    "#91 Write a Python program to check if a given string contains an element, which is present in a list. \n",
    "#The original string and list:\n",
    "#string : www.google.com\n",
    "#list   :['.com', '.edu', '.tv']\n",
    "#Check if www.google.com contains an element, which is present in the list ['.com', '.edu', '.tv']\n",
    "#True\n",
    "\n",
    "string = \"www.google.com\"\n",
    "check_list = ['.com', '.edu', '.tv']\n",
    "\n",
    "# Check if any element from the list is present in the string\n",
    "result = any(ext in string for ext in check_list)\n",
    "\n",
    "print(\"String:\", string)\n",
    "print(\"List:\", check_list)\n",
    "print(\"Result:\", result)"
   ]
  },
  {
   "cell_type": "code",
   "execution_count": 3,
   "id": "b698ab7b-e6a4-4383-96a8-ae23c6f517c5",
   "metadata": {},
   "outputs": [
    {
     "name": "stdout",
     "output_type": "stream",
     "text": [
      "Original list: ['1', '2', '3', '4', '5', '6', '7', '8']\n",
      "Joined adjacent members: ['12', '34', '56', '78']\n"
     ]
    }
   ],
   "source": [
    "#92 Write a Python program to join adjacent members of a given list. \n",
    "#Original list:\n",
    "#['1', '2', '3', '4', '5', '6', '7', '8']\n",
    "#Join adjacent members of a given list:\n",
    "#['12', '34', '56', '78']\n",
    "\n",
    "lst = ['1', '2', '3', '4', '5', '6', '7', '8']\n",
    "print(\"Original list:\", lst)\n",
    "\n",
    "# Join adjacent members\n",
    "joined_list = [lst[i] + lst[i+1] for i in range(0, len(lst), 2)]\n",
    "\n",
    "print(\"Joined adjacent members:\", joined_list)"
   ]
  },
  {
   "cell_type": "code",
   "execution_count": 4,
   "id": "4f4ca520-82a0-482b-8a1c-5425713ce446",
   "metadata": {},
   "outputs": [
    {
     "name": "stdout",
     "output_type": "stream",
     "text": [
      "Original list: [1234, 122, 1984, 19372, 100]\n",
      "Check if first digit in each element is same or not!\n",
      "True\n"
     ]
    }
   ],
   "source": [
    "#93 . Write a Python program to check if first digit/character of each element in a given list is same or not. \n",
    "#Original list:\n",
    "#[1234, 122, 1984, 19372, 100]\n",
    "#Check if first digit in each element of the said given list is same or not!\n",
    "#True\n",
    "\n",
    "nums = [1234, 122, 1984, 19372, 100]\n",
    "print(\"Original list:\", nums)\n",
    "\n",
    "first_digits = [str(num)[0] for num in nums]\n",
    "\n",
    "result = all(d == first_digits[0] for d in first_digits)\n",
    "\n",
    "print(\"Check if first digit in each element is same or not!\")\n",
    "print(result)"
   ]
  },
  {
   "cell_type": "code",
   "execution_count": 5,
   "id": "511849b0-dfdf-45f4-b9e3-26b1f5f3f8b9",
   "metadata": {},
   "outputs": [
    {
     "name": "stdout",
     "output_type": "stream",
     "text": [
      "Original list: [1234, 1522, 1984, 19372, 1000, 2342, 7626]\n"
     ]
    },
    {
     "name": "stdin",
     "output_type": "stream",
     "text": [
      "Enter the value:  4000\n"
     ]
    },
    {
     "name": "stdout",
     "output_type": "stream",
     "text": [
      "Indices of elements greater than 4000:\n",
      "[3, 6]\n"
     ]
    }
   ],
   "source": [
    "#94 Write a Python program to find the indices of elements of a given list, greater than a specified value. \n",
    "#Original list:\n",
    "#[1234, 1522, 1984, 19372, 1000, 2342, 7626]\n",
    "#Indices of elements of the said list, greater than 3000\n",
    "#[3, 6]\n",
    "\n",
    "nums = [1234, 1522, 1984, 19372, 1000, 2342, 7626]\n",
    "print(\"Original list:\", nums)\n",
    "\n",
    "# Take user input for the specified value\n",
    "value = int(input(\"Enter the value: \"))\n",
    "\n",
    "# Find indices of elements greater than user input\n",
    "indices = [i for i, num in enumerate(nums) if num > value]\n",
    "\n",
    "print(f\"Indices of elements greater than {value}:\")\n",
    "print(indices)"
   ]
  },
  {
   "cell_type": "code",
   "execution_count": 6,
   "id": "62d4f9df-d238-45af-8409-9635ee0d940b",
   "metadata": {},
   "outputs": [
    {
     "name": "stdout",
     "output_type": "stream",
     "text": [
      "Original list: ['abc ', ' ', ' ', 'sdfds ', ' ', ' ', 'sdfds ', 'huy']\n",
      "List after removing additional spaces:\n",
      "['abc', '', '', 'sdfds', '', '', 'sdfds', 'huy']\n"
     ]
    }
   ],
   "source": [
    "#95 Write a Python program to remove additional spaces in a given list. \n",
    "#Original list:\n",
    "#['abc ', ' ', ' ', 'sdfds ', ' ', ' ', 'sdfds ', 'huy']\n",
    "#Remove additional spaces from the said list:\n",
    "#['abc', '', '', 'sdfds', '', '', 'sdfds', 'huy']\n",
    "\n",
    "lst = ['abc ', ' ', ' ', 'sdfds ', ' ', ' ', 'sdfds ', 'huy']\n",
    "print(\"Original list:\", lst)\n",
    "\n",
    "# Remove additional spaces using strip()\n",
    "cleaned_list = [item.strip() for item in lst]\n",
    "\n",
    "print(\"List after removing additional spaces:\")\n",
    "print(cleaned_list)"
   ]
  },
  {
   "cell_type": "code",
   "execution_count": 7,
   "id": "bf5a9cdb-c47b-4463-a820-306a16187868",
   "metadata": {},
   "outputs": [
    {
     "name": "stdout",
     "output_type": "stream",
     "text": [
      "Original lists:\n",
      "[('red', 'green'), ('black', 'white'), ('orange', 'pink')]\n",
      "[('red', 'green'), ('orange', 'pink')]\n",
      "Common tuples between two said lists:\n",
      "[('orange', 'pink'), ('red', 'green')]\n"
     ]
    }
   ],
   "source": [
    "#96 . Write a Python program to find the common tuples between two given lists. \n",
    "#Original lists:\n",
    "#[('red', 'green'), ('black', 'white'), ('orange', 'pink')]\n",
    "#[('red', 'green'), ('orange', 'pink')]\n",
    "#Common tuples between two said lists\n",
    "#[('orange', 'pink'), ('red', 'green')]\n",
    "\n",
    "list1 = [('red', 'green'), ('black', 'white'), ('orange', 'pink')]\n",
    "list2 = [('red', 'green'), ('orange', 'pink')]\n",
    "\n",
    "print(\"Original lists:\")\n",
    "print(list1)\n",
    "print(list2)\n",
    "\n",
    "# Find common tuples\n",
    "common = list(set(list1) & set(list2))\n",
    "\n",
    "print(\"Common tuples between two said lists:\")\n",
    "print(common)"
   ]
  },
  {
   "cell_type": "code",
   "execution_count": 8,
   "id": "b604649e-9726-4d92-9093-d9008f170db3",
   "metadata": {},
   "outputs": [
    {
     "name": "stdout",
     "output_type": "stream",
     "text": [
      "Original list: [1, 2, 3, 4, 5, 6, 7]\n",
      "Sum the said list of numbers:\n",
      "[1.5, 2.5, 3.5, 4.5, 5.5, 6.5]\n"
     ]
    }
   ],
   "source": [
    "#97 . Sum a list of numbers. Write a Python program to sum the first number with the second and divide it by 2, then sum the second with the third and divide by 2, and so on. \n",
    "#Original list:\n",
    "#[1, 2, 3, 4, 5, 6, 7]\n",
    "#Sum the said list of numbers:\n",
    "#[1.5, 2.5, 3.5, 4.5, 5.5, 6.5]\n",
    "\n",
    "nums = [1, 2, 3, 4, 5, 6, 7]\n",
    "print(\"Original list:\", nums)\n",
    "\n",
    "result = []\n",
    "\n",
    "for i in range(len(nums) - 1):\n",
    "    avg = (nums[i] + nums[i + 1]) / 2\n",
    "    result.append(avg)\n",
    "\n",
    "print(\"Sum the said list of numbers:\")\n",
    "print(result)"
   ]
  },
  {
   "cell_type": "code",
   "execution_count": 9,
   "id": "d1842f20-c80c-40c3-830f-6eb4642c5d20",
   "metadata": {},
   "outputs": [
    {
     "name": "stdout",
     "output_type": "stream",
     "text": [
      "Original list: [3, 4, 6, 2, 0, 0, 0, 0, 0, 0, 6, 7, 6, 9, 10, 0, 0, 0, 0, 0, 5, 9, 9, 7, 4, 4, 0, 0, 0, 0, 0, 0, 5, 3, 2, 9, 7, 1]\n",
      "Number of groups of non-zero numbers separated by zeros of the said list: 4\n"
     ]
    }
   ],
   "source": [
    "#98 . Write a Python program to count the number of groups of non-zero numbers separated by zeros of a given list of numbers. \n",
    "#Original list:\n",
    "#[3, 4, 6, 2, 0, 0, 0, 0, 0, 0, 6, 7, 6, 9, 10, 0, 0, 0, 0, 0, 5, 9, 9, 7, 4, 4, 0, 0, 0, 0, 0, 0, 5, 3, 2, 9, 7, 1]\n",
    "#Number of groups of non-zero numbers separated by zeros of the said list: 4\n",
    "\n",
    "nums = [3, 4, 6, 2, 0, 0, 0, 0, 0, 0, 6, 7, 6, 9, 10, \n",
    "        0, 0, 0, 0, 0, 5, 9, 9, 7, 4, 4, \n",
    "        0, 0, 0, 0, 0, 0, 5, 3, 2, 9, 7, 1]\n",
    "\n",
    "print(\"Original list:\", nums)\n",
    "\n",
    "count = 0\n",
    "in_group = False\n",
    "\n",
    "for num in nums:\n",
    "    if num != 0 and not in_group:  # new group starts\n",
    "        count += 1\n",
    "        in_group = True\n",
    "    elif num == 0:\n",
    "        in_group = False  # group ended\n",
    "\n",
    "print(\"Number of groups of non-zero numbers separated by zeros of the said list:\", count)"
   ]
  },
  {
   "cell_type": "code",
   "execution_count": 10,
   "id": "3a0ed9a5-2227-4164-a123-fa4fb0193faf",
   "metadata": {},
   "outputs": [
    {
     "name": "stdout",
     "output_type": "stream",
     "text": [
      "Original list: [3, 4, 6, 2, 0, 0, 0, 0, 0, 0, 6, 7, 6, 9, 10, 0, 0, 0, 0, 0, 7, 4, 4, 0, 0, 0, 0, 0, 0, 5, 3, 2, 9, 7, 1, 0, 0, 0]\n",
      "Compute the sum of non-zero groups (separated by zeros): [15, 38, 15, 27]\n"
     ]
    }
   ],
   "source": [
    "# 99 . Write a Python program to compute the sum of non-zero groups (separated by zeros) of a given list of numbers. \n",
    "#Original list:\n",
    "#[3, 4, 6, 2, 0, 0, 0, 0, 0, 0, 6, 7, 6, 9, 10, 0, 0, 0, 0, 0, 7, 4, 4, 0, 0, 0, 0, 0, 0, 5, 3, 2, 9, 7, 1, 0, 0, 0]\n",
    "#Compute the sum of non-zero groups (separated by zeros) of the said list of numbers: [15, 38, 15, 27]\n",
    "\n",
    "nums = [3, 4, 6, 2, 0, 0, 0, 0, 0, 0, \n",
    "        6, 7, 6, 9, 10, 0, 0, 0, 0, 0, \n",
    "        7, 4, 4, 0, 0, 0, 0, 0, 0, \n",
    "        5, 3, 2, 9, 7, 1, 0, 0, 0]\n",
    "\n",
    "print(\"Original list:\", nums)\n",
    "\n",
    "group_sums = []\n",
    "current_sum = 0\n",
    "\n",
    "for num in nums:\n",
    "    if num != 0:\n",
    "        current_sum += num   # add to current group\n",
    "    elif current_sum > 0:\n",
    "        group_sums.append(current_sum)  # store sum when group ends\n",
    "        current_sum = 0\n",
    "\n",
    "if current_sum > 0:\n",
    "    group_sums.append(current_sum)\n",
    "\n",
    "print(\"Compute the sum of non-zero groups (separated by zeros):\", group_sums)"
   ]
  },
  {
   "cell_type": "code",
   "execution_count": 11,
   "id": "92b145c4-0545-4d3c-a476-55d687101a04",
   "metadata": {},
   "outputs": [
    {
     "name": "stdout",
     "output_type": "stream",
     "text": [
      "Original list: ['Ricky Rivera', 98, 'Math', 90, 'Science']\n",
      "After deleting an element, using index of the element: [98, 'Math', 90, 'Science']\n"
     ]
    }
   ],
   "source": [
    "#100 Write a Python program to remove an element from a given list. \n",
    "#Original list:\n",
    "#['Ricky Rivera', 98, 'Math', 90, 'Science']\n",
    "#After deleting an element:, using index of the element: [98, 'Math', 90, 'Science']\n",
    "\n",
    "lst = ['Ricky Rivera', 98, 'Math', 90, 'Science']\n",
    "print(\"Original list:\", lst)\n",
    "\n",
    "index_to_remove = 0   # here we remove the first element\n",
    "\n",
    "# Remove element using pop()\n",
    "lst.pop(index_to_remove)\n",
    "\n",
    "print(\"After deleting an element, using index of the element:\", lst)"
   ]
  },
  {
   "cell_type": "code",
   "execution_count": 12,
   "id": "01a4918e-fdd8-4b71-ad21-79c03c2ca07c",
   "metadata": {},
   "outputs": [
    {
     "name": "stdout",
     "output_type": "stream",
     "text": [
      "Original list: [34.67, 12, -94.89, 'Python', 0, 'C#']\n",
      "After removing all the values except integer values from the said array of mixed values: [12, 0]\n"
     ]
    }
   ],
   "source": [
    "#101 . Write a Python program to remove all the values except integer values from a given array of mixed values. \n",
    "#Original list: [34.67, 12, -94.89, 'Python', 0, 'C#']\n",
    "#After removing all the values except integer values from the said array of mixed values: [12, 0]\n",
    "\n",
    "# Original list\n",
    "lst = [34.67, 12, -94.89, 'Python', 0, 'C#']\n",
    "print(\"Original list:\", lst)\n",
    "\n",
    "# Keep only integer values\n",
    "only_integers = [x for x in lst if isinstance(x, int)]\n",
    "\n",
    "print(\"After removing all the values except integer values from the said array of mixed values:\", only_integers)\n"
   ]
  },
  {
   "cell_type": "code",
   "execution_count": 13,
   "id": "5b38e744-9e15-468a-b166-9aa0daaf4cae",
   "metadata": {},
   "outputs": [
    {
     "name": "stdin",
     "output_type": "stream",
     "text": [
      "Enter a number:  564\n"
     ]
    },
    {
     "name": "stdout",
     "output_type": "stream",
     "text": [
      "564\n",
      "[5, 6, 4]\n"
     ]
    }
   ],
   "source": [
    "#102 Write a Python program to convert a given number (integer) to a list of digits. \n",
    "#Sample Output:\n",
    "#123\n",
    "#[1, 2, 3]\n",
    "#347823\n",
    "#[1, 3, 4, 7, 8, 2, 3]\n",
    "\n",
    "num = int(input(\"Enter a number: \"))\n",
    "print(num)\n",
    "\n",
    "# Convert number to list of digits\n",
    "digits = [int(digit) for digit in str(num)]\n",
    "print(digits)"
   ]
  },
  {
   "cell_type": "code",
   "execution_count": 14,
   "id": "c952d5a0-5a4d-4dd2-afe5-b552ec5b4304",
   "metadata": {},
   "outputs": [
    {
     "name": "stdout",
     "output_type": "stream",
     "text": [
      "Original list1: ['a', 'b', 'f', 'a', 'c', 'e', 'a', 'a', 'b', 'e', 'f']\n",
      "Original list2: [3, 4, 7, 5, 9, 3, 4, 5, 0, 3, 2, 3]\n",
      "Frequency dictionary for list1: {'a': 4, 'b': 2, 'f': 2, 'c': 1, 'e': 2}\n",
      "Frequency dictionary for list2: {3: 4, 4: 2, 7: 1, 5: 2, 9: 1, 0: 1, 2: 1}\n"
     ]
    }
   ],
   "source": [
    "#103 Write a Python program to create a dictionary with the unique values of a given list as keys and their frequencies as the values. \n",
    "#Sample Input:\n",
    "#['a', 'b', 'f', 'a', 'c', 'e', 'a', 'a', 'b', 'e', 'f']\n",
    "#[3, 4, 7, 5, 9, 3, 4, 5, 0, 3, 2, 3]\n",
    "#Sample Output:\n",
    "#{'a': 4, 'b': 2, 'f': 2, 'c': 1, 'e': 2}\n",
    "#{3: 4, 4: 2, 7: 1, 5: 2, 9: 1, 0: 1, 2: 1}\n",
    "\n",
    "list1 = ['a', 'b', 'f', 'a', 'c', 'e', 'a', 'a', 'b', 'e', 'f']\n",
    "list2 = [3, 4, 7, 5, 9, 3, 4, 5, 0, 3, 2, 3]\n",
    "\n",
    "print(\"Original list1:\", list1)\n",
    "print(\"Original list2:\", list2)\n",
    "\n",
    "# Create dictionary for list1\n",
    "freq_dict1 = {}\n",
    "for item in list1:\n",
    "    freq_dict1[item] = freq_dict1.get(item, 0) + 1\n",
    "\n",
    "# Create dictionary for list2\n",
    "freq_dict2 = {}\n",
    "for item in list2:\n",
    "    freq_dict2[item] = freq_dict2.get(item, 0) + 1\n",
    "\n",
    "print(\"Frequency dictionary for list1:\", freq_dict1)\n",
    "print(\"Frequency dictionary for list2:\", freq_dict2)"
   ]
  },
  {
   "cell_type": "code",
   "execution_count": 15,
   "id": "82ce5fef-d723-4993-9a55-9aa896434ca2",
   "metadata": {},
   "outputs": [
    {
     "name": "stdout",
     "output_type": "stream",
     "text": [
      "List1: [10, 20, 30, 10]\n",
      "List2: [10, 20, 40, 20]\n",
      "Symmetric difference (with duplicates kept): [30, 40]\n"
     ]
    }
   ],
   "source": [
    "#104 . Write a Python program to get the symmetric difference between two iterables, without filtering out duplicate values. \n",
    "#Sample Output:\n",
    "#[30, 40]\n",
    "list1 = [10, 20, 30, 10]\n",
    "list2 = [10, 20, 40, 20]\n",
    "\n",
    "print(\"List1:\", list1)\n",
    "print(\"List2:\", list2)\n",
    "\n",
    "# Symmetric difference without removing duplicates\n",
    "result = [x for x in list1 if x not in list2] + [x for x in list2 if x not in list1]\n",
    "\n",
    "print(\"Symmetric difference (with duplicates kept):\", result)"
   ]
  },
  {
   "cell_type": "code",
   "execution_count": 16,
   "id": "d7aed6db-e827-4ff9-a329-3339e752d653",
   "metadata": {},
   "outputs": [
    {
     "name": "stdout",
     "output_type": "stream",
     "text": [
      "True\n",
      "True\n",
      "False\n"
     ]
    }
   ],
   "source": [
    "#105 Write a Python program to check if a given function returns True for every element in a list. \n",
    "#Sample Output:\n",
    "#True\n",
    "#False\n",
    "#False\n",
    "\n",
    "list1 = [2, 4, 6, 8]\n",
    "list2 = [1, 2, 3, 4]\n",
    "list3 = [0, -1, 2]\n",
    "\n",
    "# Sample function: check if number is positive\n",
    "def is_positive(n):\n",
    "    return n > 0\n",
    "\n",
    "# Check if function returns True for every element\n",
    "print(all(is_positive(x) for x in list1))  # True\n",
    "print(all(is_positive(x) for x in list2))  # False (1 is positive, but 1 < 0 is False? wait, fix)\n",
    "print(all(is_positive(x) for x in list3))"
   ]
  },
  {
   "cell_type": "code",
   "execution_count": 17,
   "id": "b46e4733-4880-4a93-8116-8836582f2bf7",
   "metadata": {},
   "outputs": [
    {
     "name": "stdout",
     "output_type": "stream",
     "text": [
      "Green\n"
     ]
    }
   ],
   "source": [
    "#106 Write a Python program to that takes any number of iterable objects or objects with a length property and returns the longest one. \n",
    "#Sample Output:\n",
    "#Green\n",
    "#[1, 2, 3, 4, 5]\n",
    "#[1, 2, 3, 4]\n",
    "\n",
    "s1 = \"Green\"\n",
    "lst1 = [1, 2, 3, 4, 5]\n",
    "lst2 = [1, 2, 3, 4]\n",
    "\n",
    "# Function to get the longest iterable\n",
    "def longest_iterable(*iterables):\n",
    "    return max(iterables, key=len)\n",
    "\n",
    "# Test the function\n",
    "print(longest_iterable(s1, lst1, lst2))"
   ]
  },
  {
   "cell_type": "code",
   "execution_count": 18,
   "id": "50afb6b8-70cf-4d85-b2f1-c9a2e5e2f8ac",
   "metadata": {},
   "outputs": [
    {
     "name": "stdout",
     "output_type": "stream",
     "text": [
      "Original list: [1, 2, 3, 4, 5]\n",
      "Maximum value after applying the function: 25\n"
     ]
    }
   ],
   "source": [
    "#107 Write a Python program to get the maximum value of a list, after mapping each element to a value using a given function. \n",
    "#Sample Output:\n",
    "#8\n",
    "\n",
    "nums = [1, 2, 3, 4, 5]\n",
    "\n",
    "# Function to apply (example: square each element)\n",
    "def square(x):\n",
    "    return x ** 2\n",
    "\n",
    "# Apply the function and find the maximum value\n",
    "max_value = max(map(square, nums))\n",
    "\n",
    "print(\"Original list:\", nums)\n",
    "print(\"Maximum value after applying the function:\", max_value)\n"
   ]
  },
  {
   "cell_type": "code",
   "execution_count": 19,
   "id": "15cc6660-4336-4772-ad98-0d5e708b889e",
   "metadata": {},
   "outputs": [
    {
     "name": "stdout",
     "output_type": "stream",
     "text": [
      "Original list: [1, 2, 3, 4, 5]\n",
      "Minimum value after applying the function: 1\n"
     ]
    }
   ],
   "source": [
    "#108 Write a Python program to get the minimum value of a list, after mapping each element to a value using a given function. \n",
    "\n",
    "nums = [1, 2, 3, 4, 5]\n",
    "\n",
    "# Function to apply (example: square each element)\n",
    "def square(x):\n",
    "    return x ** 2\n",
    "\n",
    "# Apply the function and find the minimum value\n",
    "min_value = min(map(square, nums))\n",
    "\n",
    "print(\"Original list:\", nums)\n",
    "print(\"Minimum value after applying the function:\", min_value)"
   ]
  },
  {
   "cell_type": "code",
   "execution_count": 20,
   "id": "257eb1e6-a4ae-44bc-8da1-4ff28e731d8a",
   "metadata": {},
   "outputs": [
    {
     "name": "stdout",
     "output_type": "stream",
     "text": [
      "Original list: [1, 2, 3, 4, 5]\n",
      "Sum after applying the function: 55\n"
     ]
    }
   ],
   "source": [
    "#109 Write a Python program to calculate the sum of a list, after mapping each element to a value using the provided function.\n",
    "\n",
    "nums = [1, 2, 3, 4, 5]\n",
    "\n",
    "# Function to apply (example: square each element)\n",
    "def square(x):\n",
    "    return x ** 2\n",
    "\n",
    "# Apply the function and calculate the sum\n",
    "total = sum(map(square, nums))\n",
    "\n",
    "print(\"Original list:\", nums)\n",
    "print(\"Sum after applying the function:\", total)"
   ]
  },
  {
   "cell_type": "code",
   "execution_count": 21,
   "id": "bf1b0b45-e572-48ad-87d8-17587ed0a5ab",
   "metadata": {},
   "outputs": [
    {
     "name": "stdout",
     "output_type": "stream",
     "text": [
      "[0, 0, 0, 0, 0, 0, 0]\n"
     ]
    }
   ],
   "source": [
    "#110 Write a Python program to initialize and fills a list with the specified value. \n",
    "#Sample Output:\n",
    "#[0, 0, 0, 0, 0, 0, 0]\n",
    "#[3, 3, 3, 3, 3, 3, 3, 3]\n",
    "#[-2, -2, -2, -2, -2]\n",
    "#[3.2, 3.2, 3.2, 3.2, 3.2]\n",
    "\n",
    "list = [0] * 7\n",
    "print(list)\n"
   ]
  },
  {
   "cell_type": "code",
   "execution_count": 22,
   "id": "2a8dbda2-f99b-4d99-b4f2-55d53102b50b",
   "metadata": {},
   "outputs": [
    {
     "name": "stdout",
     "output_type": "stream",
     "text": [
      "Original list elements:\n",
      "[10, 50, 40]\n",
      "[2, 5, 3]\n",
      "Weighted average of the said two list of numbers:\n",
      "39.0\n"
     ]
    }
   ],
   "source": [
    "#111 Write a Python program to get the weighted average of two or more numbers. \n",
    "#Sample Output:\n",
    "#Original list elements:\n",
    "#[10, 50, 40]\n",
    "#[2, 5, 3]\n",
    "#Weighted average of the said two list of numbers:\n",
    "#39.0\n",
    "\n",
    "numbers = [10, 50, 40]\n",
    "weights = [2, 5, 3]\n",
    "\n",
    "print(\"Original list elements:\")\n",
    "print(numbers)\n",
    "print(weights)\n",
    "\n",
    "# Calculate weighted average\n",
    "weighted_avg = sum(n * w for n, w in zip(numbers, weights)) / sum(weights)\n",
    "\n",
    "print(\"Weighted average of the said two list of numbers:\")\n",
    "print(weighted_avg)"
   ]
  },
  {
   "cell_type": "code",
   "execution_count": 25,
   "id": "91fd7ef7-4cdc-48a1-9413-13ee9b7d0a98",
   "metadata": {},
   "outputs": [
    {
     "name": "stdout",
     "output_type": "stream",
     "text": [
      "Original list elements:\n",
      "[1, [2], [[3], [4], 5], 6]\n",
      "Deep flatten the said list:\n",
      "[1, [2], [[3], [4], 5], 6]\n"
     ]
    }
   ],
   "source": [
    "#112 Write a Python program to perform a deep flattens a list. \n",
    "#Sample Output:\n",
    "#Original list elements:\n",
    "#[1, [2], [[3], [4], 5], 6]\n",
    "#Deep flatten the said list:\n",
    "#[1, 2, 3, 4, 5, 6]\n",
    "\n",
    "nested_list = [1, [2], [[3], [4], 5], 6]\n",
    "\n",
    "print(\"Original list elements:\")\n",
    "print(nested_list)\n",
    "\n",
    "# Deep flatten inline (corrected)\n",
    "flattened = []\n",
    "\n",
    "stack = nested_list[:]  # copy of original list\n",
    "while stack:\n",
    "    item = stack.pop(0)\n",
    "    if type(item) == list:  # use type() instead of isinstance()\n",
    "        stack = item + stack  # prepend nested list to process its elements\n",
    "    else:\n",
    "        flattened.append(item)\n",
    "\n",
    "print(\"Deep flatten the said list:\")\n",
    "print(flattened)"
   ]
  },
  {
   "cell_type": "code",
   "execution_count": 26,
   "id": "b1926de2-1ce3-4aec-86a8-fb22604ea0fb",
   "metadata": {},
   "outputs": [
    {
     "name": "stdout",
     "output_type": "stream",
     "text": [
      "Original list elements:\n",
      "[1, 2, 4]\n",
      "[2, 4, 1]\n",
      "Check two said lists contain the same elements regardless of order!\n",
      "True\n"
     ]
    }
   ],
   "source": [
    "#113 Write a Python program to check if two given lists contain the same elements regardless of order. \n",
    "#Sample Output:\n",
    "#Original list elements:\n",
    "#[1, 2, 4]\n",
    "#[2, 4, 1]\n",
    "#Check two said lists contain the same elements regardless of order!\n",
    "#True\n",
    "\n",
    "# Original lists\n",
    "list1 = [1, 2, 4]\n",
    "list2 = [2, 4, 1]\n",
    "\n",
    "print(\"Original list elements:\")\n",
    "print(list1)\n",
    "print(list2)\n",
    "\n",
    "# Check if both lists have the same elements regardless of order\n",
    "same_elements = sorted(list1) == sorted(list2)\n",
    "\n",
    "print(\"Check two said lists contain the same elements regardless of order!\")\n",
    "print(same_elements)\n"
   ]
  },
  {
   "cell_type": "code",
   "execution_count": 27,
   "id": "db40353a-38c3-4a41-8a55-5a9808ca1571",
   "metadata": {},
   "outputs": [
    {
     "name": "stdout",
     "output_type": "stream",
     "text": [
      "List: [1, 3, 5, 6, 7]\n",
      "Does the function return True for at least one element? True\n"
     ]
    }
   ],
   "source": [
    "#114 Write a Python program to check if a given function returns True for at least one element in the list. \n",
    "\n",
    "# Sample list\n",
    "nums = [1, 3, 5, 6, 7]\n",
    "\n",
    "# Sample function: check if a number is even\n",
    "def is_even(n):\n",
    "    return n % 2 == 0\n",
    "\n",
    "# Check if function returns True for at least one element\n",
    "result = any(is_even(x) for x in nums)\n",
    "\n",
    "print(\"List:\", nums)\n",
    "print(\"Does the function return True for at least one element?\", result)\n"
   ]
  },
  {
   "cell_type": "code",
   "execution_count": 28,
   "id": "391df5bd-81e8-496b-8aea-e496273a96a7",
   "metadata": {},
   "outputs": [
    {
     "name": "stdout",
     "output_type": "stream",
     "text": [
      "List1: [1, 2, 3]\n",
      "List2: [1, 2, 3, 4, 5]\n",
      "Are all elements of list1 included in list2?\n",
      "True\n"
     ]
    }
   ],
   "source": [
    "#115 . Write a Python program to check if all the elements of a list are included in another given list. \n",
    "\n",
    "# Sample lists\n",
    "list1 = [1, 2, 3]\n",
    "list2 = [1, 2, 3, 4, 5]\n",
    "\n",
    "print(\"List1:\", list1)\n",
    "print(\"List2:\", list2)\n",
    "\n",
    "# Check if all elements of list1 are in list2\n",
    "all_included = all(elem in list2 for elem in list1)\n",
    "\n",
    "print(\"Are all elements of list1 included in list2?\")\n",
    "print(all_included)\n"
   ]
  },
  {
   "cell_type": "code",
   "execution_count": 30,
   "id": "5e870747-c5e4-40ab-bdc1-f76044c145c3",
   "metadata": {},
   "outputs": [
    {
     "name": "stdout",
     "output_type": "stream",
     "text": [
      "Original list:\n",
      "[2, 3, 8, 4, 7, 9, 8, 2, 6, 5, 1, 6, 1, 2, 3, 2, 4, 6, 9, 1, 2]\n",
      "Item with maximum frequency of the said list:\n",
      "2\n"
     ]
    }
   ],
   "source": [
    "#116 . Write a Python program to get the most frequent element in a given list of numbers. \n",
    "#Original list:\n",
    "#[2, 3, 8, 4, 7, 9, 8, 2, 6, 5, 1, 6, 1, 2, 3, 2, 4, 6, 9, 1, 2]\n",
    "#Item with maximum frequency of the said list:\n",
    "#2\n",
    "\n",
    "# Original list\n",
    "nums = [2, 3, 8, 4, 7, 9, 8, 2, 6, 5, 1, 6, 1, 2, 3, 2, 4, 6, 9, 1, 2]\n",
    "\n",
    "print(\"Original list:\")\n",
    "print(nums)\n",
    "\n",
    "# Count frequencies using a dictionary\n",
    "freq = {}\n",
    "for num in nums:\n",
    "    if num in freq:\n",
    "        freq[num] += 1\n",
    "    else:\n",
    "        freq[num] = 1\n",
    "\n",
    "# Find the element with the maximum frequency\n",
    "most_common_element = max(freq, key=freq.get)\n",
    "\n",
    "print(\"Item with maximum frequency of the said list:\")\n",
    "print(most_common_element)\n"
   ]
  },
  {
   "cell_type": "code",
   "execution_count": 31,
   "id": "6398b9e4-8fe0-436d-a829-5bf26bd9d49d",
   "metadata": {},
   "outputs": [
    {
     "name": "stdout",
     "output_type": "stream",
     "text": [
      "Original list:\n",
      "[1, 2, 3, 4, 5, 6, 7, 8, 9, 10]\n",
      "[2, 4, 6, 8, 10]\n",
      "[5, 10]\n",
      "[6]\n"
     ]
    }
   ],
   "source": [
    "#117 Write a Python program to get the every nth element in a given list. \n",
    "#Sample Output:\n",
    "#[1, 2, 3, 4, 5, 6, 7, 8, 9, 10]\n",
    "#[2, 4, 6, 8, 10]\n",
    "#[5, 10]\n",
    "#[6]\n",
    "\n",
    "# Original list\n",
    "lst = [1, 2, 3, 4, 5, 6, 7, 8, 9, 10]\n",
    "\n",
    "print(\"Original list:\")\n",
    "print(lst)\n",
    "\n",
    "# Get every 2nd element\n",
    "every_2nd = lst[1::2]  # start at index 1, step by 2\n",
    "print(every_2nd)\n",
    "\n",
    "# Get every 5th element\n",
    "every_5th = lst[4::5]  # start at index 4, step by 5\n",
    "print(every_5th)\n",
    "\n",
    "# Get every 6th element\n",
    "every_6th = lst[5::6]  # start at index 5, step by 6\n",
    "print(every_6th)\n"
   ]
  },
  {
   "cell_type": "code",
   "execution_count": 32,
   "id": "e48aca11-4fb8-4f21-af4f-3f00e102a66e",
   "metadata": {},
   "outputs": [
    {
     "name": "stdout",
     "output_type": "stream",
     "text": [
      "List1: [1, 2, 3]\n",
      "List2: [3, 2, 1, 4, 5]\n",
      "Are all elements of list1 contained in list2 regardless of order?\n",
      "True\n"
     ]
    }
   ],
   "source": [
    "#118 . Write a Python program to check if the elements of the first list are contained in the second one regardless of order. \n",
    "\n",
    "# Sample lists\n",
    "list1 = [1, 2, 3]\n",
    "list2 = [3, 2, 1, 4, 5]\n",
    "\n",
    "print(\"List1:\", list1)\n",
    "print(\"List2:\", list2)\n",
    "\n",
    "# Check if all elements of list1 are in list2\n",
    "all_contained = all(elem in list2 for elem in list1)\n",
    "\n",
    "print(\"Are all elements of list1 contained in list2 regardless of order?\")\n",
    "print(all_contained)\n"
   ]
  },
  {
   "cell_type": "code",
   "execution_count": 33,
   "id": "778a5e74-784d-48ed-8837-bcfbc2c2c19d",
   "metadata": {},
   "outputs": [
    {
     "name": "stdout",
     "output_type": "stream",
     "text": [
      "Original list:\n",
      "[1, 2, 3, 4, 5, 6, 7]\n",
      "Check if there are duplicate values in the said given flat list:\n",
      "False\n"
     ]
    }
   ],
   "source": [
    "#119 . Write a Python program to check if there are duplicate values in a given flat list. \n",
    "\n",
    "#Original list:\n",
    "#[1, 2, 3, 4, 5, 6, 7]\n",
    "#Check if there are duplicate values in the said given flat list:\n",
    "#False\n",
    "\n",
    "# Original list\n",
    "lst = [1, 2, 3, 4, 5, 6, 7]\n",
    "\n",
    "print(\"Original list:\")\n",
    "print(lst)\n",
    "\n",
    "# Check for duplicates\n",
    "has_duplicates = len(lst) != len(set(lst))\n",
    "\n",
    "print(\"Check if there are duplicate values in the said given flat list:\")\n",
    "print(has_duplicates)\n"
   ]
  },
  {
   "cell_type": "code",
   "execution_count": 40,
   "id": "6c74cc72-7357-43c8-836f-11493173aabf",
   "metadata": {},
   "outputs": [
    {
     "name": "stdin",
     "output_type": "stream",
     "text": [
      "Enter the starting number:  2 \n",
      "Enter the step value:  2\n",
      "Enter the limit:  20\n"
     ]
    },
    {
     "name": "stdout",
     "output_type": "stream",
     "text": [
      "Arithmetic progression list:\n",
      "[2, 4, 6, 8, 10, 12, 14, 16, 18, 20]\n"
     ]
    }
   ],
   "source": [
    "#120 . Write a Python program to generate a list of numbers in the arithmetic progression starting with the given positive integer and up to the specified limit. \n",
    "#Sample Output:\n",
    "#[1, 2, 3, 4, 5, 6, 7, 8, 9, 10, 11, 12, 13, 14, 15]\n",
    "#[3, 6, 9, 12, 15, 18, 21, 24, 27, 30, 33, 36]\n",
    "#[5, 10, 15, 20, 25]\n",
    "\n",
    "# Take user input\n",
    "start = int(input(\"Enter the starting number: \"))\n",
    "step = int(input(\"Enter the step value: \"))\n",
    "limit = int(input(\"Enter the limit: \"))\n",
    "\n",
    "# Generate AP list using a while loop\n",
    "ap_list = []\n",
    "current = start\n",
    "while current <= limit:\n",
    "    ap_list.append(current)\n",
    "    current += step\n",
    "\n",
    "print(\"Arithmetic progression list:\")\n",
    "print(ap_list)\n",
    "\n",
    "\n"
   ]
  },
  {
   "cell_type": "code",
   "execution_count": 41,
   "id": "363e8d21-5421-471e-b4bb-66abc89ea7a0",
   "metadata": {},
   "outputs": [
    {
     "name": "stdout",
     "output_type": "stream",
     "text": [
      "13\n",
      "0\n"
     ]
    }
   ],
   "source": [
    "#121 Write a Python program to count lowercase letters in a given list of words. \n",
    "#Sample Data:\n",
    "#([\"Red\", \"Green\", \"Blue\", \"White\"]) -> 13\n",
    "#([\"SQL\", \"C++\", \"C\"]) -> 0\n",
    "\n",
    "    # Sample lists\n",
    "words1 = [\"Red\", \"Green\", \"Blue\", \"White\"]\n",
    "words2 = [\"SQL\", \"C++\", \"C\"]\n",
    "\n",
    "# Function to count lowercase letters\n",
    "def count_lowercase(word_list):\n",
    "    count = 0\n",
    "    for word in word_list:\n",
    "        for char in word:\n",
    "            if char.islower():\n",
    "                count += 1\n",
    "    return count\n",
    "\n",
    "# Test the function\n",
    "print(count_lowercase(words1))  # Output: 13\n",
    "print(count_lowercase(words2))  # Output: 0\n"
   ]
  },
  {
   "cell_type": "code",
   "execution_count": 42,
   "id": "151bf34c-6449-4a67-a2af-091352122b29",
   "metadata": {},
   "outputs": [
    {
     "name": "stdout",
     "output_type": "stream",
     "text": [
      "[[0, 3], [4, 7]]\n",
      "[[-3, 0], [-8, -5]]\n"
     ]
    }
   ],
   "source": [
    "#122 Write a Python program that takes a list of integers and finds all pairs of integers that differ by three. Return all pairs of integers in a list. \n",
    "#Sample Data:\n",
    "#([0, 3, 4, 7, 9]) -> [[0, 3], [4, 7]]\n",
    "#[0, -3, -5, -7, -8] -> [[-3, 0], [-8, -5]]\n",
    "\n",
    "# Sample lists\n",
    "nums1 = [0, 3, 4, 7, 9]\n",
    "nums2 = [0, -3, -5, -7, -8]\n",
    "\n",
    "# Function to find all pairs with difference 3\n",
    "def pairs_with_diff_three(nums):\n",
    "    result = []\n",
    "    for i in range(len(nums)):\n",
    "        for j in range(i + 1, len(nums)):\n",
    "            if abs(nums[i] - nums[j]) == 3:\n",
    "                # Append pair in ascending order\n",
    "                result.append(sorted([nums[i], nums[j]]))\n",
    "    return result\n",
    "\n",
    "# Test the function\n",
    "print(pairs_with_diff_three(nums1))  # Output: [[0, 3], [4, 7]]\n",
    "print(pairs_with_diff_three(nums2))  # Output: [[-3, 0], [-8, -5]]\n"
   ]
  }
 ],
 "metadata": {
  "kernelspec": {
   "display_name": "Python 3 (ipykernel)",
   "language": "python",
   "name": "python3"
  },
  "language_info": {
   "codemirror_mode": {
    "name": "ipython",
    "version": 3
   },
   "file_extension": ".py",
   "mimetype": "text/x-python",
   "name": "python",
   "nbconvert_exporter": "python",
   "pygments_lexer": "ipython3",
   "version": "3.11.7"
  }
 },
 "nbformat": 4,
 "nbformat_minor": 5
}
