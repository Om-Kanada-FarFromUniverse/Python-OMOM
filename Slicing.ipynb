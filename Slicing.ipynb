{
 "cells": [
  {
   "cell_type": "code",
   "execution_count": 14,
   "id": "bbcac42a",
   "metadata": {},
   "outputs": [],
   "source": [
    "string1 = \"OMOMOMOM\"\n"
   ]
  },
  {
   "cell_type": "code",
   "execution_count": 18,
   "id": "70c5962c",
   "metadata": {},
   "outputs": [
    {
     "data": {
      "text/plain": [
       "'OM'"
      ]
     },
     "execution_count": 18,
     "metadata": {},
     "output_type": "execute_result"
    }
   ],
   "source": [
    "string1[0:2]"
   ]
  },
  {
   "cell_type": "code",
   "execution_count": 20,
   "id": "e13a4936",
   "metadata": {},
   "outputs": [
    {
     "data": {
      "text/plain": [
       "'OM'"
      ]
     },
     "execution_count": 20,
     "metadata": {},
     "output_type": "execute_result"
    }
   ],
   "source": [
    "string1[:2]"
   ]
  },
  {
   "cell_type": "code",
   "execution_count": 21,
   "id": "83f05c38",
   "metadata": {},
   "outputs": [
    {
     "data": {
      "text/plain": [
       "'M'"
      ]
     },
     "execution_count": 21,
     "metadata": {},
     "output_type": "execute_result"
    }
   ],
   "source": [
    "string1[1:2]"
   ]
  },
  {
   "cell_type": "code",
   "execution_count": 22,
   "id": "cd8bd197",
   "metadata": {},
   "outputs": [
    {
     "data": {
      "text/plain": [
       "'OMOMOM'"
      ]
     },
     "execution_count": 22,
     "metadata": {},
     "output_type": "execute_result"
    }
   ],
   "source": [
    "string1[2:]"
   ]
  },
  {
   "cell_type": "code",
   "execution_count": 30,
   "id": "4d77d7c9",
   "metadata": {},
   "outputs": [
    {
     "data": {
      "text/plain": [
       "'MO'"
      ]
     },
     "execution_count": 30,
     "metadata": {},
     "output_type": "execute_result"
    }
   ],
   "source": [
    "string1[-3:-1]"
   ]
  },
  {
   "cell_type": "code",
   "execution_count": 24,
   "id": "1695ac25",
   "metadata": {},
   "outputs": [
    {
     "data": {
      "text/plain": [
       "'MOMOMOMO'"
      ]
     },
     "execution_count": 24,
     "metadata": {},
     "output_type": "execute_result"
    }
   ],
   "source": [
    "string1[::-1]"
   ]
  },
  {
   "cell_type": "code",
   "execution_count": 25,
   "id": "6f7adeba",
   "metadata": {},
   "outputs": [
    {
     "data": {
      "text/plain": [
       "'MO'"
      ]
     },
     "execution_count": 25,
     "metadata": {},
     "output_type": "execute_result"
    }
   ],
   "source": [
    "string1[-1:-3:-1]"
   ]
  },
  {
   "cell_type": "code",
   "execution_count": null,
   "id": "f131ad17",
   "metadata": {},
   "outputs": [
    {
     "data": {
      "text/plain": [
       "'adan'"
      ]
     },
     "execution_count": 27,
     "metadata": {},
     "output_type": "execute_result"
    }
   ],
   "source": [
    "str = \"CANADA\"\n",
    "str[-1:-5:-1]"
   ]
  },
  {
   "cell_type": "code",
   "execution_count": null,
   "id": "00bb958e",
   "metadata": {},
   "outputs": [],
   "source": []
  }
 ],
 "metadata": {
  "kernelspec": {
   "display_name": "base",
   "language": "python",
   "name": "python3"
  },
  "language_info": {
   "codemirror_mode": {
    "name": "ipython",
    "version": 3
   },
   "file_extension": ".py",
   "mimetype": "text/x-python",
   "name": "python",
   "nbconvert_exporter": "python",
   "pygments_lexer": "ipython3",
   "version": "3.11.7"
  }
 },
 "nbformat": 4,
 "nbformat_minor": 5
}
