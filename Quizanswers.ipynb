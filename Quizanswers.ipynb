{
 "cells": [
  {
   "cell_type": "code",
   "execution_count": 3,
   "id": "20af08c5-7d66-46d0-a09e-f7fcb3a5a512",
   "metadata": {},
   "outputs": [
    {
     "data": {
      "text/plain": [
       "['b', 'e', 's', 't']"
      ]
     },
     "execution_count": 3,
     "metadata": {},
     "output_type": "execute_result"
    }
   ],
   "source": [
    "s='The best of the best'\n",
    "l=list(s)\n",
    "l[4:8]"
   ]
  },
  {
   "cell_type": "code",
   "execution_count": 9,
   "id": "ed7521ea-1797-4e7d-97bb-3acf693a2bef",
   "metadata": {},
   "outputs": [],
   "source": [
    "l=s.split()"
   ]
  },
  {
   "cell_type": "code",
   "execution_count": 11,
   "id": "df79a19a-0e61-4d67-9fd4-43dda3fe81aa",
   "metadata": {},
   "outputs": [
    {
     "data": {
      "text/plain": [
       "['The', 'best', 'of', 'the', 'best']"
      ]
     },
     "execution_count": 11,
     "metadata": {},
     "output_type": "execute_result"
    }
   ],
   "source": [
    "l\n"
   ]
  },
  {
   "cell_type": "code",
   "execution_count": 13,
   "id": "af5a9772-a5b2-446a-840e-7cfb179046be",
   "metadata": {},
   "outputs": [
    {
     "name": "stdout",
     "output_type": "stream",
     "text": [
      "e\n",
      "t\n",
      "f\n",
      "e\n",
      "t\n"
     ]
    }
   ],
   "source": [
    "for w in s.split():\n",
    "    print(w[-1])"
   ]
  },
  {
   "cell_type": "code",
   "execution_count": 17,
   "id": "d7916eb2-69db-4286-876a-04a3d3fd7377",
   "metadata": {},
   "outputs": [
    {
     "name": "stdout",
     "output_type": "stream",
     "text": [
      "e\n",
      "t\n",
      "f\n",
      "e\n",
      "t\n"
     ]
    }
   ],
   "source": [
    "for w in s.split():\n",
    "    a=len(w)-1\n",
    "    print(w[a])"
   ]
  },
  {
   "cell_type": "code",
   "execution_count": 29,
   "id": "25b6f549-2ee4-4cd0-8d5f-6db373fa17fe",
   "metadata": {},
   "outputs": [],
   "source": [
    "st=\"This is going to be a test which can be solved with ease\""
   ]
  },
  {
   "cell_type": "code",
   "execution_count": 21,
   "id": "bd4e8d30-55b8-4397-bca0-a9ee5cb091ec",
   "metadata": {},
   "outputs": [
    {
     "name": "stdout",
     "output_type": "stream",
     "text": [
      "going\n",
      "a\n",
      "test\n",
      "ease\n"
     ]
    }
   ],
   "source": [
    "for w in st.split():\n",
    "    if w[0] == w[-1]:\n",
    "        print(w)"
   ]
  },
  {
   "cell_type": "code",
   "execution_count": 23,
   "id": "38973176-3055-4d7e-aa69-1e1bcfb96759",
   "metadata": {},
   "outputs": [
    {
     "name": "stdout",
     "output_type": "stream",
     "text": [
      "going\n",
      "a\n",
      "test\n",
      "ease\n"
     ]
    }
   ],
   "source": [
    "for w in st.split():\n",
    "    if w[0] == w[len(w)-1]:\n",
    "        print(w)"
   ]
  },
  {
   "cell_type": "code",
   "execution_count": 27,
   "id": "2e0b7c28-4405-4f33-9536-ab9033605195",
   "metadata": {},
   "outputs": [
    {
     "name": "stdout",
     "output_type": "stream",
     "text": [
      "going\n",
      "a\n",
      "test\n",
      "ease\n"
     ]
    }
   ],
   "source": [
    "for w in st.split():\n",
    "    if w.startswith(w[0]) and  w.endswith(w[0]):\n",
    "        print(w)"
   ]
  },
  {
   "cell_type": "code",
   "execution_count": 35,
   "id": "6ea27f3e-c5c1-48db-91fc-fa3d695d7a05",
   "metadata": {},
   "outputs": [
    {
     "name": "stdout",
     "output_type": "stream",
     "text": [
      "This is a very with many words or with a particular character\n"
     ]
    }
   ],
   "source": [
    "st=\"This is a very long string with many words ending or starting with a particular character\"\n",
    "newlist=[]\n",
    "for w in st.split():\n",
    "    if not w.endswith('ng'):\n",
    "        newlist.append(w)\n",
    "s=\" \".join(newlist)\n",
    "print(s)"
   ]
  },
  {
   "cell_type": "code",
   "execution_count": 41,
   "id": "206cc66d-e3bf-47c1-95fe-ea4c84e0314a",
   "metadata": {},
   "outputs": [
    {
     "name": "stdout",
     "output_type": "stream",
     "text": [
      "['This', 'is', 'a', 'very', 'string', 'with', 'many', 'words', 'or', 'with', 'a', 'particular', 'character']\n",
      "This is a very with many words or with a particular character\n"
     ]
    }
   ],
   "source": [
    "st=\"This is a very long string with many words ending or starting with a particular character\"\n",
    "l=st.split()\n",
    "for w in l :#st.split():\n",
    "    if w.endswith('ng'):\n",
    "        l.remove(w)\n",
    "print(l)\n",
    "s=\" \".join(newlist)\n",
    "print(s)"
   ]
  },
  {
   "cell_type": "code",
   "execution_count": 43,
   "id": "6d7d39e7-94c3-4acf-9990-d67ca2ec5a2d",
   "metadata": {},
   "outputs": [],
   "source": [
    "s=\"This is a string\""
   ]
  },
  {
   "cell_type": "code",
   "execution_count": 47,
   "id": "f612a7e1-41a8-4f1a-96e1-21b8153660bd",
   "metadata": {},
   "outputs": [
    {
     "data": {
      "text/plain": [
       "['T',\n",
       " 'h',\n",
       " 'i',\n",
       " 's',\n",
       " ' ',\n",
       " 'i',\n",
       " 's',\n",
       " ' ',\n",
       " 'a',\n",
       " ' ',\n",
       " 's',\n",
       " 't',\n",
       " 'r',\n",
       " 'i',\n",
       " 'n',\n",
       " 'g']"
      ]
     },
     "execution_count": 47,
     "metadata": {},
     "output_type": "execute_result"
    }
   ],
   "source": [
    "l=\n",
    "l"
   ]
  },
  {
   "cell_type": "code",
   "execution_count": 55,
   "id": "755d18ec-70a8-407b-b8b7-e315abdf989c",
   "metadata": {},
   "outputs": [
    {
     "name": "stdin",
     "output_type": "stream",
     "text": [
      "Enter a DNA string :  ATGCACGACT\n"
     ]
    },
    {
     "name": "stdout",
     "output_type": "stream",
     "text": [
      "AT\n",
      "TG\n",
      "GC\n",
      "CA\n",
      "AC\n",
      "CG\n",
      "GA\n",
      "AC\n",
      "CT\n"
     ]
    }
   ],
   "source": [
    "dnastr=input(\"Enter a DNA string : \")\n",
    "valid=True\n",
    "for i in dnastr:\n",
    "    if i not in 'ATGCatgc':\n",
    "        valid=False\n",
    "        break\n",
    "if valid:\n",
    "    for i in range(0,len(dnastr)-1):\n",
    "        print(dnastr[i:i+2])"
   ]
  }
 ],
 "metadata": {
  "kernelspec": {
   "display_name": "Python 3 (ipykernel)",
   "language": "python",
   "name": "python3"
  },
  "language_info": {
   "codemirror_mode": {
    "name": "ipython",
    "version": 3
   },
   "file_extension": ".py",
   "mimetype": "text/x-python",
   "name": "python",
   "nbconvert_exporter": "python",
   "pygments_lexer": "ipython3",
   "version": "3.12.4"
  }
 },
 "nbformat": 4,
 "nbformat_minor": 5
}
