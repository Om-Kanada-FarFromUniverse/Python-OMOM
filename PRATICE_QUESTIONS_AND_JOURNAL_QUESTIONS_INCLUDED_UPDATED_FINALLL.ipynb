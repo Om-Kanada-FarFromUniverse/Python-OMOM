{
 "cells": [
  {
   "cell_type": "code",
   "execution_count": null,
   "id": "e5ddb3ca-fe3f-4989-bcf6-d83d251146e2",
   "metadata": {},
   "outputs": [],
   "source": [
    "#Topic wise programs"
   ]
  },
  {
   "cell_type": "code",
   "execution_count": null,
   "id": "d839982f-1523-415c-9c8c-69d9172b5e43",
   "metadata": {},
   "outputs": [],
   "source": [
    "#Basics"
   ]
  },
  {
   "cell_type": "code",
   "execution_count": 1,
   "id": "b317031f-abf8-43f2-b0c0-444169546200",
   "metadata": {},
   "outputs": [
    {
     "name": "stdin",
     "output_type": "stream",
     "text": [
      "Enter first number: 1\n",
      "Enter second number: 2\n"
     ]
    },
    {
     "name": "stdout",
     "output_type": "stream",
     "text": [
      "1\n"
     ]
    }
   ],
   "source": [
    "#1. Write a program to input 2 nos and print their difference\n",
    "\n",
    "num1 = int(input(\"Enter first number:\"))\n",
    "num2 = int(input(\"Enter second number:\"))\n",
    "\n",
    "if num1 > num2:\n",
    "    print(num1-num2)\n",
    "else:\n",
    "    print(num2-num1)"
   ]
  },
  {
   "cell_type": "code",
   "execution_count": 3,
   "id": "3aa7e861-486d-4fb8-bd83-36ef0360b129",
   "metadata": {},
   "outputs": [
    {
     "name": "stdin",
     "output_type": "stream",
     "text": [
      "Enter first number: 2\n"
     ]
    },
    {
     "name": "stdout",
     "output_type": "stream",
     "text": [
      "Even\n"
     ]
    }
   ],
   "source": [
    "#2. Write a program to input a no and print whether its an even no or odd no\n",
    "\n",
    "num = int(input(\"Enter first number:\"))\n",
    "\n",
    "print(\"Even\" if num % 2 == 0 else \"Odd\")"
   ]
  },
  {
   "cell_type": "code",
   "execution_count": 5,
   "id": "e8960e29-1b2b-453e-8618-99345a0435db",
   "metadata": {},
   "outputs": [
    {
     "name": "stdin",
     "output_type": "stream",
     "text": [
      "Enter first number: 1\n",
      "Enter second number: 2\n",
      "Enter third number: 3\n"
     ]
    },
    {
     "name": "stdout",
     "output_type": "stream",
     "text": [
      "Number three = 3 is greater than Number one = 1 and Number two = 2\n"
     ]
    }
   ],
   "source": [
    "#3. Write a program to input 3 nos and print the larger of the 3 numbers\n",
    "\n",
    "num1 = int(input(\"Enter first number:\"))\n",
    "num2 = int(input(\"Enter second number:\"))\n",
    "num3 = int(input(\"Enter third number:\"))\n",
    "\n",
    "if num1 > num2 and num1 > num3:\n",
    "    print(f\"Number one = {num1} is greater than Number two = {num2} and Number three = {num3}\")\n",
    "elif num2 > num1 and num2 > num3:\n",
    "    print(f\"Number two = {num2} is greater than Number one = {num1} and Number three = {num3}\")\n",
    "else:\n",
    "    print(f\"Number three = {num3} is greater than Number one = {num1} and Number two = {num2}\")"
   ]
  },
  {
   "cell_type": "code",
   "execution_count": 7,
   "id": "4a994aa7-eea4-4aa4-83b2-2d460c3d6e25",
   "metadata": {},
   "outputs": [
    {
     "name": "stdin",
     "output_type": "stream",
     "text": [
      "Enter a string:  Om\n",
      "Enter a number:  5\n"
     ]
    },
    {
     "name": "stdout",
     "output_type": "stream",
     "text": [
      "OmOmOmOmOm\n"
     ]
    }
   ],
   "source": [
    "'''\n",
    "4. Write a program to input a string and print it n times. where n is input from the user\n",
    "\tEx :\n",
    "\tBig\n",
    "\t5\n",
    "\tBigBigBigBigBig\n",
    "'''\n",
    "\n",
    "string = input(\"Enter a string: \")\n",
    "n = int(input(\"Enter a number: \"))\n",
    "\n",
    "print(string * n)"
   ]
  },
  {
   "cell_type": "code",
   "execution_count": 9,
   "id": "ab7a2ce1-77c9-4a55-9e53-8e13640e6315",
   "metadata": {},
   "outputs": [
    {
     "name": "stdin",
     "output_type": "stream",
     "text": [
      "Enter first string: Om\n",
      "Enter second string: Omm\n"
     ]
    },
    {
     "name": "stdout",
     "output_type": "stream",
     "text": [
      "Both the string 'Om' and 'Omm' are not equal.\n"
     ]
    }
   ],
   "source": [
    "#5. Write a program to input 2 strings and print whether they are equal\n",
    "\n",
    "string1 = input(\"Enter first string:\")\n",
    "string2 = input(\"Enter second string:\")\n",
    "\n",
    "print(f\"Both the string '{string1}' and '{string2}' are equal.\" if string1 == string2 else f\"Both the string '{string1}' and '{string2}' are not equal.\")"
   ]
  },
  {
   "cell_type": "code",
   "execution_count": 11,
   "id": "9ed5c527-e68e-49cd-916b-98246469e515",
   "metadata": {},
   "outputs": [
    {
     "name": "stdin",
     "output_type": "stream",
     "text": [
      "Enter a month number to get it's name (between 1-12):  6\n"
     ]
    },
    {
     "name": "stdout",
     "output_type": "stream",
     "text": [
      "June\n"
     ]
    }
   ],
   "source": [
    "#6. Write a program to input a month no and print it as a string\n",
    "\n",
    "monthno = int(input(\"Enter a month number to get it's name (between 1-12): \"))\n",
    "\n",
    "if monthno == 1:\n",
    "    print(\"January\")\n",
    "elif monthno == 2:\n",
    "    print(\"February\")\n",
    "elif monthno == 3:\n",
    "    print(\"March\")\n",
    "elif monthno == 4:\n",
    "    print(\"April\")\n",
    "elif monthno == 5:\n",
    "    print(\"May\")\n",
    "elif monthno == 6:\n",
    "    print(\"June\")\n",
    "elif monthno == 7:\n",
    "    print(\"July\")\n",
    "elif monthno == 8:\n",
    "    print(\"August\")\n",
    "elif monthno == 9:\n",
    "    print(\"September\")\n",
    "elif monthno == 10:\n",
    "    print(\"October\")\n",
    "elif monthno == 11:\n",
    "    print(\"November\")\n",
    "elif monthno == 12:\n",
    "    print(\"December\")\n",
    "else:\n",
    "    print(\"Invalid Month Number!\")"
   ]
  },
  {
   "cell_type": "code",
   "execution_count": 13,
   "id": "ebd72873-8040-4057-9883-8057bec09f52",
   "metadata": {},
   "outputs": [
    {
     "name": "stdin",
     "output_type": "stream",
     "text": [
      "Enter marks of subject one (out of 100):  90\n",
      "Enter marks of subject two (out of 100):  80\n",
      "Enter marks of subject three (out of 100):  70\n",
      "Enter marks of subject four (out of 100):  60\n",
      "Enter marks of subject five (out of 100):  100\n"
     ]
    },
    {
     "name": "stdout",
     "output_type": "stream",
     "text": [
      "Total is 80%\n",
      "Grade - A\n"
     ]
    }
   ],
   "source": [
    "'''\n",
    "7. Write a program to input the name and 5 subject marks out of 100 for a student\n",
    "   Calculate the mark average. Print the grade as\n",
    "\tE  average greater than or equal to 90\n",
    "\tA  average between 70 than or less than 90\n",
    "\tB  average between 60 than or less than 70\n",
    "\tC  average between 40 than or less than 60\n",
    "\tF  average less than 40\n",
    "'''\n",
    "\n",
    "marks1 = int(input(\"Enter marks of subject one (out of 100): \"))\n",
    "marks2 = int(input(\"Enter marks of subject two (out of 100): \"))\n",
    "marks3 = int(input(\"Enter marks of subject three (out of 100): \"))\n",
    "marks4 = int(input(\"Enter marks of subject four (out of 100): \"))\n",
    "marks5 = int(input(\"Enter marks of subject five (out of 100): \"))\n",
    "\n",
    "total_marks = int(((marks1+marks2+marks3+marks4+marks5)/5))\n",
    "\n",
    "if total_marks >= 90 and total_marks < 100:\n",
    "    print(f\"Total is {total_marks}%\")\n",
    "    print(\"Grade - E\")\n",
    "elif total_marks >= 70 and total_marks < 90:\n",
    "    print(f\"Total is {total_marks}%\")\n",
    "    print(\"Grade - A\")\n",
    "elif total_marks >= 60 and total_marks < 70:\n",
    "    print(f\"Total is {total_marks}%\")\n",
    "    print(\"Grade - B\")\n",
    "elif total_marks >= 40 and total_marks < 60:\n",
    "    print(f\"Total is {total_marks}%\")\n",
    "    print(\"Grade - C\")\n",
    "elif total_marks < 40:\n",
    "    print(f\"Total is {total_marks}%\")\n",
    "    print(\"Grade - F\")\n",
    "else:\n",
    "    print(\"Calculation error!\")"
   ]
  },
  {
   "cell_type": "code",
   "execution_count": 15,
   "id": "66739de2-40a5-415c-8247-4326b4a82378",
   "metadata": {},
   "outputs": [
    {
     "name": "stdin",
     "output_type": "stream",
     "text": [
      "Enter a number to be printed in words: 1234\n"
     ]
    },
    {
     "name": "stdout",
     "output_type": "stream",
     "text": [
      "One Two Three Four "
     ]
    }
   ],
   "source": [
    "'''\n",
    "8. Write a python program to input a number and print it in words\n",
    "\t421\n",
    "    four two one\n",
    "'''\n",
    "\n",
    "num = int(input(\"Enter a number to be printed in words:\"))\n",
    "\n",
    "num_str = str(num)\n",
    "\n",
    "for number in num_str:\n",
    "    if number == '0':\n",
    "        print(\"Zero\", end=' ')\n",
    "    elif number == '1':\n",
    "        print(\"One\", end=' ')\n",
    "    elif number == '2':\n",
    "        print(\"Two\", end=' ')\n",
    "    elif number == '3':\n",
    "        print(\"Three\", end=' ')\n",
    "    elif number == '4':\n",
    "        print(\"Four\", end=' ')\n",
    "    elif number == '5':\n",
    "        print(\"Five\", end=' ')\n",
    "    elif number == '6':\n",
    "        print(\"Six\", end=' ')\n",
    "    elif number == '7':\n",
    "        print(\"Seven\", end=' ')\n",
    "    elif number == '8':\n",
    "        print(\"Eight\", end=' ')\n",
    "    elif number == '9':\n",
    "        print(\"Nine\", end=' ')"
   ]
  },
  {
   "cell_type": "code",
   "execution_count": null,
   "id": "ac7f6fa5-258a-448b-bb4f-b37352e4e8c3",
   "metadata": {},
   "outputs": [],
   "source": [
    "#Loops"
   ]
  },
  {
   "cell_type": "code",
   "execution_count": 17,
   "id": "7d4267c1-e074-4c9c-965d-e5577f11f56e",
   "metadata": {},
   "outputs": [
    {
     "name": "stdout",
     "output_type": "stream",
     "text": [
      "1 2 3 4 5 6 7 8 9 10 "
     ]
    }
   ],
   "source": [
    "#1. Print all the nos from 1-10 using a for loop\n",
    "\n",
    "for i in range(1,11):\n",
    "    print(i, end=' ')"
   ]
  },
  {
   "cell_type": "code",
   "execution_count": 19,
   "id": "a0cf8cc1-06b0-4e20-b2f6-42be6190a667",
   "metadata": {},
   "outputs": [
    {
     "name": "stdin",
     "output_type": "stream",
     "text": [
      "Enter a number:  1\n",
      "Enter a number:  2\n",
      "Enter a number:  3\n",
      "Enter a number:  4\n",
      "Enter a number:  5\n",
      "Enter a number:  6\n",
      "Enter a number:  7\n",
      "Enter a number:  8\n",
      "Enter a number:  9\n",
      "Enter a number:  10\n",
      "Enter a number:  11\n",
      "Enter a number:  12\n",
      "Enter a number:  13\n",
      "Enter a number:  14\n",
      "Enter a number:  15\n",
      "Enter a number:  16\n",
      "Enter a number:  17\n",
      "Enter a number:  18\n",
      "Enter a number:  19\n",
      "Enter a number:  20\n"
     ]
    },
    {
     "name": "stdout",
     "output_type": "stream",
     "text": [
      "Total numbers of units number are:  9\n",
      "Total numbers of tens number are:  11\n",
      "Total numbers of hundereds number are:  0\n",
      "Total numbers of thousands number are:  0\n"
     ]
    }
   ],
   "source": [
    "#2. Input 20 nos and print the no of a unit no, tens no, 100s no, or a 1000s no\n",
    "\n",
    "units_cnt = 0\n",
    "tens_cnt = 0\n",
    "hundereds_cnt = 0\n",
    "thousands_cnt = 0\n",
    "\n",
    "for i in range(20):\n",
    "    no = int(input(\"Enter a number: \"))\n",
    "    if no >= 0 and no <= 9:\n",
    "        units_cnt += 1\n",
    "    elif no >= 10 and no <= 99:\n",
    "        tens_cnt += 1\n",
    "    elif no >= 100 and no <= 999:\n",
    "        hundereds_cnt += 1\n",
    "    elif no >= 1000 and no <= 9999:\n",
    "        thousands_cnt += 1\n",
    "\n",
    "print(\"Total numbers of units number are: \", units_cnt)\n",
    "print(\"Total numbers of tens number are: \", tens_cnt)\n",
    "print(\"Total numbers of hundereds number are: \", hundereds_cnt)\n",
    "print(\"Total numbers of thousands number are: \", thousands_cnt)"
   ]
  },
  {
   "cell_type": "code",
   "execution_count": 21,
   "id": "2f808a5b-b037-4f00-9ca4-0a51f35db8b9",
   "metadata": {},
   "outputs": [
    {
     "name": "stdout",
     "output_type": "stream",
     "text": [
      "a.\n",
      "\n",
      "*\n",
      "**\n",
      "***\n",
      "****\n",
      "*****\n",
      "\n",
      "b.\n",
      "\n",
      "1\n",
      "23\n",
      "456\n",
      "78910\n",
      "\n",
      "c.\n",
      "\n",
      "1\n",
      "12\n",
      "123\n",
      "1234\n",
      "\n",
      "d.\n",
      "\n",
      "    1\n",
      "   01\n",
      "  101\n",
      " 0101\n",
      "10101\n",
      "\n",
      "e.\n",
      "\n",
      "    1\n",
      "   12\n",
      "  123\n",
      " 1234\n",
      "12345\n",
      "\n",
      "f.\n",
      "\n",
      "*          *\n",
      "**        **\n",
      "***      ***\n",
      "****    ****\n",
      "*****  *****\n",
      "************\n"
     ]
    },
    {
     "data": {
      "text/plain": [
       "'\\n#Nested loops logic\\nprint(\"f.\")\\nprint()\\nr = 6\\n\\nfor i in range(1, r + 1):\\n    for _ in range(i):\\n        print(\"*\", end=\"\")\\n    for _ in range((r - i) * 2):\\n        print(\" \", end=\"\")\\n    for _ in range(i):\\n        print(\"*\", end=\"\")\\n    print() \\n'"
      ]
     },
     "execution_count": 21,
     "metadata": {},
     "output_type": "execute_result"
    }
   ],
   "source": [
    "'''\n",
    "3. Print all the patterns\n",
    "\n",
    "a. \t*\n",
    "\t**\n",
    "\t***\n",
    "\t****\n",
    "\t*****\n",
    "'''\n",
    "print(\"a.\")\n",
    "print()\n",
    "\n",
    "for i in range(1,6):\n",
    "    for j in range(i):\n",
    "        print('*',end='')\n",
    "    print()\n",
    "print()\n",
    "'''\n",
    "b.\t1\n",
    "\t23\n",
    "\t456\n",
    "\t78910\n",
    "'''\n",
    "print(\"b.\")\n",
    "print()\n",
    "\n",
    "x = 1\n",
    "for i in range(1,5):\n",
    "    for j in range(i):\n",
    "        print(x,end='')\n",
    "        x+=1\n",
    "    print()\n",
    "print()\n",
    "'''\n",
    "c. \t1\n",
    "\t12\n",
    "\t123\n",
    "\t1234\n",
    "'''\n",
    "print(\"c.\")\n",
    "print()\n",
    "for i in range(1,5):\n",
    "    x=1\n",
    "    for j in range(i):\n",
    "        print(x,end='')\n",
    "        x+=1\n",
    "    print()\n",
    "print()\n",
    "'''\n",
    "d.\t    1\n",
    "\t   01\n",
    "\t  101\n",
    "\t 0101\n",
    "\t10101\n",
    "'''\n",
    "print(\"d.\")\n",
    "print()\n",
    "\n",
    "x = 1\n",
    "\n",
    "for i in range(5,0,-1):\n",
    "    print(' ' * (i-1),end='')\n",
    "    x = 1 if (5 - i) % 2 == 0 else 0\n",
    "    for j in range(5,i-1,-1):\n",
    "        print(x,end='')\n",
    "        x = 1 - x\n",
    "    print()\n",
    "print()\n",
    "'''\n",
    "e.     1\n",
    "\t  12\n",
    "\t 123\n",
    "\t1234\n",
    "   12345\n",
    "'''\n",
    "print(\"e.\")\n",
    "print()\n",
    "for i in range(5,0,-1):\n",
    "    print(\" \" * (i - 1),end='')\n",
    "    x=1\n",
    "    for j in range(5,i-1,-1):\n",
    "        print(x,end='')\n",
    "        x+=1\n",
    "    print()\n",
    "print()\n",
    "'''\n",
    "f. \n",
    "\t*          *\n",
    "    **        **\n",
    "    ***      ***\n",
    "    ****    ****\n",
    "    *****  *****\n",
    "    ************\n",
    "'''\n",
    "print(\"f.\")\n",
    "print()\n",
    "r = 6\n",
    "for i in range(1, r + 1):\n",
    "    print(\"*\" * i, end='')\n",
    "    s = (r - i) * 2\n",
    "    print(\" \" * s, end='')\n",
    "    print(\"*\" * i)\n",
    "\n",
    "'''\n",
    "#Nested loops logic\n",
    "print(\"f.\")\n",
    "print()\n",
    "r = 6\n",
    "\n",
    "for i in range(1, r + 1):\n",
    "    for _ in range(i):\n",
    "        print(\"*\", end=\"\")\n",
    "    for _ in range((r - i) * 2):\n",
    "        print(\" \", end=\"\")\n",
    "    for _ in range(i):\n",
    "        print(\"*\", end=\"\")\n",
    "    print() \n",
    "'''"
   ]
  },
  {
   "cell_type": "code",
   "execution_count": 23,
   "id": "c216b188-ced9-4a97-bdc5-ee06cb8dd8bf",
   "metadata": {},
   "outputs": [
    {
     "name": "stdin",
     "output_type": "stream",
     "text": [
      "Enter a number: 20\n"
     ]
    },
    {
     "name": "stdout",
     "output_type": "stream",
     "text": [
      "0 1 1 2 3 5 8 13 "
     ]
    }
   ],
   "source": [
    "'''\n",
    "4. Print the fibonacci series upto the input number\n",
    "\t0,1,1,2,3,5,8,13....\n",
    "'''\n",
    "a,b = 0,1\n",
    "\n",
    "n = int(input(\"Enter a number:\"))\n",
    "\n",
    "while a <= n:\n",
    "    print(a, end=' ')\n",
    "    a,b=b,a+b"
   ]
  },
  {
   "cell_type": "code",
   "execution_count": 25,
   "id": "b79a8001-33e5-42b3-839d-9b09c4986917",
   "metadata": {},
   "outputs": [
    {
     "name": "stdin",
     "output_type": "stream",
     "text": [
      "Enter a number to check if it's an armstrong number or not:  153\n"
     ]
    },
    {
     "name": "stdout",
     "output_type": "stream",
     "text": [
      "153 is an Armstrong number.\n"
     ]
    }
   ],
   "source": [
    "'''\n",
    "5. Write a program to print all the armstrong nos between 11 - 999\n",
    "        27 != 2**2 + 7**2  = 53 not an armstrong number\n",
    "\t371 = 3**3 + 7**3 + 1**3 = 371 is an armstrong number\n",
    "'''\n",
    "\n",
    "number = int(input(\"Enter a number to check if it's an armstrong number or not: \"))\n",
    "\n",
    "og_number = number\n",
    "\n",
    "number_digit = len(str(number))\n",
    "\n",
    "total_sum = 0\n",
    "\n",
    "while number > 0:\n",
    "    digit = number % 10\n",
    "    total_sum += digit ** number_digit\n",
    "    number //= 10\n",
    "\n",
    "if og_number == total_sum:\n",
    "    print(f\"{og_number} is an Armstrong number.\")\n",
    "else:\n",
    "    print(f\"{og_number} is not an Armstrong number.\")"
   ]
  },
  {
   "cell_type": "code",
   "execution_count": 27,
   "id": "a08534e9-3f9d-4c04-a8ee-37ac675dc68c",
   "metadata": {},
   "outputs": [
    {
     "name": "stdin",
     "output_type": "stream",
     "text": [
      "Enter a number:  omomomo\n"
     ]
    },
    {
     "name": "stdout",
     "output_type": "stream",
     "text": [
      "It is a palindrome number\n"
     ]
    }
   ],
   "source": [
    "#6. Write a script to input a no and print whether its a palindrome or not\n",
    "\n",
    "number = input(\"Enter a number: \")\n",
    "\n",
    "number_but_reversed = number[::-1]\n",
    "\n",
    "if number == number_but_reversed:\n",
    "    print(\"It is a palindrome number\")\n",
    "else:\n",
    "    print(\"It is not a palindrome number\")"
   ]
  },
  {
   "cell_type": "code",
   "execution_count": 29,
   "id": "8dd6bc8d-3e5f-4336-aa1a-5621a9a97a20",
   "metadata": {},
   "outputs": [
    {
     "name": "stdin",
     "output_type": "stream",
     "text": [
      "Enter an integer:  11\n"
     ]
    },
    {
     "name": "stdout",
     "output_type": "stream",
     "text": [
      "The binary value of 11 is 1011\n"
     ]
    }
   ],
   "source": [
    "#7. Input a number and print its binary value\n",
    "# Get user input and handle potential errors\n",
    "\n",
    "number = int(input(\"Enter an integer: \"))\n",
    "\n",
    "# Ensure the number is non-negative, as binary is typically for non-negative integers\n",
    "if number < 0:\n",
    "    print(\"Please enter a non-negative integer.\")\n",
    "else:\n",
    "    # Handle the special case of the number 0\n",
    "    if number == 0:\n",
    "        print(\"The binary value of 0 is 0\")\n",
    "    else:\n",
    "        binary_string = \"\"\n",
    "        n = number\n",
    "        \n",
    "        # Use a while loop to repeatedly divide the number by 2\n",
    "        while n > 0:\n",
    "            # Get the remainder of the division by 2. This is the next binary digit (0 or 1).\n",
    "            remainder = n % 2\n",
    "            \n",
    "            # Prepend the remainder to the string to build the binary number in the correct order.\n",
    "            binary_string = str(remainder) + binary_string\n",
    "            \n",
    "            # Perform integer division by 2 to prepare for the next iteration\n",
    "            n = n // 2\n",
    "        \n",
    "        # Print the final result\n",
    "        print(f\"The binary value of {number} is {binary_string}\")"
   ]
  },
  {
   "cell_type": "code",
   "execution_count": null,
   "id": "72ad9ce8-9a94-41b2-b15c-cf1937e1b2b7",
   "metadata": {},
   "outputs": [],
   "source": [
    "#Strings"
   ]
  },
  {
   "cell_type": "code",
   "execution_count": 31,
   "id": "d7ccf04c-dd4e-4fff-8d45-2459479b302a",
   "metadata": {},
   "outputs": [
    {
     "name": "stdin",
     "output_type": "stream",
     "text": [
      "Enter a string:  omomo\n"
     ]
    },
    {
     "name": "stdout",
     "output_type": "stream",
     "text": [
      "Palindrome\n"
     ]
    }
   ],
   "source": [
    "#1. Write a script to input strings and print whether its a palindrome or not (Write without using builtin functions)\n",
    "\n",
    "s = input(\"Enter a string: \")\n",
    "\n",
    "flag = 1\n",
    "for i in range(len(s)//2):\n",
    "    if s[i] != s[-(i+1)]:   # compare from both ends\n",
    "        flag = 0\n",
    "        break\n",
    "\n",
    "print(\"Palindrome\" if flag else \"Not Palindrome\")\n"
   ]
  },
  {
   "cell_type": "code",
   "execution_count": 33,
   "id": "31b8d959-8c0e-443f-9f61-591686ed15d0",
   "metadata": {},
   "outputs": [
    {
     "name": "stdin",
     "output_type": "stream",
     "text": [
      "Str:  OM\n"
     ]
    },
    {
     "name": "stdout",
     "output_type": "stream",
     "text": [
      "Len: 2\n"
     ]
    },
    {
     "name": "stdin",
     "output_type": "stream",
     "text": [
      "Str:  Is\n"
     ]
    },
    {
     "name": "stdout",
     "output_type": "stream",
     "text": [
      "Len: 2\n"
     ]
    },
    {
     "name": "stdin",
     "output_type": "stream",
     "text": [
      "Str:  My\n"
     ]
    },
    {
     "name": "stdout",
     "output_type": "stream",
     "text": [
      "Len: 2\n"
     ]
    },
    {
     "name": "stdin",
     "output_type": "stream",
     "text": [
      "Str:  Name\n"
     ]
    },
    {
     "name": "stdout",
     "output_type": "stream",
     "text": [
      "Len: 4\n"
     ]
    },
    {
     "name": "stdin",
     "output_type": "stream",
     "text": [
      "Str:  end\n"
     ]
    },
    {
     "name": "stdout",
     "output_type": "stream",
     "text": [
      ">5: 0\n",
      "<5: 4\n"
     ]
    }
   ],
   "source": [
    "#2. Write a script to input strings from the user till the user enters 'end'. Print the length of all the strings entered and print the no of strings whose length is greater than 5 and the no of strings whose length is lesser than 5\n",
    "\n",
    "cg = 0\n",
    "cl = 0\n",
    "while True:\n",
    "    s = input(\"Str: \")\n",
    "    if s == \"end\":\n",
    "        break\n",
    "    print(\"Len:\", len(s))\n",
    "    if len(s) > 5:\n",
    "        cg += 1\n",
    "    elif len(s) < 5:\n",
    "        cl += 1\n",
    "print(\">5:\", cg)\n",
    "print(\"<5:\", cl)"
   ]
  },
  {
   "cell_type": "code",
   "execution_count": 35,
   "id": "d79059b1-1ab3-4943-a7fb-7fa5881aa7eb",
   "metadata": {},
   "outputs": [
    {
     "name": "stdin",
     "output_type": "stream",
     "text": [
      "Enter a string:  omomomo\n"
     ]
    },
    {
     "name": "stdout",
     "output_type": "stream",
     "text": [
      "o\n",
      "om\n",
      "omo\n",
      "omom\n",
      "omomo\n",
      "omomom\n",
      "omomomo\n"
     ]
    }
   ],
   "source": [
    "'''\n",
    "3. Write a script to input a string and print it as given\n",
    "    String : summer\n",
    "\ts\n",
    "\tsu\n",
    "\tsum\n",
    "\tsumm\n",
    "\tsumme\n",
    "\tsummer\n",
    "'''\n",
    "\n",
    "str = input(\"Enter a string: \")\n",
    "\n",
    "for i in range(len(str)):\n",
    "    print(str[:i+1])"
   ]
  },
  {
   "cell_type": "code",
   "execution_count": 37,
   "id": "d4ed08db-5b18-47f9-975e-d71ccc652476",
   "metadata": {},
   "outputs": [
    {
     "name": "stdin",
     "output_type": "stream",
     "text": [
      "Enter a DNA string to get the frequency of each nucleotides in it: ATGTAGTAG\n"
     ]
    },
    {
     "name": "stdout",
     "output_type": "stream",
     "text": [
      "The frequence of 'A' in the DNA string is 3\n",
      "The frequence of 'T' in the DNA string is 3\n",
      "The frequence of 'G' in the DNA string is 3\n",
      "The frequence of 'C' in the DNA string is 0\n"
     ]
    }
   ],
   "source": [
    "#4. Write a script to input a DNA string and print the frequency of each nucleotide\n",
    "\n",
    "dnastr = input(\"Enter a DNA string to get the frequency of each nucleotides in it:\")\n",
    "\n",
    "cnta = 0\n",
    "cntt = 0\n",
    "cntg = 0\n",
    "cntc = 0\n",
    "\n",
    "for n in dnastr:\n",
    "    n = n.upper()\n",
    "    if n == \"A\":\n",
    "        cnta += 1\n",
    "    elif n == \"T\":\n",
    "        cntt += 1\n",
    "    elif n == \"G\":\n",
    "        cntg += 1\n",
    "    elif n == \"C\":\n",
    "        cntc += 1\n",
    "\n",
    "print(f\"The frequence of 'A' in the DNA string is {cnta}\")\n",
    "print(f\"The frequence of 'T' in the DNA string is {cntt}\")\n",
    "print(f\"The frequence of 'G' in the DNA string is {cntg}\")\n",
    "print(f\"The frequence of 'C' in the DNA string is {cntc}\")"
   ]
  },
  {
   "cell_type": "code",
   "execution_count": 39,
   "id": "e54f36c7-1bee-4a29-ace4-7581892aadfa",
   "metadata": {},
   "outputs": [
    {
     "name": "stdin",
     "output_type": "stream",
     "text": [
      "Enter a DNA string:  ATCGTCGTAGTGCTGATCC\n"
     ]
    },
    {
     "name": "stdout",
     "output_type": "stream",
     "text": [
      "Valid DNA string\n"
     ]
    }
   ],
   "source": [
    "#5. Write a script to input a DNA string and print whether its a valid string or not\n",
    "\n",
    "dna = input(\"Enter a DNA string: \").upper()\n",
    "\n",
    "valid = 1\n",
    "for ch in dna:\n",
    "    if ch not in \"ATGC\":\n",
    "        valid = 0\n",
    "        break\n",
    "\n",
    "print(\"Valid DNA string\" if valid else \"Invalid DNA string\")"
   ]
  },
  {
   "cell_type": "code",
   "execution_count": 41,
   "id": "55a16824-263f-45a8-ad55-2d2f1bf25892",
   "metadata": {},
   "outputs": [
    {
     "name": "stdin",
     "output_type": "stream",
     "text": [
      "Enter a DNA string:  TCAGTACGTCAGTC\n"
     ]
    },
    {
     "name": "stdout",
     "output_type": "stream",
     "text": [
      "Complement: AGTCATGCAGTCAG\n"
     ]
    }
   ],
   "source": [
    "#6. Write a script to input a DNA string and print its complement\n",
    "\n",
    "dna = input(\"Enter a DNA string: \").upper()\n",
    "\n",
    "comp = \"\"\n",
    "for ch in dna:\n",
    "    if ch == \"A\":\n",
    "        comp = comp + \"T\"\n",
    "    elif ch == \"T\":\n",
    "        comp = comp + \"A\"\n",
    "    elif ch == \"G\":\n",
    "        comp = comp + \"C\"\n",
    "    elif ch == \"C\":\n",
    "        comp = comp + \"G\"\n",
    "    else:\n",
    "        pass\n",
    "\n",
    "print(\"Complement:\", comp)"
   ]
  },
  {
   "cell_type": "code",
   "execution_count": 43,
   "id": "dcacb864-1d16-4d8d-9884-fad168410b2a",
   "metadata": {},
   "outputs": [
    {
     "name": "stdin",
     "output_type": "stream",
     "text": [
      "Enter a DNA string:  CATGCATGACT\n"
     ]
    },
    {
     "name": "stdout",
     "output_type": "stream",
     "text": [
      "RNA string: GUACGUACUGA\n"
     ]
    }
   ],
   "source": [
    "#7. Write a script to input a DNA string and transcribe it to RNA string\n",
    "\n",
    "dna = input(\"Enter a DNA string: \")\n",
    "\n",
    "rna = \"\"\n",
    "for ch in dna:\n",
    "    if ch == \"A\":\n",
    "        rna = rna + \"U\"\n",
    "    elif ch == \"T\":\n",
    "        rna = rna + \"A\"\n",
    "    elif ch == \"G\":\n",
    "        rna = rna + \"C\"\n",
    "    elif ch == \"C\":\n",
    "        rna = rna + \"G\"\n",
    "    else:\n",
    "        rna = rna + \"?\"   # invalid base\n",
    "\n",
    "print(\"RNA string:\", rna)"
   ]
  },
  {
   "cell_type": "code",
   "execution_count": 45,
   "id": "762de19d-494f-45d7-ab16-55f0b86853c3",
   "metadata": {},
   "outputs": [
    {
     "name": "stdin",
     "output_type": "stream",
     "text": [
      "Enter a DNA string:  CATGCATGCATGACTC\n"
     ]
    },
    {
     "name": "stdout",
     "output_type": "stream",
     "text": [
      "Duplets:\n",
      "CA\n",
      "AT\n",
      "TG\n",
      "GC\n",
      "CA\n",
      "AT\n",
      "TG\n",
      "GC\n",
      "CA\n",
      "AT\n",
      "TG\n",
      "GA\n",
      "AC\n",
      "CT\n",
      "TC\n"
     ]
    }
   ],
   "source": [
    "#8. Write a script to input a DNA string and print all the duplets\n",
    "\n",
    "dna = input(\"Enter a DNA string: \").upper()\n",
    "\n",
    "print(\"Duplets:\")\n",
    "for i in range(len(dna) - 1):\n",
    "    first = dna[i]\n",
    "    second = dna[i+1]\n",
    "\n",
    "    if (first in \"ATGC\") and (second in \"ATGC\"):\n",
    "        print(first + second)\n",
    "    else:\n",
    "        pass"
   ]
  },
  {
   "cell_type": "code",
   "execution_count": 49,
   "id": "8b099f91-4c93-4938-b6bb-b0a097295cfc",
   "metadata": {},
   "outputs": [
    {
     "name": "stdin",
     "output_type": "stream",
     "text": [
      "Enter a DNA string:  ACGCTAGCATGC\n"
     ]
    },
    {
     "name": "stdout",
     "output_type": "stream",
     "text": [
      "Triplets:\n",
      "ACG\n",
      "CGC\n",
      "GCT\n",
      "CTA\n",
      "TAG\n",
      "AGC\n",
      "GCA\n",
      "CAT\n",
      "ATG\n",
      "TGC\n"
     ]
    }
   ],
   "source": [
    "#9. Write a script to input a DNA string and print all the triplets\n",
    "\n",
    "dna = input(\"Enter a DNA string: \").upper()\n",
    "\n",
    "print(\"Triplets:\")\n",
    "for i in range(len(dna) - 2):\n",
    "    first = dna[i]\n",
    "    second = dna[i+1]\n",
    "    third = dna[i+2]\n",
    "\n",
    "    if (first in \"ATGC\") and (second in \"ATGC\") and (third in \"ATGC\"):\n",
    "        print(first + second + third)\n",
    "    else:\n",
    "        pass"
   ]
  },
  {
   "cell_type": "code",
   "execution_count": 53,
   "id": "a60fc9ac-3275-4d9d-a63b-51330eb6415f",
   "metadata": {},
   "outputs": [
    {
     "name": "stdin",
     "output_type": "stream",
     "text": [
      "Enter first DNA string:  ATCGATCG\n",
      "Enter second DNA string:  ACTGATGC\n"
     ]
    },
    {
     "name": "stdout",
     "output_type": "stream",
     "text": [
      "Mismatches:\n",
      "Position 2 : T vs C\n",
      "Position 3 : C vs T\n",
      "Position 7 : C vs G\n",
      "Position 8 : G vs C\n",
      "Total mismatches = 4\n"
     ]
    }
   ],
   "source": [
    "#10. Write a script to input 2 DNA strings and show all the mismatches and print the number of mismatches\n",
    "\n",
    "dna1 = input(\"Enter first DNA string: \").upper()\n",
    "dna2 = input(\"Enter second DNA string: \").upper()\n",
    "\n",
    "if len(dna1) != len(dna2):\n",
    "    print(\"Both DNA strings must be of same length\")\n",
    "else:\n",
    "    mismatches = 0\n",
    "    print(\"Mismatches:\")\n",
    "\n",
    "    for i in range(len(dna1)):\n",
    "        if dna1[i] != dna2[i]:\n",
    "            mismatches = mismatches + 1\n",
    "            print(\"Position\", i+1, \":\", dna1[i], \"vs\", dna2[i])\n",
    "        else:\n",
    "            pass\n",
    "\n",
    "    print(\"Total mismatches =\", mismatches)"
   ]
  },
  {
   "cell_type": "code",
   "execution_count": 59,
   "id": "818e1e9b-4305-4b5d-ab6e-ebb0d8a6494c",
   "metadata": {},
   "outputs": [
    {
     "name": "stdin",
     "output_type": "stream",
     "text": [
      "Enter a DNA string:  ACTGCATGCA\n",
      "Enter the search string:  ATG\n"
     ]
    },
    {
     "name": "stdout",
     "output_type": "stream",
     "text": [
      "Occurrences at positions:\n",
      "6\n",
      "Total occurrences = 1\n"
     ]
    }
   ],
   "source": [
    "#11. Write a script to input a DNA string and a search string and print all the positions where the search string occurs and the number of occurrences\n",
    "\n",
    "dna = input(\"Enter a DNA string: \").upper()\n",
    "search = input(\"Enter the search string: \").upper()\n",
    "\n",
    "count = 0\n",
    "print(\"Occurrences at positions:\")\n",
    "\n",
    "for i in range(len(dna) - len(search) + 1):\n",
    "    part = dna[i : i + len(search)]\n",
    "    if part == search:\n",
    "        count = count + 1\n",
    "        print(i + 1)   # +1 because positions start from 1\n",
    "    else:\n",
    "        pass\n",
    "\n",
    "print(\"Total occurrences =\", count)"
   ]
  },
  {
   "cell_type": "code",
   "execution_count": 63,
   "id": "fd79dc77-8ca7-4f19-89ff-726ced5d38a9",
   "metadata": {},
   "outputs": [
    {
     "name": "stdin",
     "output_type": "stream",
     "text": [
      "Enter first DNA string:  ATCGCTA\n",
      "Enter second DNA string:  AT\n"
     ]
    },
    {
     "name": "stdout",
     "output_type": "stream",
     "text": [
      "Overlap found of length 1\n",
      "Overlapping sequence: A\n"
     ]
    }
   ],
   "source": [
    "#12. Write a script to input 2 DNA strings and print whether the suffix of one string overlaps the prefix of the other string\n",
    "\n",
    "dna1 = input(\"Enter first DNA string: \").upper()\n",
    "dna2 = input(\"Enter second DNA string: \").upper()\n",
    "\n",
    "overlap = 0\n",
    "sequence = \"\"\n",
    "\n",
    "# loop through possible overlap lengths\n",
    "for i in range(1, min(len(dna1), len(dna2)) + 1):\n",
    "    suffix = dna1[len(dna1) - i :]     # last i characters of dna1\n",
    "    prefix = dna2[0 : i]               # first i characters of dna2\n",
    "\n",
    "    if suffix == prefix:\n",
    "        overlap = i\n",
    "        sequence = suffix\n",
    "\n",
    "if overlap > 0:\n",
    "    print(\"Overlap found of length\", overlap)\n",
    "    print(\"Overlapping sequence:\", sequence)\n",
    "else:\n",
    "    print(\"No overlap found\")"
   ]
  },
  {
   "cell_type": "code",
   "execution_count": 65,
   "id": "fbebc391-8f86-40f3-81f3-04343d3c1ebc",
   "metadata": {},
   "outputs": [
    {
     "name": "stdin",
     "output_type": "stream",
     "text": [
      "Enter a string:  Heheheheheehhahaahhohohoh\n"
     ]
    },
    {
     "name": "stdout",
     "output_type": "stream",
     "text": [
      "Vowels = 12\n",
      "Consonants = 13\n"
     ]
    }
   ],
   "source": [
    "#13. Write a script to input a string and count the number of vowels and consonants\n",
    "\n",
    "s = input(\"Enter a string: \").lower()\n",
    "\n",
    "vowels = 0\n",
    "consonants = 0\n",
    "\n",
    "for ch in s:\n",
    "    if ch in \"aeiou\":\n",
    "        vowels = vowels + 1\n",
    "    elif ch.isalpha():\n",
    "        consonants = consonants + 1\n",
    "    else:\n",
    "        pass   # skip spaces, numbers, symbols\n",
    "\n",
    "print(\"Vowels =\", vowels)\n",
    "print(\"Consonants =\", consonants)"
   ]
  },
  {
   "cell_type": "code",
   "execution_count": 67,
   "id": "9eeeb2b6-36bb-482a-a150-06a887f3af4a",
   "metadata": {},
   "outputs": [
    {
     "name": "stdin",
     "output_type": "stream",
     "text": [
      "Enter a string:  HEhehhehehehehehoohohohhohoh\n"
     ]
    },
    {
     "name": "stdout",
     "output_type": "stream",
     "text": [
      "a = 0\n",
      "e = 7\n",
      "i = 0\n",
      "o = 6\n",
      "u = 0\n"
     ]
    }
   ],
   "source": [
    "#14. Write a script to input a string and print the frequency of each vowel in aeiou\n",
    "\n",
    "s = input(\"Enter a string: \").lower()\n",
    "\n",
    "a = e = i = o = u = 0   # counters\n",
    "\n",
    "for ch in s:\n",
    "    if ch == \"a\":\n",
    "        a = a + 1\n",
    "    elif ch == \"e\":\n",
    "        e = e + 1\n",
    "    elif ch == \"i\":\n",
    "        i = i + 1\n",
    "    elif ch == \"o\":\n",
    "        o = o + 1\n",
    "    elif ch == \"u\":\n",
    "        u = u + 1\n",
    "    else:\n",
    "        pass\n",
    "\n",
    "print(\"a =\", a)\n",
    "print(\"e =\", e)\n",
    "print(\"i =\", i)\n",
    "print(\"o =\", o)\n",
    "print(\"u =\", u)"
   ]
  },
  {
   "cell_type": "code",
   "execution_count": 69,
   "id": "5662b58f-10d4-4db2-a931-aa7c36dc04be",
   "metadata": {},
   "outputs": [
    {
     "name": "stdin",
     "output_type": "stream",
     "text": [
      "Enter a string:  Om is my name\n"
     ]
    },
    {
     "name": "stdout",
     "output_type": "stream",
     "text": [
      "Om\n",
      "is\n",
      "my\n",
      "name\n"
     ]
    }
   ],
   "source": [
    "#15. Write a script to input a string and print it in words \n",
    "\n",
    "s = input(\"Enter a string: \")\n",
    "\n",
    "word = \"\"   # empty word holder\n",
    "\n",
    "for ch in s:\n",
    "    if ch == \" \":        # space means word ended\n",
    "        print(word)\n",
    "        word = \"\"        # reset for next word\n",
    "    else:\n",
    "        word = word + ch\n",
    "\n",
    "if word != \"\":\n",
    "    print(word)"
   ]
  },
  {
   "cell_type": "code",
   "execution_count": null,
   "id": "34b984a1-9ded-42b5-9732-66f3d2f11f80",
   "metadata": {},
   "outputs": [],
   "source": [
    "#List"
   ]
  },
  {
   "cell_type": "code",
   "execution_count": 71,
   "id": "f28c87b7-b976-45ab-84f5-b85827e2f09f",
   "metadata": {},
   "outputs": [
    {
     "name": "stdout",
     "output_type": "stream",
     "text": [
      "The sum of the items:  15\n"
     ]
    }
   ],
   "source": [
    "#1. Write a Python program to sum all the items in a list.\n",
    "\n",
    "lst=[1,2,3,4,5]\n",
    "total=0\n",
    "for items in lst:\n",
    "    total+=items\n",
    "print(\"The sum of the items: \",total)"
   ]
  },
  {
   "cell_type": "code",
   "execution_count": 73,
   "id": "2d9494a8-6512-4217-a065-276717f9e855",
   "metadata": {},
   "outputs": [
    {
     "name": "stdout",
     "output_type": "stream",
     "text": [
      "The largest number is:  9\n"
     ]
    }
   ],
   "source": [
    "#2. Write a Python program to get the largest number from a list.\n",
    "\n",
    "lst=[3,5,6,8,7,4,9,1]\n",
    "largest=lst[0]\n",
    "\n",
    "for num in lst:\n",
    "    if num > largest:\n",
    "        largest=num\n",
    "print(\"The largest number is: \",largest)"
   ]
  },
  {
   "cell_type": "code",
   "execution_count": 75,
   "id": "e21016e7-0361-4235-94f3-b9030d4a949f",
   "metadata": {},
   "outputs": [
    {
     "name": "stdout",
     "output_type": "stream",
     "text": [
      "The largest number is:  9\n",
      "The smallest number is: 1\n"
     ]
    }
   ],
   "source": [
    "#3. Write a Python program to get the smallest and largest number from a list.\n",
    "\n",
    "lst=[3,4,5,6,8,9,7,2,1]\n",
    "largest=smallest=lst[0]\n",
    "for num in lst:\n",
    "    if num > largest:\n",
    "        largest=num\n",
    "for num in lst:\n",
    "    if num < smallest:\n",
    "        smallest=num\n",
    "print(\"The largest number is: \",largest)\n",
    "print(\"The smallest number is:\",smallest)"
   ]
  },
  {
   "cell_type": "code",
   "execution_count": 77,
   "id": "e674b868-b80c-4c74-8b64-28b7e254d31d",
   "metadata": {},
   "outputs": [
    {
     "name": "stdout",
     "output_type": "stream",
     "text": [
      "Results: 2\n"
     ]
    }
   ],
   "source": [
    "'''\n",
    "4. Write a Python program to count the number of strings where the string length is 2 or more and the first and last character are same from a given list of strings.\n",
    "Sample List : ['abc', 'xyz', 'aba', '1221']\n",
    "Expected Result : 2\n",
    "'''\n",
    "\n",
    "lst=['1221','aba','xyz','abc']\n",
    "count=0\n",
    "for s in lst:\n",
    "    if len(s)>2 and s[0]==s[-1]:\n",
    "        count+=1\n",
    "print(\"Results:\",count)"
   ]
  },
  {
   "cell_type": "code",
   "execution_count": 79,
   "id": "d0401b1b-6902-4f99-a414-b15394200631",
   "metadata": {},
   "outputs": [
    {
     "name": "stdout",
     "output_type": "stream",
     "text": [
      "[(2, 1), (1, 2), (2, 3), (4, 4), (2, 5)]\n"
     ]
    }
   ],
   "source": [
    "'''\n",
    "5. Write a Python program to get a list, sorted in increasing order by the last element in each tuple from a given list of non-empty tuples.\n",
    "Sample List : [(2, 5), (1, 2), (4, 4), (2, 3), (2, 1)]\n",
    "Expected Result : [(2, 1), (1, 2), (2, 3), (4, 4), (2, 5)]\n",
    "'''\n",
    "\n",
    "lst= [(2, 5), (1, 2), (4, 4), (2, 3), (2, 1)]\n",
    "for i in range(len(lst)):\n",
    "    min_index=i\n",
    "    for j in range(i+1,len(lst)):\n",
    "        if lst[j][-1] < lst[min_index][-1]:\n",
    "            min_index=j\n",
    "    lst[i],lst[min_index]=lst[min_index],lst[i]\n",
    "print(lst)"
   ]
  },
  {
   "cell_type": "code",
   "execution_count": 81,
   "id": "9d900694-814e-4f10-b98a-2e70e4e7e6f8",
   "metadata": {},
   "outputs": [
    {
     "name": "stdout",
     "output_type": "stream",
     "text": [
      "[1, 2, 3, 4, 5]\n"
     ]
    }
   ],
   "source": [
    "#6. Write a Python program to remove duplicates from a list.\n",
    "\n",
    "lst=[1,1,2,3,2,4,5,5,4]\n",
    "new_lst=[]\n",
    "\n",
    "for item in lst:\n",
    "    if item not in new_lst:\n",
    "        new_lst.append(item)\n",
    "print(new_lst)"
   ]
  },
  {
   "cell_type": "code",
   "execution_count": 83,
   "id": "119e34c9-c174-4b53-a567-c576d1e434e7",
   "metadata": {},
   "outputs": [
    {
     "name": "stdout",
     "output_type": "stream",
     "text": [
      "True\n"
     ]
    }
   ],
   "source": [
    "#7. Write a Python function that takes two lists and returns True if they have at least one common member.\n",
    "\n",
    "list1 = [1, 2, 3, 4]\n",
    "list2 = [5, 6, 7, 3]\n",
    "\n",
    "common = False\n",
    "\n",
    "for item in list1:\n",
    "    if item in list2:\n",
    "        common = True\n",
    "        break   # no need to check further\n",
    "\n",
    "print(common)"
   ]
  },
  {
   "cell_type": "code",
   "execution_count": 85,
   "id": "a4d3393b-e01d-4f7f-a641-762391b402e1",
   "metadata": {},
   "outputs": [
    {
     "name": "stdout",
     "output_type": "stream",
     "text": [
      "['Green', 'White', 'Black']\n"
     ]
    }
   ],
   "source": [
    "'''\n",
    "8. Write a Python program to print a specified list after removing the 0th, 4th and 5th elements.\n",
    "Sample List : ['Red', 'Green', 'White', 'Black', 'Pink', 'Yellow']\n",
    "Expected Output : ['Green', 'White', 'Black']\n",
    "'''\n",
    "\n",
    "lst=['Red','Green','White','Black','Pink','Yellow']\n",
    "newlst=[]\n",
    "for item in range(len(lst)):\n",
    "    if item not in (0,4,5):\n",
    "        newlst.append(lst[item])    \n",
    "print(newlst)"
   ]
  },
  {
   "cell_type": "code",
   "execution_count": 87,
   "id": "22e690f0-c5e7-4952-b88a-36423c5e2d1d",
   "metadata": {},
   "outputs": [
    {
     "name": "stdout",
     "output_type": "stream",
     "text": [
      "[1, 3, 5, 7, 9]\n"
     ]
    }
   ],
   "source": [
    "#9. Write a Python program to print the list after removing even numbers from it.\n",
    "\n",
    "lst=[1,2,3,4,5,6,7,8,9,10]\n",
    "newlst=[]\n",
    "for num in lst:\n",
    "    if num%2 != 0:\n",
    "        newlst.append(num)\n",
    "print(newlst)"
   ]
  },
  {
   "cell_type": "code",
   "execution_count": 89,
   "id": "c1613d9a-c956-42d4-a957-c866df76e276",
   "metadata": {},
   "outputs": [
    {
     "name": "stdout",
     "output_type": "stream",
     "text": [
      "1 2 3\n",
      "1 3 2\n",
      "2 1 3\n",
      "2 3 1\n",
      "3 1 2\n",
      "3 2 1\n"
     ]
    }
   ],
   "source": [
    "#10. Write a Python program to generate all permutations of a list in Python.\n",
    "\n",
    "lst = [1, 2, 3]\n",
    "\n",
    "for i in range(len(lst)):\n",
    "    for j in range(len(lst)):\n",
    "        for k in range(len(lst)):\n",
    "            if i != j and j != k and i != k:\n",
    "                print(lst[i], lst[j], lst[k])"
   ]
  },
  {
   "cell_type": "code",
   "execution_count": 91,
   "id": "91ae0b2d-1033-4043-b9be-9f5e042308c1",
   "metadata": {},
   "outputs": [
    {
     "name": "stdout",
     "output_type": "stream",
     "text": [
      "lst1-lst2 [1, 3, 5]\n",
      "lst2-lst1 [6]\n"
     ]
    }
   ],
   "source": [
    "#11. Write a Python program to get the difference between the two lists.\n",
    "\n",
    "lst1=[1,2,3,4,5]\n",
    "lst2=[2,4,6]\n",
    "\n",
    "diff1=[x for x in lst1 if x not in lst2]\n",
    "diff2=[x for x in lst2 if x not in lst1]\n",
    "\n",
    "print(\"lst1-lst2\",diff1)\n",
    "print(\"lst2-lst1\",diff2)"
   ]
  },
  {
   "cell_type": "code",
   "execution_count": 93,
   "id": "d040775a-5262-432d-96e0-82d3e421e427",
   "metadata": {},
   "outputs": [
    {
     "name": "stdout",
     "output_type": "stream",
     "text": [
      "Index: 0 Value: a\n",
      "Index: 1 Value: b\n",
      "Index: 2 Value: c\n",
      "Index: 3 Value: d\n",
      "Index: 4 Value: e\n"
     ]
    }
   ],
   "source": [
    "#12. Write a Python program access the index of a list.\n",
    "\n",
    "lst=['a','b','c','d','e']\n",
    "for i in range(len(lst)):\n",
    "    print(\"Index:\",i,\"Value:\",lst[i])"
   ]
  },
  {
   "cell_type": "code",
   "execution_count": 95,
   "id": "d501d51a-5542-4217-a006-25f0ac748375",
   "metadata": {},
   "outputs": [
    {
     "name": "stdout",
     "output_type": "stream",
     "text": [
      "hello\n"
     ]
    }
   ],
   "source": [
    "#13. Write a Python program to convert a list of characters into a string.\n",
    "\n",
    "lst=['h','e','l','l','o']\n",
    "st=\"\".join(lst)\n",
    "print(st)"
   ]
  },
  {
   "cell_type": "code",
   "execution_count": 97,
   "id": "d1645e7e-399a-4c28-98e3-0c48e894523e",
   "metadata": {},
   "outputs": [
    {
     "name": "stdout",
     "output_type": "stream",
     "text": [
      "Second Smallest: 2\n",
      "Second Laregst: 4\n"
     ]
    }
   ],
   "source": [
    "#14. Write a Python program to find the second smallest number and second largest number in a list.\n",
    "\n",
    "lst=[1,1,2,3,2,4,5,5,4]\n",
    "new_lst=[]\n",
    "\n",
    "for item in lst:\n",
    "    if item not in new_lst:\n",
    "        new_lst.append(item)\n",
    "new_lst.sort()\n",
    "secondsmallest=new_lst[1]\n",
    "secondlargest=new_lst[-2]\n",
    "\n",
    "print(\"Second Smallest:\",secondsmallest)\n",
    "print(\"Second Laregst:\",secondlargest)"
   ]
  },
  {
   "cell_type": "code",
   "execution_count": 99,
   "id": "f5e9336d-e490-482a-a53c-14b304c21966",
   "metadata": {},
   "outputs": [
    {
     "name": "stdout",
     "output_type": "stream",
     "text": [
      "{1: 2, 2: 2, 3: 2, 4: 1, 5: 2}\n"
     ]
    }
   ],
   "source": [
    "#15. Write a Python program to get the frequency of the elements in a list.\n",
    "\n",
    "lst=[1,2,2,3,1,4,5,3,5]\n",
    "freq={}\n",
    "for item in lst:\n",
    "    if item in freq:\n",
    "        freq[item]+=1\n",
    "    else:\n",
    "        freq[item]=1\n",
    "print(freq)"
   ]
  },
  {
   "cell_type": "code",
   "execution_count": 121,
   "id": "e2a3c706-e179-4d1c-b261-26c7f8a70c90",
   "metadata": {},
   "outputs": [
    {
     "name": "stdin",
     "output_type": "stream",
     "text": [
      "Enter the number: 5\n"
     ]
    },
    {
     "ename": "TypeError",
     "evalue": "'str' object is not callable",
     "output_type": "error",
     "traceback": [
      "\u001b[1;31m---------------------------------------------------------------------------\u001b[0m",
      "\u001b[1;31mTypeError\u001b[0m                                 Traceback (most recent call last)",
      "Cell \u001b[1;32mIn[121], line 14\u001b[0m\n\u001b[0;32m     12\u001b[0m \u001b[38;5;28;01mfor\u001b[39;00m i \u001b[38;5;129;01min\u001b[39;00m \u001b[38;5;28mrange\u001b[39m (\u001b[38;5;241m1\u001b[39m,n\u001b[38;5;241m+\u001b[39m\u001b[38;5;241m1\u001b[39m):\n\u001b[0;32m     13\u001b[0m     \u001b[38;5;28;01mfor\u001b[39;00m item \u001b[38;5;129;01min\u001b[39;00m lst:\n\u001b[1;32m---> 14\u001b[0m         result\u001b[38;5;241m.\u001b[39mappend(item\u001b[38;5;241m+\u001b[39m\u001b[38;5;28mstr\u001b[39m(i))\n\u001b[0;32m     15\u001b[0m \u001b[38;5;28mprint\u001b[39m(result)\n",
      "\u001b[1;31mTypeError\u001b[0m: 'str' object is not callable"
     ]
    }
   ],
   "source": [
    "'''\n",
    "16. Write a Python program to create a list by concatenating a given list which range goes from 1 to n.\n",
    "Sample list : ['p', 'q']\n",
    "n =5\n",
    "Sample Output : ['p1', 'q1', 'p2', 'q2', 'p3', 'q3', 'p4', 'q4', 'p5', 'q5']\n",
    "'''\n",
    "\n",
    "lst=['p','q']\n",
    "n=int(input(\"Enter the number:\"))\n",
    "result=[]\n",
    "\n",
    "for i in range (1,n+1):\n",
    "    for item in lst:\n",
    "        result.append(item+str(i))\n",
    "print(result)"
   ]
  },
  {
   "cell_type": "code",
   "execution_count": 125,
   "id": "50e4871d-531a-4f51-b888-66236b328731",
   "metadata": {},
   "outputs": [
    {
     "name": "stdout",
     "output_type": "stream",
     "text": [
      "Common items:  [1, 3, 5]\n"
     ]
    }
   ],
   "source": [
    "#17. Write a Python program to find common items from two lists.\n",
    "\n",
    "lst1=[1,2,3,4,5,6]\n",
    "lst2=[1,3,5,7,9]\n",
    "commonlst=[]\n",
    "for item in lst1:\n",
    "    if item in lst2:\n",
    "        commonlst.append(item)\n",
    "print(\"Common items: \",commonlst)"
   ]
  },
  {
   "cell_type": "code",
   "execution_count": 127,
   "id": "673f84f0-4660-47b2-9a3d-a5113d78905b",
   "metadata": {},
   "outputs": [
    {
     "name": "stdout",
     "output_type": "stream",
     "text": [
      "[1, 0, 3, 2, 5, 4]\n"
     ]
    }
   ],
   "source": [
    "'''\n",
    "18. Write a Python program to change the position of every n-th value with the (n+1)th in a list.\n",
    "Sample list: [0,1,2,3,4,5]\n",
    "Expected Output: [1, 0, 3, 2, 5, 4]\n",
    "'''\n",
    "\n",
    "lst=[0,1,2,3,4,5]\n",
    "\n",
    "for i in range(0,len(lst)-1,2):\n",
    "    lst[i],lst[i+1]=lst[i+1],lst[i]\n",
    "print(lst)"
   ]
  },
  {
   "cell_type": "code",
   "execution_count": 129,
   "id": "6444b0c9-598d-4a1d-a05e-8848d7c18096",
   "metadata": {},
   "outputs": [
    {
     "name": "stdout",
     "output_type": "stream",
     "text": [
      "[{'color_name': 'Black', 'color_code': '#000000'}, {'color_name': 'Red', 'color_code': '#FF0000'}, {'color_name': 'Maroon', 'color_code': '#800000'}, {'color_name': 'Yellow', 'color_code': '#FFFF00'}]\n"
     ]
    }
   ],
   "source": [
    "'''\n",
    "19. Write a Python program to convert list to list of dictionaries.\n",
    "Sample lists: [\"Black\", \"Red\", \"Maroon\", \"Yellow\"], [\"#000000\", \"#FF0000\", \"#800000\", \"#FFFF00\"]\n",
    "Expected Output: [{'color_name': 'Black', 'color_code': '#000000'}, {'color_name': 'Red', 'color_code': '#FF0000'}, {'color_name': 'Maroon', 'color_code': '#800000'}, {'color_name': 'Yellow', 'color_code': '#FFFF00'}]\n",
    "'''\n",
    "\n",
    "color_names = [\"Black\", \"Red\", \"Maroon\", \"Yellow\"]\n",
    "color_codes = [\"#000000\", \"#FF0000\", \"#800000\", \"#FFFF00\"]\n",
    "\n",
    "result = []\n",
    "\n",
    "for i in range(len(color_names)):\n",
    "    dict_item = {}\n",
    "    dict_item[\"color_name\"] = color_names[i]\n",
    "    dict_item[\"color_code\"] = color_codes[i]\n",
    "    result.append(dict_item)\n",
    "\n",
    "print(result)"
   ]
  },
  {
   "cell_type": "code",
   "execution_count": 131,
   "id": "b3aa1423",
   "metadata": {},
   "outputs": [
    {
     "name": "stdin",
     "output_type": "stream",
     "text": [
      "Enter the number: 5\n"
     ]
    },
    {
     "name": "stdout",
     "output_type": "stream",
     "text": [
      "[['a', 'e', 'i', 'm'], ['b', 'f', 'j', 'n'], ['c', 'g', 'k'], ['d', 'h', 'l'], ['e', 'i', 'm']]\n"
     ]
    }
   ],
   "source": [
    "'''\n",
    "20. Write a Python program to split a list every Nth element. (input n from the user)\n",
    "Sample list: ['a', 'b', 'c', 'd', 'e', 'f', 'g', 'h', 'i', 'j', 'k', 'l', 'm', 'n']\n",
    "4\n",
    "Expected Output: [['a', 'd', 'g', 'j', 'm'], ['b', 'e', 'h', 'k', 'n'], ['c', 'f', 'i', 'l']]\n",
    "'''\n",
    "\n",
    "lst=['a','b','c','d','e','f','g','h','i','j','k','l','m','n']\n",
    "n=int(input(\"Enter the number:\"))\n",
    "result=[lst[i::n-1]for i in range(n) if lst[i::n]]\n",
    "print(result)"
   ]
  },
  {
   "cell_type": "code",
   "execution_count": 133,
   "id": "58334812-32b0-4f5a-9311-6677c77c1d76",
   "metadata": {},
   "outputs": [
    {
     "name": "stdout",
     "output_type": "stream",
     "text": [
      "color1-color2 ['red', 'orange', 'white']\n",
      "Color2-color1 ['black', 'yellow']\n"
     ]
    }
   ],
   "source": [
    "'''\n",
    "21. Write a Python program to compute the difference between two lists. \n",
    "Sample data: [\"red\", \"orange\", \"green\", \"blue\", \"white\"], [\"black\", \"yellow\", \"green\", \"blue\"]\n",
    "Expected Output:\n",
    "Color1-Color2: ['white', 'orange', 'red']\n",
    "Color2-Color1: ['black', 'yellow']\n",
    "'''\n",
    "\n",
    "lst1=[\"red\",\"orange\",\"green\",\"blue\",\"white\"]\n",
    "lst2=[\"black\",\"yellow\",\"green\",\"blue\"]\n",
    "\n",
    "diff1=[c for c in lst1 if c not in lst2]\n",
    "diff2=[c for c in lst2 if c not in lst1]\n",
    "\n",
    "print(\"color1-color2\",diff1)\n",
    "print(\"Color2-color1\",diff2)"
   ]
  },
  {
   "cell_type": "code",
   "execution_count": 135,
   "id": "67db15d2",
   "metadata": {},
   "outputs": [
    {
     "name": "stdout",
     "output_type": "stream",
     "text": [
      "[1, 2, 3, 4, 5, 6, 7, 8, 9, 10]\n"
     ]
    }
   ],
   "source": [
    "#22. Write a Python program to concatenate two lists.\n",
    "\n",
    "lst1=[1,2,3,4,5]\n",
    "lst2=[6,7,8,9,10]\n",
    "result=lst1+lst2\n",
    "print(result)"
   ]
  },
  {
   "cell_type": "code",
   "execution_count": 137,
   "id": "7878d652-30d8-4a11-a83d-3b544321c166",
   "metadata": {},
   "outputs": [
    {
     "name": "stdout",
     "output_type": "stream",
     "text": [
      "[{'id': 1, 'name': 'Alice'}, {'id': 2, 'name': 'Bob'}, {'id': 3, 'name': 'Charlie'}]\n"
     ]
    }
   ],
   "source": [
    "#23. Write a Python program to remove key values pairs from a list of dictionaries.\n",
    "\n",
    "students = [\n",
    "    {\"id\": 1, \"name\": \"Alice\", \"age\": 20},\n",
    "    {\"id\": 2, \"name\": \"Bob\", \"age\": 22},\n",
    "    {\"id\": 3, \"name\": \"Charlie\", \"age\": 21}\n",
    "]\n",
    "for d in students:\n",
    "    if \"age\" in d:\n",
    "         del d[\"age\"]\n",
    "print(students)"
   ]
  },
  {
   "cell_type": "code",
   "execution_count": 139,
   "id": "23d3a04e-e17b-40f4-884c-c04543787a91",
   "metadata": {},
   "outputs": [
    {
     "name": "stdout",
     "output_type": "stream",
     "text": [
      "['The', 'best', 'of', 'the', 'best']\n"
     ]
    }
   ],
   "source": [
    "#24. Write a Python program to convert a string to a list.\n",
    "\n",
    "s=\"The best of the best\"\n",
    "st=s.split()\n",
    "print(st)"
   ]
  },
  {
   "cell_type": "code",
   "execution_count": 141,
   "id": "921869e9-b593-4a60-a15d-8386b03b2909",
   "metadata": {},
   "outputs": [
    {
     "name": "stdout",
     "output_type": "stream",
     "text": [
      "True\n"
     ]
    }
   ],
   "source": [
    "#25. Write a Python program to check if all items of a given list of strings is equal to a given string.\n",
    "\n",
    "lst=[\"hello\",\"hello\",\"hello\"]\n",
    "st=\"hello\"\n",
    "\n",
    "result=all(item== st for item in lst)\n",
    "print(result)"
   ]
  },
  {
   "cell_type": "code",
   "execution_count": 143,
   "id": "0d62a396-d250-424a-b5ee-00100d3d5786",
   "metadata": {},
   "outputs": [
    {
     "name": "stdout",
     "output_type": "stream",
     "text": [
      "[1, 3, 5, 7, 9, 2, 4, 6, 8]\n"
     ]
    }
   ],
   "source": [
    "'''\n",
    "26. Write a Python program to replace the last element in a list with another list.\n",
    "Sample data : [1, 3, 5, 7, 9, 10], [2, 4, 6, 8]\n",
    "Expected Output: [1, 3, 5, 7, 9, 2, 4, 6, 8]\n",
    "'''\n",
    "\n",
    "lst1=[1,3,5,7,9,10]\n",
    "lst2=[2,4,6,8]\n",
    "\n",
    "lst1[-1:]=lst2\n",
    "print(lst1)"
   ]
  },
  {
   "cell_type": "code",
   "execution_count": 145,
   "id": "834c7590-410c-4384-a15a-933390c29370",
   "metadata": {},
   "outputs": [
    {
     "name": "stdout",
     "output_type": "stream",
     "text": [
      "[{}, {}, {}, {}, {}]\n"
     ]
    }
   ],
   "source": [
    "#27. Write a Python program to create a list of empty dictionaries.\n",
    "\n",
    "n=5\n",
    "dicts=[{} for _ in range (n)]\n",
    "\n",
    "print(dicts)"
   ]
  },
  {
   "cell_type": "code",
   "execution_count": 147,
   "id": "25fa86f2",
   "metadata": {},
   "outputs": [
    {
     "name": "stdout",
     "output_type": "stream",
     "text": [
      "a  b  c  d\n"
     ]
    }
   ],
   "source": [
    "'''\n",
    "28. Write a Python program to print a list of space-separated elements.\n",
    "[‘a’,’ ‘,’b’, ’ ‘,’c’, ’ ‘,’d’]\n",
    "'''\n",
    "\n",
    "lst=[\"a\",\"\",\"b\",\"\",\"c\",\"\",\"d\"]\n",
    "print(\" \".join(lst))"
   ]
  },
  {
   "cell_type": "code",
   "execution_count": 149,
   "id": "a908d172-e098-4c3e-bd6c-497747e93b13",
   "metadata": {},
   "outputs": [
    {
     "ename": "TypeError",
     "evalue": "'str' object is not callable",
     "output_type": "error",
     "traceback": [
      "\u001b[1;31m---------------------------------------------------------------------------\u001b[0m",
      "\u001b[1;31mTypeError\u001b[0m                                 Traceback (most recent call last)",
      "Cell \u001b[1;32mIn[149], line 10\u001b[0m\n\u001b[0;32m      7\u001b[0m lst\u001b[38;5;241m=\u001b[39m[\u001b[38;5;241m1\u001b[39m,\u001b[38;5;241m2\u001b[39m,\u001b[38;5;241m3\u001b[39m,\u001b[38;5;241m4\u001b[39m]\n\u001b[0;32m      8\u001b[0m st\u001b[38;5;241m=\u001b[39m\u001b[38;5;124m\"\u001b[39m\u001b[38;5;124memp\u001b[39m\u001b[38;5;124m\"\u001b[39m\n\u001b[1;32m---> 10\u001b[0m result\u001b[38;5;241m=\u001b[39m[st\u001b[38;5;241m+\u001b[39m\u001b[38;5;28mstr\u001b[39m(i) \u001b[38;5;28;01mfor\u001b[39;00m i \u001b[38;5;129;01min\u001b[39;00m lst]\n\u001b[0;32m     11\u001b[0m \u001b[38;5;28mprint\u001b[39m(result)\n",
      "Cell \u001b[1;32mIn[149], line 10\u001b[0m, in \u001b[0;36m<listcomp>\u001b[1;34m(.0)\u001b[0m\n\u001b[0;32m      7\u001b[0m lst\u001b[38;5;241m=\u001b[39m[\u001b[38;5;241m1\u001b[39m,\u001b[38;5;241m2\u001b[39m,\u001b[38;5;241m3\u001b[39m,\u001b[38;5;241m4\u001b[39m]\n\u001b[0;32m      8\u001b[0m st\u001b[38;5;241m=\u001b[39m\u001b[38;5;124m\"\u001b[39m\u001b[38;5;124memp\u001b[39m\u001b[38;5;124m\"\u001b[39m\n\u001b[1;32m---> 10\u001b[0m result\u001b[38;5;241m=\u001b[39m[st\u001b[38;5;241m+\u001b[39m\u001b[38;5;28mstr\u001b[39m(i) \u001b[38;5;28;01mfor\u001b[39;00m i \u001b[38;5;129;01min\u001b[39;00m lst]\n\u001b[0;32m     11\u001b[0m \u001b[38;5;28mprint\u001b[39m(result)\n",
      "\u001b[1;31mTypeError\u001b[0m: 'str' object is not callable"
     ]
    }
   ],
   "source": [
    "'''\n",
    "29. Write a Python program to insert a given string at the beginning of all items in a list.\n",
    "Sample list : [1,2,3,4], string : emp\n",
    "Expected output : ['emp1', 'emp2', 'emp3', 'emp4']\n",
    "'''\n",
    "\n",
    "lst=[1,2,3,4]\n",
    "st=\"emp\"\n",
    "\n",
    "result=[st+str(i) for i in lst]\n",
    "print(result)"
   ]
  },
  {
   "cell_type": "code",
   "execution_count": 151,
   "id": "ab95662d",
   "metadata": {},
   "outputs": [
    {
     "name": "stdout",
     "output_type": "stream",
     "text": [
      "1 a\n",
      "2 b\n",
      "3 c\n",
      "4 d\n"
     ]
    }
   ],
   "source": [
    "#30. Write a Python program to iterate over two lists simultaneously.\n",
    "list1 = [1, 2, 3, 4]\n",
    "list2 = ['a', 'b', 'c', 'd']\n",
    "\n",
    "for x, y in zip(list1, list2):\n",
    "    print(x, y)"
   ]
  },
  {
   "cell_type": "code",
   "execution_count": 153,
   "id": "afdf43de",
   "metadata": {},
   "outputs": [
    {
     "name": "stdout",
     "output_type": "stream",
     "text": [
      "Original List: [3, 4, 0, 0, 0, 6, 2, 0, 6, 7, 6, 0, 0, 0, 9, 10, 7, 4, 4, 5, 3, 0, 0, 2, 9, 7, 1]\n",
      "Result: [3, 4, 6, 2, 6, 7, 6, 9, 10, 7, 4, 4, 5, 3, 2, 9, 7, 1, 0, 0, 0, 0, 0, 0, 0, 0, 0]\n"
     ]
    }
   ],
   "source": [
    "'''\n",
    "31. Write a Python program to move all zero digits to end of a given list of numbers.\n",
    "Expected output:\n",
    "Original list:\n",
    "[3, 4, 0, 0, 0, 6, 2, 0, 6, 7, 6, 0, 0, 0, 9, 10, 7, 4, 4, 5, 3, 0, 0, 2, 9, 7, 1]\n",
    "Move all zero digits to end of the said list of numbers:\n",
    "[3, 4, 6, 2, 6, 7, 6, 9, 10, 7, 4, 4, 5, 3, 2, 9, 7, 1, 0, 0, 0, 0, 0, 0, 0, 0, 0]\n",
    "'''\n",
    "\n",
    "lst=[3,4,0,0,0,6,2,0,6,7,6,0,0,0,9,10,7,4,4,5,3,0,0,2,9,7,1]\n",
    "print(\"Original List:\",lst)\n",
    "\n",
    "result=[x for x in lst if x !=0] + [0]* lst.count(0)\n",
    "print(\"Result:\",result)"
   ]
  },
  {
   "cell_type": "code",
   "execution_count": 155,
   "id": "97b67b7e-e50f-48d6-9357-1941d401a719",
   "metadata": {},
   "outputs": [
    {
     "name": "stdout",
     "output_type": "stream",
     "text": [
      "The list with the highest sum: [10, 11, 12]\n"
     ]
    }
   ],
   "source": [
    "'''\n",
    "32. Write a Python program to find the list in a list of lists whose sum of elements is the highest.\n",
    "Sample lists: [1,2,3], [4,5,6], [10,11,12], [7,8,9]\n",
    "Expected Output: [10, 11, 12]\n",
    "'''\n",
    "\n",
    "lst=[[1,2,3],[4,5,6],[10,11,12],[7,8,9]]\n",
    "maxsum=sum(lst[0])\n",
    "maxlst=lst[0]\n",
    "\n",
    "for lst in lst[1:]:\n",
    "    currentsum=sum(lst)\n",
    "    if currentsum>maxsum:\n",
    "        maxsum=currentsum\n",
    "        maxlst=lst\n",
    "print(\"The list with the highest sum:\",maxlst)"
   ]
  },
  {
   "cell_type": "code",
   "execution_count": 157,
   "id": "6d3c0137-0245-424a-b5e1-872f23696541",
   "metadata": {},
   "outputs": [
    {
     "name": "stdout",
     "output_type": "stream",
     "text": [
      "The numbers greater than 10 is : [12, 18, 20, 11]\n"
     ]
    }
   ],
   "source": [
    "#33. Write a Python program to find all the values in a list are greater than a specified number.\n",
    "\n",
    "lst=[12,5,18,9,20,4,11,7]\n",
    "num=10\n",
    "\n",
    "greater=[x for x in lst if x>num]\n",
    "\n",
    "print(\"The numbers greater than 10 is :\",greater)"
   ]
  },
  {
   "cell_type": "code",
   "execution_count": 159,
   "id": "416b9b32-902e-4b68-80f0-82a884813589",
   "metadata": {},
   "outputs": [
    {
     "name": "stdout",
     "output_type": "stream",
     "text": [
      "[40, 50, 60, 10, 20, 30]\n"
     ]
    }
   ],
   "source": [
    "'''\n",
    "34. Write a Python program to extend a list without append.\n",
    "Sample data: [10, 20, 30]\n",
    "[40, 50, 60]\n",
    "Expected output : [40, 50, 60, 10, 20, 30]\n",
    "'''\n",
    "\n",
    "lst1=[40,50,60]\n",
    "lst2=[10,20,30]\n",
    "result=lst1+lst2\n",
    "\n",
    "print(result)"
   ]
  },
  {
   "cell_type": "code",
   "execution_count": 161,
   "id": "f2f2e519-798c-4f11-9a70-8b01a61c37d6",
   "metadata": {},
   "outputs": [
    {
     "name": "stdout",
     "output_type": "stream",
     "text": [
      "New List: [[10, 20], [40], [30, 56, 25], [33]]\n"
     ]
    }
   ],
   "source": [
    "'''\n",
    "35. Write a Python program to remove duplicates from a list of lists.\n",
    "Sample list : [[10, 20], [40], [30, 56, 25], [10, 20], [33], [40]]\n",
    "New List : [[10, 20], [30, 56, 25], [33], [40]]\n",
    "'''\n",
    "\n",
    "data = [[10, 20], [40], [30, 56, 25], [10, 20], [33], [40]]\n",
    "new_list = []\n",
    "seen = set()\n",
    "\n",
    "for sublist in data:\n",
    "    t = tuple(sublist)   # convert list -> tuple\n",
    "    if t not in seen:    # only add if not already seen\n",
    "        seen.add(t)\n",
    "        new_list.append(sublist)\n",
    "\n",
    "print(\"New List:\", new_list)"
   ]
  },
  {
   "cell_type": "code",
   "execution_count": 163,
   "id": "626cf8e1",
   "metadata": {},
   "outputs": [
    {
     "name": "stdin",
     "output_type": "stream",
     "text": [
      "Enter the character: a\n"
     ]
    },
    {
     "name": "stdout",
     "output_type": "stream",
     "text": [
      "items starts with 'a'is/are: ['abcd', 'abc', 'acjd']\n"
     ]
    }
   ],
   "source": [
    "'''\n",
    "36. Write a Python program to find the items starts with specific character from a given list. \n",
    "Expected Output:\n",
    "Original list:\n",
    "['abcd', 'abc', 'bcd', 'bkie', 'cder', 'cdsw', 'sdfsd', 'dagfa', 'acjd']\n",
    "Items start with a from the said list:\n",
    "['abcd', 'abc', 'acjd']\n",
    "Items start with d from the said list:\n",
    "['dagfa']\n",
    "Items start with w from the said list:\n",
    "[]\n",
    "'''\n",
    "\n",
    "lst=['abcd', 'abc', 'bcd', 'bkie', 'cder', 'cdsw', 'sdfsd', 'dagfa', 'acjd']\n",
    "ch=input(\"Enter the character:\")\n",
    "\n",
    "result=[w for w in lst if w.startswith(ch)]\n",
    "\n",
    "print(f\"items starts with '{ch}'is/are:\",result)"
   ]
  },
  {
   "cell_type": "code",
   "execution_count": 165,
   "id": "d748f322-a8c0-4357-96a9-8d76d4949ef9",
   "metadata": {},
   "outputs": [
    {
     "name": "stdout",
     "output_type": "stream",
     "text": [
      "Flatten list: [0, 10, 20, 30, 40, 50, 60, 70, 80, 90, 100, 110, 120]\n"
     ]
    }
   ],
   "source": [
    "'''\n",
    "37. Write a Python program to flatten a given nested list structure. \n",
    "Original list: [0, 10, [20, 30], 40, 50, [60, 70, 80], [90, 100, 110, 120]]\n",
    "Flatten list:\n",
    "[0, 10, 20, 30, 40, 50, 60, 70, 80, 90, 100, 110, 120]\n",
    "'''\n",
    "\n",
    "data = [0, 10, [20, 30], 40, 50, [60, 70, 80], [90, 100, [110, 120]]]\n",
    "flat = []\n",
    "stack = data[:]\n",
    "\n",
    "while stack:\n",
    "    item = stack.pop(0)\n",
    "    if type(item) == list:      # substitute for isinstance(item, list)\n",
    "        stack = item + stack\n",
    "    else:\n",
    "        flat.append(item)\n",
    "\n",
    "print(\"Flatten list:\", flat)"
   ]
  },
  {
   "cell_type": "code",
   "execution_count": 167,
   "id": "4693b455-27a3-4318-971c-772c676d0d57",
   "metadata": {},
   "outputs": [
    {
     "name": "stdout",
     "output_type": "stream",
     "text": [
      "Original List [0, 0, 1, 2, 3, 4, 4, 5, 6, 6, 6, 7, 8, 9, 4, 4]\n",
      "output: [0, 1, 2, 3, 4, 5, 6, 7, 8, 9, 4]\n"
     ]
    }
   ],
   "source": [
    "'''\n",
    "38. Write a Python program to remove consecutive duplicates of a given list. \n",
    "Original list:\n",
    "[0, 0, 1, 2, 3, 4, 4, 5, 6, 6, 6, 7, 8, 9, 4, 4]\n",
    "After removing consecutive duplicates:\n",
    "[0, 1, 2, 3, 4, 5, 6, 7, 8, 9, 4]\n",
    "'''\n",
    "\n",
    "data=[0,0,1,2,3,4,4,5,6,6,6,7,8,9,4,4]\n",
    "print(\"Original List\",data)\n",
    "\n",
    "result=[]\n",
    "\n",
    "for i in range(len(data)):\n",
    "    if i==0 or data[i] != data[i-1]:\n",
    "        result.append(data[i])\n",
    "print(\"output:\",result)"
   ]
  },
  {
   "cell_type": "code",
   "execution_count": 169,
   "id": "a909477e-4054-469b-98f6-281a89c92257",
   "metadata": {},
   "outputs": [
    {
     "name": "stdout",
     "output_type": "stream",
     "text": [
      "Original list:\n",
      "[0, 0, 1, 2, 3, 4, 4, 5, 6, 6, 6, 7, 8, 9, 4, 4]\n",
      "After packing consecutive duplicates of the said list elements into sublists:\n",
      "[[0, 0], [1], [2], [3], [4, 4], [5], [6, 6, 6], [7], [8], [9], [4, 4]]\n"
     ]
    }
   ],
   "source": [
    "'''\n",
    "39. Write a Python program to pack consecutive duplicates of a given list elements into sublists. \n",
    "Original list:\n",
    "[0, 0, 1, 2, 3, 4, 4, 5, 6, 6, 6, 7, 8, 9, 4, 4]\n",
    "After packing consecutive duplicates of the said list elements into sublists:\n",
    "[[0, 0], [1], [2], [3], [4, 4], [5], [6, 6, 6], [7], [8], [9], [4, 4]]\n",
    "'''\n",
    "\n",
    "# Original list\n",
    "data = [0, 0, 1, 2, 3, 4, 4, 5, 6, 6, 6, 7, 8, 9, 4, 4]\n",
    "\n",
    "result = []         # this will store the final list of sublists\n",
    "temp = [data[0]]    # start with the first element in a temporary list\n",
    "\n",
    "for i in range(1, len(data)):\n",
    "    if data[i] == data[i-1]:\n",
    "        # If current element is same as previous → keep adding to temp\n",
    "        temp.append(data[i])\n",
    "    else:\n",
    "        # If different → push the current group to result\n",
    "        result.append(temp)\n",
    "        # Start a new group with current element\n",
    "        temp = [data[i]]\n",
    "\n",
    "# Add the last group (because loop ends without adding it)\n",
    "result.append(temp)\n",
    "\n",
    "print(\"Original list:\")\n",
    "print(data)\n",
    "print(\"After packing consecutive duplicates of the said list elements into sublists:\")\n",
    "print(result)"
   ]
  },
  {
   "cell_type": "code",
   "execution_count": 171,
   "id": "4c45b886-f187-43a7-b127-160a0f5c1d68",
   "metadata": {},
   "outputs": [
    {
     "name": "stdout",
     "output_type": "stream",
     "text": [
      "Original list:\n",
      "[1, 1, 2, 3, 4, 4.3, 5, 1]\n",
      "List reflecting the run-length encoding from the said list:\n",
      "[[2, 1], [1, 2], [1, 3], [1, 4], [1, 4.3], [1, 5], [1, 1]]\n",
      "\n",
      "Original String:\n",
      "automatically\n",
      "List reflecting the run-length encoding from the said string:\n",
      "[[1, 'a'], [1, 'u'], [1, 't'], [1, 'o'], [1, 'm'], [1, 'a'], [1, 't'], [1, 'i'], [1, 'c'], [1, 'a'], [2, 'l'], [1, 'y']]\n"
     ]
    }
   ],
   "source": [
    "'''\n",
    "40. Write a Python program to create a list reflecting the run-length encoding from a given list of integers or a given list of characters. \n",
    "Original list:\n",
    "[1, 1, 2, 3, 4, 4.3, 5, 1]\n",
    "List reflecting the run-length encoding from the said list:\n",
    "[[2, 1],[1, 2], [1, 3], [1, 4], [1, 4.3], [1, 5], [1, 1]]\n",
    "Original String:\n",
    "automatically\n",
    "List reflecting the run-length encoding from the said string:\n",
    "[[1, 'a'], [1, 'u'], [1, 't'], [1, 'o'], [1, 'm'], [1, 'a'], [1, 't'], [1, 'i'], [1, 'c'], [1, 'a'], [2, 'l'], [1, 'y']]\n",
    "'''\n",
    "\n",
    "# Example 1: With a list\n",
    "data = [1, 1, 2, 3, 4, 4.3, 5, 1]\n",
    "\n",
    "result = []\n",
    "count = 1   # to count repetitions\n",
    "\n",
    "for i in range(1, len(data)):\n",
    "    if data[i] == data[i-1]:\n",
    "        count += 1   # same element → increase count\n",
    "    else:\n",
    "        result.append([count, data[i-1]])  # store count & value\n",
    "        count = 1   # reset counter\n",
    "# add the last group\n",
    "result.append([count, data[-1]])\n",
    "\n",
    "print(\"Original list:\")\n",
    "print(data)\n",
    "print(\"List reflecting the run-length encoding from the said list:\")\n",
    "print(result)\n",
    "\n",
    "\n",
    "# Example 2: With a string\n",
    "text = \"automatically\"\n",
    "\n",
    "result_str = []\n",
    "count = 1\n",
    "\n",
    "for i in range(1, len(text)):\n",
    "    if text[i] == text[i-1]:\n",
    "        count += 1\n",
    "    else:\n",
    "        result_str.append([count, text[i-1]])\n",
    "        count = 1\n",
    "result_str.append([count, text[-1]])\n",
    "\n",
    "print(\"\\nOriginal String:\")\n",
    "print(text)\n",
    "print(\"List reflecting the run-length encoding from the said string:\")\n",
    "print(result_str)"
   ]
  },
  {
   "cell_type": "code",
   "execution_count": 173,
   "id": "3b290940-0257-4148-9c12-349f43063f27",
   "metadata": {},
   "outputs": [
    {
     "name": "stdout",
     "output_type": "stream",
     "text": [
      "[[2, 1], 2, 3, [2, 4], 5, 1]\n",
      "Decoded list: [1, 1, 2, 3, 4, 4, 5, 1]\n"
     ]
    }
   ],
   "source": [
    "'''\n",
    "41. Write a Python program to decode a run-length encoded given list. \n",
    "Original encoded list:\n",
    "[[2, 1], 2, 3, [2, 4], 5, 1]\n",
    "Decode a run-length encoded said list:\n",
    "[1, 1, 2, 3, 4, 4, 5, 1]\n",
    "'''\n",
    "\n",
    "encoded=[[2,1],2,3,[2,4],5,1]\n",
    "print(encoded)\n",
    "\n",
    "decoded=[]\n",
    "for item in encoded:\n",
    "    if type(item)==list:\n",
    "        decoded.extend([item[1]] * item[0])\n",
    "    else:\n",
    "        decoded.append(item)\n",
    "print(\"Decoded list:\",decoded)"
   ]
  },
  {
   "cell_type": "code",
   "execution_count": 183,
   "id": "524c53c4-f2a8-4e86-ac47-d0794d03e6e8",
   "metadata": {},
   "outputs": [
    {
     "name": "stdin",
     "output_type": "stream",
     "text": [
      "Enter the list(space separated): 1 1\n"
     ]
    },
    {
     "name": "stdout",
     "output_type": "stream",
     "text": [
      "Original list: [1, 1]\n"
     ]
    },
    {
     "name": "stdin",
     "output_type": "stream",
     "text": [
      "Enter the number to enter: 5\n",
      "Enter the position to enter the element: 1\n"
     ]
    },
    {
     "name": "stdout",
     "output_type": "stream",
     "text": [
      "Result [1, 5, 1]\n"
     ]
    }
   ],
   "source": [
    "'''\n",
    "42. Write a Python program to insert an element at a specified position into a given list. \n",
    "Original list:\n",
    "[1, 1, 2, 3, 4, 4, 5, 1]\n",
    "After inserting an element at kth position in the said list:\n",
    "[1, 1, 12, 2, 3, 4, 4, 5, 1]\n",
    "'''\n",
    "\n",
    "data=list(map(int,input(\"Enter the list(space separated):\").split()))\n",
    "print(\"Original list:\",data)\n",
    "\n",
    "element=int(input(\"Enter the number to enter:\"))\n",
    "k=int(input(\"Enter the position to enter the element:\"))\n",
    "\n",
    "data.insert(k,element)\n",
    "print(\"Result\",data)"
   ]
  },
  {
   "cell_type": "code",
   "execution_count": 185,
   "id": "67b84496-e265-4f4d-863a-44161a0300d8",
   "metadata": {},
   "outputs": [
    {
     "name": "stdout",
     "output_type": "stream",
     "text": [
      "[22.4, 4.0, -16.22, -9.1, 11.0, -12.22, 14.2, -5.2, 17.5]\n",
      "Results: [22, 4, -16, -9, 11, -12, 14, -5, 17]\n"
     ]
    }
   ],
   "source": [
    "'''\n",
    "43. Write a Python program to round every number of a given list of numbers and print the list. \n",
    "Original list: [22.4, 4.0, -16.22, -9.1, 11.0, -12.22, 14.2, -5.2, 17.5]\n",
    "Result:\n",
    "[22, 4, -16, -9, 11, -12, 14, -5, 17]\n",
    "'''\n",
    "\n",
    "numbers=[22.4, 4.0, -16.22, -9.1, 11.0, -12.22, 14.2, -5.2, 17.5]\n",
    "print(numbers)\n",
    "\n",
    "rounded=[int(num) for num in numbers]\n",
    "print(\"Results:\",rounded)"
   ]
  },
  {
   "cell_type": "code",
   "execution_count": 187,
   "id": "e936b13e-10b2-4d24-8149-c12e84860b01",
   "metadata": {},
   "outputs": [
    {
     "name": "stdin",
     "output_type": "stream",
     "text": [
      "Enter the number of rows:  3\n",
      "Enter the number of columns:  2\n"
     ]
    },
    {
     "name": "stdout",
     "output_type": "stream",
     "text": [
      "[[0, 0], [0, 0], [0, 0]]\n"
     ]
    }
   ],
   "source": [
    "'''\n",
    "44. Write a Python program to create a multidimensional list (lists of lists) with zeros. \n",
    "Multidimensional list: [[0, 0], [0, 0], [0, 0]]\n",
    "'''\n",
    "\n",
    "rows = int(input(\"Enter the number of rows: \"))\n",
    "cols = int(input(\"Enter the number of columns: \"))\n",
    "\n",
    "multi_list = [[0 for j in range(cols)] for i in range(rows)]\n",
    "print(multi_list)"
   ]
  },
  {
   "cell_type": "code",
   "execution_count": 189,
   "id": "835c24d1-5840-410a-8671-331e847c131a",
   "metadata": {},
   "outputs": [
    {
     "name": "stdin",
     "output_type": "stream",
     "text": [
      "Enter the number of rows: 3\n",
      "Enter the number of cols: 3\n"
     ]
    },
    {
     "name": "stdout",
     "output_type": "stream",
     "text": [
      "[[1, 2, 3], [1, 2, 3], [1, 2, 3]]\n"
     ]
    }
   ],
   "source": [
    "'''\n",
    "45. Write a Python program to create a 3X3 grid with numbers. \n",
    "3X3 grid with numbers:\n",
    "[[1, 2, 3], [1, 2, 3], [1, 2, 3]]\n",
    "'''\n",
    "\n",
    "rows = int(input(\"Enter the number of rows:\"))\n",
    "cols = int(input(\"Enter the number of cols:\"))\n",
    "\n",
    "grid=[list(range(1,cols+1)) for _ in range (rows)]\n",
    "print(grid)"
   ]
  },
  {
   "cell_type": "code",
   "execution_count": 1,
   "id": "1894d0c9-94b2-42c6-9464-94c657a871fe",
   "metadata": {},
   "outputs": [
    {
     "name": "stdin",
     "output_type": "stream",
     "text": [
      "Input rows:  2\n",
      "Input columns:  2\n",
      "Input row 1 elements separated by space:  1 1\n",
      "Input row 2 elements separated by space:  2 2\n"
     ]
    },
    {
     "name": "stdout",
     "output_type": "stream",
     "text": [
      "Matrix:\n",
      "[1, 1]\n",
      "[2, 2]\n",
      "Sum for each column:\n",
      "3 3\n"
     ]
    }
   ],
   "source": [
    "'''\n",
    "46. Write a Python program to read a matrix from console and print the sum for each column. Accept matrix rows, columns and elements for each column separated with a space(for every row) as input from the user. \n",
    "Input rows: 2\n",
    "Input columns: 2\n",
    "Input number of elements in a row (1, 2, 3):\n",
    "1 2\n",
    "3 4\n",
    "sum for each column:\n",
    "4 6\n",
    "'''\n",
    "\n",
    "rows = int(input(\"Input rows: \"))\n",
    "cols = int(input(\"Input columns: \"))\n",
    "\n",
    "matrix = []\n",
    "\n",
    "for i in range(rows):\n",
    "    row = list(map(int, input(f\"Input row {i+1} elements separated by space: \").split()))\n",
    "    if len(row) != cols:\n",
    "        print(f\"Error: Expected {cols} elements but got {len(row)}\")\n",
    "        exit()\n",
    "    matrix.append(row)\n",
    "\n",
    "print(\"Matrix:\")\n",
    "for r in matrix:\n",
    "    print(r)\n",
    "\n",
    "column_sums = [0] * cols\n",
    "for c in range(cols):\n",
    "    for r in range(rows):\n",
    "        column_sums[c] += matrix[r][c]\n",
    "\n",
    "print(\"Sum for each column:\")\n",
    "print(\" \".join(map(str, column_sums)))"
   ]
  },
  {
   "cell_type": "code",
   "execution_count": 3,
   "id": "c1f7b0e2-8b43-424a-950e-b7d19760777d",
   "metadata": {},
   "outputs": [
    {
     "name": "stdin",
     "output_type": "stream",
     "text": [
      "Input the size of the matrix:  2\n",
      "Input row 1 elements separated by space:  1 1\n",
      "Input row 2 elements separated by space:  2 2\n"
     ]
    },
    {
     "name": "stdout",
     "output_type": "stream",
     "text": [
      "Matrix:\n",
      "[1, 1]\n",
      "[2, 2]\n",
      "3\n"
     ]
    }
   ],
   "source": [
    "'''\n",
    "47. Write a Python program to read a square matrix from console and print the sum of matrix primary diagonal. Accept the size of the square matrix and elements for each column separated with a space (for every row) as input from the user. \n",
    "Input the size of the matrix: 3\n",
    "2 3 4\n",
    "4 5 6\n",
    "3 4 7\n",
    "Sum of matrix primary diagonal:\n",
    "14\n",
    "'''\n",
    "\n",
    "n = int(input(\"Input the size of the matrix: \"))\n",
    "\n",
    "matrix = []\n",
    "\n",
    "for i in range(rows):\n",
    "    row = list(map(int, input(f\"Input row {i+1} elements separated by space: \").split()))\n",
    "    if len(row) != cols:\n",
    "        print(f\"Error: Expected {cols} elements but got {len(row)}\")\n",
    "        exit()\n",
    "    matrix.append(row)\n",
    "\n",
    "print(\"Matrix:\")\n",
    "for r in matrix:\n",
    "    print(r)\n",
    "\n",
    "primary_diagonal_sum=sum(matrix[i][i] for i in range(n))\n",
    "print(primary_diagonal_sum)"
   ]
  },
  {
   "cell_type": "code",
   "execution_count": 5,
   "id": "40203f56-613d-42ac-9c60-705291244844",
   "metadata": {},
   "outputs": [
    {
     "name": "stdout",
     "output_type": "stream",
     "text": [
      "Original lists: [[1, 3], [5, 7], [9, 11]] [[2, 4], [6, 8], [10, 12, 14]]\n",
      "Zipped list: [[1, 3, 2, 4], [5, 7, 6, 8], [9, 11, 10, 12, 14]]\n"
     ]
    }
   ],
   "source": [
    "'''\n",
    "48. Write a Python program to Zip two given lists of lists. \n",
    "Original lists:\n",
    "[[1, 3], [5, 7], [9, 11]]\n",
    "[[2, 4], [6, 8], [10, 12, 14]]\n",
    "Zipped list:\n",
    "[[1, 3, 2, 4], [5, 7, 6, 8], [9, 11, 10, 12, 14]]\n",
    "'''\n",
    "\n",
    "lst1=[[1,3],[5,7],[9,11]]\n",
    "lst2=[[2,4],[6,8],[10,12,14]]\n",
    "\n",
    "print(\"Original lists:\",lst1,lst2)\n",
    "\n",
    "zipped=[a+b for a,b in zip(lst1,lst2)]\n",
    "print(\"Zipped list:\",zipped)"
   ]
  },
  {
   "cell_type": "code",
   "execution_count": 7,
   "id": "4b68f5c3-a9d5-452f-9a00-117565d7889e",
   "metadata": {},
   "outputs": [
    {
     "name": "stdout",
     "output_type": "stream",
     "text": [
      "Original list:\n",
      "[[1, 3], [5, 7], [9, 11], [13, 15, 17]]\n",
      "Number of lists in said list of lists:\n",
      "4\n",
      "\n",
      "Original list:\n",
      "[[2, 4], [[6, 8], [4, 5, 8]], [10, 12, 14]]\n",
      "Number of lists in said list of lists:\n",
      "3\n"
     ]
    }
   ],
   "source": [
    "'''\n",
    "49. Write a Python program to count number of lists in a given list of lists. \n",
    "Original list:\n",
    "[[1, 3], [5, 7], [9, 11], [13, 15, 17]]\n",
    "Number of lists in said list of lists:\n",
    "4\n",
    "Original list:\n",
    "[[2, 4], [[6, 8], [4, 5, 8]], [10, 12, 14]]\n",
    "Number of lists in said list of lists:\n",
    "3\n",
    "'''\n",
    "\n",
    "# Example 1\n",
    "data1 = [[1, 3], [5, 7], [9, 11], [13, 15, 17]]\n",
    "\n",
    "count = 0\n",
    "for item in data1:\n",
    "    if isinstance(item, list):   # check if the element itself is a list\n",
    "        count += 1\n",
    "\n",
    "print(\"Original list:\")\n",
    "print(data1)\n",
    "print(\"Number of lists in said list of lists:\")\n",
    "print(count)\n",
    "\n",
    "\n",
    "# Example 2\n",
    "data2 = [[2, 4], [[6, 8], [4, 5, 8]], [10, 12, 14]]\n",
    "\n",
    "count = 0\n",
    "for item in data2:\n",
    "    if isinstance(item, list):\n",
    "        count += 1\n",
    "\n",
    "print(\"\\nOriginal list:\")\n",
    "print(data2)\n",
    "print(\"Number of lists in said list of lists:\")\n",
    "print(count)"
   ]
  },
  {
   "cell_type": "code",
   "execution_count": 9,
   "id": "e00dc323",
   "metadata": {},
   "outputs": [
    {
     "ename": "SyntaxError",
     "evalue": "invalid syntax (1026012295.py, line 23)",
     "output_type": "error",
     "traceback": [
      "\u001b[1;36m  Cell \u001b[1;32mIn[9], line 23\u001b[1;36m\u001b[0m\n\u001b[1;33m    Original list:\u001b[0m\n\u001b[1;37m             ^\u001b[0m\n\u001b[1;31mSyntaxError\u001b[0m\u001b[1;31m:\u001b[0m invalid syntax\n"
     ]
    }
   ],
   "source": [
    "'''\n",
    "50. Write a Python program to find the list with maximum and minimum length. \n",
    "Original list:\n",
    "[[0], [1, 3], [5, 7], [9, 11], [13, 15, 17]]\n",
    "List with maximum length of lists:\n",
    "(3, [13, 15, 17])\n",
    "List with minimum length of lists:\n",
    "(1, [0])\n",
    "Original list:\n",
    "[[0], [1, 3], [5, 7], [9, 11], [3, 5, 7]]\n",
    "List with maximum length of lists:\n",
    "(3, [3, 5, 7])\n",
    "List with minimum length of lists:\n",
    "(1, [0])\n",
    "Original list:\n",
    "[[12], [1, 3], [1, 34, 5, 7], [9, 11], [3, 5, 7]]\n",
    "List with maximum length of lists:\n",
    "(4, [1, 34, 5, 7])\n",
    "List with minimum length of lists:\n",
    "(1, [12])\n",
    "'''\n",
    "\n",
    "Original list:\n",
    "[[0], [1, 3], [5, 7], [9, 11], [13, 15, 17]]\n",
    "List with maximum length of lists:\n",
    "(3, [13, 15, 17])\n",
    "List with minimum length of lists:\n",
    "(1, [0])\n",
    "\n",
    "Original list:\n",
    "[[0], [1, 3], [5, 7], [9, 11], [3, 5, 7]]\n",
    "List with maximum length of lists:\n",
    "(3, [3, 5, 7])\n",
    "List with minimum length of lists:\n",
    "(1, [0])\n",
    "\n",
    "Original list:\n",
    "[[12], [1, 3], [1, 34, 5, 7], [9, 11], [3, 5, 7]]\n",
    "List with maximum length of lists:\n",
    "(4, [1, 34, 5, 7])\n",
    "List with minimum length of lists:\n",
    "(1, [12])"
   ]
  },
  {
   "cell_type": "code",
   "execution_count": 11,
   "id": "e305e55e-a6a3-4b95-a249-14a938c53245",
   "metadata": {},
   "outputs": [
    {
     "name": "stdout",
     "output_type": "stream",
     "text": [
      "Original list:\n",
      "[[1, 3], [5, 7], [1, 11], [1, 15, 7]]\n",
      "Count 1 in the said list:\n",
      "3\n",
      "Count 7 in the said list:\n",
      "2\n",
      "\n",
      "Original list:\n",
      "[['A', 'B'], ['A', 'C'], ['A', 'D', 'E'], ['B', 'C', 'D']]\n",
      "Count 'A' in the said list:\n",
      "3\n",
      "Count 'E' in the said list:\n",
      "1\n"
     ]
    }
   ],
   "source": [
    "'''\n",
    "51. Write a Python program to count the number of sublists contain a particular element. \n",
    "Original list:\n",
    "[[1, 3], [5, 7], [1, 11], [1, 15, 7]]\n",
    "Count 1 in the said list:\n",
    "3\n",
    "Count 7 in the said list:\n",
    "2\n",
    "Original list:\n",
    "[['A', 'B'], ['A', 'C'], ['A', 'D', 'E'], ['B', 'C', 'D']]\n",
    "Count 'A' in the said list:\n",
    "3\n",
    "Count 'E' in the said list:\n",
    "1\n",
    "'''\n",
    "\n",
    "# Example 1\n",
    "data1 = [[1, 3], [5, 7], [1, 11], [1, 15, 7]]\n",
    "\n",
    "count = 0\n",
    "for sublist in data1:\n",
    "    if 1 in sublist:\n",
    "        count += 1\n",
    "\n",
    "print(\"Original list:\")\n",
    "print(data1)\n",
    "print(\"Count 1 in the said list:\")\n",
    "print(count)\n",
    "\n",
    "count = 0\n",
    "for sublist in data1:\n",
    "    if 7 in sublist:\n",
    "        count += 1\n",
    "\n",
    "print(\"Count 7 in the said list:\")\n",
    "print(count)\n",
    "\n",
    "\n",
    "# Example 2\n",
    "data2 = [['A', 'B'], ['A', 'C'], ['A', 'D', 'E'], ['B', 'C', 'D']]\n",
    "\n",
    "count = 0\n",
    "for sublist in data2:\n",
    "    if 'A' in sublist:\n",
    "        count += 1\n",
    "\n",
    "print(\"\\nOriginal list:\")\n",
    "print(data2)\n",
    "print(\"Count 'A' in the said list:\")\n",
    "print(count)\n",
    "\n",
    "count = 0\n",
    "for sublist in data2:\n",
    "    if 'E' in sublist:\n",
    "        count += 1\n",
    "\n",
    "print(\"Count 'E' in the said list:\")\n",
    "print(count)"
   ]
  },
  {
   "cell_type": "code",
   "execution_count": 13,
   "id": "4282d76e",
   "metadata": {},
   "outputs": [
    {
     "name": "stdout",
     "output_type": "stream",
     "text": [
      "result [[2], [0], [1, 3], [0, 7], [9, 11], [13, 15, 17]]\n"
     ]
    }
   ],
   "source": [
    "'''\n",
    "52. Write a Python program to sort each sublist in a given list of lists. \n",
    "Original list:\n",
    "[[2], [0], [1, 3], [0, 7], [9, 11], [13, 15, 17]]\n",
    "Sort the list of lists by length and value:\n",
    "[[0], [2], [0, 7], [1, 3], [9, 11], [13, 15, 17]]\n",
    "'''\n",
    "\n",
    "lst=[[2], [0], [1, 3], [0, 7], [9, 11], [13, 15, 17]]\n",
    "\n",
    "for sub in lst:\n",
    "    n=len(sub)\n",
    "    for i in range (n):\n",
    "        for j in range(0,n-i-1):\n",
    "            if sub[j]>sub[j+1]:\n",
    "                sub[j],sub[j+1]=sub[j+1],sub[j]\n",
    "                \n",
    "n=len(lst)\n",
    "for i in range(n):\n",
    "    for j in range(0,n-i-1):\n",
    "        if len(lst[j])>len(lst[j+1]) or (len(lst[j]) ==len(lst[j+1]) and lst[j]>lst[j+1]):\n",
    "            lst[j],lst[j+1]==lst[j+1],lst[j]\n",
    "print(\"result\",lst)"
   ]
  },
  {
   "cell_type": "code",
   "execution_count": 15,
   "id": "f51f7c32-b690-410c-99c5-849a65664a78",
   "metadata": {},
   "outputs": [
    {
     "name": "stdout",
     "output_type": "stream",
     "text": [
      "5 2\n"
     ]
    }
   ],
   "source": [
    "'''\n",
    "53. Write a Python program to find the maximum and minimum values in a given heterogeneous list. \n",
    "Original list:\n",
    "['Python', 3, 2, 4, 5, 'version']\n",
    "Maximum and Minimum values in the said list:\n",
    "(5, 2)\n",
    "'''\n",
    "\n",
    "lst=['Python',3,2,4,5,'Version']\n",
    "\n",
    "nums=[x for x in lst if str(x).isdigit()]\n",
    "nums=[int(x) for x in nums]\n",
    "maximum=nums[0]\n",
    "minimum=nums[0]\n",
    "\n",
    "for n in nums:\n",
    "    if n>maximum:\n",
    "        maximum = n\n",
    "    if n<minimum:\n",
    "        minimum = n\n",
    "\n",
    "print(maximum,minimum)"
   ]
  },
  {
   "cell_type": "code",
   "execution_count": 17,
   "id": "c8309a47-a7e8-46c9-b7b2-3e28406f5c80",
   "metadata": {},
   "outputs": [
    {
     "name": "stdout",
     "output_type": "stream",
     "text": [
      "[1, 7]\n"
     ]
    }
   ],
   "source": [
    "'''\n",
    "54. Write a Python program to extract common index elements from more than one given list. \n",
    "Original lists:\n",
    "[1, 1, 3, 4, 5, 6, 7]\n",
    "[0, 1, 2, 3, 4, 5, 7]\n",
    "[0, 1, 2, 3, 4, 5, 7]\n",
    "Common index elements of the said lists:\n",
    "[1, 7]\n",
    "'''\n",
    "\n",
    "lst1= [1, 1, 3, 4, 5, 6, 7]\n",
    "lst2= [0, 1, 2, 3, 4, 5, 7]\n",
    "lst3= [0, 1, 2, 3, 4, 5, 7]\n",
    "common=[]\n",
    "\n",
    "for i in range(len(lst1)):\n",
    "    if lst1[i]==lst2[i]==lst3[i]:\n",
    "        common.append(lst1[i])\n",
    "\n",
    "print(common)"
   ]
  },
  {
   "cell_type": "code",
   "execution_count": 19,
   "id": "a181d9f4-1296-4158-b634-118e3a24687a",
   "metadata": {},
   "outputs": [
    {
     "name": "stdout",
     "output_type": "stream",
     "text": [
      "['practice', 'solution']\n"
     ]
    }
   ],
   "source": [
    "'''\n",
    "55. Write a Python program to extract specified size of strings from a give list of string values. \n",
    "Original list:\n",
    "['Python', 'list', 'exercises', 'practice', 'solution']\n",
    "length of the string to extract:\n",
    "8\n",
    "After extracting strings of specified length from the said list:\n",
    "['practice', 'solution']\n",
    "'''\n",
    "\n",
    "word=['Python', 'list', 'exercises', 'practice', 'solution']\n",
    "size=8\n",
    "lst=[]\n",
    "for w in word:\n",
    "    if len(w)==size:\n",
    "        lst.append(w)\n",
    "print(lst)"
   ]
  },
  {
   "cell_type": "code",
   "execution_count": 21,
   "id": "7649525c-091f-49b0-9b45-2f95b9557404",
   "metadata": {},
   "outputs": [
    {
     "name": "stdout",
     "output_type": "stream",
     "text": [
      "Original List:\n",
      "[1, 2, 3, 4, 5, 6, 7, 8, 9, 10]\n",
      "\n",
      "Rotate the said list in left direction by 4:\n",
      "[5, 6, 7, 8, 9, 10, 1, 2, 3, 4]\n",
      "\n",
      "Rotate the said list in left direction by 2:\n",
      "[3, 4, 5, 6, 7, 8, 9, 10, 1, 2]\n",
      "\n",
      "Rotate the said list in right direction by 4:\n",
      "[7, 8, 9, 10, 1, 2, 3, 4, 5, 6]\n",
      "\n",
      "Rotate the said list in right direction by 2:\n",
      "[9, 10, 1, 2, 3, 4, 5, 6, 7, 8]\n"
     ]
    }
   ],
   "source": [
    "'''\n",
    "56. Write a Python program to rotate a given list by specified number of items to the right or left direction. \n",
    "original List:\n",
    "[1, 2, 3, 4, 5, 6, 7, 8, 9, 10]\n",
    "Rotate the said list in left direction by 4:\n",
    "[4, 5, 6, 7, 8, 9, 10, 1, 2, 3, 4]\n",
    "Rotate the said list in left direction by 2:\n",
    "[3, 4, 5, 6, 7, 8, 9, 10, 1, 2]\n",
    "Rotate the said list in Right direction by 4:\n",
    "[8, 9, 10, 1, 2, 3, 4, 5, 6]\n",
    "Rotate the said list in Right direction by 2:\n",
    "[9, 10, 1, 2, 3, 4, 5, 6, 7, 8]\n",
    "'''\n",
    "\n",
    "# Original List\n",
    "data = [1, 2, 3, 4, 5, 6, 7, 8, 9, 10]\n",
    "print(\"Original List:\")\n",
    "print(data)\n",
    "\n",
    "# Rotate left by 4\n",
    "n = 4\n",
    "rotated_left_4 = data[n:] + data[:n]\n",
    "print(\"\\nRotate the said list in left direction by 4:\")\n",
    "print(rotated_left_4)\n",
    "\n",
    "# Rotate left by 2\n",
    "n = 2\n",
    "rotated_left_2 = data[n:] + data[:n]\n",
    "print(\"\\nRotate the said list in left direction by 2:\")\n",
    "print(rotated_left_2)\n",
    "\n",
    "# Rotate right by 4\n",
    "n = 4\n",
    "rotated_right_4 = data[-n:] + data[:-n]\n",
    "print(\"\\nRotate the said list in right direction by 4:\")\n",
    "print(rotated_right_4)\n",
    "\n",
    "# Rotate right by 2\n",
    "n = 2\n",
    "rotated_right_2 = data[-n:] + data[:-n]\n",
    "print(\"\\nRotate the said list in right direction by 2:\")\n",
    "print(rotated_right_2)"
   ]
  },
  {
   "cell_type": "code",
   "execution_count": 23,
   "id": "90d18d45-31f0-466d-8e4d-728f32b85e05",
   "metadata": {},
   "outputs": [
    {
     "name": "stdout",
     "output_type": "stream",
     "text": [
      "2\n"
     ]
    }
   ],
   "source": [
    "'''\n",
    "57. Write a Python program to find the item with maximum occurrences in a given list. \n",
    "Original list:\n",
    "[2, 3, 8, 4, 7, 9, 8, 2, 6, 5, 1, 6, 1, 2, 3, 4, 6, 9, 1, 2]\n",
    "Item with maximum occurrences of the said list:\n",
    "2\n",
    "'''\n",
    "\n",
    "lst=[2,3,8,4,7,9,8,2,6,5,1,6,1,2,3,4,6,9,1,2]\n",
    "maxcnt=0\n",
    "maxitem=None\n",
    "\n",
    "for item in lst:\n",
    "    cnt=0\n",
    "    for x in lst:\n",
    "        if x == item:\n",
    "            cnt+=1\n",
    "    if cnt>maxcnt:\n",
    "        maxcnt=cnt\n",
    "        maxitem=item\n",
    "print(maxitem)"
   ]
  },
  {
   "cell_type": "code",
   "execution_count": 25,
   "id": "76166115-46f9-4b61-9c60-a2e6f4770d1e",
   "metadata": {},
   "outputs": [
    {
     "name": "stdout",
     "output_type": "stream",
     "text": [
      "Items with specified index of the said list:\n",
      "[2, 4, 9, 2, 1]\n"
     ]
    }
   ],
   "source": [
    "'''\n",
    "58. Write a Python program to access multiple elements of specified index from a given list. \n",
    "Original list:\n",
    "[2, 3, 8, 4, 7, 9, 8, 2, 6, 5, 1, 6, 1, 2, 3, 4, 6, 9, 1, 2]\n",
    "Index list:\n",
    "[0, 3, 5, 7, 10]\n",
    "Items with specified index of the said list:\n",
    "[2, 4, 9, 2, 1]\n",
    "'''\n",
    "\n",
    "lst = [2, 3, 8, 4, 7, 9, 8, 2, 6, 5, 1, 6, 1, 2, 3, 4, 6, 9, 1, 2]\n",
    "\n",
    "index_list = [0, 3, 5, 7, 10]\n",
    "result = []\n",
    "for i in index_list:\n",
    "    result.append(lst[i])\n",
    "\n",
    "print(\"Items with specified index of the said list:\")\n",
    "print(result)"
   ]
  },
  {
   "cell_type": "code",
   "execution_count": 27,
   "id": "7a937e46",
   "metadata": {},
   "outputs": [
    {
     "name": "stdout",
     "output_type": "stream",
     "text": [
      "After removing duplicate dictionary of the said list:\n",
      "[{'Green': '#008000'}, {'Black': '#000000'}, {'Blue': '#0000FF'}]\n"
     ]
    }
   ],
   "source": [
    "'''\n",
    "59. Write a Python program to remove duplicate dictionary from a given list. \n",
    "Original list with duplicate dictionary:\n",
    "[{'Green': '#008000'}, {'Black': '#000000'}, {'Blue': '#0000FF'}, {'Green': '#008000'}]\n",
    "After removing duplicate dictionary of the said list:\n",
    "[{'Black': '#000000'}, {'Blue': '#0000FF'}, {'Green': '#008000'}]\n",
    "'''\n",
    "\n",
    "lst = [{'Green': '#008000'}, {'Black': '#000000'}, {'Blue': '#0000FF'}, {'Green': '#008000'}]\n",
    "\n",
    "unique = []\n",
    "seen = []\n",
    "\n",
    "for d in lst:\n",
    "    t = tuple(d.items())\n",
    "    if t not in seen:\n",
    "        seen.append(t)\n",
    "        unique.append(d)\n",
    "\n",
    "print(\"After removing duplicate dictionary of the said list:\")\n",
    "print(unique)"
   ]
  },
  {
   "cell_type": "code",
   "execution_count": 29,
   "id": "446cc69b",
   "metadata": {},
   "outputs": [
    {
     "name": "stdout",
     "output_type": "stream",
     "text": [
      "Original list:\n",
      "[('Greyson Fulton', 98, 99), ('Brady Kent', 97, 96), ('Wyatt Knott', 91, 94), ('Beau Turnbull', 94, 98)]\n",
      "\n",
      "Extract nth element (n = 0) from the said list of tuples:\n",
      "['Greyson Fulton', 'Brady Kent', 'Wyatt Knott', 'Beau Turnbull']\n",
      "\n",
      "Extract nth element (n = 2) from the said list of tuples:\n",
      "[99, 96, 94, 98]\n"
     ]
    }
   ],
   "source": [
    "'''\n",
    "60. Write a Python program to extract the nth element from a given list of tuples. \n",
    "Original list:\n",
    "[('Greyson Fulton', 98, 99), ('Brady Kent', 97, 96), ('Wyatt Knott', 91, 94), ('Beau Turnbull', 94, 98)]\n",
    "Extract nth element ( n = 0 ) from the said list of tuples:\n",
    "['Greyson Fulton', 'Brady Kent', 'Wyatt Knott', 'Beau Turnbull']\n",
    "Extract nth element ( n = 2 ) from the said list of tuples:\n",
    "[99, 96, 94, 98]\n",
    "'''\n",
    "\n",
    "# Original list\n",
    "data = [\n",
    "    ('Greyson Fulton', 98, 99),\n",
    "    ('Brady Kent', 97, 96),\n",
    "    ('Wyatt Knott', 91, 94),\n",
    "    ('Beau Turnbull', 94, 98)\n",
    "]\n",
    "\n",
    "print(\"Original list:\")\n",
    "print(data)\n",
    "\n",
    "# Extract nth element (n = 0)\n",
    "n = 0\n",
    "result = []\n",
    "for tup in data:\n",
    "    result.append(tup[n])\n",
    "\n",
    "print(\"\\nExtract nth element (n = 0) from the said list of tuples:\")\n",
    "print(result)\n",
    "\n",
    "# Extract nth element (n = 2)\n",
    "n = 2\n",
    "result = []\n",
    "for tup in data:\n",
    "    result.append(tup[n])\n",
    "\n",
    "print(\"\\nExtract nth element (n = 2) from the said list of tuples:\")\n",
    "print(result)\n"
   ]
  },
  {
   "cell_type": "code",
   "execution_count": 31,
   "id": "d95e2947",
   "metadata": {},
   "outputs": [
    {
     "name": "stdout",
     "output_type": "stream",
     "text": [
      "List sorted by index 2:\n",
      "[('Wyatt Knott', 91, 94), ('Brady Kent', 97, 96), ('Beau Turnbull', 94, 98), ('Greyson Fulton', 98, 99)]\n"
     ]
    }
   ],
   "source": [
    "'''\n",
    "61. Write a Python program to sort a list of lists by a given index of the inner list. \n",
    "Original list:\n",
    "[('Greyson Fulton', 98, 99), ('Brady Kent', 97, 96), ('Wyatt Knott', 91, 94), ('Beau Turnbull', 94, 98)]\n",
    "Sort the said list of lists by a given index ( Index = 0 ) of the inner list\n",
    "[('Beau Turnbull', 94, 98), ('Brady Kent', 97, 96), ('Greyson Fulton', 98, 99), ('Wyatt Knott', 91, 94)]\n",
    "Sort the said list of lists by a given index ( Index = 2 ) of the inner list\n",
    "[('Wyatt Knott', 91, 94), ('Brady Kent', 97, 96), ('Beau Turnbull', 94, 98), ('Greyson Fulton', 98, 99)]\n",
    "'''\n",
    "\n",
    "data = [('Greyson Fulton', 98, 99),('Brady Kent', 97, 96),('Wyatt Knott', 91, 94),('Beau Turnbull', 94, 98)]\n",
    "index = 2  # you can change this to 1 or 2\n",
    "\n",
    "n = len(data)\n",
    "\n",
    "for i in range(n):\n",
    "    for j in range(0, n-i-1):\n",
    "        if data[j][index] > data[j+1][index]:\n",
    "            data[j], data[j+1] = data[j+1], data[j]\n",
    "\n",
    "print(f\"List sorted by index {index}:\")\n",
    "print(data)"
   ]
  },
  {
   "cell_type": "code",
   "execution_count": 33,
   "id": "14928f0a",
   "metadata": {},
   "outputs": [
    {
     "name": "stdout",
     "output_type": "stream",
     "text": [
      "[1, 3, 5, 7, 9, 10]\n"
     ]
    }
   ],
   "source": [
    "'''\n",
    "62. Write a Python program to remove all elements from a given list present in another list. \n",
    "Original lists:\n",
    "list1: [1, 2, 3, 4, 5, 6, 7, 8, 9, 10]\n",
    "list2: [2, 4, 6, 8]\n",
    "Remove all elements from 'list1' present in 'list2:\n",
    "[1, 3, 5, 7, 9, 10]\n",
    "'''\n",
    "\n",
    "list1= [1, 2, 3, 4, 5, 6, 7, 8, 9, 10]\n",
    "list2= [2, 4, 6, 8]\n",
    "\n",
    "result=[]\n",
    "for item in list1:\n",
    "    if item not in list2:\n",
    "        result.append(item)\n",
    "print(result)"
   ]
  },
  {
   "cell_type": "code",
   "execution_count": 35,
   "id": "cda5e470-61c4-49d1-bb1a-496c464db181",
   "metadata": {},
   "outputs": [
    {
     "name": "stdout",
     "output_type": "stream",
     "text": [
      "Difference between elements (n+1th - nth) of the said list:\n",
      "[1, 1, 1, 1, 1, 1, 1, 1, 1]\n"
     ]
    }
   ],
   "source": [
    "'''\n",
    "63. Write a Python program to find the difference between elements (n+1th - nth) of a given list of numeric values. \n",
    "Original list:\n",
    "[1, 2, 3, 4, 5, 6, 7, 8, 9, 10]\n",
    "Dfference between elements (n+1th - nth) of the said list :\n",
    "[1, 1, 1, 1, 1, 1, 1, 1, 1]\n",
    "Original list:\n",
    "[2, 4, 6, 8]\n",
    "Dfference between elements (n+1th - nth) of the said list :\n",
    "[2, 2, 2]\n",
    "'''\n",
    "\n",
    "lst = [1, 2, 3, 4, 5, 6, 7, 8, 9, 10]\n",
    "diff = []\n",
    "for i in range(len(lst) - 1):\n",
    "    diff.append(lst[i + 1] - lst[i])\n",
    "\n",
    "print(\"Difference between elements (n+1th - nth) of the said list:\")\n",
    "print(diff)"
   ]
  },
  {
   "cell_type": "code",
   "execution_count": 37,
   "id": "105e1606",
   "metadata": {},
   "outputs": [
    {
     "name": "stdin",
     "output_type": "stream",
     "text": [
      "Enter the string: ack\n"
     ]
    },
    {
     "name": "stdout",
     "output_type": "stream",
     "text": [
      "Check if a substring presents in the said list of string values:\n",
      "True\n"
     ]
    }
   ],
   "source": [
    "'''\n",
    "64. Write a Python program to check if a substring presents in a given list of string values. \n",
    "Original list:\n",
    "['red', 'black', 'white', 'green', 'orange']\n",
    "Substring to search:\n",
    "ack\n",
    "Check if a substring presents in the said list of string values:\n",
    "True\n",
    "Substring to search:\n",
    "abc\n",
    "Check if a substring presents in the said list of string values:\n",
    "False\n",
    "'''\n",
    "\n",
    "colors = ['red', 'black', 'white', 'green', 'orange']\n",
    "\n",
    "substring = input(\"Enter the string:\")\n",
    "\n",
    "found = False\n",
    "for color in colors:\n",
    "    if substring in color:\n",
    "        found = True\n",
    "        break\n",
    "\n",
    "print(\"Check if a substring presents in the said list of string values:\")\n",
    "print(found)"
   ]
  },
  {
   "cell_type": "code",
   "execution_count": 39,
   "id": "99c8c098",
   "metadata": {},
   "outputs": [
    {
     "name": "stdout",
     "output_type": "stream",
     "text": [
      "List with alternate elements from the said list:\n",
      "['red', 'white', 'orange']\n"
     ]
    }
   ],
   "source": [
    "'''\n",
    "65. Write a Python program to create a list taking alternate elements from a given list. \n",
    "Original list:\n",
    "['red', 'black', 'white', 'green', 'orange']\n",
    "List with alternate elements from the said list:\n",
    "['red', 'white', 'orange']\n",
    "Original list:\n",
    "[2, 0, 3, 4, 0, 2, 8, 3, 4, 2]\n",
    "List with alternate elements from the said list:\n",
    "[2, 3, 0, 8, 4]\n",
    "'''\n",
    "\n",
    "colors = ['red', 'black', 'white', 'green', 'orange']\n",
    "\n",
    "alternate_list = []\n",
    "for i in range(0, len(colors), 2):\n",
    "    alternate_list.append(colors[i])\n",
    "\n",
    "print(\"List with alternate elements from the said list:\")\n",
    "print(alternate_list)"
   ]
  },
  {
   "cell_type": "code",
   "execution_count": 41,
   "id": "4ccf7bfc",
   "metadata": {},
   "outputs": [
    {
     "name": "stdout",
     "output_type": "stream",
     "text": [
      "Reverse each list in the said list of lists:\n",
      "[[4, 3, 2, 1], [8, 7, 6, 5], [12, 11, 10, 9], [16, 15, 14, 13]]\n"
     ]
    }
   ],
   "source": [
    "'''\n",
    "66. Write a Python program to reverse each list in a given list of lists. \n",
    "Original list of lists:\n",
    "[[1, 2, 3, 4], [5, 6, 7, 8], [9, 10, 11, 12], [13, 14, 15, 16]]\n",
    "Reverse each list in the said list of lists:\n",
    "[[4, 3, 2, 1], [8, 7, 6, 5], [12, 11, 10, 9], [16, 15, 14, 13]]\n",
    "'''\n",
    "\n",
    "lists = [[1, 2, 3, 4], [5, 6, 7, 8], [9, 10, 11, 12], [13, 14, 15, 16]]\n",
    "\n",
    "for i in range(len(lists)):\n",
    "    lists[i] = lists[i][::-1]  # slicing to reverse\n",
    "\n",
    "print(\"Reverse each list in the said list of lists:\")\n",
    "print(lists)"
   ]
  },
  {
   "cell_type": "code",
   "execution_count": 43,
   "id": "e90605f2",
   "metadata": {},
   "outputs": [
    {
     "name": "stdout",
     "output_type": "stream",
     "text": [
      "Number of same pair of the said three given lists:\n",
      "3\n"
     ]
    }
   ],
   "source": [
    "'''\n",
    "67. Write a Python program to count the same pair in three given lists. \n",
    "Original lists:\n",
    "[1, 2, 3, 4, 5, 6, 7, 8]\n",
    "[2, 2, 3, 1, 2, 6, 7, 9]\n",
    "[2, 1, 3, 1, 2, 6, 7, 9]\n",
    "Number of same pair of the said three given lists:\n",
    "3\n",
    "'''\n",
    "\n",
    "list1 = [1, 2, 3, 4, 5, 6, 7, 8]\n",
    "list2 = [2, 2, 3, 1, 2, 6, 7, 9]\n",
    "list3 = [2, 1, 3, 1, 2, 6, 7, 9]\n",
    "\n",
    "count = 0\n",
    "for i in range(len(list1)):\n",
    "    if list1[i] == list2[i] == list3[i]:\n",
    "        count += 1\n",
    "\n",
    "print(\"Number of same pair of the said three given lists:\")\n",
    "print(count)"
   ]
  },
  {
   "cell_type": "code",
   "execution_count": 45,
   "id": "3a4926b3",
   "metadata": {},
   "outputs": [
    {
     "name": "stdout",
     "output_type": "stream",
     "text": [
      "Test common elements between color1 and color2 are in same order?\n",
      "True\n"
     ]
    }
   ],
   "source": [
    "'''\n",
    "68. Write a Python program to check common elements between two given list are in same order or not. \n",
    "Original lists:\n",
    "['red', 'green', 'black', 'orange']\n",
    "['red', 'pink', 'green', 'white', 'black']\n",
    "['white', 'orange', 'pink', 'black']\n",
    "Test common elements between color1 and color2 are in same order?\n",
    "True\n",
    "Test common elements between color1 and color3 are in same order?\n",
    "False\n",
    "Test common elements between color2 and color3 are in same order?\n",
    "False\n",
    "'''\n",
    "\n",
    "color1 = ['red', 'green', 'black', 'orange']\n",
    "color2 = ['red', 'pink', 'green', 'white', 'black']\n",
    "\n",
    "common = []\n",
    "for item in color1:\n",
    "    if item in color2:\n",
    "        common.append(item)\n",
    "\n",
    "indices = []\n",
    "for item in common:\n",
    "    indices.append(color2.index(item))\n",
    "\n",
    "in_same_order = True\n",
    "for i in range(len(indices) - 1):\n",
    "    if indices[i] > indices[i + 1]:\n",
    "        in_same_order = False\n",
    "        break\n",
    "\n",
    "print(\"Test common elements between color1 and color2 are in same order?\")\n",
    "print(in_same_order)"
   ]
  },
  {
   "cell_type": "code",
   "execution_count": 47,
   "id": "f5195326-88ab-4001-a185-5a507f3547b7",
   "metadata": {},
   "outputs": [
    {
     "name": "stdout",
     "output_type": "stream",
     "text": [
      "['Python', 'Exercises', 'Practice', 'Solution']\n"
     ]
    }
   ],
   "source": [
    "'''\n",
    "69. Write a Python program to remove duplicate words from a given list of strings. \n",
    "Original String:\n",
    "['Python', 'Exercises', 'Practice', 'Solution', 'Exercises']\n",
    "After removing duplicate words from the said list of strings:\n",
    "['Python', 'Exercises', 'Practice', 'Solution']\n",
    "'''\n",
    "\n",
    "lst=['Python', 'Exercises', 'Practice', 'Solution', 'Exercises']\n",
    "unique=[]\n",
    "for word in lst:\n",
    "    if word not in unique:\n",
    "        unique.append(word)\n",
    "print(unique)"
   ]
  },
  {
   "cell_type": "code",
   "execution_count": 49,
   "id": "986be2fb",
   "metadata": {},
   "outputs": [
    {
     "name": "stdout",
     "output_type": "stream",
     "text": [
      "Sort the said mixed list of integers and strings:\n",
      "[1, 10, 12, 19, 'blue', 'green', 'green', 'red', 'white']\n"
     ]
    }
   ],
   "source": [
    "'''\n",
    "70. Write a Python program to sort a given mixed list of integers and strings. Numbers must be sorted before strings. \n",
    "Original list:\n",
    "[19, 'red', 12, 'green', 'blue', 10, 'white', 'green', 1]\n",
    "Sort the said mixed list of integers and strings:\n",
    "[1, 10, 12, 19, 'blue', 'green', 'green', 'red', 'white']\n",
    "'''\n",
    "\n",
    "lst= [19, 'red', 12, 'green', 'blue', 10, 'white', 'green', 1]\n",
    "\n",
    "# Separate numbers and strings\n",
    "numbers = []\n",
    "strings = []\n",
    "\n",
    "for item in lst:\n",
    "    if type(item) == int:\n",
    "        numbers.append(item)\n",
    "    else:\n",
    "        strings.append(item)\n",
    "\n",
    "for i in range(len(numbers)):\n",
    "    for j in range(0, len(numbers)-i-1):\n",
    "        if numbers[j] > numbers[j+1]:\n",
    "            numbers[j], numbers[j+1] = numbers[j+1], numbers[j]\n",
    "\n",
    "for i in range(len(strings)):\n",
    "    for j in range(0, len(strings)-i-1):\n",
    "        if strings[j] > strings[j+1]:\n",
    "            strings[j], strings[j+1] = strings[j+1], strings[j]\n",
    "\n",
    "# Combine numbers and strings\n",
    "sorted_list = numbers + strings\n",
    "\n",
    "print(\"Sort the said mixed list of integers and strings:\")\n",
    "print(sorted_list)"
   ]
  },
  {
   "cell_type": "code",
   "execution_count": 51,
   "id": "db17af03",
   "metadata": {},
   "outputs": [
    {
     "name": "stdout",
     "output_type": "stream",
     "text": [
      "Sort the said list of strings(numbers) numerically:\n",
      "[-500, -12, 0, 4, 7, 12, 45, 100, 200]\n"
     ]
    }
   ],
   "source": [
    "'''\n",
    "71. Write a Python program to sort a given list of strings(numbers) numerically. \n",
    "Original list:\n",
    "['4', '12', '45', '7', '0', '100', '200', '-12', '-500']\n",
    "Sort the said list of strings(numbers) numerically:\n",
    "[-500, -12, 0, 4, 7, 12, 45, 100, 200]\n",
    "'''\n",
    "\n",
    "num = ['4', '12', '45', '7', '0', '100', '200', '-12', '-500']\n",
    "\n",
    "# Convert strings to integers\n",
    "numbers = []\n",
    "for s in num:\n",
    "    numbers.append(int(s))\n",
    "\n",
    "# Sort numbers manually (bubble sort)\n",
    "for i in range(len(numbers)):\n",
    "    for j in range(0, len(numbers)-i-1):\n",
    "        if numbers[j] > numbers[j+1]:\n",
    "            numbers[j], numbers[j+1] = numbers[j+1], numbers[j]\n",
    "\n",
    "print(\"Sort the said list of strings(numbers) numerically:\")\n",
    "print(numbers)"
   ]
  },
  {
   "cell_type": "code",
   "execution_count": 53,
   "id": "e3554af1",
   "metadata": {},
   "outputs": [
    {
     "name": "stdin",
     "output_type": "stream",
     "text": [
      "Enter the index to remove: 0\n"
     ]
    },
    {
     "name": "stdout",
     "output_type": "stream",
     "text": [
      "Remove 1st list from the said given list of lists:\n",
      "[['Maroon', 'Yellow', 'Olive'], ['#800000', '#FFFF00', '#808000'], ['rgb(128,0,0)', 'rgb(255,255,0)', 'rgb(128,128,0)']]\n"
     ]
    }
   ],
   "source": [
    "'''\n",
    "72. Write a Python program to remove the specific item from a given list of lists. \n",
    "Original list of lists:\n",
    "[['Red', 'Maroon', 'Yellow', 'Olive'], ['#FF0000', '#800000', '#FFFF00', '#808000'], ['rgb(255,0,0)', 'rgb(128,0,0)', 'rgb(255,255,0)', 'rgb(128,128,0)']]\n",
    "Remove 1st list from the saod given list of lists:\n",
    "[['Maroon', 'Yellow', 'Olive'], ['#800000', '#FFFF00', '#808000'], ['rgb(128,0,0)', 'rgb(255,255,0)', 'rgb(128,128,0)']]\n",
    "Remove 2nd list from the saod given list of lists:\n",
    "[['Red', 'Yellow', 'Olive'], ['#FF0000', '#FFFF00', '#808000'], ['rgb(255,0,0)', 'rgb(255,255,0)', 'rgb(128,128,0)']]\n",
    "Remove 4th list from the saod given list of lists:\n",
    "[['Red', 'Maroon', 'Yellow'], ['#FF0000', '#800000', '#FFFF00'], ['rgb(255,0,0)', 'rgb(128,0,0)', 'rgb(255,255,0)']]\n",
    "'''\n",
    "\n",
    "lists = [['Red', 'Maroon', 'Yellow', 'Olive'],['#FF0000', '#800000', '#FFFF00', '#808000'],['rgb(255,0,0)', 'rgb(128,0,0)', 'rgb(255,255,0)', 'rgb(128,128,0)']]\n",
    "\n",
    "index_to_remove = int(input(\"Enter the index to remove:\"))  # 1st element\n",
    "\n",
    "for sublist in lists:\n",
    "    if len(sublist) > index_to_remove:\n",
    "        sublist.pop(index_to_remove)\n",
    "\n",
    "print(\"Remove 1st list from the said given list of lists:\")\n",
    "print(lists)"
   ]
  },
  {
   "cell_type": "code",
   "execution_count": 55,
   "id": "6240d47d-815d-4560-a92c-851f506e78b7",
   "metadata": {},
   "outputs": [
    {
     "name": "stdout",
     "output_type": "stream",
     "text": [
      "Interleave two given list into another list randomly:\n",
      "[1, 2, 7, 4, 8, 3, 8, 3, 9, 4, 3, 8, 9, 7]\n"
     ]
    }
   ],
   "source": [
    "'''\n",
    "73. Write a Python program to interleave two given list into another list randomly. \n",
    "Original lists:\n",
    "[1, 2, 7, 8, 3, 7]\n",
    "[4, 3, 8, 9, 4, 3, 8, 9]\n",
    "Interleave two given list into another list randomly:\n",
    "[4, 1, 2, 3, 8, 9, 4, 3, 7, 8, 9, 8, 3, 7]\n",
    "'''\n",
    "\n",
    "import random\n",
    "list1 = [1, 2, 7, 8, 3, 7]\n",
    "list2 = [4, 3, 8, 9, 4, 3, 8, 9]\n",
    "\n",
    "l1 = list1[:]\n",
    "l2 = list2[:]\n",
    "\n",
    "result = []\n",
    "\n",
    "while l1 or l2:\n",
    "    if l1 and (not l2 or random.choice([True, False])):\n",
    "        result.append(l1.pop(0))\n",
    "    elif l2:\n",
    "        result.append(l2.pop(0))\n",
    "\n",
    "print(\"Interleave two given list into another list randomly:\")\n",
    "print(result)"
   ]
  },
  {
   "cell_type": "code",
   "execution_count": 57,
   "id": "0d2f099c-29d3-4a11-b062-8170c0c66288",
   "metadata": {},
   "outputs": [
    {
     "name": "stdin",
     "output_type": "stream",
     "text": [
      "Enter words to remove, separated by space:  white orange\n"
     ]
    },
    {
     "name": "stdout",
     "output_type": "stream",
     "text": [
      "After removing the specified words from the said list:\n",
      "['red', 'green', 'blue', 'black']\n"
     ]
    }
   ],
   "source": [
    "'''\n",
    "74. Write a Python program to remove specific words from a given list. \n",
    "Original list:\n",
    "['red', 'green', 'blue', 'white', 'black', 'orange']\n",
    "Remove words:\n",
    "['white', 'orange']\n",
    "After removing the specified words from the said list:\n",
    "['red', 'green', 'blue', 'black']\n",
    "'''\n",
    "\n",
    "words = ['red', 'green', 'blue', 'white', 'black', 'orange']\n",
    "\n",
    "remove_words = input(\"Enter words to remove, separated by space: \").split()\n",
    "\n",
    "result = []\n",
    "for word in words:\n",
    "    if word not in remove_words:\n",
    "        result.append(word)\n",
    "\n",
    "print(\"After removing the specified words from the said list:\")\n",
    "print(result)"
   ]
  },
  {
   "cell_type": "code",
   "execution_count": 59,
   "id": "29e5d1b5",
   "metadata": {},
   "outputs": [
    {
     "name": "stdout",
     "output_type": "stream",
     "text": [
      "All possible combinations of the said list's elements:\n",
      "[[], ['orange'], ['red'], ['orange', 'red'], ['green'], ['orange', 'green'], ['red', 'green'], ['orange', 'red', 'green'], ['blue'], ['orange', 'blue'], ['red', 'blue'], ['orange', 'red', 'blue'], ['green', 'blue'], ['orange', 'green', 'blue'], ['red', 'green', 'blue'], ['orange', 'red', 'green', 'blue']]\n"
     ]
    }
   ],
   "source": [
    "'''\n",
    "75. Write a Python program to get all possible combinations of the elements of a given list. \n",
    "Original list:\n",
    "['orange', 'red', 'green', 'blue']\n",
    "All possible combinations of the said list's elements:\n",
    "[[], ['orange'], ['red'], ['red', 'orange'], ['green'], ['green', 'orange'], ['green', 'red'], ['green', 'red', 'orange'], ['blue'], ['blue', 'orange'], ['blue', 'red'], ['blue', 'red', 'orange'], ['blue', 'green'], ['blue', 'green', 'orange'], ['blue', 'green', 'red'], ['blue', 'green', 'red', 'orange']]\n",
    "'''\n",
    "\n",
    "lst = ['orange', 'red', 'green', 'blue']\n",
    "\n",
    "# Start with an empty list of combinations\n",
    "combinations = [[]]\n",
    "\n",
    "# Loop through each element in the list\n",
    "for elem in lst:\n",
    "    # For each existing combination, add a new combination including the current element\n",
    "    new_combinations = []\n",
    "    for combo in combinations:\n",
    "        new_combinations.append(combo + [elem])\n",
    "    combinations.extend(new_combinations)  # Add the new combinations to the main list\n",
    "\n",
    "print(\"All possible combinations of the said list's elements:\")\n",
    "print(combinations)"
   ]
  },
  {
   "cell_type": "code",
   "execution_count": 61,
   "id": "fe0ee7d4",
   "metadata": {},
   "outputs": [
    {
     "name": "stdout",
     "output_type": "stream",
     "text": [
      "Add said two lists from left:\n",
      "[5, 7, 6, 7, 5, 8]\n"
     ]
    }
   ],
   "source": [
    "'''\n",
    "76. Write a Python program to add two given lists of different lengths, start from left. \n",
    "Original lists:\n",
    "[2, 4, 7, 0, 5, 8]\n",
    "[3, 3, -1, 7]\n",
    "Add said two lists from left:\n",
    "[5, 7, 6, 7, 5, 8]\n",
    "Original lists:\n",
    "[1, 2, 3, 4, 5, 6]\n",
    "[2, 4, -3]\n",
    "Add said two lists from left:\n",
    "[3, 6, 0, 4, 5, 6]\n",
    "'''\n",
    "\n",
    "list1 = [2, 4, 7, 0, 5, 8]\n",
    "list2 = [3, 3, -1, 7]\n",
    "\n",
    "result = []\n",
    "\n",
    "min_len = min(len(list1), len(list2))\n",
    "\n",
    "for i in range(min_len):\n",
    "    result.append(list1[i] + list2[i])\n",
    "\n",
    "if len(list1) > min_len:\n",
    "    result.extend(list1[min_len:])\n",
    "elif len(list2) > min_len:\n",
    "    result.extend(list2[min_len:])\n",
    "\n",
    "print(\"Add said two lists from left:\")\n",
    "print(result)"
   ]
  },
  {
   "cell_type": "code",
   "execution_count": 63,
   "id": "9ec2f58e",
   "metadata": {},
   "outputs": [
    {
     "name": "stdout",
     "output_type": "stream",
     "text": [
      "Add said two lists from left:\n",
      "[5, 7, 6, 7, 5, 8]\n"
     ]
    }
   ],
   "source": [
    "'''\n",
    "77. Write a Python program to add two given lists of different lengths, start from right. \n",
    "Original lists:\n",
    "[2, 4, 7, 0, 5, 8]\n",
    "[3, 3, -1, 7]\n",
    "Add said two lists from left:\n",
    "[2, 4, 10, 3, 4, 15]\n",
    "Original lists:\n",
    "[1, 2, 3, 4, 5, 6]\n",
    "[2, 4, -3]\n",
    "Add said two lists from left:\n",
    "[1, 2, 3, 6, 9, 3]\n",
    "'''\n",
    "\n",
    "list1 = [2, 4, 7, 0, 5, 8]\n",
    "list2 = [3, 3, -1, 7]\n",
    "\n",
    "result = []\n",
    "\n",
    "min_len = min(len(list1), len(list2))\n",
    "\n",
    "for i in range(min_len):\n",
    "    result.append(list1[i] + list2[i])\n",
    "\n",
    "if len(list1) > min_len:\n",
    "    result.extend(list1[min_len:])\n",
    "elif len(list2) > min_len:\n",
    "    result.extend(list2[min_len:])\n",
    "\n",
    "print(\"Add said two lists from left:\")\n",
    "print(result)"
   ]
  },
  {
   "cell_type": "code",
   "execution_count": 65,
   "id": "34b4c603",
   "metadata": {},
   "outputs": [
    {
     "name": "stdout",
     "output_type": "stream",
     "text": [
      "Interleave said lists of different lengths:\n",
      "[2, 2, 0, 3, 4, 5, 1, 3, 7, 8, -1, 0, 7, 5, 8]\n"
     ]
    }
   ],
   "source": [
    "'''\n",
    "78. Write a Python program to interleave multiple given lists of different lengths. \n",
    "Original lists:\n",
    "[2, 4, 7, 0, 5, 8]\n",
    "[2, 5, 8]\n",
    "[0, 1]\n",
    "[3, 3, -1, 7]\n",
    "Interleave said lists of different lengths:\n",
    "[2, 2, 0, 3, 4, 5, 1, 3, 7, 8, -1, 0, 7, 5, 8]\n",
    "'''\n",
    "\n",
    "list1 = [2, 4, 7, 0, 5, 8]\n",
    "list2 = [2, 5, 8]\n",
    "list3 = [0, 1]\n",
    "list4 = [3, 3, -1, 7]\n",
    "\n",
    "lists = [list1, list2, list3, list4]\n",
    "\n",
    "# Result list\n",
    "result = []\n",
    "\n",
    "# Keep track of current index for each list\n",
    "indices = [0, 0, 0, 0]  # one index per list\n",
    "\n",
    "# Loop until all lists are exhausted\n",
    "while True:\n",
    "    done = True\n",
    "    for i in range(len(lists)):  # simple index loop instead of enumerate\n",
    "        if indices[i] < len(lists[i]):\n",
    "            result.append(lists[i][indices[i]])\n",
    "            indices[i] += 1\n",
    "            done = False\n",
    "    if done:\n",
    "        break\n",
    "\n",
    "print(\"Interleave said lists of different lengths:\")\n",
    "print(result)"
   ]
  },
  {
   "cell_type": "code",
   "execution_count": 67,
   "id": "b75ed1fb",
   "metadata": {},
   "outputs": [
    {
     "name": "stdin",
     "output_type": "stream",
     "text": [
      "Enter the numbers to be remove 4\n"
     ]
    },
    {
     "name": "stdout",
     "output_type": "stream",
     "text": [
      "After removing the first 4 even numbers:\n",
      "[3, 7, 5, 7, 3, 3, 5, 9, 3, 4, 9, 8, 5]\n"
     ]
    }
   ],
   "source": [
    "'''\n",
    "79. Write a Python program to remove first specified number of elements from a given list satisfying a condition. \n",
    "Remove the first 4 number of even numbers from the following list:\n",
    "[3,10,4,7,5,7,8,3,3,4,5,9,3,4,9,8,5]\n",
    "Output:\n",
    "[3, 7, 5, 7, 3, 3, 5, 9, 3, 4, 9, 8, 5]\n",
    "Original list:\n",
    "[3, 10, 4, 7, 5, 7, 8, 3, 3, 4, 5, 9, 3, 4, 9, 8, 5]\n",
    "Remove first 4 even numbers from the said list:\n",
    "[3, 7, 5, 7, 3, 3, 5, 9, 3, 4, 9, 8, 5]\n",
    "'''\n",
    "\n",
    "numbers = [3, 10, 4, 7, 5, 7, 8, 3, 3, 4, 5, 9, 3, 4, 9, 8, 5]\n",
    "\n",
    "n =int(input(\"Enter the numbers to be remove\"))\n",
    "\n",
    "result = []\n",
    "\n",
    "count = 0\n",
    "\n",
    "for num in numbers:\n",
    "    if num % 2 == 0 and count < n: \n",
    "        count += 1\n",
    "        continue \n",
    "    result.append(num)\n",
    "\n",
    "print(f\"After removing the first {n} even numbers:\")\n",
    "print(result)"
   ]
  },
  {
   "cell_type": "code",
   "execution_count": 69,
   "id": "dd915fc1",
   "metadata": {},
   "outputs": [
    {
     "name": "stdin",
     "output_type": "stream",
     "text": [
      "Enter the item to find the last occurrence of:  f\n"
     ]
    },
    {
     "name": "stdout",
     "output_type": "stream",
     "text": [
      "The last occurrence of 'f' is at index 7\n"
     ]
    }
   ],
   "source": [
    "'''\n",
    "80. Write a Python program to find the last occurrence of a specified item in a given list. \n",
    "Original list:\n",
    "['s', 'd', 'f', 's', 'd', 'f', 's', 'f', 'k', 'o', 'p', 'i', 'w', 'e', 'k', 'c']\n",
    "Last occurrence of f in the said list:\n",
    "7\n",
    "Last occurrence of c in the said list:\n",
    "15\n",
    "Last occurrence of k in the said list:\n",
    "14\n",
    "Last occurrence of w in the said list:\n",
    "12\n",
    "'''\n",
    "\n",
    "lst = ['s', 'd', 'f', 's', 'd', 'f', 's', 'f', 'k', 'o', 'p', 'i', 'w', 'e','k','c']\n",
    "\n",
    "item = input(\"Enter the item to find the last occurrence of: \")\n",
    "\n",
    "last_index = -1\n",
    "\n",
    "for i in range(len(lst)):\n",
    "    if lst[i] == item:\n",
    "        last_index = i\n",
    "\n",
    "if last_index != -1:\n",
    "    print(f\"The last occurrence of '{item}' is at index {last_index}\")\n",
    "else:\n",
    "    print(f\"'{item}' is not found in the list\")"
   ]
  },
  {
   "cell_type": "code",
   "execution_count": 71,
   "id": "aa38e960",
   "metadata": {},
   "outputs": [
    {
     "name": "stdin",
     "output_type": "stream",
     "text": [
      "Enter the value to compare :  73\n"
     ]
    },
    {
     "name": "stdout",
     "output_type": "stream",
     "text": [
      "The index of the first element greater than 73 is 4\n"
     ]
    }
   ],
   "source": [
    "'''\n",
    "81. Write a Python program to get the index of the first element which is greater than a specified element. \n",
    "Original list:\n",
    "[12, 45, 23, 67, 78, 90, 100, 76, 38, 62, 73, 29, 83]\n",
    "Index of the first element which is greater than 73 in the said list:\n",
    "4\n",
    "Index of the first element which is greater than 21 in the said list:\n",
    "1\n",
    "Index of the first element which is greater than 80 in the said list:\n",
    "5\n",
    "Index of the first element which is greater than 55 in the said list:\n",
    "3\n",
    "'''\n",
    "\n",
    "lst = [12, 45, 23, 67, 78, 90, 100, 76, 38, 62, 73, 29, 83]\n",
    "\n",
    "value = int(input(\"Enter the value to compare : \"))\n",
    "\n",
    "found_index = -1\n",
    "\n",
    "for i in range(len(lst)):\n",
    "    if lst[i] > value:\n",
    "        found_index = i\n",
    "        break\n",
    "\n",
    "if found_index != -1:\n",
    "    print(f\"The index of the first element greater than {value} is {found_index}\")\n",
    "else:\n",
    "    print(f\"No element is greater than {value}\")"
   ]
  },
  {
   "cell_type": "code",
   "execution_count": 73,
   "id": "5759ff41",
   "metadata": {},
   "outputs": [
    {
     "name": "stdin",
     "output_type": "stream",
     "text": [
      "Enter the value to filter items greater than:  45\n"
     ]
    },
    {
     "name": "stdout",
     "output_type": "stream",
     "text": [
      "Items greater than 45 are:\n",
      "[67, 78, 90, 100, 76, 62, 73, 83]\n"
     ]
    }
   ],
   "source": [
    "'''\n",
    "82. Write a Python program to get the items from a given list with specific condition. \n",
    "Original list:\n",
    "[12, 45, 23, 67, 78, 90, 45, 32, 100, 76, 38, 62, 73, 29, 83]\n",
    "Number of Items of the said list which are even and greater than 45\n",
    "5\n",
    "'''\n",
    "\n",
    "lst = [12, 45, 23, 67, 78, 90, 45, 32, 100, 76, 38, 62, 73, 29, 83]\n",
    "\n",
    "value = int(input(\"Enter the value to filter items greater than: \"))\n",
    "\n",
    "result = []\n",
    "\n",
    "for item in lst:\n",
    "    if item > value: \n",
    "        result.append(item)\n",
    "\n",
    "print(f\"Items greater than {value} are:\")\n",
    "print(result)"
   ]
  },
  {
   "cell_type": "code",
   "execution_count": 75,
   "id": "b09183be",
   "metadata": {},
   "outputs": [
    {
     "name": "stdout",
     "output_type": "stream",
     "text": [
      "Original list:\n",
      "[12, 45, 23, 67, 78, 90, 45, 32, 100, 76, 38, 62, 73, 29, 83]\n"
     ]
    },
    {
     "name": "stdin",
     "output_type": "stream",
     "text": [
      "Enter the chunk size:  3\n"
     ]
    },
    {
     "name": "stdout",
     "output_type": "stream",
     "text": [
      "Split the said list into equal size 3:\n",
      "[[12, 45, 23], [67, 78, 90], [45, 32, 100], [76, 38, 62], [73, 29, 83]]\n"
     ]
    }
   ],
   "source": [
    "'''\n",
    "83. Write a Python program to split a given list into specified sized chunks. \n",
    "Original list:\n",
    "[12, 45, 23, 67, 78, 90, 45, 32, 100, 76, 38, 62, 73, 29, 83]\n",
    "Split the said list into equal size 3\n",
    "[[12, 45, 23], [67, 78, 90], [45, 32, 100], [76, 38, 62], [73, 29, 83]]\n",
    "Split the said list into equal size 4\n",
    "[[12, 45, 23, 67], [78, 90, 45, 32], [100, 76, 38, 62], [73, 29, 83]]\n",
    "Split the said list into equal size 5\n",
    "[[12, 45, 23, 67, 78], [90, 45, 32, 100, 76], [38, 62, 73, 29, 83]]\n",
    "'''\n",
    "\n",
    "lst= [12, 45, 23, 67, 78, 90, 45, 32, 100, 76, 38, 62, 73, 29, 83]\n",
    "\n",
    "print(\"Original list:\")\n",
    "print(lst)\n",
    "\n",
    "chunk_size = int(input(\"Enter the chunk size: \"))\n",
    "\n",
    "result = [lst[i:i + chunk_size] for i in range(0, len(lst), chunk_size)]\n",
    "\n",
    "print(f\"Split the said list into equal size {chunk_size}:\")\n",
    "print(result)"
   ]
  },
  {
   "cell_type": "code",
   "execution_count": 77,
   "id": "ec4a164d",
   "metadata": {},
   "outputs": [
    {
     "name": "stdout",
     "output_type": "stream",
     "text": [
      "Original list:\n",
      "[12, 0, None, 23, None, -55, 234, 89, None, 0, 6, -12]\n",
      "Remove None value from the said list:\n",
      "[12, 0, 23, -55, 234, 89, 0, 6, -12]\n"
     ]
    }
   ],
   "source": [
    "'''\n",
    "84. Write a Python program to remove None value from a given list. \n",
    "Original list:\n",
    "[12, 0, None, 23, None, -55, 234, 89, None, 0, 6, -12]\n",
    "Remove None value from the said list:\n",
    "[12, 0, 23, -55, 234, 89, 0, 6, -12]\n",
    "'''\n",
    "\n",
    "my_list = [12, 0, None, 23, None, -55, 234, 89, None, 0, 6, -12]\n",
    "\n",
    "print(\"Original list:\")\n",
    "print(my_list)\n",
    "\n",
    "# Remove None values\n",
    "result = [x for x in my_list if x is not None]\n",
    "\n",
    "print(\"Remove None value from the said list:\")\n",
    "print(result)"
   ]
  },
  {
   "cell_type": "code",
   "execution_count": 79,
   "id": "52b14d7e",
   "metadata": {},
   "outputs": [
    {
     "name": "stdout",
     "output_type": "stream",
     "text": [
      "Original list of strings:\n",
      "['Red', 'Maroon', 'Yellow', 'Olive']\n",
      "Convert the said list of strings into list of lists:\n",
      "[['R', 'e', 'd'], ['M', 'a', 'r', 'o', 'o', 'n'], ['Y', 'e', 'l', 'l', 'o', 'w'], ['O', 'l', 'i', 'v', 'e']]\n"
     ]
    }
   ],
   "source": [
    "'''\n",
    "85. Write a Python program to convert a given list of strings into list of lists. \n",
    "Original list of strings:\n",
    "['Red', 'Maroon', 'Yellow', 'Olive']\n",
    "Convert the said list of strings into list of lists:\n",
    "[['R', 'e', 'd'], ['M', 'a', 'r', 'o', 'o', 'n'], ['Y', 'e', 'l', 'l', 'o', 'w'], ['O', 'l', 'i', 'v', 'e']]\n",
    "'''\n",
    "\n",
    "my_list = ['Red', 'Maroon', 'Yellow', 'Olive']\n",
    "\n",
    "print(\"Original list of strings:\")\n",
    "print(my_list)\n",
    "\n",
    "result = [list(word) for word in my_list]\n",
    "\n",
    "print(\"Convert the said list of strings into list of lists:\")\n",
    "print(result)"
   ]
  },
  {
   "cell_type": "code",
   "execution_count": 81,
   "id": "79aea293",
   "metadata": {},
   "outputs": [
    {
     "name": "stdout",
     "output_type": "stream",
     "text": [
      "Original list:\n",
      "['red', 'white', 'a', 'b', 'black', 'f']\n",
      "Convert the said list of strings and characters to a single list of characters:\n",
      "['r', 'e', 'd', 'w', 'h', 'i', 't', 'e', 'a', 'b', 'b', 'l', 'a', 'c', 'k', 'f']\n"
     ]
    }
   ],
   "source": [
    "'''\n",
    "86. Write a Python program to convert a given list of strings and characters to a single list of characters. \n",
    "Original list:\n",
    "['red', 'white', 'a', 'b', 'black', 'f']\n",
    "Convert the said list of strings and characters to a single list of characters:\n",
    "['r', 'e', 'd', 'w', 'h', 'i', 't', 'e', 'a', 'b', 'b', 'l', 'a', 'c', 'k', 'f']\n",
    "'''\n",
    "\n",
    "my_list = ['red', 'white', 'a', 'b', 'black', 'f']\n",
    "\n",
    "print(\"Original list:\")\n",
    "print(my_list)\n",
    "\n",
    "result = [ch for word in my_list for ch in word]\n",
    "\n",
    "print(\"Convert the said list of strings and characters to a single list of characters:\")\n",
    "print(result)"
   ]
  },
  {
   "cell_type": "code",
   "execution_count": 83,
   "id": "24ca720a",
   "metadata": {},
   "outputs": [
    {
     "name": "stdout",
     "output_type": "stream",
     "text": [
      "Original list:\n",
      "['a', 'b', 'c', 'd', 'e', 'f', 'g']\n"
     ]
    },
    {
     "name": "stdin",
     "output_type": "stream",
     "text": [
      "Enter the start index:  2\n",
      "Enter the end index:  4\n"
     ]
    },
    {
     "name": "stdout",
     "output_type": "stream",
     "text": [
      "Merge items from 2 to 4 in the said List:\n",
      "['a', 'b', 'cd', 'e', 'f', 'g']\n"
     ]
    }
   ],
   "source": [
    "'''\n",
    "87. Write a Python program to merge some list items in given list using index value. \n",
    "Original lists:\n",
    "['a', 'b', 'c', 'd', 'e', 'f', 'g']\n",
    "Merge items from 2 to 4 in the said List:\n",
    "['a', 'b', 'cd', 'e', 'f', 'g']\n",
    "Merge items from 3 to 7 in the said List:\n",
    "['a', 'b', 'c', 'defg']\n",
    "'''\n",
    "\n",
    "my_list = ['a', 'b', 'c', 'd', 'e', 'f', 'g']\n",
    "\n",
    "print(\"Original list:\")\n",
    "print(my_list)\n",
    "\n",
    "start = int(input(\"Enter the start index: \"))\n",
    "end = int(input(\"Enter the end index: \"))\n",
    "\n",
    "my_list[start:end] = [''.join(my_list[start:end])]\n",
    "\n",
    "print(f\"Merge items from {start} to {end} in the said List:\")\n",
    "print(my_list)"
   ]
  },
  {
   "cell_type": "code",
   "execution_count": 85,
   "id": "b304b78a",
   "metadata": {},
   "outputs": [
    {
     "name": "stdout",
     "output_type": "stream",
     "text": [
      "Original list:\n",
      "[[7, 2, 3, 4, 7], [9, 2, 3, 2, 5], [8, 2, 3, 4, 4]]\n",
      "Common elements of the said list of lists:\n",
      "[2, 3]\n"
     ]
    }
   ],
   "source": [
    "'''\n",
    "88. Write a Python program to find common elements in a given list of lists. \n",
    "Original list:\n",
    "[[7, 2, 3, 4, 7], [9, 2, 3, 2, 5], [8, 2, 3, 4, 4]]\n",
    "Common elements of the said list of lists:\n",
    "[2, 3]\n",
    "Original list:\n",
    "[['a', 'b', 'c'], ['b', 'c', 'd'], ['c', 'd', 'e']]\n",
    "Common elements of the said list of lists:\n",
    "['c']\n",
    "'''\n",
    "\n",
    "my_list = [[7, 2, 3, 4, 7], [9, 2, 3, 2, 5], [8, 2, 3, 4, 4]]\n",
    "\n",
    "print(\"Original list:\")\n",
    "print(my_list)\n",
    "\n",
    "# Take the first sublist as reference\n",
    "first_list = my_list[0]\n",
    "common_elements = []\n",
    "\n",
    "for item in first_list:\n",
    "    if all(item in sublist for sublist in my_list[1:]) and item not in common_elements:\n",
    "        common_elements.append(item)\n",
    "\n",
    "print(\"Common elements of the said list of lists:\")\n",
    "print(common_elements)"
   ]
  },
  {
   "cell_type": "code",
   "execution_count": 87,
   "id": "1759b011",
   "metadata": {},
   "outputs": [
    {
     "name": "stdout",
     "output_type": "stream",
     "text": [
      "Original list:\n",
      "['a', 'b', 'c', 'd', 'e', 'f', 'g', 'h']\n"
     ]
    },
    {
     "name": "stdin",
     "output_type": "stream",
     "text": [
      "Enter the position to rotate: 3\n"
     ]
    },
    {
     "name": "stdout",
     "output_type": "stream",
     "text": [
      "Iterate the said list cyclically on specific index position 3 :\n",
      "['d', 'e', 'f', 'g', 'h', 'a', 'b', 'c']\n"
     ]
    }
   ],
   "source": [
    "'''\n",
    "89. Write a Python program to iterate a given list cyclically on specific index position. \n",
    "Original list:\n",
    "['a', 'b', 'c', 'd', 'e', 'f', 'g', 'h']\n",
    "Iterate the said list cyclically on specific index position 3 :\n",
    "['d', 'e', 'f', 'g', 'h', 'a', 'b', 'c']\n",
    "Iterate the said list cyclically on specific index position 5 :\n",
    "['f', 'g', 'h', 'a', 'b', 'c', 'd', 'e']\n",
    "'''\n",
    "\n",
    "my_list = ['a', 'b', 'c', 'd', 'e', 'f', 'g', 'h']\n",
    "\n",
    "print(\"Original list:\")\n",
    "print(my_list)\n",
    "\n",
    "# Index position to rotate from\n",
    "pos = int(input(\"Enter the position to rotate:\"))\n",
    "\n",
    "# Cyclic iteration\n",
    "result = my_list[pos:] + my_list[:pos]\n",
    "\n",
    "print(f\"Iterate the said list cyclically on specific index position {pos} :\")\n",
    "print(result)"
   ]
  },
  {
   "cell_type": "code",
   "execution_count": 89,
   "id": "e5b6f232",
   "metadata": {},
   "outputs": [
    {
     "name": "stdout",
     "output_type": "stream",
     "text": [
      "Original list:\n",
      "['red', 'green', 'white', 'black']\n",
      "\n",
      "Traverse the said list in reverse order with original index:\n",
      " 3 -> black\n",
      " 2 -> white\n",
      " 1 -> green\n",
      " 0 -> red\n"
     ]
    }
   ],
   "source": [
    "'''\n",
    "90. Write a Python program to traverse a given list in reverse order, also print the elements with original index. \n",
    "Original list:\n",
    "['red', 'green', 'white', 'black']\n",
    "Traverse the said list in reverse order:\n",
    "black\n",
    "white\n",
    "green\n",
    "red\n",
    "Traverse the said list in reverse order with original index:\n",
    "3 black\n",
    "2 white\n",
    "1 green\n",
    "0 red\n",
    "'''\n",
    "\n",
    "my_list = ['red', 'green', 'white', 'black']\n",
    "\n",
    "print(\"Original list:\")\n",
    "print(my_list)\n",
    "\n",
    "print(\"\\nTraverse the said list in reverse order with original index:\")\n",
    "\n",
    "for i in range(len(my_list) - 1, -1, -1):\n",
    "    print(f\" {i} -> {my_list[i]}\")"
   ]
  },
  {
   "cell_type": "code",
   "execution_count": 91,
   "id": "2411a42a",
   "metadata": {},
   "outputs": [
    {
     "name": "stdout",
     "output_type": "stream",
     "text": [
      "Original list: ['red', 'green', 'white', 'black', 'orange']\n"
     ]
    },
    {
     "name": "stdin",
     "output_type": "stream",
     "text": [
      "Enter the element to move:  white\n"
     ]
    },
    {
     "name": "stdout",
     "output_type": "stream",
     "text": [
      "Updated list: ['red', 'green', 'black', 'orange', 'white']\n"
     ]
    }
   ],
   "source": [
    "'''\n",
    "91. Write a Python program to move a specified element in a given list. \n",
    "Original list:\n",
    "['red', 'green', 'white', 'black', 'orange']\n",
    "Move white at the end of the said list:\n",
    "['red', 'green', 'black', 'orange', 'white']\n",
    "Original list:\n",
    "['red', 'green', 'white', 'black', 'orange']\n",
    "Move red at the end of the said list:\n",
    "['green', 'white', 'black', 'orange', 'red']\n",
    "Original list:\n",
    "['red', 'green', 'white', 'black', 'orange']\n",
    "Move black at the end of the said list:\n",
    "['red', 'green', 'white', 'orange', 'black']\n",
    "'''\n",
    "\n",
    "colors = ['red', 'green', 'white', 'black', 'orange']\n",
    "print(\"Original list:\", colors)\n",
    "\n",
    "element = input(\"Enter the element to move: \")\n",
    "\n",
    "if element in colors:\n",
    "    colors.remove(element)   # Remove from current position\n",
    "    colors.append(element)   # Add to the end\n",
    "    print(\"Updated list:\", colors)\n",
    "else:\n",
    "    print(f\"Element '{element}' not found in the list.\")"
   ]
  },
  {
   "cell_type": "code",
   "execution_count": 93,
   "id": "b8332ee6",
   "metadata": {},
   "outputs": [
    {
     "name": "stdout",
     "output_type": "stream",
     "text": [
      "String: www.google.com\n",
      "List: ['.com', '.edu', '.tv']\n",
      "Result: True\n"
     ]
    }
   ],
   "source": [
    "'''\n",
    "92. Write a Python program to check if a given string contains an element, which is present in a list. \n",
    "The original string and list:\n",
    "string : www.google.com\n",
    "list   :['.com', '.edu', '.tv']\n",
    "Check if www.google.com contains an element, which is present in the list ['.com', '.edu', '.tv']\n",
    "True\n",
    "The original string and list: https://www.google.net\n",
    "list :['.com', '.edu', '.tv']\n",
    "Check if https://www.google.net contains an element, which is present in the list ['.com', '.edu', '.tv']\n",
    "False\n",
    "'''\n",
    "\n",
    "string = \"www.google.com\"\n",
    "check_list = ['.com', '.edu', '.tv']\n",
    "\n",
    "# Check if any element from the list is present in the string\n",
    "result = any(ext in string for ext in check_list)\n",
    "\n",
    "print(\"String:\", string)\n",
    "print(\"List:\", check_list)\n",
    "print(\"Result:\", result)"
   ]
  },
  {
   "cell_type": "code",
   "execution_count": 95,
   "id": "68dad25a",
   "metadata": {},
   "outputs": [
    {
     "name": "stdout",
     "output_type": "stream",
     "text": [
      "Original list: ['1', '2', '3', '4', '5', '6', '7', '8']\n",
      "Joined adjacent members: ['12', '34', '56', '78']\n"
     ]
    }
   ],
   "source": [
    "'''\n",
    "93. Write a Python program to join adjacent members of a given list. \n",
    "Original list:\n",
    "['1', '2', '3', '4', '5', '6', '7', '8']\n",
    "Join adjacent members of a given list:\n",
    "['12', '34', '56', '78']\n",
    "Original list:\n",
    "['1', '2', '3']\n",
    "Join adjacent members of a given list:\n",
    "['12']\n",
    "'''\n",
    "\n",
    "lst = ['1', '2', '3', '4', '5', '6', '7', '8']\n",
    "print(\"Original list:\", lst)\n",
    "\n",
    "# Join adjacent members\n",
    "joined_list = [lst[i] + lst[i+1] for i in range(0, len(lst), 2)]\n",
    "\n",
    "print(\"Joined adjacent members:\", joined_list)"
   ]
  },
  {
   "cell_type": "code",
   "execution_count": 97,
   "id": "53c7d592",
   "metadata": {},
   "outputs": [
    {
     "name": "stdout",
     "output_type": "stream",
     "text": [
      "Original list: [1234, 122, 1984, 19372, 100]\n",
      "Check if first digit in each element is same or not!\n",
      "True\n"
     ]
    }
   ],
   "source": [
    "'''\n",
    "94. Write a Python program to check if first digit/character of each element in a given list is same or not. \n",
    "Original list:\n",
    "[1234, 122, 1984, 19372, 100]\n",
    "Check if first digit in each element of the said given list is same or not!\n",
    "True\n",
    "Original list:\n",
    "[1234, 922, 1984, 19372, 100]\n",
    "Check if first digit in each element of the said given list is same or not!\n",
    "False\n",
    "Original list:\n",
    "['aabc', 'abc', 'ab', 'a']\n",
    "Check if first character in each element of the said given list is same or not!\n",
    "True\n",
    "Original list:\n",
    "['aabc', 'abc', 'ab', 'ha']\n",
    "Check if first character in each element of the said given list is same or not!\n",
    "False\n",
    "'''\n",
    "\n",
    "nums = [1234, 122, 1984, 19372, 100]\n",
    "print(\"Original list:\", nums)\n",
    "\n",
    "first_digits = [str(num)[0] for num in nums]\n",
    "\n",
    "result = all(d == first_digits[0] for d in first_digits)\n",
    "\n",
    "print(\"Check if first digit in each element is same or not!\")\n",
    "print(result)"
   ]
  },
  {
   "cell_type": "code",
   "execution_count": 99,
   "id": "7876a4a6-4443-4e4b-9e4a-4467c699920d",
   "metadata": {},
   "outputs": [
    {
     "name": "stdout",
     "output_type": "stream",
     "text": [
      "Original list: [1234, 1522, 1984, 19372, 1000, 2342, 7626]\n"
     ]
    },
    {
     "name": "stdin",
     "output_type": "stream",
     "text": [
      "Enter the value:  3000\n"
     ]
    },
    {
     "name": "stdout",
     "output_type": "stream",
     "text": [
      "Indices of elements greater than 3000:\n",
      "[3, 6]\n"
     ]
    }
   ],
   "source": [
    "'''\n",
    "95. Write a Python program to find the indices of elements of a given list, greater than a specified value. \n",
    "Original list:\n",
    "[1234, 1522, 1984, 19372, 1000, 2342, 7626]\n",
    "Indices of elements of the said list, greater than 3000\n",
    "[3, 6]\n",
    "Original list:\n",
    "[1234, 1522, 1984, 19372, 1000, 2342, 7626]\n",
    "Indices of elements of the said list, greater than 20000\n",
    "[]\n",
    "'''\n",
    "\n",
    "nums = [1234, 1522, 1984, 19372, 1000, 2342, 7626]\n",
    "print(\"Original list:\", nums)\n",
    "\n",
    "# Take user input for the specified value\n",
    "value = int(input(\"Enter the value: \"))\n",
    "\n",
    "# Find indices of elements greater than user input\n",
    "indices = [i for i, num in enumerate(nums) if num > value]\n",
    "\n",
    "print(f\"Indices of elements greater than {value}:\")\n",
    "print(indices)"
   ]
  },
  {
   "cell_type": "code",
   "execution_count": 101,
   "id": "6f5a7331",
   "metadata": {},
   "outputs": [
    {
     "name": "stdout",
     "output_type": "stream",
     "text": [
      "Original list: ['abc ', ' ', ' ', 'sdfds ', ' ', ' ', 'sdfds ', 'huy']\n",
      "List after removing additional spaces:\n",
      "['abc', '', '', 'sdfds', '', '', 'sdfds', 'huy']\n"
     ]
    }
   ],
   "source": [
    "'''\n",
    "96. Write a Python program to remove additional spaces in a given list. \n",
    "Original list:\n",
    "['abc ', ' ', ' ', 'sdfds ', ' ', ' ', 'sdfds ', 'huy']\n",
    "Remove additional spaces from the said list:\n",
    "['abc', '', '', 'sdfds', '', '', 'sdfds', 'huy']\n",
    "'''\n",
    "\n",
    "lst = ['abc ', ' ', ' ', 'sdfds ', ' ', ' ', 'sdfds ', 'huy']\n",
    "print(\"Original list:\", lst)\n",
    "\n",
    "# Remove additional spaces using strip()\n",
    "cleaned_list = [item.strip() for item in lst]\n",
    "\n",
    "print(\"List after removing additional spaces:\")\n",
    "print(cleaned_list)"
   ]
  },
  {
   "cell_type": "code",
   "execution_count": 103,
   "id": "b7a75ae9",
   "metadata": {},
   "outputs": [
    {
     "name": "stdout",
     "output_type": "stream",
     "text": [
      "Original lists:\n",
      "[('red', 'green'), ('black', 'white'), ('orange', 'pink')]\n",
      "[('red', 'green'), ('orange', 'pink')]\n",
      "Common tuples between two said lists:\n",
      "[('red', 'green'), ('orange', 'pink')]\n"
     ]
    }
   ],
   "source": [
    "'''\n",
    "97. Write a Python program to find the common tuples between two given lists. \n",
    "Original lists:\n",
    "[('red', 'green'), ('black', 'white'), ('orange', 'pink')]\n",
    "[('red', 'green'), ('orange', 'pink')]\n",
    "Common tuples between two said lists\n",
    "[('orange', 'pink'), ('red', 'green')]\n",
    "Original lists:\n",
    "[('red', 'green'), ('orange', 'pink')]\n",
    "[('red', 'green'), ('black', 'white'), ('orange', 'pink')]\n",
    "Common tuples between two said lists\n",
    "[('orange', 'pink'), ('red', 'green')]\n",
    "'''\n",
    "\n",
    "list1 = [('red', 'green'), ('black', 'white'), ('orange', 'pink')]\n",
    "list2 = [('red', 'green'), ('orange', 'pink')]\n",
    "\n",
    "print(\"Original lists:\")\n",
    "print(list1)\n",
    "print(list2)\n",
    "\n",
    "# Find common tuples\n",
    "common = list(set(list1) & set(list2))\n",
    "\n",
    "print(\"Common tuples between two said lists:\")\n",
    "print(common)"
   ]
  },
  {
   "cell_type": "code",
   "execution_count": 105,
   "id": "3bd46fc8",
   "metadata": {},
   "outputs": [
    {
     "name": "stdout",
     "output_type": "stream",
     "text": [
      "Original list: [1, 2, 3, 4, 5, 6, 7]\n",
      "Sum the said list of numbers:\n",
      "[1.5, 2.5, 3.5, 4.5, 5.5, 6.5]\n"
     ]
    }
   ],
   "source": [
    "'''\n",
    "98. Sum a list of numbers. Write a Python program to sum the first number with the second and divide it by 2, then sum the second with the third and divide by 2, and so on. \n",
    "Original list:\n",
    "[1, 2, 3, 4, 5, 6, 7]\n",
    "Sum the said list of numbers:\n",
    "[1.5, 2.5, 3.5, 4.5, 5.5, 6.5]\n",
    "Original list:\n",
    "[0, 1, -3, 3, 7, -5, 6, 7, 11]\n",
    "Sum the said list of numbers:\n",
    "[0.5, -1.0, 0.0, 5.0, 1.0, 0.5, 6.5, 9.0]\n",
    "'''\n",
    "\n",
    "nums = [1, 2, 3, 4, 5, 6, 7]\n",
    "print(\"Original list:\", nums)\n",
    "\n",
    "result = []\n",
    "\n",
    "for i in range(len(nums) - 1):\n",
    "    avg = (nums[i] + nums[i + 1]) / 2\n",
    "    result.append(avg)\n",
    "\n",
    "print(\"Sum the said list of numbers:\")\n",
    "print(result)"
   ]
  },
  {
   "cell_type": "code",
   "execution_count": 107,
   "id": "8aa55576",
   "metadata": {},
   "outputs": [
    {
     "name": "stdout",
     "output_type": "stream",
     "text": [
      "Original list: [3, 4, 6, 2, 0, 0, 0, 0, 0, 0, 6, 7, 6, 9, 10, 0, 0, 0, 0, 0, 5, 9, 9, 7, 4, 4, 0, 0, 0, 0, 0, 0, 5, 3, 2, 9, 7, 1]\n",
      "Number of groups of non-zero numbers separated by zeros of the said list: 4\n"
     ]
    }
   ],
   "source": [
    "'''\n",
    "99. Write a Python program to count the number of groups of non-zero numbers separated by zeros of a given list of numbers. \n",
    "Original list:\n",
    "[3, 4, 6, 2, 0, 0, 0, 0, 0, 0, 6, 7, 6, 9, 10, 0, 0, 0, 0, 0, 5, 9, 9, 7, 4, 4, 0, 0, 0, 0, 0, 0, 5, 3, 2, 9, 7, 1]\n",
    "Number of groups of non-zero numbers separated by zeros of the said list: 4\n",
    "'''\n",
    "\n",
    "nums = [3, 4, 6, 2, 0, 0, 0, 0, 0, 0, 6, 7, 6, 9, 10, \n",
    "        0, 0, 0, 0, 0, 5, 9, 9, 7, 4, 4, \n",
    "        0, 0, 0, 0, 0, 0, 5, 3, 2, 9, 7, 1]\n",
    "\n",
    "print(\"Original list:\", nums)\n",
    "\n",
    "count = 0\n",
    "in_group = False\n",
    "\n",
    "for num in nums:\n",
    "    if num != 0 and not in_group:  # new group starts\n",
    "        count += 1\n",
    "        in_group = True\n",
    "    elif num == 0:\n",
    "        in_group = False  # group ended\n",
    "\n",
    "print(\"Number of groups of non-zero numbers separated by zeros of the said list:\", count)"
   ]
  },
  {
   "cell_type": "code",
   "execution_count": 109,
   "id": "ce44aa45",
   "metadata": {},
   "outputs": [
    {
     "name": "stdout",
     "output_type": "stream",
     "text": [
      "Original list: [3, 4, 6, 2, 0, 0, 0, 0, 0, 0, 6, 7, 6, 9, 10, 0, 0, 0, 0, 0, 7, 4, 4, 0, 0, 0, 0, 0, 0, 5, 3, 2, 9, 7, 1, 0, 0, 0]\n",
      "Compute the sum of non-zero groups (separated by zeros): [15, 38, 15, 27]\n"
     ]
    }
   ],
   "source": [
    "'''\n",
    "100. Write a Python program to compute the sum of non-zero groups (separated by zeros) of a given list of numbers. \n",
    "Original list:\n",
    "[3, 4, 6, 2, 0, 0, 0, 0, 0, 0, 6, 7, 6, 9, 10, 0, 0, 0, 0, 0, 7, 4, 4, 0, 0, 0, 0, 0, 0, 5, 3, 2, 9, 7, 1, 0, 0, 0]\n",
    "Compute the sum of non-zero groups (separated by zeros) of the said list of numbers: [15, 38, 15, 27]\n",
    "'''\n",
    "\n",
    "nums = [3, 4, 6, 2, 0, 0, 0, 0, 0, 0, \n",
    "        6, 7, 6, 9, 10, 0, 0, 0, 0, 0, \n",
    "        7, 4, 4, 0, 0, 0, 0, 0, 0, \n",
    "        5, 3, 2, 9, 7, 1, 0, 0, 0]\n",
    "\n",
    "print(\"Original list:\", nums)\n",
    "\n",
    "group_sums = []\n",
    "current_sum = 0\n",
    "\n",
    "for num in nums:\n",
    "    if num != 0:\n",
    "        current_sum += num   # add to current group\n",
    "    elif current_sum > 0:\n",
    "        group_sums.append(current_sum)  # store sum when group ends\n",
    "        current_sum = 0\n",
    "\n",
    "if current_sum > 0:\n",
    "    group_sums.append(current_sum)\n",
    "\n",
    "print(\"Compute the sum of non-zero groups (separated by zeros):\", group_sums)"
   ]
  },
  {
   "cell_type": "code",
   "execution_count": 111,
   "id": "ee25e15c",
   "metadata": {},
   "outputs": [
    {
     "name": "stdout",
     "output_type": "stream",
     "text": [
      "Original list: ['Ricky Rivera', 98, 'Math', 90, 'Science']\n",
      "After deleting an element, using index of the element: [98, 'Math', 90, 'Science']\n"
     ]
    }
   ],
   "source": [
    "'''\n",
    "101. Write a Python program to remove an element from a given list. \n",
    "Original list:\n",
    "['Ricky Rivera', 98, 'Math', 90, 'Science']\n",
    "After deleting an element:, using index of the element: [98, 'Math', 90, 'Science']\n",
    "'''\n",
    "\n",
    "lst = ['Ricky Rivera', 98, 'Math', 90, 'Science']\n",
    "print(\"Original list:\", lst)\n",
    "\n",
    "index_to_remove = 0   # here we remove the first element\n",
    "\n",
    "# Remove element using pop()\n",
    "lst.pop(index_to_remove)\n",
    "\n",
    "print(\"After deleting an element, using index of the element:\", lst)"
   ]
  },
  {
   "cell_type": "code",
   "execution_count": 113,
   "id": "df57f8c8",
   "metadata": {},
   "outputs": [
    {
     "name": "stdout",
     "output_type": "stream",
     "text": [
      "Original list: [34.67, 12, -94.89, 'Python', 0, 'C#']\n",
      "After removing all the values except integer values from the said array of mixed values: [12, 0]\n"
     ]
    }
   ],
   "source": [
    "'''\n",
    "102. Write a Python program to remove all the values except integer values from a given array of mixed values. \n",
    "Original list: [34.67, 12, -94.89, 'Python', 0, 'C#']\n",
    "After removing all the values except integer values from the said array of mixed values: [12, 0]\n",
    "'''\n",
    "\n",
    "lst = [34.67, 12, -94.89, 'Python', 0, 'C#']\n",
    "print(\"Original list:\", lst)\n",
    "\n",
    "# Keep only integer values\n",
    "only_integers = [x for x in lst if isinstance(x, int)]\n",
    "\n",
    "print(\"After removing all the values except integer values from the said array of mixed values:\", only_integers)"
   ]
  },
  {
   "cell_type": "code",
   "execution_count": 115,
   "id": "70a549cf",
   "metadata": {},
   "outputs": [
    {
     "name": "stdin",
     "output_type": "stream",
     "text": [
      "Enter a number:  123\n"
     ]
    },
    {
     "name": "stdout",
     "output_type": "stream",
     "text": [
      "123\n",
      "[1, 2, 3]\n"
     ]
    }
   ],
   "source": [
    "'''\n",
    "103. Write a Python program to convert a given number (integer) to a list of digits. \n",
    "Sample Output:\n",
    "123\n",
    "[1, 2, 3]\n",
    "1347823\n",
    "[1, 3, 4, 7, 8, 2, 3]\n",
    "'''\n",
    "\n",
    "num = int(input(\"Enter a number: \"))\n",
    "print(num)\n",
    "\n",
    "# Convert number to list of digits\n",
    "digits = [int(digit) for digit in str(num)]\n",
    "print(digits)"
   ]
  },
  {
   "cell_type": "code",
   "execution_count": 117,
   "id": "52e058f5",
   "metadata": {},
   "outputs": [
    {
     "name": "stdout",
     "output_type": "stream",
     "text": [
      "Original list1: ['a', 'b', 'f', 'a', 'c', 'e', 'a', 'a', 'b', 'e', 'f']\n",
      "Original list2: [3, 4, 7, 5, 9, 3, 4, 5, 0, 3, 2, 3]\n",
      "Frequency dictionary for list1: {'a': 4, 'b': 2, 'f': 2, 'c': 1, 'e': 2}\n",
      "Frequency dictionary for list2: {3: 4, 4: 2, 7: 1, 5: 2, 9: 1, 0: 1, 2: 1}\n"
     ]
    }
   ],
   "source": [
    "'''\n",
    "104. Write a Python program to create a dictionary with the unique values of a given list as keys and their frequencies as the values. \n",
    "Sample Input:\n",
    "['a', 'b', 'f', 'a', 'c', 'e', 'a', 'a', 'b', 'e', 'f']\n",
    "[3, 4, 7, 5, 9, 3, 4, 5, 0, 3, 2, 3]\n",
    "Sample Output:\n",
    "{'a': 4, 'b': 2, 'f': 2, 'c': 1, 'e': 2}\n",
    "{3: 4, 4: 2, 7: 1, 5: 2, 9: 1, 0: 1, 2: 1}\n",
    "'''\n",
    "\n",
    "list1 = ['a', 'b', 'f', 'a', 'c', 'e', 'a', 'a', 'b', 'e', 'f']\n",
    "list2 = [3, 4, 7, 5, 9, 3, 4, 5, 0, 3, 2, 3]\n",
    "\n",
    "print(\"Original list1:\", list1)\n",
    "print(\"Original list2:\", list2)\n",
    "\n",
    "# Create dictionary for list1\n",
    "freq_dict1 = {}\n",
    "for item in list1:\n",
    "    freq_dict1[item] = freq_dict1.get(item, 0) + 1\n",
    "\n",
    "# Create dictionary for list2\n",
    "freq_dict2 = {}\n",
    "for item in list2:\n",
    "    freq_dict2[item] = freq_dict2.get(item, 0) + 1\n",
    "\n",
    "print(\"Frequency dictionary for list1:\", freq_dict1)\n",
    "print(\"Frequency dictionary for list2:\", freq_dict2)"
   ]
  },
  {
   "cell_type": "code",
   "execution_count": 119,
   "id": "946d8ddc",
   "metadata": {},
   "outputs": [
    {
     "name": "stdout",
     "output_type": "stream",
     "text": [
      "List1: [10, 20, 30, 10]\n",
      "List2: [10, 20, 40, 20]\n",
      "Symmetric difference (with duplicates kept): [30, 40]\n"
     ]
    }
   ],
   "source": [
    "'''\n",
    "105. Write a Python program to get the symmetric difference between two iterables, without filtering out duplicate values. \n",
    "Sample Output:\n",
    "[30, 40]\n",
    "'''\n",
    "\n",
    "list1 = [10, 20, 30, 10]\n",
    "list2 = [10, 20, 40, 20]\n",
    "\n",
    "print(\"List1:\", list1)\n",
    "print(\"List2:\", list2)\n",
    "\n",
    "# Symmetric difference without removing duplicates\n",
    "result = [x for x in list1 if x not in list2] + [x for x in list2 if x not in list1]\n",
    "\n",
    "print(\"Symmetric difference (with duplicates kept):\", result)"
   ]
  },
  {
   "cell_type": "code",
   "execution_count": 121,
   "id": "0f952920",
   "metadata": {},
   "outputs": [
    {
     "name": "stdout",
     "output_type": "stream",
     "text": [
      "True\n",
      "True\n",
      "False\n"
     ]
    }
   ],
   "source": [
    "'''\n",
    "106. Write a Python program to check if a given function returns True for every element in a list. \n",
    "Sample Output:\n",
    "True\n",
    "False\n",
    "False\n",
    "'''\n",
    "\n",
    "list1 = [2, 4, 6, 8]\n",
    "list2 = [1, 2, 3, 4]\n",
    "list3 = [0, -1, 2]\n",
    "\n",
    "# Sample function: check if number is positive\n",
    "def is_positive(n):\n",
    "    return n > 0\n",
    "\n",
    "# Check if function returns True for every element\n",
    "print(all(is_positive(x) for x in list1))  # True\n",
    "print(all(is_positive(x) for x in list2))  # False (1 is positive, but 1 < 0 is False? wait, fix)\n",
    "print(all(is_positive(x) for x in list3))"
   ]
  },
  {
   "cell_type": "code",
   "execution_count": 123,
   "id": "7e520b7c",
   "metadata": {},
   "outputs": [
    {
     "name": "stdout",
     "output_type": "stream",
     "text": [
      "Green\n"
     ]
    }
   ],
   "source": [
    "'''\n",
    "107. Write a Python program to that takes any number of iterable objects or objects with a length property and returns the longest one. \n",
    "Sample Output:\n",
    "Green\n",
    "[1, 2, 3, 4, 5]\n",
    "[1, 2, 3, 4]\n",
    "'''\n",
    "\n",
    "s1 = \"Green\"\n",
    "lst1 = [1, 2, 3, 4, 5]\n",
    "lst2 = [1, 2, 3, 4]\n",
    "\n",
    "# Function to get the longest iterable\n",
    "def longest_iterable(*iterables):\n",
    "    return max(iterables, key=len)\n",
    "\n",
    "# Test the function\n",
    "print(longest_iterable(s1, lst1, lst2))"
   ]
  },
  {
   "cell_type": "code",
   "execution_count": 125,
   "id": "e09f349b",
   "metadata": {},
   "outputs": [
    {
     "name": "stdout",
     "output_type": "stream",
     "text": [
      "Original list: [1, 2, 3, 4, 5]\n",
      "Maximum value after applying the function: 25\n"
     ]
    }
   ],
   "source": [
    "'''\n",
    "108. Write a Python program to get the maximum value of a list, after mapping each element to a value using a given function. \n",
    "Sample Output:\n",
    "8\n",
    "'''\n",
    "\n",
    "nums = [1, 2, 3, 4, 5]\n",
    "\n",
    "# Function to apply (example: square each element)\n",
    "def square(x):\n",
    "    return x ** 2\n",
    "\n",
    "# Apply the function and find the maximum value\n",
    "max_value = max(map(square, nums))\n",
    "\n",
    "print(\"Original list:\", nums)\n",
    "print(\"Maximum value after applying the function:\", max_value)"
   ]
  },
  {
   "cell_type": "code",
   "execution_count": 127,
   "id": "6aba46bf",
   "metadata": {},
   "outputs": [
    {
     "name": "stdout",
     "output_type": "stream",
     "text": [
      "Original list: [1, 2, 3, 4, 5]\n",
      "Minimum value after applying the function: 1\n"
     ]
    }
   ],
   "source": [
    "'''\n",
    "109. Write a Python program to get the minimum value of a list, after mapping each element to a value using a given function. \n",
    "Sample Output:\n",
    "2\n",
    "'''\n",
    "\n",
    "nums = [1, 2, 3, 4, 5]\n",
    "\n",
    "# Function to apply (example: square each element)\n",
    "def square(x):\n",
    "    return x ** 2\n",
    "\n",
    "# Apply the function and find the minimum value\n",
    "min_value = min(map(square, nums))\n",
    "\n",
    "print(\"Original list:\", nums)\n",
    "print(\"Minimum value after applying the function:\", min_value)"
   ]
  },
  {
   "cell_type": "code",
   "execution_count": 129,
   "id": "3937eda4",
   "metadata": {},
   "outputs": [
    {
     "name": "stdout",
     "output_type": "stream",
     "text": [
      "Original list: [1, 2, 3, 4, 5]\n",
      "Sum after applying the function: 55\n"
     ]
    }
   ],
   "source": [
    "'''\n",
    "110. Write a Python program to calculate the sum of a list, after mapping each element to a value using the provided function. \n",
    "Sample Output:\n",
    "20\n",
    "'''\n",
    "\n",
    "nums = [1, 2, 3, 4, 5]\n",
    "\n",
    "# Function to apply (example: square each element)\n",
    "def square(x):\n",
    "    return x ** 2\n",
    "\n",
    "# Apply the function and calculate the sum\n",
    "total = sum(map(square, nums))\n",
    "\n",
    "print(\"Original list:\", nums)\n",
    "print(\"Sum after applying the function:\", total)"
   ]
  },
  {
   "cell_type": "code",
   "execution_count": 131,
   "id": "aa869b9c",
   "metadata": {},
   "outputs": [
    {
     "name": "stdout",
     "output_type": "stream",
     "text": [
      "[0, 0, 0, 0, 0, 0, 0]\n",
      "[3, 3, 3, 3, 3, 3, 3, 3]\n",
      "[-2, -2, -2, -2, -2]\n",
      "[3.2, 3.2, 3.2, 3.2, 3.2]\n"
     ]
    }
   ],
   "source": [
    "'''\n",
    "111. Write a Python program to initialize and fills a list with the specified value. \n",
    "Sample Output:\n",
    "[0, 0, 0, 0, 0, 0, 0]\n",
    "[3, 3, 3, 3, 3, 3, 3, 3]\n",
    "[-2, -2, -2, -2, -2]\n",
    "[3.2, 3.2, 3.2, 3.2, 3.2]\n",
    "'''\n",
    "\n",
    "list1 = [0] * 7\n",
    "print(list1)\n",
    "\n",
    "list2 = [3] * 8\n",
    "print(list2)\n",
    "\n",
    "list3 = [-2] * 5\n",
    "print(list3)\n",
    "\n",
    "list4 = [3.2] * 5\n",
    "print(list4)"
   ]
  },
  {
   "cell_type": "code",
   "execution_count": 133,
   "id": "e4ccce13",
   "metadata": {},
   "outputs": [
    {
     "name": "stdout",
     "output_type": "stream",
     "text": [
      "Original list elements:\n",
      "[10, 50, 40]\n",
      "[2, 5, 3]\n",
      "Weighted average of the said two list of numbers:\n",
      "39.0\n"
     ]
    }
   ],
   "source": [
    "'''\n",
    "112. Write a Python program to get the weighted average of two or more numbers. \n",
    "Sample Output:\n",
    "Original list elements:\n",
    "[10, 50, 40]\n",
    "[2, 5, 3]\n",
    "Weighted average of the said two list of numbers:\n",
    "39.0\n",
    "Original list elements:\n",
    "[82, 90, 76, 83]\n",
    "[0.2, 0.35, 0.45, 32]\n",
    "Weighted average of the said two list of numbers:\n",
    "82.97272727272727\n",
    "'''\n",
    "\n",
    "numbers = [10, 50, 40]\n",
    "weights = [2, 5, 3]\n",
    "\n",
    "print(\"Original list elements:\")\n",
    "print(numbers)\n",
    "print(weights)\n",
    "\n",
    "# Calculate weighted average\n",
    "weighted_avg = sum(n * w for n, w in zip(numbers, weights)) / sum(weights)\n",
    "\n",
    "print(\"Weighted average of the said two list of numbers:\")\n",
    "print(weighted_avg)"
   ]
  },
  {
   "cell_type": "code",
   "execution_count": 135,
   "id": "365407b0",
   "metadata": {},
   "outputs": [
    {
     "name": "stdout",
     "output_type": "stream",
     "text": [
      "Original list elements:\n",
      "[1, [2], [[3], [4], 5], 6]\n",
      "Deep flatten the said list:\n",
      "[1, 2, 3, 4, 5, 6]\n"
     ]
    }
   ],
   "source": [
    "'''\n",
    "113. Write a Python program to perform a deep flattens a list. \n",
    "Sample Output:\n",
    "Original list elements:\n",
    "[1, [2], [[3], [4], 5], 6]\n",
    "Deep flatten the said list:\n",
    "[1, 2, 3, 4, 5, 6]\n",
    "Original list elements:\n",
    "[[[1, 2, 3], [4, 5]], 6]\n",
    "Deep flatten the said list:\n",
    "[1, 2, 3, 4, 5, 6]\n",
    "'''\n",
    "\n",
    "nested_list = [1, [2], [[3], [4], 5], 6]\n",
    "\n",
    "print(\"Original list elements:\")\n",
    "print(nested_list)\n",
    "\n",
    "# Deep flatten inline (corrected)\n",
    "flattened = []\n",
    "\n",
    "stack = nested_list[:]  # copy of original list\n",
    "while stack:\n",
    "    item = stack.pop(0)\n",
    "    if type(item) == list:  # use type() instead of isinstance()\n",
    "        stack = item + stack  # prepend nested list to process its elements\n",
    "    else:\n",
    "        flattened.append(item)\n",
    "\n",
    "print(\"Deep flatten the said list:\")\n",
    "print(flattened)"
   ]
  },
  {
   "cell_type": "code",
   "execution_count": 137,
   "id": "7602ea64",
   "metadata": {},
   "outputs": [
    {
     "name": "stdout",
     "output_type": "stream",
     "text": [
      "Original list elements:\n",
      "[1, 2, 4]\n",
      "[2, 4, 1]\n",
      "Check two said lists contain the same elements regardless of order!\n",
      "True\n"
     ]
    }
   ],
   "source": [
    "'''\n",
    "114. Write a Python program to check if two given lists contain the same elements regardless of order. \n",
    "Sample Output:\n",
    "Original list elements:\n",
    "[1, 2, 4]\n",
    "[2, 4, 1]\n",
    "Check two said lists contain the same elements regardless of order!\n",
    "True\n",
    "Original list elements:\n",
    "[1, 2, 3]\n",
    "[1, 2, 3]\n",
    "Check two said lists contain the same elements regardless of order!\n",
    "True\n",
    "Original list elements:\n",
    "[1, 2, 3]\n",
    "[1, 2, 4]\n",
    "Check two said lists contain the same elements regardless of order!\n",
    "False\n",
    "'''\n",
    "\n",
    "list1 = [1, 2, 4]\n",
    "list2 = [2, 4, 1]\n",
    "\n",
    "print(\"Original list elements:\")\n",
    "print(list1)\n",
    "print(list2)\n",
    "\n",
    "# Check if both lists have the same elements regardless of order\n",
    "same_elements = sorted(list1) == sorted(list2)\n",
    "\n",
    "print(\"Check two said lists contain the same elements regardless of order!\")\n",
    "print(same_elements)"
   ]
  },
  {
   "cell_type": "code",
   "execution_count": 139,
   "id": "c1f745d9",
   "metadata": {},
   "outputs": [
    {
     "name": "stdout",
     "output_type": "stream",
     "text": [
      "False\n",
      "True\n",
      "False\n"
     ]
    }
   ],
   "source": [
    "'''\n",
    "115. Write a Python program to check if a given function returns True for at least one element in the list. \n",
    "Sample Output:\n",
    "False\n",
    "True\n",
    "False\n",
    "'''\n",
    "\n",
    "# Program to check if condition is True for at least one element in a list\n",
    "\n",
    "# sample lists\n",
    "list1 = [1, 2, 3, 4]\n",
    "list2 = [5, 10, 15, 20]\n",
    "list3 = [0, 0, 0]\n",
    "\n",
    "# condition: check if element is greater than 10\n",
    "def check(lst):\n",
    "    found = False\n",
    "    for x in lst:\n",
    "        if x > 10:   # condition can be changed\n",
    "            found = True\n",
    "            break\n",
    "    print(found)\n",
    "\n",
    "# test with lists\n",
    "check(list1)   # False\n",
    "check(list2)   # True\n",
    "check(list3)   # False\n"
   ]
  },
  {
   "cell_type": "code",
   "execution_count": 141,
   "id": "c13331ab",
   "metadata": {},
   "outputs": [
    {
     "name": "stdout",
     "output_type": "stream",
     "text": [
      "List1: [1, 2, 3]\n",
      "List2: [1, 2, 3, 4, 5]\n",
      "Are all elements of list1 included in list2?\n",
      "True\n"
     ]
    }
   ],
   "source": [
    "'''\n",
    "116. Write a Python program to check if all the elements of a list are included in another given list. \n",
    "Sample Output:\n",
    "True\n",
    "False\n",
    "'''\n",
    "\n",
    "list1 = [1, 2, 3]\n",
    "list2 = [1, 2, 3, 4, 5]\n",
    "\n",
    "print(\"List1:\", list1)\n",
    "print(\"List2:\", list2)\n",
    "\n",
    "# Check if all elements of list1 are in list2\n",
    "all_included = all(elem in list2 for elem in list1)\n",
    "\n",
    "print(\"Are all elements of list1 included in list2?\")\n",
    "print(all_included)"
   ]
  },
  {
   "cell_type": "code",
   "execution_count": 143,
   "id": "52721dac",
   "metadata": {},
   "outputs": [
    {
     "name": "stdout",
     "output_type": "stream",
     "text": [
      "Original list:\n",
      "[2, 3, 8, 4, 7, 9, 8, 2, 6, 5, 1, 6, 1, 2, 3, 2, 4, 6, 9, 1, 2]\n",
      "Item with maximum frequency of the said list:\n",
      "2\n"
     ]
    }
   ],
   "source": [
    "'''\n",
    "117. Write a Python program to get the most frequent element in a given list of numbers. \n",
    "Sample Output:\n",
    "2\n",
    "Original list:\n",
    "[2, 3, 8, 4, 7, 9, 8, 2, 6, 5, 1, 6, 1, 2, 3, 2, 4, 6, 9, 1, 2]\n",
    "Item with maximum frequency of the said list:\n",
    "2\n",
    "Original list:\n",
    "[1, 2, 3, 1, 2, 3, 2, 1, 4, 3, 3]\n",
    "Item with maximum frequency of the said list:\n",
    "3\n",
    "'''\n",
    "\n",
    "nums = [2, 3, 8, 4, 7, 9, 8, 2, 6, 5, 1, 6, 1, 2, 3, 2, 4, 6, 9, 1, 2]\n",
    "\n",
    "print(\"Original list:\")\n",
    "print(nums)\n",
    "\n",
    "# Count frequencies using a dictionary\n",
    "freq = {}\n",
    "for num in nums:\n",
    "    if num in freq:\n",
    "        freq[num] += 1\n",
    "    else:\n",
    "        freq[num] = 1\n",
    "\n",
    "# Find the element with the maximum frequency\n",
    "most_common_element = max(freq, key=freq.get)\n",
    "\n",
    "print(\"Item with maximum frequency of the said list:\")\n",
    "print(most_common_element)"
   ]
  },
  {
   "cell_type": "code",
   "execution_count": 145,
   "id": "2fea986f",
   "metadata": {},
   "outputs": [
    {
     "data": {
      "text/plain": [
       "'\\n118. Write a Python program to get the every nth element in a given list. \\nSample Output:\\n[1, 2, 3, 4, 5, 6, 7, 8, 9, 10]\\n[2, 4, 6, 8, 10]\\n[5, 10]\\n[6]\\n'"
      ]
     },
     "execution_count": 145,
     "metadata": {},
     "output_type": "execute_result"
    }
   ],
   "source": [
    "'''\n",
    "118. Write a Python program to get the every nth element in a given list. \n",
    "Sample Output:\n",
    "[1, 2, 3, 4, 5, 6, 7, 8, 9, 10]\n",
    "[2, 4, 6, 8, 10]\n",
    "[5, 10]\n",
    "[6]\n",
    "'''\n"
   ]
  },
  {
   "cell_type": "code",
   "execution_count": 147,
   "id": "1c250b68",
   "metadata": {},
   "outputs": [
    {
     "name": "stdout",
     "output_type": "stream",
     "text": [
      "List1: [1, 2, 3]\n",
      "List2: [3, 2, 1, 4, 5]\n",
      "Are all elements of list1 contained in list2 regardless of order?\n",
      "True\n"
     ]
    }
   ],
   "source": [
    "'''\n",
    "119. Write a Python program to check if the elements of the first list are contained in the second one regardless of order. \n",
    "Sample Output:\n",
    "True\n",
    "True\n",
    "False\n",
    "True\n",
    "'''\n",
    "\n",
    "list1 = [1, 2, 3]\n",
    "list2 = [3, 2, 1, 4, 5]\n",
    "\n",
    "print(\"List1:\", list1)\n",
    "print(\"List2:\", list2)\n",
    "\n",
    "# Check if all elements of list1 are in list2\n",
    "all_contained = all(elem in list2 for elem in list1)\n",
    "\n",
    "print(\"Are all elements of list1 contained in list2 regardless of order?\")\n",
    "print(all_contained)"
   ]
  },
  {
   "cell_type": "code",
   "execution_count": 149,
   "id": "a7a65d2d",
   "metadata": {},
   "outputs": [
    {
     "name": "stdout",
     "output_type": "stream",
     "text": [
      "Original list:\n",
      "[1, 2, 3, 4, 5, 6, 7]\n",
      "Check if there are duplicate values in the said given flat list:\n",
      "False\n"
     ]
    }
   ],
   "source": [
    "'''\n",
    "120. Write a Python program to check if there are duplicate values in a given flat list. \n",
    "Sample Output:\n",
    "Original list:\n",
    "[1, 2, 3, 4, 5, 6, 7]\n",
    "Check if there are duplicate values in the said given flat list:\n",
    "False\n",
    "Original list:\n",
    "[1, 2, 3, 3, 4, 5, 5, 6, 7]\n",
    "Check if there are duplicate values in the said given flat list:\n",
    "True\n",
    "'''\n",
    "\n",
    "lst = [1, 2, 3, 4, 5, 6, 7]\n",
    "\n",
    "print(\"Original list:\")\n",
    "print(lst)\n",
    "\n",
    "# Check for duplicates\n",
    "has_duplicates = len(lst) != len(set(lst))\n",
    "\n",
    "print(\"Check if there are duplicate values in the said given flat list:\")\n",
    "print(has_duplicates)"
   ]
  },
  {
   "cell_type": "code",
   "execution_count": 151,
   "id": "2e2c74e0",
   "metadata": {},
   "outputs": [
    {
     "name": "stdin",
     "output_type": "stream",
     "text": [
      "Enter the starting number:  1\n",
      "Enter the step value:  1\n",
      "Enter the limit:  15\n"
     ]
    },
    {
     "name": "stdout",
     "output_type": "stream",
     "text": [
      "Arithmetic progression list:\n",
      "[1, 2, 3, 4, 5, 6, 7, 8, 9, 10, 11, 12, 13, 14, 15]\n"
     ]
    }
   ],
   "source": [
    "'''\n",
    "121. Write a Python program to generate a list of numbers in the arithmetic progression starting with the given positive integer and up to the specified limit. \n",
    "Sample Output:\n",
    "[1, 2, 3, 4, 5, 6, 7, 8, 9, 10, 11, 12, 13, 14, 15]\n",
    "[3, 6, 9, 12, 15, 18, 21, 24, 27, 30, 33, 36]\n",
    "[5, 10, 15, 20, 25]\n",
    "'''\n",
    "\n",
    "start = int(input(\"Enter the starting number: \"))\n",
    "step = int(input(\"Enter the step value: \"))\n",
    "limit = int(input(\"Enter the limit: \"))\n",
    "\n",
    "# Generate AP list using a while loop\n",
    "ap_list = []\n",
    "current = start\n",
    "while current <= limit:\n",
    "    ap_list.append(current)\n",
    "    current += step\n",
    "\n",
    "print(\"Arithmetic progression list:\")\n",
    "print(ap_list)"
   ]
  },
  {
   "cell_type": "code",
   "execution_count": 153,
   "id": "8792b30d",
   "metadata": {},
   "outputs": [
    {
     "name": "stdout",
     "output_type": "stream",
     "text": [
      "13\n",
      "0\n"
     ]
    }
   ],
   "source": [
    "'''\n",
    "122. Write a Python program to count lowercase letters in a given list of words. \n",
    "Sample Data:\n",
    "([\"Red\", \"Green\", \"Blue\", \"White\"]) -> 13\n",
    "([\"SQL\", \"C++\", \"C\"]) -> 0\n",
    "'''\n",
    "\n",
    "words1 = [\"Red\", \"Green\", \"Blue\", \"White\"]\n",
    "words2 = [\"SQL\", \"C++\", \"C\"]\n",
    "\n",
    "# Function to count lowercase letters\n",
    "def count_lowercase(word_list):\n",
    "    count = 0\n",
    "    for word in word_list:\n",
    "        for char in word:\n",
    "            if char.islower():\n",
    "                count += 1\n",
    "    return count\n",
    "\n",
    "# Test the function\n",
    "print(count_lowercase(words1))  # Output: 13\n",
    "print(count_lowercase(words2))  # Output: 0"
   ]
  },
  {
   "cell_type": "code",
   "execution_count": 155,
   "id": "451ebe32",
   "metadata": {},
   "outputs": [
    {
     "name": "stdout",
     "output_type": "stream",
     "text": [
      "[[0, 3], [4, 7]]\n",
      "[[-3, 0], [-8, -5]]\n"
     ]
    }
   ],
   "source": [
    "'''\n",
    "123. Write a Python program that takes a list of integers and finds all pairs of integers that differ by three. Return all pairs of integers in a list.\n",
    "Sample Data:\n",
    "([0, 3, 4, 7, 9]) -> [[0, 3], [4, 7]]\n",
    "[0, -3, -5, -7, -8] -> [[-3, 0], [-8, -5]]\n",
    "([1, 2, 3, 4, 5]) -> [[1, 4], [2, 5]]\n",
    "([100, 102, 103, 114, 115]) -> [[100, 103]]\n",
    "'''\n",
    "\n",
    "nums1 = [0, 3, 4, 7, 9]\n",
    "nums2 = [0, -3, -5, -7, -8]\n",
    "\n",
    "# Function to find all pairs with difference 3\n",
    "def pairs_with_diff_three(nums):\n",
    "    result = []\n",
    "    for i in range(len(nums)):\n",
    "        for j in range(i + 1, len(nums)):\n",
    "            if abs(nums[i] - nums[j]) == 3:\n",
    "                # Append pair in ascending order\n",
    "                result.append(sorted([nums[i], nums[j]]))\n",
    "    return result\n",
    "\n",
    "# Test the function\n",
    "print(pairs_with_diff_three(nums1))  # Output: [[0, 3], [4, 7]]\n",
    "print(pairs_with_diff_three(nums2))  # Output: [[-3, 0], [-8, -5]]"
   ]
  },
  {
   "cell_type": "code",
   "execution_count": 157,
   "id": "531ac121",
   "metadata": {},
   "outputs": [],
   "source": [
    "#Dictionaries"
   ]
  },
  {
   "cell_type": "code",
   "execution_count": 159,
   "id": "1a7d245a",
   "metadata": {},
   "outputs": [],
   "source": [
    "#1. Write a Python script to sort (ascending and descending) a dictionary by value."
   ]
  },
  {
   "cell_type": "code",
   "execution_count": 161,
   "id": "0559b7c2",
   "metadata": {},
   "outputs": [
    {
     "data": {
      "text/plain": [
       "'\\n2. Write a Python script to add a key to a dictionary.\\n\\nSample Dictionary : {0: 10, 1: 20}\\nExpected Result : {0: 10, 1: 20, 2: 30}\\n'"
      ]
     },
     "execution_count": 161,
     "metadata": {},
     "output_type": "execute_result"
    }
   ],
   "source": [
    "'''\n",
    "2. Write a Python script to add a key to a dictionary.\n",
    "\n",
    "Sample Dictionary : {0: 10, 1: 20}\n",
    "Expected Result : {0: 10, 1: 20, 2: 30}\n",
    "'''"
   ]
  },
  {
   "cell_type": "code",
   "execution_count": null,
   "id": "3836336c",
   "metadata": {},
   "outputs": [],
   "source": [
    "'''\n",
    "3. Write a Python script to concatenate the following dictionaries to create a new one.\n",
    "\n",
    "Sample Dictionary :\n",
    "dic1={1:10, 2:20}\n",
    "dic2={3:30, 4:40}\n",
    "dic3={5:50,6:60}\n",
    "Expected Result : {1: 10, 2: 20, 3: 30, 4: 40, 5: 50, 6: 60}\n",
    "'''"
   ]
  },
  {
   "cell_type": "code",
   "execution_count": null,
   "id": "2aba0901",
   "metadata": {},
   "outputs": [],
   "source": [
    "#4. Write a Python script to check whether a given key already exists in a dictionary."
   ]
  },
  {
   "cell_type": "code",
   "execution_count": null,
   "id": "a7fdf644",
   "metadata": {},
   "outputs": [],
   "source": [
    "#5. Write a Python program to iterate over dictionaries using for loops."
   ]
  },
  {
   "cell_type": "code",
   "execution_count": null,
   "id": "7380a81b",
   "metadata": {},
   "outputs": [],
   "source": [
    "'''\n",
    "6. Write a Python script to generate and print a dictionary that contains a number (between 1 and n) in the form (x, x*x).\n",
    "Sample Dictionary ( n = 5) :\n",
    "Expected Output : {1: 1, 2: 4, 3: 9, 4: 16, 5: 25}\n",
    "'''"
   ]
  },
  {
   "cell_type": "code",
   "execution_count": null,
   "id": "5e8522f1",
   "metadata": {},
   "outputs": [],
   "source": [
    "'''\n",
    "7. Write a Python script to print a dictionary where the keys are numbers between 1 and 15 (both included) and the values are the square of the keys.\n",
    "Sample Dictionary\n",
    "{1: 1, 2: 4, 3: 9, 4: 16, 5: 25, 6: 36, 7: 49, 8: 64, 9: 81, 10: 100, 11: 121, 12: 144, 13: 169, 14: 196, 15: 225}\n",
    "'''"
   ]
  },
  {
   "cell_type": "code",
   "execution_count": null,
   "id": "96fde178",
   "metadata": {},
   "outputs": [],
   "source": [
    "#8. Write a Python script to merge two Python dictionaries."
   ]
  },
  {
   "cell_type": "code",
   "execution_count": null,
   "id": "1f991340",
   "metadata": {},
   "outputs": [],
   "source": [
    "#9. Write a Python program to iterate over dictionaries using for loops."
   ]
  },
  {
   "cell_type": "code",
   "execution_count": null,
   "id": "41c647b2",
   "metadata": {},
   "outputs": [],
   "source": [
    "#10. Write a Python program to sum all the items in a dictionary."
   ]
  },
  {
   "cell_type": "code",
   "execution_count": null,
   "id": "f19a10d3-aded-4aa3-ad46-39f882ee25fa",
   "metadata": {},
   "outputs": [],
   "source": [
    "#11. Write a Python program to multiply all the items in a dictionary."
   ]
  },
  {
   "cell_type": "code",
   "execution_count": null,
   "id": "520f9226-9d3c-4a37-b452-f1d97779f64e",
   "metadata": {},
   "outputs": [],
   "source": [
    "#12. Write a Python program to remove a key from a dictionary."
   ]
  },
  {
   "cell_type": "code",
   "execution_count": null,
   "id": "e0b0e515-449e-4c7a-939e-d30907e5e34b",
   "metadata": {},
   "outputs": [],
   "source": [
    "#13. Write a Python program to map two lists into a dictionary."
   ]
  },
  {
   "cell_type": "code",
   "execution_count": null,
   "id": "4905f1fa",
   "metadata": {},
   "outputs": [],
   "source": [
    "#14. Write a Python program to sort a given dictionary by key."
   ]
  },
  {
   "cell_type": "code",
   "execution_count": null,
   "id": "9c7e7bf4",
   "metadata": {},
   "outputs": [],
   "source": [
    "#15. Write a Python program to get the maximum and minimum values of a dictionary."
   ]
  },
  {
   "cell_type": "code",
   "execution_count": null,
   "id": "ed9d340f",
   "metadata": {},
   "outputs": [],
   "source": [
    "#16. Write a Python program to get a dictionary from an object's fields."
   ]
  },
  {
   "cell_type": "code",
   "execution_count": null,
   "id": "a913cfdb",
   "metadata": {},
   "outputs": [],
   "source": [
    "#17. Write a Python program to remove duplicates from the dictionary."
   ]
  },
  {
   "cell_type": "code",
   "execution_count": null,
   "id": "67d718cd",
   "metadata": {},
   "outputs": [],
   "source": [
    "#18. Write a Python program to check if a dictionary is empty or not."
   ]
  },
  {
   "cell_type": "code",
   "execution_count": null,
   "id": "8e2e4f72",
   "metadata": {},
   "outputs": [],
   "source": [
    "'''\n",
    "19. Write a Python program to combine two dictionary by adding values for common keys.\n",
    "d1 = {'a': 100, 'b': 200, 'c':300}\n",
    "d2 = {'a': 300, 'b': 200, 'd':400}\n",
    "Sample output: Counter({'a': 400, 'b': 400, 'd': 400, 'c': 300})\n",
    "'''"
   ]
  },
  {
   "cell_type": "code",
   "execution_count": null,
   "id": "cccfa52f",
   "metadata": {},
   "outputs": [],
   "source": [
    "'''\n",
    "20. Write a Python program to print all distinct values in a dictionary.\n",
    "Sample Data : [{\"V\":\"S001\"}, {\"V\": \"S002\"}, {\"VI\": \"S001\"}, {\"VI\": \"S005\"}, {\"VII\":\"S005\"}, {\"V\":\"S009\"},{\"VIII\":\"S007\"}]\n",
    "Expected Output : Unique Values: {'S005', 'S002', 'S007', 'S001', 'S009'}\n",
    "'''"
   ]
  },
  {
   "cell_type": "code",
   "execution_count": null,
   "id": "419a9367",
   "metadata": {},
   "outputs": [],
   "source": [
    "'''\n",
    "21. Write a Python program to create and display all combinations of letters, selecting each letter from a different key in a dictionary.\n",
    "Sample data : {'1':['a','b'], '2':['c','d']}\n",
    "Expected Output:\n",
    "ac\n",
    "ad\n",
    "bc\n",
    "bd\n",
    "'''"
   ]
  },
  {
   "cell_type": "code",
   "execution_count": null,
   "id": "b88c20b3",
   "metadata": {},
   "outputs": [],
   "source": [
    "#22. Write a Python program to find the highest 3 values of corresponding keys in a dictionary."
   ]
  },
  {
   "cell_type": "code",
   "execution_count": null,
   "id": "ea5268c6",
   "metadata": {},
   "outputs": [],
   "source": [
    "'''\n",
    "23. Write a Python program to combine values in a list of dictionaries.\n",
    "Sample data: [{'item': 'item1', 'amount': 400}, {'item': 'item2', 'amount': 300}, {'item': 'item1', 'amount': 750}]\n",
    "Expected Output: Counter({'item1': 1150, 'item2': 300})\n",
    "'''"
   ]
  },
  {
   "cell_type": "code",
   "execution_count": null,
   "id": "bce5fb4b",
   "metadata": {},
   "outputs": [],
   "source": [
    "'''\n",
    "24. Write a Python program to create a dictionary from a string.\n",
    "Note: Track the count of the letters from the string.\n",
    "Sample string : 'w3resource'\n",
    "Expected output: {'w': 1, '3': 1, 'r': 2, 'e': 2, 's': 1, 'o': 1, 'u': 1, 'c': 1}\n",
    "'''"
   ]
  },
  {
   "cell_type": "code",
   "execution_count": null,
   "id": "54a29d9b",
   "metadata": {},
   "outputs": [],
   "source": [
    "#25. Write a Python program to print a dictionary in table format."
   ]
  },
  {
   "cell_type": "code",
   "execution_count": null,
   "id": "45691a1b",
   "metadata": {},
   "outputs": [],
   "source": [
    "'''\n",
    "26. Write a Python program to count the values associated with a key in a dictionary.\n",
    "Expected Output:\n",
    "6\n",
    "2\n",
    "'''"
   ]
  },
  {
   "cell_type": "code",
   "execution_count": null,
   "id": "9db06a19",
   "metadata": {},
   "outputs": [],
   "source": [
    "#27. Write a Python program to convert a list into a nested dictionary of keys."
   ]
  },
  {
   "cell_type": "code",
   "execution_count": null,
   "id": "f7823792",
   "metadata": {},
   "outputs": [],
   "source": [
    "#28. Write a Python program to sort a list alphabetically in a dictionary."
   ]
  },
  {
   "cell_type": "code",
   "execution_count": null,
   "id": "0b8bef43",
   "metadata": {},
   "outputs": [],
   "source": [
    "#29. Write a Python program to remove spaces from dictionary keys."
   ]
  },
  {
   "cell_type": "code",
   "execution_count": null,
   "id": "88bceec6",
   "metadata": {},
   "outputs": [],
   "source": [
    "'''\n",
    "30. Write a Python program to get the top three items in a shop.\n",
    "Sample data: {'item1': 45.50, 'item2':35, 'item3': 41.30, 'item4':55, 'item5': 24}\n",
    "Expected Output:\n",
    "item4 55\n",
    "item1 45.5\n",
    "item3 41.3\n",
    "'''"
   ]
  },
  {
   "cell_type": "code",
   "execution_count": null,
   "id": "14ad9b20",
   "metadata": {},
   "outputs": [],
   "source": [
    "#31. Write a Python program to get the key, value and item in a dictionary."
   ]
  },
  {
   "cell_type": "code",
   "execution_count": null,
   "id": "f9ed9821",
   "metadata": {},
   "outputs": [],
   "source": [
    "#32. Write a Python program to print a dictionary line by line."
   ]
  },
  {
   "cell_type": "code",
   "execution_count": null,
   "id": "4249af38",
   "metadata": {},
   "outputs": [],
   "source": [
    "#33. Write a Python program to check if multiple keys exist in a dictionary."
   ]
  },
  {
   "cell_type": "code",
   "execution_count": null,
   "id": "8fa44ba1",
   "metadata": {},
   "outputs": [],
   "source": [
    "#34. Write a Python program to count the number of items in a dictionary value that is a list."
   ]
  },
  {
   "cell_type": "code",
   "execution_count": null,
   "id": "16866b17",
   "metadata": {},
   "outputs": [],
   "source": [
    "'''\n",
    "35. Write a Python program to sort Counter by value.\n",
    "Sample data : {'Math':81, 'Physics':83, 'Chemistry':87}\n",
    "Expected data: [('Chemistry', 87), ('Physics', 83), ('Math', 81)]\n",
    "'''"
   ]
  },
  {
   "cell_type": "code",
   "execution_count": null,
   "id": "cc43ec00",
   "metadata": {},
   "outputs": [],
   "source": [
    "'''\n",
    "36. Write a Python program to create a dictionary from two lists without losing duplicate values.\n",
    "Sample lists: ['Class-V', 'Class-VI', 'Class-VII', 'Class-VIII'], [1, 2, 2, 3]\n",
    "Expected Output: defaultdict(<class 'set'>, {'Class-V': {1}, 'Class-VI': {2}, 'Class-VII': {2}, 'Class-VIII': {3}})\n",
    "'''"
   ]
  },
  {
   "cell_type": "code",
   "execution_count": null,
   "id": "78c2b877",
   "metadata": {},
   "outputs": [],
   "source": [
    "#37. Write a Python program to replace dictionary values with their sums."
   ]
  },
  {
   "cell_type": "code",
   "execution_count": null,
   "id": "d996b7db",
   "metadata": {},
   "outputs": [],
   "source": [
    "'''\n",
    "38. Write a Python program to match key values in two dictionaries.\n",
    "Sample dictionary: {'key1': 1, 'key2': 3, 'key3': 2}, {'key1': 1, 'key2': 2}\n",
    "Expected output: key1: 1 is present in both x and y\n",
    "'''"
   ]
  },
  {
   "cell_type": "code",
   "execution_count": null,
   "id": "62d78346",
   "metadata": {},
   "outputs": [],
   "source": [
    "'''\n",
    "39. Write a Python program to store dictionary data in a JSON file.\n",
    "Original dictionary:\n",
    "{'students': [{'firstName': 'Nikki', 'lastName': 'Roysden'}, {'firstName': 'Mervin', 'lastName': 'Friedland'}, {'firstName': 'Aron ', 'lastName': 'Wilkins'}], 'teachers': [{'firstName': 'Amberly', 'lastName': 'Calico'}, {'firstName': 'Regine', 'lastName': 'Agtarap'}]}\n",
    "<class 'dict'>\n",
    "Json file to dictionary:\n",
    "{'students': [{'firstName': 'Nikki', 'lastName': 'Roysden'}, {'firstName': 'Mervin', 'lastName': 'Friedland'}, {'firstName': 'Aron ', 'lastName': 'Wilkins'}], 'teachers': [{'firstName': 'Amberly', 'lastName': 'Calico'}, {'firstName': 'Regine', 'lastName': 'Agtarap'}]}\n",
    "'''"
   ]
  },
  {
   "cell_type": "code",
   "execution_count": null,
   "id": "3036454b",
   "metadata": {},
   "outputs": [],
   "source": [
    "'''\n",
    "40. Write a Python program to create a dictionary of keys x, y, and z where each key has as value a list from 11-20, 21-30, and 31-40 respectively. Access the fifth value of each key from the dictionary.\n",
    "{'x': [11, 12, 13, 14, 15, 16, 17, 18, 19],\n",
    "'y': [21, 22, 23, 24, 25, 26, 27, 28, 29],\n",
    "'z': [31, 32, 33, 34, 35, 36, 37, 38, 39]}\n",
    "15\n",
    "25\n",
    "35\n",
    "x has value [11, 12, 13, 14, 15, 16, 17, 18, 19]\n",
    "y has value [21, 22, 23, 24, 25, 26, 27, 28, 29]\n",
    "z has value [31, 32, 33, 34, 35, 36, 37, 38, 39]\n",
    "'''"
   ]
  },
  {
   "cell_type": "code",
   "execution_count": null,
   "id": "3603cf14",
   "metadata": {},
   "outputs": [],
   "source": [
    "'''\n",
    "41. Write a Python program to drop empty items from a given dictionary.\n",
    "Original Dictionary:\n",
    "{'c1': 'Red', 'c2': 'Green', 'c3': None}\n",
    "New Dictionary after dropping empty items:\n",
    "{'c1': 'Red', 'c2': 'Green'}\n",
    "'''"
   ]
  },
  {
   "cell_type": "code",
   "execution_count": null,
   "id": "4bdef2fb",
   "metadata": {},
   "outputs": [],
   "source": [
    "'''\n",
    "42. Write a Python program to filter a dictionary based on values.\n",
    "Original Dictionary:\n",
    "{'Cierra Vega': 175, 'Alden Cantrell': 180, 'Kierra Gentry': 165, 'Pierre Cox': 190}\n",
    "Marks greater than 170:\n",
    "{'Cierra Vega': 175, 'Alden Cantrell': 180, 'Pierre Cox': 190}\n",
    "'''"
   ]
  },
  {
   "cell_type": "code",
   "execution_count": null,
   "id": "eb53f29e",
   "metadata": {},
   "outputs": [],
   "source": [
    "'''\n",
    "43. Write a Python program to convert more than one list to a nested dictionary.\n",
    "Original strings:\n",
    "['S001', 'S002', 'S003', 'S004']\n",
    "['Adina Park', 'Leyton Marsh', 'Duncan Boyle', 'Saim Richards']\n",
    "[85, 98, 89, 92]\n",
    "Nested dictionary:\n",
    "[{'S001': {'Adina Park': 85}}, {'S002': {'Leyton Marsh': 98}}, {'S003': {'Duncan Boyle': 89}}, {'S004': {'Saim Richards': 92}}]\n",
    "'''"
   ]
  },
  {
   "cell_type": "code",
   "execution_count": null,
   "id": "162c9c22-b5e5-47e0-82d8-55f448b173ee",
   "metadata": {},
   "outputs": [],
   "source": [
    "'''\n",
    "44. Write a Python program to filter the height and width of students, which are stored in a dictionary.\n",
    "Original Dictionary:\n",
    "{'Cierra Vega': (6.2, 70), 'Alden Cantrell': (5.9, 65), 'Kierra Gentry': (6.0, 68), 'Pierre Cox': (5.8, 66)}\n",
    "Height > 6ft and Weight> 70kg:\n",
    "{'Cierra Vega': (6.2, 70)}\n",
    "'''"
   ]
  },
  {
   "cell_type": "code",
   "execution_count": null,
   "id": "85bd9f7a",
   "metadata": {},
   "outputs": [],
   "source": [
    "'''\n",
    "45. Write a Python program to verify that all values in a dictionary are the same.\n",
    "Original Dictionary:\n",
    "{'Cierra Vega': 12, 'Alden Cantrell': 12, 'Kierra Gentry': 12, 'Pierre Cox': 12}\n",
    "Check all are 12 in the dictionary.\n",
    "True\n",
    "Check all are 10 in the dictionary.\n",
    "False\n",
    "'''"
   ]
  },
  {
   "cell_type": "code",
   "execution_count": null,
   "id": "578082f6",
   "metadata": {},
   "outputs": [],
   "source": [
    "'''\n",
    "46. Write a Python program to create a dictionary grouping a sequence of key-value pairs into a dictionary of lists.\n",
    "Original list:\n",
    "[('yellow', 1), ('blue', 2), ('yellow', 3), ('blue', 4), ('red', 1)]\n",
    "Grouping a sequence of key-value pairs into a dictionary of lists:\n",
    "{'yellow': [1, 3], 'blue': [2, 4], 'red': [1]}\n",
    "'''"
   ]
  },
  {
   "cell_type": "code",
   "execution_count": null,
   "id": "6c0563ce",
   "metadata": {},
   "outputs": [],
   "source": [
    "'''\n",
    "47. Write a Python program to split a given dictionary of lists into lists of dictionaries.\n",
    "Original dictionary of lists:\n",
    "{'Science': [88, 89, 62, 95], 'Language': [77, 78, 84, 80]}\n",
    "Split said dictionary of lists into list of dictionaries:\n",
    "[{'Science': 88, 'Language': 77}, {'Science': 89, 'Language': 78}, {'Science': 62, 'Language': 84}, {'Science': 95, 'Language': 80}]\n",
    "'''"
   ]
  },
  {
   "cell_type": "code",
   "execution_count": null,
   "id": "ba99add1",
   "metadata": {},
   "outputs": [],
   "source": [
    "'''\n",
    "48. Write a Python program to remove a specified dictionary from a given list.\n",
    "Original list of dictionary:\n",
    "[{'id': '#FF0000', 'color': 'Red'}, {'id': '#800000', 'color': 'Maroon'}, {'id': '#FFFF00', 'color': 'Yellow'}, {'id': '#808000', 'color': 'Olive'}]\n",
    "Remove id #FF0000 from the said list of dictionary:\n",
    "[{'id': '#800000', 'color': 'Maroon'}, {'id': '#FFFF00', 'color': 'Yellow'}, {'id': '#808000', 'color': 'Olive'}]\n",
    "'''"
   ]
  },
  {
   "cell_type": "code",
   "execution_count": null,
   "id": "40203f56-613d-42ac-9c60-705291244845",
   "metadata": {},
   "outputs": [],
   "source": [
    "'''\n",
    "49. Write a Python program to convert string values of a given dictionary into integer/float datatypes.\n",
    "Original list:\n",
    "[{'x': '10', 'y': '20', 'z': '30'}, {'p': '40', 'q': '50', 'r': '60'}]\n",
    "String values of a given dictionary, into integer types:\n",
    "[{'x': 10, 'y': 20, 'z': 30}, {'p': 40, 'q': 50, 'r': 60}]\n",
    "Original list:\n",
    "[{'x': '10.12', 'y': '20.23', 'z': '30'}, {'p': '40.00', 'q': '50.19', 'r': '60.99'}]\n",
    "String values of a given dictionary, into float types:\n",
    "[{'x': 10.12, 'y': 20.23, 'z': 30.0}, {'p': 40.0, 'q': 50.19, 'r': 60.99}]\n",
    "'''"
   ]
  },
  {
   "cell_type": "code",
   "execution_count": null,
   "id": "f5195326-88ab-4001-a185-5a507f3547b8",
   "metadata": {},
   "outputs": [],
   "source": [
    "'''\n",
    "50. A Python dictionary contains List as a value. Write a Python program to clear the list values in the said dictionary.\n",
    "Original Dictionary:\n",
    "{'C1': [10, 20, 30], 'C2': [20, 30, 40], 'C3': [12, 34]}\n",
    "Clear the list values in the said dictionary:\n",
    "{'C1': [], 'C2': [], 'C3': []}\n",
    "'''"
   ]
  },
  {
   "cell_type": "code",
   "execution_count": null,
   "id": "c1613d9a-c956-42d4-a957-c866df76e277",
   "metadata": {},
   "outputs": [],
   "source": [
    "'''\n",
    "51. A Python Dictionary contains List as a value. Write a Python program to update the list values in the said dictionary.\n",
    "Original Dictionary:\n",
    "{'Math': [88, 89, 90], 'Physics': [92, 94, 89], 'Chemistry': [90, 87, 93]}\n",
    "Update the list values of the said dictionary:\n",
    "{'Math': [89, 90, 91], 'Physics': [90, 92, 87], 'Chemistry': [90, 87, 93]}\n",
    "'''"
   ]
  },
  {
   "cell_type": "code",
   "execution_count": null,
   "id": "91ae0b2d-1033-4043-b9be-9f5e042308c2",
   "metadata": {},
   "outputs": [],
   "source": [
    "'''\n",
    "52. Write a Python program to extract a list of values from a given list of dictionaries.\n",
    "Original Dictionary:\n",
    "[{'Math': 90, 'Science': 92}, {'Math': 89, 'Science': 94}, {'Math': 92, 'Science': 88}]\n",
    "Extract a list of values from said list of dictionaries where subject = Science\n",
    "[92, 94, 88]\n",
    "Original Dictionary:\n",
    "[{'Math': 90, 'Science': 92}, {'Math': 89, 'Science': 94}, {'Math': 92, 'Science': 88}]\n",
    "Extract a list of values from said list of dictionaries where subject = Math\n",
    "[90, 89, 92]\n",
    "'''"
   ]
  },
  {
   "cell_type": "code",
   "execution_count": null,
   "id": "90d18d45-31f0-466d-8e4d-728f32b85e06",
   "metadata": {},
   "outputs": [],
   "source": [
    "'''\n",
    "53. Write a Python program to find the length of a dictionary of values.\n",
    "Original Dictionary:\n",
    "{1: 'red', 2: 'green', 3: 'black', 4: 'white', 5: 'black'}\n",
    "Length of dictionary values:\n",
    "{'red': 3, 'green': 5, 'black': 5, 'white': 5}\n",
    "Original Dictionary:\n",
    "{'1': 'Austin Little', '2': 'Natasha Howard', '3': 'Alfred Mullins', '4': 'Jamie Rowe'}\n",
    "Length of dictionary values:\n",
    "{'Austin Little': 13, 'Natasha Howard': 14, 'Alfred Mullins': 14, 'Jamie Rowe': 10}\n",
    "'''"
   ]
  },
  {
   "cell_type": "code",
   "execution_count": null,
   "id": "40203f56-613d-42ac-9c60-705291244846",
   "metadata": {},
   "outputs": [],
   "source": [
    "'''\n",
    "54. Write a Python program to get the depth of a dictionary.\n",
    "Expected Output:\n",
    "4\n",
    "'''"
   ]
  },
  {
   "cell_type": "code",
   "execution_count": null,
   "id": "f5195326-88ab-4001-a185-5a507f3547b9",
   "metadata": {},
   "outputs": [],
   "source": [
    "'''\n",
    "55. Write a Python program to access dictionary key's element by index.\n",
    "Expected Output:\n",
    "physics\n",
    "math\n",
    "chemistry\n",
    "'''"
   ]
  },
  {
   "cell_type": "code",
   "execution_count": null,
   "id": "c1613d9a-c956-42d4-a957-c866df76e278",
   "metadata": {},
   "outputs": [],
   "source": [
    "'''\n",
    "56. Write a Python program to convert a dictionary into a list of lists.\n",
    "Original Dictionary:\n",
    "{1: 'red', 2: 'green', 3: 'black', 4: 'white', 5: 'black'}\n",
    "Convert the said dictionary into a list of lists:\n",
    "[[1, 'red'], [2, 'green'], [3, 'black'], [4, 'white'], [5, 'black']]\n",
    "Original Dictionary:\n",
    "{'1': 'Austin Little', '2': 'Natasha Howard', '3': 'Alfred Mullins', '4': 'Jamie Rowe'}\n",
    "Convert the said dictionary into a list of lists:\n",
    "[['1', 'Austin Little'], ['2', 'Natasha Howard'], ['3', 'Alfred Mullins'], ['4', 'Jamie Rowe']]\n",
    "'''"
   ]
  },
  {
   "cell_type": "code",
   "execution_count": null,
   "id": "91ae0b2d-1033-4043-b9be-9f5e042308c3",
   "metadata": {},
   "outputs": [],
   "source": [
    "'''\n",
    "57. Write a Python program to filter even numbers from a dictionary of values.\n",
    "Original Dictionary:\n",
    "{'V': [1, 4, 6, 10], 'VI': [1, 4, 12], 'VII': [1, 3, 8]}\n",
    "Filter even numbers from said dictionary values:\n",
    "{'V': [4, 6, 10], 'VI': [4, 12], 'VII': [8]}\n",
    "Original Dictionary:\n",
    "{'V': [1, 3, 5], 'VI': [1, 5], 'VII': [2, 7, 9]}\n",
    "Filter even numbers from said dictionary values:\n",
    "{'V': [], 'VI': [], 'VII': [2]}\n",
    "'''"
   ]
  },
  {
   "cell_type": "code",
   "execution_count": null,
   "id": "90d18d45-31f0-466d-8e4d-728f32b85e07",
   "metadata": {},
   "outputs": [],
   "source": [
    "'''\n",
    "58. Write a Python program to get all combinations of key-value pairs in a given dictionary.\n",
    "Original Dictionary:\n",
    "{'V': [1, 4, 6, 10], 'VI': [1, 4, 12], 'VII': [1, 3, 8]}\n",
    "Combinations of key-value pairs of the said dictionary:\n",
    "[{'V': [1, 4, 6, 10], 'VI': [1, 4, 12]}, {'V': [1, 4, 6, 10], 'VII': [1, 3, 8]}, {'VI': [1, 4, 12], 'VII': [1, 3, 8]}]\n",
    "Original Dictionary:\n",
    "{'V': [1, 3, 5], 'VI': [1, 5]}\n",
    "Combinations of key-value pairs of the said dictionary:\n",
    "[{'V': [1, 3, 5], 'VI': [1, 5]}]"
   ]
  },
  {
   "cell_type": "code",
   "execution_count": null,
   "id": "40203f56-613d-42ac-9c60-705291244847",
   "metadata": {},
   "outputs": [],
   "source": [
    "'''\n",
    "59. Write a Python program to find the specified number of maximum values in a given dictionary.\n",
    "Original Dictionary:\n",
    "{'a': 5, 'b': 14, 'c': 32, 'd': 35, 'e': 24, 'f': 100, 'g': 57, 'h': 8, 'i': 100}\n",
    "1 maximum value(s) in the said dictionary:\n",
    "['f']\n",
    "2 maximum value(s) in the said dictionary:\n",
    "['f', 'i']\n",
    "5 maximum value(s) in the said dictionary:\n",
    "['f', 'i', 'g', 'd', 'c']\n",
    "'''"
   ]
  },
  {
   "cell_type": "code",
   "execution_count": null,
   "id": "f5195326-88ab-4001-a185-5a507f3547b10",
   "metadata": {},
   "outputs": [],
   "source": [
    "'''\n",
    "60. Write a Python program to find the shortest list of values for the keys in a given dictionary.\n",
    "Original Dictionary: {'V': [10, 12], 'VI': [10], 'VII': [10, 20, 30, 40], 'VIII': [20], 'IX': [10, 30, 50, 70], 'X': [80]} Shortest list of values with the keys of the said dictionary: ['VI', 'VIII', 'X']\n",
    "'''"
   ]
  },
  {
   "cell_type": "code",
   "execution_count": null,
   "id": "c1613d9a-c956-42d4-a957-c866df76e279",
   "metadata": {},
   "outputs": [],
   "source": [
    "'''\n",
    "61. Write a Python program to count the frequency of a dictionary.\n",
    "Original Dictionary:\n",
    "{'V': 10, 'VI': 10, 'VII': 40, 'VIII': 20, 'IX': 70, 'X': 80, 'XI': 40, 'XII': 20}\n",
    "Count the frequency of the said dictionary:\n",
    "Counter({10: 2, 40: 2, 20: 2, 70: 1, 80: 1})\n",
    "'''"
   ]
  },
  {
   "cell_type": "code",
   "execution_count": null,
   "id": "91ae0b2d-1033-4043-b9be-9f5e042308c4",
   "metadata": {},
   "outputs": [],
   "source": [
    "'''\n",
    "62. Write a Python program to extract values from a given dictionary and create a list of lists from those values.\n",
    "Original Dictionary:\n",
    "[{'student_id': 1, 'name': 'Jean Castro', 'class': 'V'}, {'student_id': 2, 'name': 'Lula Powell', 'class': 'V'}, {'student_id': 3, 'name': 'Brian Howell', 'class': 'VI'}, {'student_id': 4, 'name': 'Lynne Foster', 'class': 'VI'}, {'student_id': 5, 'name': 'Zachary Simon', 'class': 'VII'}]\n",
    "Extract values from the said dictionarie and create a list of lists using those values:\n",
    "[[1, 'Jean Castro', 'V'], [2, 'Lula Powell', 'V'], [3, 'Brian Howell', 'VI'], [4, 'Lynne Foster', 'VI'], [5, 'Zachary Simon', 'VII']]\n",
    "[[1, 'Jean Castro'], [2, 'Lula Powell'], [3, 'Brian Howell'], [4, 'Lynne Foster'], [5, 'Zachary Simon']]\n",
    "[['Jean Castro', 'V'], ['Lula Powell', 'V'], ['Brian Howell', 'VI'], ['Lynne Foster', 'VI'], ['Zachary Simon', 'VII']]\n",
    "'''"
   ]
  },
  {
   "cell_type": "code",
   "execution_count": null,
   "id": "90d18d45-31f0-466d-8e4d-728f32b85e08",
   "metadata": {},
   "outputs": [],
   "source": [
    "'''\n",
    "63. Write a Python program to convert a given list of lists to a dictionary.\n",
    "Original list of lists:\n",
    "[[1, 'Jean Castro', 'V'], [2, 'Lula Powell', 'V'], [3, 'Brian Howell', 'VI'], [4, 'Lynne Foster', 'VI'], [5, 'Zachary Simon', 'VII']]\n",
    "Convert the said list of lists to a dictionary:\n",
    "{1: ['Jean Castro', 'V'], 2: ['Lula Powell', 'V'], 3: ['Brian Howell', 'VI'], 4: ['Lynne Foster', 'VI'], 5: ['Zachary Simon', 'VII']}\n",
    "'''"
   ]
  },
  {
   "cell_type": "code",
   "execution_count": null,
   "id": "40203f56-613d-42ac-9c60-705291244848",
   "metadata": {},
   "outputs": [],
   "source": [
    "'''\n",
    "64. Write a Python program that creates key-value list pairings within a dictionary.\n",
    "Original dictionary:\n",
    "{1: ['Jean Castro'], 2: ['Lula Powell'], 3: ['Brian Howell'], 4: ['Lynne Foster'], 5: ['Zachary Simon']}\n",
    "A key-value list pairings of the said dictionary:\n",
    "[{1: 'Jean Castro', 2: 'Lula Powell', 3: 'Brian Howell', 4: 'Lynne Foster', 5: 'Zachary Simon'}]\n",
    "'''"
   ]
  },
  {
   "cell_type": "code",
   "execution_count": null,
   "id": "f5195326-88ab-4001-a185-5a507f3547b11",
   "metadata": {},
   "outputs": [],
   "source": [
    "'''\n",
    "65. Write a Python program to get the total length of all values in a given dictionary with string values.\n",
    "Original dictionary:\n",
    "{'#FF0000': 'Red', '#800000': 'Maroon', '#FFFF00': 'Yellow', '#808000': 'Olive'}\n",
    "Total length of all values of the said dictionary with string values:\n",
    "20\n",
    "'''"
   ]
  },
  {
   "cell_type": "code",
   "execution_count": null,
   "id": "c1613d9a-c956-42d4-a957-c866df76e280",
   "metadata": {},
   "outputs": [],
   "source": [
    "'''\n",
    "66. Write a Python program to check if a specific key and a value exist in a dictionary.\n",
    "Original dictionary:\n",
    "[{'student_id': 1, 'name': 'Jean Castro', 'class': 'V'}, {'student_id': 2, 'name': 'Lula Powell', 'class': 'V'}, {'student_id': 3, 'name': 'Brian Howell', 'class': 'VI'}, {'student_id': 4, 'name': 'Lynne Foster', 'class': 'VI'}, {'student_id': 5, 'name': 'Zachary Simon', 'class': 'VII'}]\n",
    "Check if a specific Key and a value exist in the said dictionary:\n",
    "True\n",
    "True\n",
    "True\n",
    "False\n",
    "False\n",
    "False\n",
    "'''"
   ]
  },
  {
   "cell_type": "code",
   "execution_count": null,
   "id": "91ae0b2d-1033-4043-b9be-9f5e042308c5",
   "metadata": {},
   "outputs": [],
   "source": [
    "'''\n",
    "67. Write a Python program to invert a given dictionary with non-unique hashable values.\n",
    "Sample Output:\n",
    "{8: ['Ora Mckinney', 'Mathew Gilbert'], 7: ['Theodore Hollandl', 'Mae Fleming', 'Ivan Little']}\n",
    "'''"
   ]
  },
  {
   "cell_type": "code",
   "execution_count": null,
   "id": "90d18d45-31f0-466d-8e4d-728f32b85e09",
   "metadata": {},
   "outputs": [],
   "source": [
    "'''\n",
    "68. Write a Python program to combine two or more dictionaries, creating a list of values for each key.\n",
    "Sample Output:\n",
    "Original dictionaries:\n",
    "{'w': 50, 'x': 100, 'y': 'Green', 'z': 400}\n",
    "{'x': 300, 'y': 'Red', 'z': 600}\n",
    "Combined dictionaries, creating a list of values for each key:\n",
    "{'w': [50], 'x': [100, 300], 'y': ['Green', 'Red'], 'z': [400, 600]}\n",
    "'''"
   ]
  },
  {
   "cell_type": "code",
   "execution_count": null,
   "id": "40203f56-613d-42ac-9c60-705291244849",
   "metadata": {},
   "outputs": [],
   "source": [
    "'''\n",
    "69. Write a Python program to group the elements of a given list based on the given function.\n",
    "Sample Output:\n",
    "Original list & function:\n",
    "[7, 23, 3.2, 3.3, 8.4] Function name: floor:\n",
    "Group the elements of the said list based on the given function:\n",
    "{7: [7], 23: [23], 3: [3.2, 3.3], 8: [8.4]}\n",
    "Original list & function:\n",
    "['Red', 'Green', 'Black', 'White', 'Pink'] Function name: len:\n",
    "Group the elements of the said list based on the given function:\n",
    "{3: ['Red'], 5: ['Green', 'Black', 'White'], 4: ['Pink']}\n",
    "'''"
   ]
  },
  {
   "cell_type": "code",
   "execution_count": null,
   "id": "f5195326-88ab-4001-a185-5a507f3547b12",
   "metadata": {},
   "outputs": [],
   "source": [
    "'''\n",
    "70. Write a Python program to map the values of a given list to a dictionary using a function, where the key-value pairs consist of the original value as the key and the result of the function as the value.\n",
    "Sample Output:\n",
    "{1: 1, 2: 4, 3: 9, 4: 16}\n",
    "'''"
   ]
  },
  {
   "cell_type": "code",
   "execution_count": null,
   "id": "c1613d9a-c956-42d4-a957-c866df76e281",
   "metadata": {},
   "outputs": [],
   "source": [
    "'''\n",
    "71. Write a Python program to retrieve the value of the nested key indicated by the given selector list from a dictionary or list.\n",
    "Sample Output:\n",
    "Russell\n",
    "2\n",
    "'''"
   ]
  },
  {
   "cell_type": "code",
   "execution_count": null,
   "id": "91ae0b2d-1033-4043-b9be-9f5e042308c6",
   "metadata": {},
   "outputs": [],
   "source": [
    "'''\n",
    "72. Write a Python program to invert a dictionary with unique hashable values.\n",
    "Sample Output:\n",
    "{10: 'Theodore', 11: 'Mathew', 9: 'Roxanne'}\n",
    "'''"
   ]
  },
  {
   "cell_type": "code",
   "execution_count": null,
   "id": "90d18d45-31f0-466d-8e4d-728f32b85e10",
   "metadata": {},
   "outputs": [],
   "source": [
    "'''\n",
    "73. Write a Python program to convert a list of dictionaries into a list of values corresponding to the specified key.\n",
    "Sample Output:\n",
    "Original list of dictionaries:\n",
    "[{'name': 'Theodore', 'age': 18}, {'name': 'Mathew', 'age': 22}, {'name': 'Roxanne', 'age': 20}, {'name': 'David', 'age': 18}]\n",
    "Convert a list of dictionaries into a list of values corresponding to the specified key:\n",
    "[18, 22, 20, 18]\n",
    "'''"
   ]
  },
  {
   "cell_type": "code",
   "execution_count": null,
   "id": "40203f56-613d-42ac-9c60-705291244850",
   "metadata": {},
   "outputs": [],
   "source": [
    "'''\n",
    "74. Write a Python program to create a dictionary with the same keys as the given dictionary and values generated by running the given function for each value.\n",
    "Sample Output:\n",
    "Original dictionary elements:\n",
    "{'Theodore': {'user': 'Theodore', 'age': 45}, 'Roxanne': {'user': 'Roxanne', 'age': 15}, 'Mathew': {'user': 'Mathew', 'age': 21}}\n",
    "Dictionary with the same keys:\n",
    "{'Theodore': 45, 'Roxanne': 15, 'Mathew': 21}\n",
    "'''"
   ]
  },
  {
   "cell_type": "code",
   "execution_count": null,
   "id": "f5195326-88ab-4001-a185-5a507f3547b13",
   "metadata": {},
   "outputs": [],
   "source": [
    "'''\n",
    "75. Write a Python program to find all keys in a dictionary that have the given value.\n",
    "Sample Output:\n",
    "Original dictionary elements:\n",
    "{'Theodore': 19, 'Roxanne': 20, 'Mathew': 21, 'Betty': 20}\n",
    "Find all keys in the said dictionary that have the specified value:\n",
    "['Roxanne', 'Betty']\n",
    "'''"
   ]
  },
  {
   "cell_type": "code",
   "execution_count": null,
   "id": "c1613d9a-c956-42d4-a957-c866df76e282",
   "metadata": {},
   "outputs": [],
   "source": [
    "'''\n",
    "76. Write a Python program to combine two lists into a dictionary. The elements of the first one serve as keys and the elements of the second one serve as values. Each item in the first list must be unique and hashable.\n",
    "Sample Output:\n",
    "Original lists:\n",
    "['a', 'b', 'c', 'd', 'e', 'f']\n",
    "[1, 2, 3, 4, 5]\n",
    "Combine the values of the said two lists into a dictionary:\n",
    "{'a': 1, 'b': 2, 'c': 3, 'd': 4, 'e': 5}\n",
    "'''"
   ]
  },
  {
   "cell_type": "code",
   "execution_count": null,
   "id": "91ae0b2d-1033-4043-b9be-9f5e042308c7",
   "metadata": {},
   "outputs": [],
   "source": [
    "'''\n",
    "77. Write a Python program to transform a dictionary into a list of tuples.\n",
    "Sample Output:\n",
    "Original Dictionary:\n",
    "{'Red': 1, 'Green': 3, 'White': 5, 'Black': 2, 'Pink': 4}\n",
    "Convert the said dictionary to a list of tuples:\n",
    "[('Red', 1), ('Green', 3), ('White', 5), ('Black', 2), ('Pink', 4)]\n",
    "'''"
   ]
  },
  {
   "cell_type": "code",
   "execution_count": null,
   "id": "90d18d45-31f0-466d-8e4d-728f32b85e11",
   "metadata": {},
   "outputs": [],
   "source": [
    "'''\n",
    "78. Write a Python program to create a flat list of all the keys in a flat dictionary.\n",
    "Sample Output:\n",
    "Original dictionary elements:\n",
    "{'Theodore': 19, 'Roxanne': 20, 'Mathew': 21, 'Betty': 20}\n",
    "Create a flat list of all the keys of the said flat dictionary:\n",
    "['Theodore', 'Roxanne', 'Mathew', 'Betty']\n",
    "'''"
   ]
  },
  {
   "cell_type": "code",
   "execution_count": null,
   "id": "40203f56-613d-42ac-9c60-705291244851",
   "metadata": {},
   "outputs": [],
   "source": [
    "'''\n",
    "79. Write a Python program to create a flat list of all the values in a flat dictionary.\n",
    "Sample Output:\n",
    "Original dictionary elements:\n",
    "{'Theodore': 19, 'Roxanne': 20, 'Mathew': 21, 'Betty': 20}\n",
    "Create a flat list of all the values of the said flat dictionary:\n",
    "[19, 20, 21, 20]\n",
    "'''"
   ]
  },
  {
   "cell_type": "code",
   "execution_count": null,
   "id": "f5195326-88ab-4001-a185-5a507f3547b14",
   "metadata": {},
   "outputs": [],
   "source": [
    "'''\n",
    "80. Write a Python program to find the key of the maximum value in a dictionary.\n",
    "Sample Output:\n",
    "Original dictionary elements:\n",
    "{'Theodore': 19, 'Roxanne': 22, 'Mathew': 21, 'Betty': 20}\n",
    "Finds the key of the maximum and minimum value of the said dictionary:\n",
    "('Roxanne', 'Theodore')\n",
    "'''"
   ]
  }
 ],
 "metadata": {
  "kernelspec": {
   "display_name": "Python 3 (ipykernel)",
   "language": "python",
   "name": "python3"
  },
  "language_info": {
   "codemirror_mode": {
    "name": "ipython",
    "version": 3
   },
   "file_extension": ".py",
   "mimetype": "text/x-python",
   "name": "python",
   "nbconvert_exporter": "python",
   "pygments_lexer": "ipython3",
   "version": "3.11.7"
  }
 },
 "nbformat": 4,
 "nbformat_minor": 5
}
